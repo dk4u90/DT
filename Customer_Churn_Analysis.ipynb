{
  "nbformat": 4,
  "nbformat_minor": 0,
  "metadata": {
    "colab": {
      "name": "Customer Churn Analysis.ipynb",
      "provenance": [],
      "collapsed_sections": []
    },
    "kernelspec": {
      "display_name": "Python 3",
      "name": "python3"
    },
    "language_info": {
      "name": "python"
    }
  },
  "cells": [
    {
      "cell_type": "markdown",
      "metadata": {
        "id": "X2-s5hMb5XnV"
      },
      "source": [
        "### Problem Statement:\n",
        "Customer churn is when a company’s customers stop doing business with that company. Businesses are very keen on measuring churn because keeping an existing customer is far less expensive than acquiring a new customer. New business involves working leads through a sales funnel, using marketing and sales budgets to gain additional customers. Existing customers will often have a higher volume of service consumption and can generate additional customer referrals.\n",
        "\n",
        "Customer retention can be achieved with good customer service and products. But the most effective way for a company to prevent attrition of customers is to truly know them. The vast volumes of data collected about customers can be used to build churn prediction models. Knowing who is most likely to defect means that a company can prioritise focused marketing efforts on that subset of their customer base.\n",
        "\n",
        "Preventing customer churn is critically important to the telecommunications sector, as the barriers to entry for switching services are so low. \n",
        "### Implimentations:\n",
        "Examine customer data from IBM Sample Data Sets with the aim of building and comparing several customer churn prediction models.\n"
      ]
    },
    {
      "cell_type": "code",
      "metadata": {
        "id": "kT0xk7ylHuq3"
      },
      "source": [
        "import pandas as pd\n",
        "import numpy as np\n",
        "import seaborn as sns"
      ],
      "execution_count": 1,
      "outputs": []
    },
    {
      "cell_type": "markdown",
      "metadata": {
        "id": "j5b2KhY15yB8"
      },
      "source": [
        "Imported Basic Library"
      ]
    },
    {
      "cell_type": "code",
      "metadata": {
        "colab": {
          "base_uri": "https://localhost:8080/",
          "height": 312
        },
        "id": "6STlYJa9H4xr",
        "outputId": "44d2b6dd-9d5f-484d-e6e8-d8a42ac400bb"
      },
      "source": [
        "df_churn=pd.read_csv('https://raw.githubusercontent.com/dsrscientist/DSData/master/Telecom_customer_churn.csv')\n",
        "df_churn.head()"
      ],
      "execution_count": 2,
      "outputs": [
        {
          "output_type": "execute_result",
          "data": {
            "text/html": [
              "<div>\n",
              "<style scoped>\n",
              "    .dataframe tbody tr th:only-of-type {\n",
              "        vertical-align: middle;\n",
              "    }\n",
              "\n",
              "    .dataframe tbody tr th {\n",
              "        vertical-align: top;\n",
              "    }\n",
              "\n",
              "    .dataframe thead th {\n",
              "        text-align: right;\n",
              "    }\n",
              "</style>\n",
              "<table border=\"1\" class=\"dataframe\">\n",
              "  <thead>\n",
              "    <tr style=\"text-align: right;\">\n",
              "      <th></th>\n",
              "      <th>customerID</th>\n",
              "      <th>gender</th>\n",
              "      <th>SeniorCitizen</th>\n",
              "      <th>Partner</th>\n",
              "      <th>Dependents</th>\n",
              "      <th>tenure</th>\n",
              "      <th>PhoneService</th>\n",
              "      <th>MultipleLines</th>\n",
              "      <th>InternetService</th>\n",
              "      <th>OnlineSecurity</th>\n",
              "      <th>OnlineBackup</th>\n",
              "      <th>DeviceProtection</th>\n",
              "      <th>TechSupport</th>\n",
              "      <th>StreamingTV</th>\n",
              "      <th>StreamingMovies</th>\n",
              "      <th>Contract</th>\n",
              "      <th>PaperlessBilling</th>\n",
              "      <th>PaymentMethod</th>\n",
              "      <th>MonthlyCharges</th>\n",
              "      <th>TotalCharges</th>\n",
              "      <th>Churn</th>\n",
              "    </tr>\n",
              "  </thead>\n",
              "  <tbody>\n",
              "    <tr>\n",
              "      <th>0</th>\n",
              "      <td>7590-VHVEG</td>\n",
              "      <td>Female</td>\n",
              "      <td>0</td>\n",
              "      <td>Yes</td>\n",
              "      <td>No</td>\n",
              "      <td>1</td>\n",
              "      <td>No</td>\n",
              "      <td>No phone service</td>\n",
              "      <td>DSL</td>\n",
              "      <td>No</td>\n",
              "      <td>Yes</td>\n",
              "      <td>No</td>\n",
              "      <td>No</td>\n",
              "      <td>No</td>\n",
              "      <td>No</td>\n",
              "      <td>Month-to-month</td>\n",
              "      <td>Yes</td>\n",
              "      <td>Electronic check</td>\n",
              "      <td>29.85</td>\n",
              "      <td>29.85</td>\n",
              "      <td>No</td>\n",
              "    </tr>\n",
              "    <tr>\n",
              "      <th>1</th>\n",
              "      <td>5575-GNVDE</td>\n",
              "      <td>Male</td>\n",
              "      <td>0</td>\n",
              "      <td>No</td>\n",
              "      <td>No</td>\n",
              "      <td>34</td>\n",
              "      <td>Yes</td>\n",
              "      <td>No</td>\n",
              "      <td>DSL</td>\n",
              "      <td>Yes</td>\n",
              "      <td>No</td>\n",
              "      <td>Yes</td>\n",
              "      <td>No</td>\n",
              "      <td>No</td>\n",
              "      <td>No</td>\n",
              "      <td>One year</td>\n",
              "      <td>No</td>\n",
              "      <td>Mailed check</td>\n",
              "      <td>56.95</td>\n",
              "      <td>1889.5</td>\n",
              "      <td>No</td>\n",
              "    </tr>\n",
              "    <tr>\n",
              "      <th>2</th>\n",
              "      <td>3668-QPYBK</td>\n",
              "      <td>Male</td>\n",
              "      <td>0</td>\n",
              "      <td>No</td>\n",
              "      <td>No</td>\n",
              "      <td>2</td>\n",
              "      <td>Yes</td>\n",
              "      <td>No</td>\n",
              "      <td>DSL</td>\n",
              "      <td>Yes</td>\n",
              "      <td>Yes</td>\n",
              "      <td>No</td>\n",
              "      <td>No</td>\n",
              "      <td>No</td>\n",
              "      <td>No</td>\n",
              "      <td>Month-to-month</td>\n",
              "      <td>Yes</td>\n",
              "      <td>Mailed check</td>\n",
              "      <td>53.85</td>\n",
              "      <td>108.15</td>\n",
              "      <td>Yes</td>\n",
              "    </tr>\n",
              "    <tr>\n",
              "      <th>3</th>\n",
              "      <td>7795-CFOCW</td>\n",
              "      <td>Male</td>\n",
              "      <td>0</td>\n",
              "      <td>No</td>\n",
              "      <td>No</td>\n",
              "      <td>45</td>\n",
              "      <td>No</td>\n",
              "      <td>No phone service</td>\n",
              "      <td>DSL</td>\n",
              "      <td>Yes</td>\n",
              "      <td>No</td>\n",
              "      <td>Yes</td>\n",
              "      <td>Yes</td>\n",
              "      <td>No</td>\n",
              "      <td>No</td>\n",
              "      <td>One year</td>\n",
              "      <td>No</td>\n",
              "      <td>Bank transfer (automatic)</td>\n",
              "      <td>42.30</td>\n",
              "      <td>1840.75</td>\n",
              "      <td>No</td>\n",
              "    </tr>\n",
              "    <tr>\n",
              "      <th>4</th>\n",
              "      <td>9237-HQITU</td>\n",
              "      <td>Female</td>\n",
              "      <td>0</td>\n",
              "      <td>No</td>\n",
              "      <td>No</td>\n",
              "      <td>2</td>\n",
              "      <td>Yes</td>\n",
              "      <td>No</td>\n",
              "      <td>Fiber optic</td>\n",
              "      <td>No</td>\n",
              "      <td>No</td>\n",
              "      <td>No</td>\n",
              "      <td>No</td>\n",
              "      <td>No</td>\n",
              "      <td>No</td>\n",
              "      <td>Month-to-month</td>\n",
              "      <td>Yes</td>\n",
              "      <td>Electronic check</td>\n",
              "      <td>70.70</td>\n",
              "      <td>151.65</td>\n",
              "      <td>Yes</td>\n",
              "    </tr>\n",
              "  </tbody>\n",
              "</table>\n",
              "</div>"
            ],
            "text/plain": [
              "   customerID  gender  SeniorCitizen  ... MonthlyCharges TotalCharges  Churn\n",
              "0  7590-VHVEG  Female              0  ...          29.85        29.85     No\n",
              "1  5575-GNVDE    Male              0  ...          56.95       1889.5     No\n",
              "2  3668-QPYBK    Male              0  ...          53.85       108.15    Yes\n",
              "3  7795-CFOCW    Male              0  ...          42.30      1840.75     No\n",
              "4  9237-HQITU  Female              0  ...          70.70       151.65    Yes\n",
              "\n",
              "[5 rows x 21 columns]"
            ]
          },
          "metadata": {
            "tags": []
          },
          "execution_count": 2
        }
      ]
    },
    {
      "cell_type": "markdown",
      "metadata": {
        "id": "uWt6rPqK537K"
      },
      "source": [
        "Read Dataset and displayed head of dataset"
      ]
    },
    {
      "cell_type": "code",
      "metadata": {
        "colab": {
          "base_uri": "https://localhost:8080/"
        },
        "id": "q1xcQNSTIF1z",
        "outputId": "e0487b90-6201-4bfa-b299-0de47dae4018"
      },
      "source": [
        "#lets chcek the null values in the dataset\n",
        "df_churn.isnull().sum()"
      ],
      "execution_count": 3,
      "outputs": [
        {
          "output_type": "execute_result",
          "data": {
            "text/plain": [
              "customerID          0\n",
              "gender              0\n",
              "SeniorCitizen       0\n",
              "Partner             0\n",
              "Dependents          0\n",
              "tenure              0\n",
              "PhoneService        0\n",
              "MultipleLines       0\n",
              "InternetService     0\n",
              "OnlineSecurity      0\n",
              "OnlineBackup        0\n",
              "DeviceProtection    0\n",
              "TechSupport         0\n",
              "StreamingTV         0\n",
              "StreamingMovies     0\n",
              "Contract            0\n",
              "PaperlessBilling    0\n",
              "PaymentMethod       0\n",
              "MonthlyCharges      0\n",
              "TotalCharges        0\n",
              "Churn               0\n",
              "dtype: int64"
            ]
          },
          "metadata": {
            "tags": []
          },
          "execution_count": 3
        }
      ]
    },
    {
      "cell_type": "code",
      "metadata": {
        "colab": {
          "base_uri": "https://localhost:8080/",
          "height": 365
        },
        "id": "9kKq3G0KIa4y",
        "outputId": "0446ec14-c349-4ba5-d94e-d370fd0cc9da"
      },
      "source": [
        "sns.heatmap(df_churn.isnull())"
      ],
      "execution_count": 4,
      "outputs": [
        {
          "output_type": "execute_result",
          "data": {
            "text/plain": [
              "<matplotlib.axes._subplots.AxesSubplot at 0x7ff5cd227d10>"
            ]
          },
          "metadata": {
            "tags": []
          },
          "execution_count": 4
        },
        {
          "output_type": "display_data",
          "data": {
            "image/png": "[encoded data removed]",
            "text/plain": [
              "<Figure size 432x288 with 2 Axes>"
            ]
          },
          "metadata": {
            "tags": [],
            "needs_background": "light"
          }
        }
      ]
    },
    {
      "cell_type": "markdown",
      "metadata": {
        "id": "ZAn8NGON6Bsz"
      },
      "source": [
        "Graphysical Representations of null value.We can see in the entire dataset there are no null values."
      ]
    },
    {
      "cell_type": "code",
      "metadata": {
        "colab": {
          "base_uri": "https://localhost:8080/"
        },
        "id": "8V_E3pflIlDb",
        "outputId": "4ff6e67a-a31b-4532-fcdf-27a413115f7c"
      },
      "source": [
        "#Lets chcek the datatypes of columns\n",
        "df_churn.dtypes"
      ],
      "execution_count": 5,
      "outputs": [
        {
          "output_type": "execute_result",
          "data": {
            "text/plain": [
              "customerID           object\n",
              "gender               object\n",
              "SeniorCitizen         int64\n",
              "Partner              object\n",
              "Dependents           object\n",
              "tenure                int64\n",
              "PhoneService         object\n",
              "MultipleLines        object\n",
              "InternetService      object\n",
              "OnlineSecurity       object\n",
              "OnlineBackup         object\n",
              "DeviceProtection     object\n",
              "TechSupport          object\n",
              "StreamingTV          object\n",
              "StreamingMovies      object\n",
              "Contract             object\n",
              "PaperlessBilling     object\n",
              "PaymentMethod        object\n",
              "MonthlyCharges      float64\n",
              "TotalCharges         object\n",
              "Churn                object\n",
              "dtype: object"
            ]
          },
          "metadata": {
            "tags": []
          },
          "execution_count": 5
        }
      ]
    },
    {
      "cell_type": "markdown",
      "metadata": {
        "id": "jJQkVkFxI3jf"
      },
      "source": [
        "Seeing below datatypes on thing is clear that Total charges need to converted to float"
      ]
    },
    {
      "cell_type": "code",
      "metadata": {
        "colab": {
          "base_uri": "https://localhost:8080/"
        },
        "id": "L8yjb4-4Iz7D",
        "outputId": "70236d30-e909-476e-ee1b-3ca4b795d00b"
      },
      "source": [
        "#Lets do the conversion of \"TotalCharges\" column to float type\n",
        "df_churn[\"TotalCharges\"]=df_churn[\"TotalCharges\"].str.strip()\n",
        "df_churn[\"TotalCharges\"]=pd.to_numeric(df_churn[\"TotalCharges\"])\n",
        "df_churn[\"TotalCharges\"]"
      ],
      "execution_count": 6,
      "outputs": [
        {
          "output_type": "execute_result",
          "data": {
            "text/plain": [
              "0         29.85\n",
              "1       1889.50\n",
              "2        108.15\n",
              "3       1840.75\n",
              "4        151.65\n",
              "         ...   \n",
              "7038    1990.50\n",
              "7039    7362.90\n",
              "7040     346.45\n",
              "7041     306.60\n",
              "7042    6844.50\n",
              "Name: TotalCharges, Length: 7043, dtype: float64"
            ]
          },
          "metadata": {
            "tags": []
          },
          "execution_count": 6
        }
      ]
    },
    {
      "cell_type": "code",
      "metadata": {
        "colab": {
          "base_uri": "https://localhost:8080/"
        },
        "id": "bJLh48VIJIgl",
        "outputId": "86349bdb-8b59-4a4b-c539-2b614a89c5cf"
      },
      "source": [
        "#Lets chcek the datatypes again\n",
        "df_churn.dtypes\n",
        "#Hence we observe datatype has been changed to float for \"TotalCharges\""
      ],
      "execution_count": 7,
      "outputs": [
        {
          "output_type": "execute_result",
          "data": {
            "text/plain": [
              "customerID           object\n",
              "gender               object\n",
              "SeniorCitizen         int64\n",
              "Partner              object\n",
              "Dependents           object\n",
              "tenure                int64\n",
              "PhoneService         object\n",
              "MultipleLines        object\n",
              "InternetService      object\n",
              "OnlineSecurity       object\n",
              "OnlineBackup         object\n",
              "DeviceProtection     object\n",
              "TechSupport          object\n",
              "StreamingTV          object\n",
              "StreamingMovies      object\n",
              "Contract             object\n",
              "PaperlessBilling     object\n",
              "PaymentMethod        object\n",
              "MonthlyCharges      float64\n",
              "TotalCharges        float64\n",
              "Churn                object\n",
              "dtype: object"
            ]
          },
          "metadata": {
            "tags": []
          },
          "execution_count": 7
        }
      ]
    },
    {
      "cell_type": "code",
      "metadata": {
        "colab": {
          "base_uri": "https://localhost:8080/"
        },
        "id": "HVcwa0ziJnif",
        "outputId": "6bb82fbc-a7ad-4191-a039-0b696a3dae01"
      },
      "source": [
        "df_churn.isnull().sum()"
      ],
      "execution_count": 8,
      "outputs": [
        {
          "output_type": "execute_result",
          "data": {
            "text/plain": [
              "customerID           0\n",
              "gender               0\n",
              "SeniorCitizen        0\n",
              "Partner              0\n",
              "Dependents           0\n",
              "tenure               0\n",
              "PhoneService         0\n",
              "MultipleLines        0\n",
              "InternetService      0\n",
              "OnlineSecurity       0\n",
              "OnlineBackup         0\n",
              "DeviceProtection     0\n",
              "TechSupport          0\n",
              "StreamingTV          0\n",
              "StreamingMovies      0\n",
              "Contract             0\n",
              "PaperlessBilling     0\n",
              "PaymentMethod        0\n",
              "MonthlyCharges       0\n",
              "TotalCharges        11\n",
              "Churn                0\n",
              "dtype: int64"
            ]
          },
          "metadata": {
            "tags": []
          },
          "execution_count": 8
        }
      ]
    },
    {
      "cell_type": "markdown",
      "metadata": {
        "id": "DuhRyzjuKDFH"
      },
      "source": [
        "But above conversion genrated null values in TotalCharges column"
      ]
    },
    {
      "cell_type": "code",
      "metadata": {
        "colab": {
          "base_uri": "https://localhost:8080/",
          "height": 175
        },
        "id": "IJwgyl2KESKh",
        "outputId": "ae916d74-b7d8-414f-b49d-6ece3a107a86"
      },
      "source": [
        "df_churn.corr()"
      ],
      "execution_count": 9,
      "outputs": [
        {
          "output_type": "execute_result",
          "data": {
            "text/html": [
              "<div>\n",
              "<style scoped>\n",
              "    .dataframe tbody tr th:only-of-type {\n",
              "        vertical-align: middle;\n",
              "    }\n",
              "\n",
              "    .dataframe tbody tr th {\n",
              "        vertical-align: top;\n",
              "    }\n",
              "\n",
              "    .dataframe thead th {\n",
              "        text-align: right;\n",
              "    }\n",
              "</style>\n",
              "<table border=\"1\" class=\"dataframe\">\n",
              "  <thead>\n",
              "    <tr style=\"text-align: right;\">\n",
              "      <th></th>\n",
              "      <th>SeniorCitizen</th>\n",
              "      <th>tenure</th>\n",
              "      <th>MonthlyCharges</th>\n",
              "      <th>TotalCharges</th>\n",
              "    </tr>\n",
              "  </thead>\n",
              "  <tbody>\n",
              "    <tr>\n",
              "      <th>SeniorCitizen</th>\n",
              "      <td>1.000000</td>\n",
              "      <td>0.016567</td>\n",
              "      <td>0.220173</td>\n",
              "      <td>0.102411</td>\n",
              "    </tr>\n",
              "    <tr>\n",
              "      <th>tenure</th>\n",
              "      <td>0.016567</td>\n",
              "      <td>1.000000</td>\n",
              "      <td>0.247900</td>\n",
              "      <td>0.825880</td>\n",
              "    </tr>\n",
              "    <tr>\n",
              "      <th>MonthlyCharges</th>\n",
              "      <td>0.220173</td>\n",
              "      <td>0.247900</td>\n",
              "      <td>1.000000</td>\n",
              "      <td>0.651065</td>\n",
              "    </tr>\n",
              "    <tr>\n",
              "      <th>TotalCharges</th>\n",
              "      <td>0.102411</td>\n",
              "      <td>0.825880</td>\n",
              "      <td>0.651065</td>\n",
              "      <td>1.000000</td>\n",
              "    </tr>\n",
              "  </tbody>\n",
              "</table>\n",
              "</div>"
            ],
            "text/plain": [
              "                SeniorCitizen    tenure  MonthlyCharges  TotalCharges\n",
              "SeniorCitizen        1.000000  0.016567        0.220173      0.102411\n",
              "tenure               0.016567  1.000000        0.247900      0.825880\n",
              "MonthlyCharges       0.220173  0.247900        1.000000      0.651065\n",
              "TotalCharges         0.102411  0.825880        0.651065      1.000000"
            ]
          },
          "metadata": {
            "tags": []
          },
          "execution_count": 9
        }
      ]
    },
    {
      "cell_type": "code",
      "metadata": {
        "colab": {
          "base_uri": "https://localhost:8080/",
          "height": 450
        },
        "id": "FysK9VjQEcy-",
        "outputId": "93b07d70-1b70-4c5f-fabd-d74f193dac10"
      },
      "source": [
        "import matplotlib.pyplot as plt\n",
        "plt.figure(figsize=(15,7))\n",
        "sns.heatmap(df_churn.corr(),annot=True)"
      ],
      "execution_count": 10,
      "outputs": [
        {
          "output_type": "execute_result",
          "data": {
            "text/plain": [
              "<matplotlib.axes._subplots.AxesSubplot at 0x7ff5b69c8e90>"
            ]
          },
          "metadata": {
            "tags": []
          },
          "execution_count": 10
        },
        {
          "output_type": "display_data",
          "data": {
            "image/png": "[encoded data removed]",
            "text/plain": [
              "<Figure size 1080x504 with 2 Axes>"
            ]
          },
          "metadata": {
            "tags": [],
            "needs_background": "light"
          }
        }
      ]
    },
    {
      "cell_type": "code",
      "metadata": {
        "id": "qpr-m9wDKBfB"
      },
      "source": [
        "df_churn[\"TotalCharges\"].fillna(df_churn[\"TotalCharges\"].mean(),inplace=True)"
      ],
      "execution_count": 11,
      "outputs": []
    },
    {
      "cell_type": "markdown",
      "metadata": {
        "id": "pSeOPbrEKNnV"
      },
      "source": [
        "imputing the genrated null values with mean in \"TotalCharges\""
      ]
    },
    {
      "cell_type": "code",
      "metadata": {
        "id": "iKgjU7XrKIcM"
      },
      "source": [
        "df_churn.drop(columns=[\"customerID\"],inplace=True)"
      ],
      "execution_count": 12,
      "outputs": []
    },
    {
      "cell_type": "markdown",
      "metadata": {
        "id": "wcN5fXROKc3K"
      },
      "source": [
        "\n",
        "Delete \"customerID\" column as it will not add any significance to the model building process"
      ]
    },
    {
      "cell_type": "code",
      "metadata": {
        "colab": {
          "base_uri": "https://localhost:8080/"
        },
        "id": "KbzibAO-KayV",
        "outputId": "0e4e8454-c4b2-4056-e1e5-881ee3cf7b9c"
      },
      "source": [
        "#Lets chcek the value counts of each column of object datatype\n",
        "for col in df_churn.columns:\n",
        "    if df_churn[col].dtype==\"object\":\n",
        "        print(df_churn[col].value_counts())\n",
        "        print()"
      ],
      "execution_count": 13,
      "outputs": [
        {
          "output_type": "stream",
          "text": [
            "Male      3555\n",
            "Female    3488\n",
            "Name: gender, dtype: int64\n",
            "\n",
            "No     3641\n",
            "Yes    3402\n",
            "Name: Partner, dtype: int64\n",
            "\n",
            "No     4933\n",
            "Yes    2110\n",
            "Name: Dependents, dtype: int64\n",
            "\n",
            "Yes    6361\n",
            "No      682\n",
            "Name: PhoneService, dtype: int64\n",
            "\n",
            "No                  3390\n",
            "Yes                 2971\n",
            "No phone service     682\n",
            "Name: MultipleLines, dtype: int64\n",
            "\n",
            "Fiber optic    3096\n",
            "DSL            2421\n",
            "No             1526\n",
            "Name: InternetService, dtype: int64\n",
            "\n",
            "No                     3498\n",
            "Yes                    2019\n",
            "No internet service    1526\n",
            "Name: OnlineSecurity, dtype: int64\n",
            "\n",
            "No                     3088\n",
            "Yes                    2429\n",
            "No internet service    1526\n",
            "Name: OnlineBackup, dtype: int64\n",
            "\n",
            "No                     3095\n",
            "Yes                    2422\n",
            "No internet service    1526\n",
            "Name: DeviceProtection, dtype: int64\n",
            "\n",
            "No                     3473\n",
            "Yes                    2044\n",
            "No internet service    1526\n",
            "Name: TechSupport, dtype: int64\n",
            "\n",
            "No                     2810\n",
            "Yes                    2707\n",
            "No internet service    1526\n",
            "Name: StreamingTV, dtype: int64\n",
            "\n",
            "No                     2785\n",
            "Yes                    2732\n",
            "No internet service    1526\n",
            "Name: StreamingMovies, dtype: int64\n",
            "\n",
            "Month-to-month    3875\n",
            "Two year          1695\n",
            "One year          1473\n",
            "Name: Contract, dtype: int64\n",
            "\n",
            "Yes    4171\n",
            "No     2872\n",
            "Name: PaperlessBilling, dtype: int64\n",
            "\n",
            "Electronic check             2365\n",
            "Mailed check                 1612\n",
            "Bank transfer (automatic)    1544\n",
            "Credit card (automatic)      1522\n",
            "Name: PaymentMethod, dtype: int64\n",
            "\n",
            "No     5174\n",
            "Yes    1869\n",
            "Name: Churn, dtype: int64\n",
            "\n"
          ],
          "name": "stdout"
        }
      ]
    },
    {
      "cell_type": "code",
      "metadata": {
        "colab": {
          "base_uri": "https://localhost:8080/",
          "height": 297
        },
        "id": "3MyfKWwaKqiv",
        "outputId": "47fbdfbb-2c72-43e3-cdd7-b6cc7660e65f"
      },
      "source": [
        "import seaborn as sns\n",
        "import matplotlib.pyplot as plt\n",
        "sns.countplot(x=\"Churn\",data=df_churn)"
      ],
      "execution_count": 14,
      "outputs": [
        {
          "output_type": "execute_result",
          "data": {
            "text/plain": [
              "<matplotlib.axes._subplots.AxesSubplot at 0x7ff5b64c9d50>"
            ]
          },
          "metadata": {
            "tags": []
          },
          "execution_count": 14
        },
        {
          "output_type": "display_data",
          "data": {
            "image/png": "[encoded data removed]",
            "text/plain": [
              "<Figure size 432x288 with 1 Axes>"
            ]
          },
          "metadata": {
            "tags": [],
            "needs_background": "light"
          }
        }
      ]
    },
    {
      "cell_type": "markdown",
      "metadata": {
        "id": "KTpcKmv6K_Nq"
      },
      "source": [
        "this shows dataset is imbalanced hence auc roc curve should be the metric"
      ]
    },
    {
      "cell_type": "code",
      "metadata": {
        "colab": {
          "base_uri": "https://localhost:8080/",
          "height": 297
        },
        "id": "PgCUo0aUK46N",
        "outputId": "0ca45daa-a50e-4658-ec14-b84a1d346fdd"
      },
      "source": [
        "sns.countplot(x=\"Contract\",data=df_churn.loc[df_churn[\"Churn\"]==\"Yes\"])"
      ],
      "execution_count": 15,
      "outputs": [
        {
          "output_type": "execute_result",
          "data": {
            "text/plain": [
              "<matplotlib.axes._subplots.AxesSubplot at 0x7ff5b6444a50>"
            ]
          },
          "metadata": {
            "tags": []
          },
          "execution_count": 15
        },
        {
          "output_type": "display_data",
          "data": {
            "image/png": "[encoded data removed]",
            "text/plain": [
              "<Figure size 432x288 with 1 Axes>"
            ]
          },
          "metadata": {
            "tags": [],
            "needs_background": "light"
          }
        }
      ]
    },
    {
      "cell_type": "markdown",
      "metadata": {
        "id": "wBpXH7-lLNId"
      },
      "source": [
        "Customers who have churned are mostly having contract of \"Month to Month\""
      ]
    },
    {
      "cell_type": "code",
      "metadata": {
        "colab": {
          "base_uri": "https://localhost:8080/",
          "height": 297
        },
        "id": "VQGxLWxrLA2p",
        "outputId": "1d7fb37e-15f4-4fe4-c1ba-3dc65c7f626b"
      },
      "source": [
        "sns.countplot(x=\"gender\",data=df_churn.loc[df_churn[\"Churn\"]==\"Yes\"])"
      ],
      "execution_count": 16,
      "outputs": [
        {
          "output_type": "execute_result",
          "data": {
            "text/plain": [
              "<matplotlib.axes._subplots.AxesSubplot at 0x7ff5b63b3750>"
            ]
          },
          "metadata": {
            "tags": []
          },
          "execution_count": 16
        },
        {
          "output_type": "display_data",
          "data": {
            "image/png": "[encoded data removed]",
            "text/plain": [
              "<Figure size 432x288 with 1 Axes>"
            ]
          },
          "metadata": {
            "tags": [],
            "needs_background": "light"
          }
        }
      ]
    },
    {
      "cell_type": "markdown",
      "metadata": {
        "id": "qcPcng8oLeHE"
      },
      "source": [
        "So boh type of genders equally churned"
      ]
    },
    {
      "cell_type": "code",
      "metadata": {
        "colab": {
          "base_uri": "https://localhost:8080/",
          "height": 297
        },
        "id": "R89pn8YfLcqq",
        "outputId": "0293eb79-811b-42d9-fae5-8f7288c1eb14"
      },
      "source": [
        "sns.countplot(x=\"InternetService\",data=df_churn.loc[df_churn[\"Churn\"]==\"Yes\"])"
      ],
      "execution_count": 17,
      "outputs": [
        {
          "output_type": "execute_result",
          "data": {
            "text/plain": [
              "<matplotlib.axes._subplots.AxesSubplot at 0x7ff5b6510950>"
            ]
          },
          "metadata": {
            "tags": []
          },
          "execution_count": 17
        },
        {
          "output_type": "display_data",
          "data": {
            "image/png": "[encoded data removed]",
            "text/plain": [
              "<Figure size 432x288 with 1 Axes>"
            ]
          },
          "metadata": {
            "tags": [],
            "needs_background": "light"
          }
        }
      ]
    },
    {
      "cell_type": "markdown",
      "metadata": {
        "id": "1--JGXhTLoNO"
      },
      "source": [
        "High amount of people i.e more than 1200 who churned are having InternetService of Fiber optic type\n",
        "So may be this type of service is bad and needs to be focussed on"
      ]
    },
    {
      "cell_type": "code",
      "metadata": {
        "colab": {
          "base_uri": "https://localhost:8080/",
          "height": 297
        },
        "id": "rGgK8SvRLml1",
        "outputId": "41cde55e-769c-4f7d-bfb2-dbaf62223c04"
      },
      "source": [
        "sns.countplot(x=\"PaymentMethod\",data=df_churn.loc[df_churn[\"Churn\"]==\"Yes\"])"
      ],
      "execution_count": 18,
      "outputs": [
        {
          "output_type": "execute_result",
          "data": {
            "text/plain": [
              "<matplotlib.axes._subplots.AxesSubplot at 0x7ff5b63c68d0>"
            ]
          },
          "metadata": {
            "tags": []
          },
          "execution_count": 18
        },
        {
          "output_type": "display_data",
          "data": {
            "image/png": "[encoded data removed]",
            "text/plain": [
              "<Figure size 432x288 with 1 Axes>"
            ]
          },
          "metadata": {
            "tags": [],
            "needs_background": "light"
          }
        }
      ]
    },
    {
      "cell_type": "markdown",
      "metadata": {
        "id": "38xyKFkiL2BO"
      },
      "source": [
        "Here we obseved churn is higher around 1100 i.e more than 50% of churn where customers are using \"Electronic check\"\n",
        "We can say this mode of payment has multiple issues because of which customers are dissatisfied"
      ]
    },
    {
      "cell_type": "code",
      "metadata": {
        "colab": {
          "base_uri": "https://localhost:8080/",
          "height": 297
        },
        "id": "rhjSQbeiLycM",
        "outputId": "097f2b67-c21d-4cfc-d13e-d130d5603ad5"
      },
      "source": [
        "sns.countplot(x=\"Partner\",data=df_churn.loc[df_churn[\"Churn\"]==\"Yes\"])"
      ],
      "execution_count": 19,
      "outputs": [
        {
          "output_type": "execute_result",
          "data": {
            "text/plain": [
              "<matplotlib.axes._subplots.AxesSubplot at 0x7ff5b6309f50>"
            ]
          },
          "metadata": {
            "tags": []
          },
          "execution_count": 19
        },
        {
          "output_type": "display_data",
          "data": {
            "image/png": "[encoded data removed]",
            "text/plain": [
              "<Figure size 432x288 with 1 Axes>"
            ]
          },
          "metadata": {
            "tags": [],
            "needs_background": "light"
          }
        }
      ]
    },
    {
      "cell_type": "markdown",
      "metadata": {
        "id": "UXBA52Q_MBGO"
      },
      "source": [
        "churn in unmarried persons are more compared to married eventhough both type of customers almost equally exist in dataset"
      ]
    },
    {
      "cell_type": "code",
      "metadata": {
        "colab": {
          "base_uri": "https://localhost:8080/",
          "height": 297
        },
        "id": "t_lWp-xcL8ap",
        "outputId": "cc17211d-811a-4970-90d6-46012fc0526a"
      },
      "source": [
        "sns.countplot(x=\"StreamingMovies\",data=df_churn.loc[df_churn[\"Churn\"]==\"Yes\"])"
      ],
      "execution_count": 20,
      "outputs": [
        {
          "output_type": "execute_result",
          "data": {
            "text/plain": [
              "<matplotlib.axes._subplots.AxesSubplot at 0x7ff5b6279090>"
            ]
          },
          "metadata": {
            "tags": []
          },
          "execution_count": 20
        },
        {
          "output_type": "display_data",
          "data": {
            "image/png": "[encoded data removed]",
            "text/plain": [
              "<Figure size 432x288 with 1 Axes>"
            ]
          },
          "metadata": {
            "tags": [],
            "needs_background": "light"
          }
        }
      ]
    },
    {
      "cell_type": "markdown",
      "metadata": {
        "id": "ARxeTG7qMRln"
      },
      "source": [
        "The count of customers churn on the basis \"StreamingMovies\""
      ]
    },
    {
      "cell_type": "code",
      "metadata": {
        "colab": {
          "base_uri": "https://localhost:8080/",
          "height": 297
        },
        "id": "HMtfc5w6MHRz",
        "outputId": "be998caf-3e2c-42ac-c18d-8563159bca2c"
      },
      "source": [
        "sns.countplot(x=\"MultipleLines\",data=df_churn.loc[df_churn[\"Churn\"]==\"Yes\"])"
      ],
      "execution_count": 21,
      "outputs": [
        {
          "output_type": "execute_result",
          "data": {
            "text/plain": [
              "<matplotlib.axes._subplots.AxesSubplot at 0x7ff5d136e990>"
            ]
          },
          "metadata": {
            "tags": []
          },
          "execution_count": 21
        },
        {
          "output_type": "display_data",
          "data": {
            "image/png": "[encoded data removed]",
            "text/plain": [
              "<Figure size 432x288 with 1 Axes>"
            ]
          },
          "metadata": {
            "tags": [],
            "needs_background": "light"
          }
        }
      ]
    },
    {
      "cell_type": "markdown",
      "metadata": {
        "id": "4n6oWnarMama"
      },
      "source": [
        "The count of customers churn on the basis \"MultipleLines\""
      ]
    },
    {
      "cell_type": "code",
      "metadata": {
        "colab": {
          "base_uri": "https://localhost:8080/",
          "height": 297
        },
        "id": "07fPNhypMYZK",
        "outputId": "d108ef29-3b67-4198-dd24-17bd45db71ef"
      },
      "source": [
        "sns.countplot(x=\"SeniorCitizen\",hue=\"Churn\",data=df_churn)"
      ],
      "execution_count": 22,
      "outputs": [
        {
          "output_type": "execute_result",
          "data": {
            "text/plain": [
              "<matplotlib.axes._subplots.AxesSubplot at 0x7ff5b61b1810>"
            ]
          },
          "metadata": {
            "tags": []
          },
          "execution_count": 22
        },
        {
          "output_type": "display_data",
          "data": {
            "image/png": "[encoded data removed]",
            "text/plain": [
              "<Figure size 432x288 with 1 Axes>"
            ]
          },
          "metadata": {
            "tags": [],
            "needs_background": "light"
          }
        }
      ]
    },
    {
      "cell_type": "markdown",
      "metadata": {
        "id": "cNl1C8qWMmR8"
      },
      "source": [
        "Most of the senior citizens churned ...we could inspect the reason for their churn"
      ]
    },
    {
      "cell_type": "code",
      "metadata": {
        "colab": {
          "base_uri": "https://localhost:8080/",
          "height": 297
        },
        "id": "yB9dFBLeMjPw",
        "outputId": "b52d484c-256f-447d-b8da-f431a058b4bc"
      },
      "source": [
        "sns.countplot(x=\"TechSupport\",data=df_churn.loc[df_churn[\"Churn\"]==\"Yes\"])"
      ],
      "execution_count": 23,
      "outputs": [
        {
          "output_type": "execute_result",
          "data": {
            "text/plain": [
              "<matplotlib.axes._subplots.AxesSubplot at 0x7ff5b624a910>"
            ]
          },
          "metadata": {
            "tags": []
          },
          "execution_count": 23
        },
        {
          "output_type": "display_data",
          "data": {
            "image/png": "[encoded data removed]",
            "text/plain": [
              "<Figure size 432x288 with 1 Axes>"
            ]
          },
          "metadata": {
            "tags": [],
            "needs_background": "light"
          }
        }
      ]
    },
    {
      "cell_type": "markdown",
      "metadata": {
        "id": "1IqZtBZaMuTj"
      },
      "source": [
        "Around 1400 people who churned were not having TechSupport\n",
        "We should chcek the reason behind this too"
      ]
    },
    {
      "cell_type": "code",
      "metadata": {
        "colab": {
          "base_uri": "https://localhost:8080/",
          "height": 297
        },
        "id": "Q1eyEgHHMr-O",
        "outputId": "8177783d-f1b6-4f3b-86c3-85dea9d39123"
      },
      "source": [
        "sns.barplot(x=\"Churn\",y=\"MonthlyCharges\",data=df_churn)"
      ],
      "execution_count": 24,
      "outputs": [
        {
          "output_type": "execute_result",
          "data": {
            "text/plain": [
              "<matplotlib.axes._subplots.AxesSubplot at 0x7ff5b61abd10>"
            ]
          },
          "metadata": {
            "tags": []
          },
          "execution_count": 24
        },
        {
          "output_type": "display_data",
          "data": {
            "image/png": "[encoded data removed]",
            "text/plain": [
              "<Figure size 432x288 with 1 Axes>"
            ]
          },
          "metadata": {
            "tags": [],
            "needs_background": "light"
          }
        }
      ]
    },
    {
      "cell_type": "markdown",
      "metadata": {
        "id": "WMglSVJeM4GF"
      },
      "source": [
        "customers who churned were charged more than who didnt"
      ]
    },
    {
      "cell_type": "code",
      "metadata": {
        "colab": {
          "base_uri": "https://localhost:8080/",
          "height": 297
        },
        "id": "EDZYvlvLM1pj",
        "outputId": "b30f0bf4-4f5b-4f60-bc71-e43c89cf4673"
      },
      "source": [
        "sns.barplot(x=\"Churn\",y=\"TotalCharges\",data=df_churn)"
      ],
      "execution_count": 25,
      "outputs": [
        {
          "output_type": "execute_result",
          "data": {
            "text/plain": [
              "<matplotlib.axes._subplots.AxesSubplot at 0x7ff5b6092410>"
            ]
          },
          "metadata": {
            "tags": []
          },
          "execution_count": 25
        },
        {
          "output_type": "display_data",
          "data": {
            "image/png": "[encoded data removed]",
            "text/plain": [
              "<Figure size 432x288 with 1 Axes>"
            ]
          },
          "metadata": {
            "tags": [],
            "needs_background": "light"
          }
        }
      ]
    },
    {
      "cell_type": "markdown",
      "metadata": {
        "id": "i3sUt6swNC2H"
      },
      "source": [
        "customers who didnt chuned has averge total charges more"
      ]
    },
    {
      "cell_type": "code",
      "metadata": {
        "id": "WDcFJqW97605"
      },
      "source": [
        "from sklearn.preprocessing import LabelEncoder\n",
        "le=LabelEncoder()\n",
        "for col in df_churn.columns:\n",
        "    if df_churn[col].dtype==\"object\":\n",
        "        df_churn[col]=le.fit_transform(df_churn[col])"
      ],
      "execution_count": 26,
      "outputs": []
    },
    {
      "cell_type": "code",
      "metadata": {
        "colab": {
          "base_uri": "https://localhost:8080/",
          "height": 442
        },
        "id": "bt4mM9XC7PpF",
        "outputId": "2ddd5dc6-716a-4e30-e8dc-c2d12be8140c"
      },
      "source": [
        "df_churn"
      ],
      "execution_count": 27,
      "outputs": [
        {
          "output_type": "execute_result",
          "data": {
            "text/html": [
              "<div>\n",
              "<style scoped>\n",
              "    .dataframe tbody tr th:only-of-type {\n",
              "        vertical-align: middle;\n",
              "    }\n",
              "\n",
              "    .dataframe tbody tr th {\n",
              "        vertical-align: top;\n",
              "    }\n",
              "\n",
              "    .dataframe thead th {\n",
              "        text-align: right;\n",
              "    }\n",
              "</style>\n",
              "<table border=\"1\" class=\"dataframe\">\n",
              "  <thead>\n",
              "    <tr style=\"text-align: right;\">\n",
              "      <th></th>\n",
              "      <th>gender</th>\n",
              "      <th>SeniorCitizen</th>\n",
              "      <th>Partner</th>\n",
              "      <th>Dependents</th>\n",
              "      <th>tenure</th>\n",
              "      <th>PhoneService</th>\n",
              "      <th>MultipleLines</th>\n",
              "      <th>InternetService</th>\n",
              "      <th>OnlineSecurity</th>\n",
              "      <th>OnlineBackup</th>\n",
              "      <th>DeviceProtection</th>\n",
              "      <th>TechSupport</th>\n",
              "      <th>StreamingTV</th>\n",
              "      <th>StreamingMovies</th>\n",
              "      <th>Contract</th>\n",
              "      <th>PaperlessBilling</th>\n",
              "      <th>PaymentMethod</th>\n",
              "      <th>MonthlyCharges</th>\n",
              "      <th>TotalCharges</th>\n",
              "      <th>Churn</th>\n",
              "    </tr>\n",
              "  </thead>\n",
              "  <tbody>\n",
              "    <tr>\n",
              "      <th>0</th>\n",
              "      <td>0</td>\n",
              "      <td>0</td>\n",
              "      <td>1</td>\n",
              "      <td>0</td>\n",
              "      <td>1</td>\n",
              "      <td>0</td>\n",
              "      <td>1</td>\n",
              "      <td>0</td>\n",
              "      <td>0</td>\n",
              "      <td>2</td>\n",
              "      <td>0</td>\n",
              "      <td>0</td>\n",
              "      <td>0</td>\n",
              "      <td>0</td>\n",
              "      <td>0</td>\n",
              "      <td>1</td>\n",
              "      <td>2</td>\n",
              "      <td>29.85</td>\n",
              "      <td>29.85</td>\n",
              "      <td>0</td>\n",
              "    </tr>\n",
              "    <tr>\n",
              "      <th>1</th>\n",
              "      <td>1</td>\n",
              "      <td>0</td>\n",
              "      <td>0</td>\n",
              "      <td>0</td>\n",
              "      <td>34</td>\n",
              "      <td>1</td>\n",
              "      <td>0</td>\n",
              "      <td>0</td>\n",
              "      <td>2</td>\n",
              "      <td>0</td>\n",
              "      <td>2</td>\n",
              "      <td>0</td>\n",
              "      <td>0</td>\n",
              "      <td>0</td>\n",
              "      <td>1</td>\n",
              "      <td>0</td>\n",
              "      <td>3</td>\n",
              "      <td>56.95</td>\n",
              "      <td>1889.50</td>\n",
              "      <td>0</td>\n",
              "    </tr>\n",
              "    <tr>\n",
              "      <th>2</th>\n",
              "      <td>1</td>\n",
              "      <td>0</td>\n",
              "      <td>0</td>\n",
              "      <td>0</td>\n",
              "      <td>2</td>\n",
              "      <td>1</td>\n",
              "      <td>0</td>\n",
              "      <td>0</td>\n",
              "      <td>2</td>\n",
              "      <td>2</td>\n",
              "      <td>0</td>\n",
              "      <td>0</td>\n",
              "      <td>0</td>\n",
              "      <td>0</td>\n",
              "      <td>0</td>\n",
              "      <td>1</td>\n",
              "      <td>3</td>\n",
              "      <td>53.85</td>\n",
              "      <td>108.15</td>\n",
              "      <td>1</td>\n",
              "    </tr>\n",
              "    <tr>\n",
              "      <th>3</th>\n",
              "      <td>1</td>\n",
              "      <td>0</td>\n",
              "      <td>0</td>\n",
              "      <td>0</td>\n",
              "      <td>45</td>\n",
              "      <td>0</td>\n",
              "      <td>1</td>\n",
              "      <td>0</td>\n",
              "      <td>2</td>\n",
              "      <td>0</td>\n",
              "      <td>2</td>\n",
              "      <td>2</td>\n",
              "      <td>0</td>\n",
              "      <td>0</td>\n",
              "      <td>1</td>\n",
              "      <td>0</td>\n",
              "      <td>0</td>\n",
              "      <td>42.30</td>\n",
              "      <td>1840.75</td>\n",
              "      <td>0</td>\n",
              "    </tr>\n",
              "    <tr>\n",
              "      <th>4</th>\n",
              "      <td>0</td>\n",
              "      <td>0</td>\n",
              "      <td>0</td>\n",
              "      <td>0</td>\n",
              "      <td>2</td>\n",
              "      <td>1</td>\n",
              "      <td>0</td>\n",
              "      <td>1</td>\n",
              "      <td>0</td>\n",
              "      <td>0</td>\n",
              "      <td>0</td>\n",
              "      <td>0</td>\n",
              "      <td>0</td>\n",
              "      <td>0</td>\n",
              "      <td>0</td>\n",
              "      <td>1</td>\n",
              "      <td>2</td>\n",
              "      <td>70.70</td>\n",
              "      <td>151.65</td>\n",
              "      <td>1</td>\n",
              "    </tr>\n",
              "    <tr>\n",
              "      <th>...</th>\n",
              "      <td>...</td>\n",
              "      <td>...</td>\n",
              "      <td>...</td>\n",
              "      <td>...</td>\n",
              "      <td>...</td>\n",
              "      <td>...</td>\n",
              "      <td>...</td>\n",
              "      <td>...</td>\n",
              "      <td>...</td>\n",
              "      <td>...</td>\n",
              "      <td>...</td>\n",
              "      <td>...</td>\n",
              "      <td>...</td>\n",
              "      <td>...</td>\n",
              "      <td>...</td>\n",
              "      <td>...</td>\n",
              "      <td>...</td>\n",
              "      <td>...</td>\n",
              "      <td>...</td>\n",
              "      <td>...</td>\n",
              "    </tr>\n",
              "    <tr>\n",
              "      <th>7038</th>\n",
              "      <td>1</td>\n",
              "      <td>0</td>\n",
              "      <td>1</td>\n",
              "      <td>1</td>\n",
              "      <td>24</td>\n",
              "      <td>1</td>\n",
              "      <td>2</td>\n",
              "      <td>0</td>\n",
              "      <td>2</td>\n",
              "      <td>0</td>\n",
              "      <td>2</td>\n",
              "      <td>2</td>\n",
              "      <td>2</td>\n",
              "      <td>2</td>\n",
              "      <td>1</td>\n",
              "      <td>1</td>\n",
              "      <td>3</td>\n",
              "      <td>84.80</td>\n",
              "      <td>1990.50</td>\n",
              "      <td>0</td>\n",
              "    </tr>\n",
              "    <tr>\n",
              "      <th>7039</th>\n",
              "      <td>0</td>\n",
              "      <td>0</td>\n",
              "      <td>1</td>\n",
              "      <td>1</td>\n",
              "      <td>72</td>\n",
              "      <td>1</td>\n",
              "      <td>2</td>\n",
              "      <td>1</td>\n",
              "      <td>0</td>\n",
              "      <td>2</td>\n",
              "      <td>2</td>\n",
              "      <td>0</td>\n",
              "      <td>2</td>\n",
              "      <td>2</td>\n",
              "      <td>1</td>\n",
              "      <td>1</td>\n",
              "      <td>1</td>\n",
              "      <td>103.20</td>\n",
              "      <td>7362.90</td>\n",
              "      <td>0</td>\n",
              "    </tr>\n",
              "    <tr>\n",
              "      <th>7040</th>\n",
              "      <td>0</td>\n",
              "      <td>0</td>\n",
              "      <td>1</td>\n",
              "      <td>1</td>\n",
              "      <td>11</td>\n",
              "      <td>0</td>\n",
              "      <td>1</td>\n",
              "      <td>0</td>\n",
              "      <td>2</td>\n",
              "      <td>0</td>\n",
              "      <td>0</td>\n",
              "      <td>0</td>\n",
              "      <td>0</td>\n",
              "      <td>0</td>\n",
              "      <td>0</td>\n",
              "      <td>1</td>\n",
              "      <td>2</td>\n",
              "      <td>29.60</td>\n",
              "      <td>346.45</td>\n",
              "      <td>0</td>\n",
              "    </tr>\n",
              "    <tr>\n",
              "      <th>7041</th>\n",
              "      <td>1</td>\n",
              "      <td>1</td>\n",
              "      <td>1</td>\n",
              "      <td>0</td>\n",
              "      <td>4</td>\n",
              "      <td>1</td>\n",
              "      <td>2</td>\n",
              "      <td>1</td>\n",
              "      <td>0</td>\n",
              "      <td>0</td>\n",
              "      <td>0</td>\n",
              "      <td>0</td>\n",
              "      <td>0</td>\n",
              "      <td>0</td>\n",
              "      <td>0</td>\n",
              "      <td>1</td>\n",
              "      <td>3</td>\n",
              "      <td>74.40</td>\n",
              "      <td>306.60</td>\n",
              "      <td>1</td>\n",
              "    </tr>\n",
              "    <tr>\n",
              "      <th>7042</th>\n",
              "      <td>1</td>\n",
              "      <td>0</td>\n",
              "      <td>0</td>\n",
              "      <td>0</td>\n",
              "      <td>66</td>\n",
              "      <td>1</td>\n",
              "      <td>0</td>\n",
              "      <td>1</td>\n",
              "      <td>2</td>\n",
              "      <td>0</td>\n",
              "      <td>2</td>\n",
              "      <td>2</td>\n",
              "      <td>2</td>\n",
              "      <td>2</td>\n",
              "      <td>2</td>\n",
              "      <td>1</td>\n",
              "      <td>0</td>\n",
              "      <td>105.65</td>\n",
              "      <td>6844.50</td>\n",
              "      <td>0</td>\n",
              "    </tr>\n",
              "  </tbody>\n",
              "</table>\n",
              "<p>7043 rows × 20 columns</p>\n",
              "</div>"
            ],
            "text/plain": [
              "      gender  SeniorCitizen  Partner  ...  MonthlyCharges  TotalCharges  Churn\n",
              "0          0              0        1  ...           29.85         29.85      0\n",
              "1          1              0        0  ...           56.95       1889.50      0\n",
              "2          1              0        0  ...           53.85        108.15      1\n",
              "3          1              0        0  ...           42.30       1840.75      0\n",
              "4          0              0        0  ...           70.70        151.65      1\n",
              "...      ...            ...      ...  ...             ...           ...    ...\n",
              "7038       1              0        1  ...           84.80       1990.50      0\n",
              "7039       0              0        1  ...          103.20       7362.90      0\n",
              "7040       0              0        1  ...           29.60        346.45      0\n",
              "7041       1              1        1  ...           74.40        306.60      1\n",
              "7042       1              0        0  ...          105.65       6844.50      0\n",
              "\n",
              "[7043 rows x 20 columns]"
            ]
          },
          "metadata": {
            "tags": []
          },
          "execution_count": 27
        }
      ]
    },
    {
      "cell_type": "code",
      "metadata": {
        "colab": {
          "base_uri": "https://localhost:8080/"
        },
        "id": "k0-PPWl06l3L",
        "outputId": "93681fcd-73c2-4843-a4e1-7cb3898f3b49"
      },
      "source": [
        "from scipy.stats import zscore\n",
        "z_score=abs(zscore(df_churn))\n",
        "print(df_churn.shape)\n",
        "df_churn_final=df_churn.loc[(z_score<3).all(axis=1)]\n",
        "print(df_churn_final.shape)"
      ],
      "execution_count": 28,
      "outputs": [
        {
          "output_type": "stream",
          "text": [
            "(7043, 20)\n",
            "(6361, 20)\n"
          ],
          "name": "stdout"
        }
      ]
    },
    {
      "cell_type": "code",
      "metadata": {
        "id": "xH07SpJB9r-S"
      },
      "source": [
        "#Lets divide the dataset into input and output\n",
        "df_x=df_churn.drop(columns=[\"Churn\"])\n",
        "y=df_churn[[\"Churn\"]]"
      ],
      "execution_count": 29,
      "outputs": []
    },
    {
      "cell_type": "code",
      "metadata": {
        "colab": {
          "base_uri": "https://localhost:8080/"
        },
        "id": "d3jCeBoS-rQp",
        "outputId": "c14f2d28-cc1b-4a6a-e388-edb0f16c829f"
      },
      "source": [
        "from sklearn.ensemble import ExtraTreesRegressor\n",
        "import matplotlib.pyplot as plt\n",
        "model = ExtraTreesRegressor()\n",
        "model.fit(df_x,y)"
      ],
      "execution_count": 30,
      "outputs": [
        {
          "output_type": "stream",
          "text": [
            "/usr/local/lib/python3.7/dist-packages/ipykernel_launcher.py:4: DataConversionWarning: A column-vector y was passed when a 1d array was expected. Please change the shape of y to (n_samples,), for example using ravel().\n",
            "  after removing the cwd from sys.path.\n"
          ],
          "name": "stderr"
        },
        {
          "output_type": "execute_result",
          "data": {
            "text/plain": [
              "ExtraTreesRegressor(bootstrap=False, ccp_alpha=0.0, criterion='mse',\n",
              "                    max_depth=None, max_features='auto', max_leaf_nodes=None,\n",
              "                    max_samples=None, min_impurity_decrease=0.0,\n",
              "                    min_impurity_split=None, min_samples_leaf=1,\n",
              "                    min_samples_split=2, min_weight_fraction_leaf=0.0,\n",
              "                    n_estimators=100, n_jobs=None, oob_score=False,\n",
              "                    random_state=None, verbose=0, warm_start=False)"
            ]
          },
          "metadata": {
            "tags": []
          },
          "execution_count": 30
        }
      ]
    },
    {
      "cell_type": "markdown",
      "metadata": {
        "id": "u3F0GeCG-8CV"
      },
      "source": [
        "Try to find out most important Feature from all feature."
      ]
    },
    {
      "cell_type": "code",
      "metadata": {
        "colab": {
          "base_uri": "https://localhost:8080/",
          "height": 283
        },
        "id": "fW0CXFHW-2eG",
        "outputId": "98e6c130-422e-4ca2-8b97-41d6c813c3a3"
      },
      "source": [
        "#plot graph of feature importances for better visualization\n",
        "feat_importances = pd.Series(model.feature_importances_, index=df_x.columns)\n",
        "feat_importances.nlargest(5).plot(kind='barh')"
      ],
      "execution_count": 31,
      "outputs": [
        {
          "output_type": "execute_result",
          "data": {
            "text/plain": [
              "<matplotlib.axes._subplots.AxesSubplot at 0x7ff5b120a110>"
            ]
          },
          "metadata": {
            "tags": []
          },
          "execution_count": 31
        },
        {
          "output_type": "display_data",
          "data": {
            "image/png": "[encoded data removed]",
            "text/plain": [
              "<Figure size 432x288 with 1 Axes>"
            ]
          },
          "metadata": {
            "tags": [],
            "needs_background": "light"
          }
        }
      ]
    },
    {
      "cell_type": "markdown",
      "metadata": {
        "id": "7tMFuoYN_EOJ"
      },
      "source": [
        "\n",
        "Displayed there are 5 most important features of dataset."
      ]
    },
    {
      "cell_type": "code",
      "metadata": {
        "colab": {
          "base_uri": "https://localhost:8080/"
        },
        "id": "oiQyif9E_A9m",
        "outputId": "efd1adee-bd38-41f4-f6bc-01846f77edaa"
      },
      "source": [
        "print(df_x.skew())\n",
        "print(\"Total count of numeric features: \",len(df_x.skew()))\n",
        "print(\"count of features which are significantly skewed: \",len(df_x.skew().loc[abs(df_x.skew())>0.5]))"
      ],
      "execution_count": 32,
      "outputs": [
        {
          "output_type": "stream",
          "text": [
            "gender             -0.019031\n",
            "SeniorCitizen       1.833633\n",
            "Partner             0.067922\n",
            "Dependents          0.875199\n",
            "tenure              0.239540\n",
            "PhoneService       -2.727153\n",
            "MultipleLines       0.118719\n",
            "InternetService     0.205423\n",
            "OnlineSecurity      0.416985\n",
            "OnlineBackup        0.182930\n",
            "DeviceProtection    0.186847\n",
            "TechSupport         0.402365\n",
            "StreamingTV         0.028486\n",
            "StreamingMovies     0.014657\n",
            "Contract            0.630959\n",
            "PaperlessBilling   -0.375396\n",
            "PaymentMethod      -0.170129\n",
            "MonthlyCharges     -0.220524\n",
            "TotalCharges        0.962394\n",
            "dtype: float64\n",
            "Total count of numeric features:  19\n",
            "count of features which are significantly skewed:  5\n"
          ],
          "name": "stdout"
        }
      ]
    },
    {
      "cell_type": "code",
      "metadata": {
        "colab": {
          "base_uri": "https://localhost:8080/"
        },
        "id": "eMWiCbIf_KfT",
        "outputId": "e12746ab-6e36-4e91-bce5-4d670e9cc0db"
      },
      "source": [
        "import numpy as np\n",
        "for index in df_x.skew().index:\n",
        "    if df_x.skew().loc[index]>0.5:\n",
        "        df_x[index]=np.cbrt(df_x[index])\n",
        "    if df_x.skew().loc[index]<-0.5:\n",
        "        df_x[index]=np.cbrt(df_x[index])\n",
        "print(df_x.skew())\n",
        "print(\"Total count of numeric features: \",len(df_x.skew()))\n",
        "print(\"count of features which are significantly skewed: \",len(df_x.skew().loc[abs(df_x.skew())>0.5]))"
      ],
      "execution_count": 33,
      "outputs": [
        {
          "output_type": "stream",
          "text": [
            "gender             -0.019031\n",
            "SeniorCitizen       1.833633\n",
            "Partner             0.067922\n",
            "Dependents          0.875199\n",
            "tenure              0.239540\n",
            "PhoneService       -2.727153\n",
            "MultipleLines       0.118719\n",
            "InternetService     0.205423\n",
            "OnlineSecurity      0.416985\n",
            "OnlineBackup        0.182930\n",
            "DeviceProtection    0.186847\n",
            "TechSupport         0.402365\n",
            "StreamingTV         0.028486\n",
            "StreamingMovies     0.014657\n",
            "Contract            0.269626\n",
            "PaperlessBilling   -0.375396\n",
            "PaymentMethod      -0.170129\n",
            "MonthlyCharges     -0.220524\n",
            "TotalCharges        0.011168\n",
            "dtype: float64\n",
            "Total count of numeric features:  19\n",
            "count of features which are significantly skewed:  3\n"
          ],
          "name": "stdout"
        }
      ]
    },
    {
      "cell_type": "code",
      "metadata": {
        "id": "vS_C24ZG_P06"
      },
      "source": [
        "from sklearn.preprocessing import StandardScaler\n",
        "sc=StandardScaler()\n",
        "sc.fit(df_x)\n",
        "x=sc.transform(df_x)\n",
        "x=pd.DataFrame(x,columns=df_x.columns)"
      ],
      "execution_count": 34,
      "outputs": []
    },
    {
      "cell_type": "code",
      "metadata": {
        "colab": {
          "base_uri": "https://localhost:8080/"
        },
        "id": "u0Y44CKvA5A-",
        "outputId": "501d1762-ccf0-492f-a2f4-e05918155733"
      },
      "source": [
        "from imblearn.over_sampling import SMOTE\n",
        "from sklearn.metrics import roc_auc_score\n",
        "from sklearn.model_selection import train_test_split\n",
        "def max_aucroc_score(clf,df_x,y):\n",
        "    max_aucroc_score=0\n",
        "    for r_state in range(42,100):\n",
        "        x_train, x_test, y_train, y_test = train_test_split(df_x, y,random_state = r_state,test_size=0.20,stratify=y)\n",
        "        x_train, y_train = SMOTE().fit_sample(x_train, y_train)\n",
        "        clf.fit(x_train,y_train)\n",
        "        y_pred = clf.predict(x_test)\n",
        "        aucroc_scr=roc_auc_score(y_test,y_pred)\n",
        "        print(\"auc roc score corresponding to \",r_state,\" is \",aucroc_scr)\n",
        "        if aucroc_scr>max_aucroc_score:\n",
        "            max_aucroc_score=aucroc_scr\n",
        "            final_r_state=r_state\n",
        "    print(\"max auc roc score corresponding to \",final_r_state,\" is \",max_aucroc_score)\n",
        "    return final_r_state"
      ],
      "execution_count": 35,
      "outputs": [
        {
          "output_type": "stream",
          "text": [
            "/usr/local/lib/python3.7/dist-packages/sklearn/externals/six.py:31: FutureWarning: The module is deprecated in version 0.21 and will be removed in version 0.23 since we've dropped support for Python 2.7. Please rely on the official version of six (https://pypi.org/project/six/).\n",
            "  \"(https://pypi.org/project/six/).\", FutureWarning)\n",
            "/usr/local/lib/python3.7/dist-packages/sklearn/utils/deprecation.py:144: FutureWarning: The sklearn.neighbors.base module is  deprecated in version 0.22 and will be removed in version 0.24. The corresponding classes / functions should instead be imported from sklearn.neighbors. Anything that cannot be imported from sklearn.neighbors is now part of the private API.\n",
            "  warnings.warn(message, FutureWarning)\n"
          ],
          "name": "stderr"
        }
      ]
    },
    {
      "cell_type": "markdown",
      "metadata": {
        "id": "QRKNWrF7BgC_"
      },
      "source": [
        "Data is imbalance so applied SMOTE and we will focus on auc-roc score and build a functions for finding random state where auc roc is maximum."
      ]
    },
    {
      "cell_type": "code",
      "metadata": {
        "colab": {
          "base_uri": "https://localhost:8080/"
        },
        "id": "GcUbFq8BBby-",
        "outputId": "b38b74ce-1cbd-40b8-f826-7a673f0d2f35"
      },
      "source": [
        "from sklearn.linear_model import LogisticRegression\n",
        "import warnings\n",
        "warnings.filterwarnings(\"ignore\")\n",
        "lg_clf=LogisticRegression()\n",
        "max_aucroc_score(lg_clf,x,y)"
      ],
      "execution_count": 36,
      "outputs": [
        {
          "output_type": "stream",
          "text": [
            "auc roc score corresponding to  42  is  0.7509183910718438\n",
            "auc roc score corresponding to  43  is  0.7821617711643287\n",
            "auc roc score corresponding to  44  is  0.7816334702523962\n",
            "auc roc score corresponding to  45  is  0.7463122271306414\n",
            "auc roc score corresponding to  46  is  0.7585354827042806\n",
            "auc roc score corresponding to  47  is  0.7429641685396161\n",
            "auc roc score corresponding to  48  is  0.7678601875532822\n",
            "auc roc score corresponding to  49  is  0.7626921387790953\n",
            "auc roc score corresponding to  50  is  0.7512891058926865\n",
            "auc roc score corresponding to  51  is  0.7748818104316825\n",
            "auc roc score corresponding to  52  is  0.7699385155906895\n",
            "auc roc score corresponding to  53  is  0.7727698984732233\n",
            "auc roc score corresponding to  54  is  0.765478312537136\n",
            "auc roc score corresponding to  55  is  0.7783642047069157\n",
            "auc roc score corresponding to  56  is  0.7430429615851611\n",
            "auc roc score corresponding to  57  is  0.7675230566534914\n",
            "auc roc score corresponding to  58  is  0.7701968534449353\n",
            "auc roc score corresponding to  59  is  0.753063886951355\n",
            "auc roc score corresponding to  60  is  0.7784094138314087\n",
            "auc roc score corresponding to  61  is  0.7755780309488749\n",
            "auc roc score corresponding to  62  is  0.7566031155545222\n",
            "auc roc score corresponding to  63  is  0.7689051641737064\n",
            "auc roc score corresponding to  64  is  0.7860265054638456\n",
            "auc roc score corresponding to  65  is  0.7647704668165026\n",
            "auc roc score corresponding to  66  is  0.7686687850370714\n",
            "auc roc score corresponding to  67  is  0.7525136273218115\n",
            "auc roc score corresponding to  68  is  0.7448293678472706\n",
            "auc roc score corresponding to  69  is  0.7649616368286445\n",
            "auc roc score corresponding to  70  is  0.7733873259448707\n",
            "auc roc score corresponding to  71  is  0.775702033118913\n",
            "auc roc score corresponding to  72  is  0.7851946575731743\n",
            "auc roc score corresponding to  73  is  0.7573109612751557\n",
            "auc roc score corresponding to  74  is  0.7484693482135938\n",
            "auc roc score corresponding to  75  is  0.7862060502725463\n",
            "auc roc score corresponding to  76  is  0.7401896199850164\n",
            "auc roc score corresponding to  77  is  0.7639166602082204\n",
            "auc roc score corresponding to  78  is  0.7575240900049084\n",
            "auc roc score corresponding to  79  is  0.7760275388152627\n",
            "auc roc score corresponding to  80  is  0.7716461288072541\n",
            "auc roc score corresponding to  81  is  0.7623214239582526\n",
            "auc roc score corresponding to  82  is  0.7648492598620475\n",
            "auc roc score corresponding to  83  is  0.7547831253713606\n",
            "auc roc score corresponding to  84  is  0.7597600041334057\n",
            "auc roc score corresponding to  85  is  0.7464246040972384\n",
            "auc roc score corresponding to  86  is  0.7701968534449353\n",
            "auc roc score corresponding to  87  is  0.7649164277041515\n",
            "auc roc score corresponding to  88  is  0.7663321191454184\n",
            "auc roc score corresponding to  89  is  0.7626585548580435\n",
            "auc roc score corresponding to  90  is  0.7449753287349196\n",
            "auc roc score corresponding to  91  is  0.7548619184169056\n",
            "auc roc score corresponding to  92  is  0.7724663514944845\n",
            "auc roc score corresponding to  93  is  0.7648828437830996\n",
            "auc roc score corresponding to  94  is  0.7870598568808288\n",
            "auc roc score corresponding to  95  is  0.7606138107416879\n",
            "auc roc score corresponding to  96  is  0.7585354827042806\n",
            "auc roc score corresponding to  97  is  0.7669611718205069\n",
            "auc roc score corresponding to  98  is  0.7501769614301583\n",
            "auc roc score corresponding to  99  is  0.7567607016456122\n",
            "max auc roc score corresponding to  94  is  0.7870598568808288\n"
          ],
          "name": "stdout"
        },
        {
          "output_type": "execute_result",
          "data": {
            "text/plain": [
              "94"
            ]
          },
          "metadata": {
            "tags": []
          },
          "execution_count": 36
        }
      ]
    },
    {
      "cell_type": "markdown",
      "metadata": {
        "id": "hTpmeiupBq3y"
      },
      "source": [
        "Using logistic regression max auc roc score corresponding to  44  is  0.785644165439562\n",
        "44."
      ]
    },
    {
      "cell_type": "code",
      "metadata": {
        "colab": {
          "base_uri": "https://localhost:8080/"
        },
        "id": "QVpZKNOwBlGc",
        "outputId": "03852094-8a10-429d-a986-d1ea358aeb6e"
      },
      "source": [
        "from sklearn.model_selection import cross_val_score\n",
        "print(\"Mean roc auc score for logistic classifier: \",cross_val_score(lg_clf,x,y,cv=5,scoring=\"roc_auc\").mean())\n",
        "print(\"standard deviation in roc auc score for logistic classifier: \",cross_val_score(lg_clf,x,y,cv=5,scoring=\"roc_auc\").std())\n",
        "print(cross_val_score(lg_clf,x,y,cv=5,scoring=\"roc_auc\"))"
      ],
      "execution_count": 37,
      "outputs": [
        {
          "output_type": "stream",
          "text": [
            "Mean roc auc score for logistic classifier:  0.8466662940654093\n",
            "standard deviation in roc auc score for logistic classifier:  0.009816413595564077\n",
            "[0.86060089 0.85573898 0.83467023 0.84053049 0.84179087]\n"
          ],
          "name": "stdout"
        }
      ]
    },
    {
      "cell_type": "code",
      "metadata": {
        "colab": {
          "base_uri": "https://localhost:8080/"
        },
        "id": "n2LSdQAVB5H0",
        "outputId": "136c6ad3-24f0-4229-fe79-a4d320c13168"
      },
      "source": [
        "from sklearn.tree import DecisionTreeClassifier\n",
        "dc=DecisionTreeClassifier()\n",
        "max_aucroc_score(dc,df_x,y)"
      ],
      "execution_count": 38,
      "outputs": [
        {
          "output_type": "stream",
          "text": [
            "auc roc score corresponding to  42  is  0.6620656694825493\n",
            "auc roc score corresponding to  43  is  0.6700198920147769\n",
            "auc roc score corresponding to  44  is  0.6740977550440467\n",
            "auc roc score corresponding to  45  is  0.6301712779973649\n",
            "auc roc score corresponding to  46  is  0.6707949055775142\n",
            "auc roc score corresponding to  47  is  0.6615489937740576\n",
            "auc roc score corresponding to  48  is  0.6297217701309774\n",
            "auc roc score corresponding to  49  is  0.6528197576790927\n",
            "auc roc score corresponding to  50  is  0.637518406572115\n",
            "auc roc score corresponding to  51  is  0.6569544550362966\n",
            "auc roc score corresponding to  52  is  0.6639308687902039\n",
            "auc roc score corresponding to  53  is  0.6578754294866828\n",
            "auc roc score corresponding to  54  is  0.6485623498411223\n",
            "auc roc score corresponding to  55  is  0.6813441318556408\n",
            "auc roc score corresponding to  56  is  0.6343279340721796\n",
            "auc roc score corresponding to  57  is  0.6644023353742023\n",
            "auc roc score corresponding to  58  is  0.6645935053863442\n",
            "auc roc score corresponding to  59  is  0.6696827611149863\n",
            "auc roc score corresponding to  60  is  0.6485843085587331\n",
            "auc roc score corresponding to  61  is  0.6777829445348627\n",
            "auc roc score corresponding to  62  is  0.6513033144746699\n",
            "auc roc score corresponding to  63  is  0.6465511896458188\n",
            "auc roc score corresponding to  64  is  0.6628975173732207\n",
            "auc roc score corresponding to  65  is  0.6561226071456251\n",
            "auc roc score corresponding to  66  is  0.668716577540107\n",
            "auc roc score corresponding to  67  is  0.6532020977033764\n",
            "auc roc score corresponding to  68  is  0.6494381151670154\n",
            "auc roc score corresponding to  69  is  0.6760301221938052\n",
            "auc roc score corresponding to  70  is  0.6764008370146477\n",
            "auc roc score corresponding to  71  is  0.6785695833010411\n",
            "auc roc score corresponding to  72  is  0.6710196595107081\n",
            "auc roc score corresponding to  73  is  0.6619313337983415\n",
            "auc roc score corresponding to  74  is  0.6413831408716318\n",
            "auc roc score corresponding to  75  is  0.6781200754346535\n",
            "auc roc score corresponding to  76  is  0.6566844919786098\n",
            "auc roc score corresponding to  77  is  0.6764460461391408\n",
            "auc roc score corresponding to  78  is  0.6456521739130435\n",
            "auc roc score corresponding to  79  is  0.6688289545067038\n",
            "auc roc score corresponding to  80  is  0.681085794001395\n",
            "auc roc score corresponding to  81  is  0.6573135446536982\n",
            "auc roc score corresponding to  82  is  0.6589875739492108\n",
            "auc roc score corresponding to  83  is  0.6419114417835645\n",
            "auc roc score corresponding to  84  is  0.667346095223333\n",
            "auc roc score corresponding to  85  is  0.6519323671497583\n",
            "auc roc score corresponding to  86  is  0.6766708000723347\n",
            "auc roc score corresponding to  87  is  0.6542354491203596\n",
            "auc roc score corresponding to  88  is  0.6602573045028288\n",
            "auc roc score corresponding to  89  is  0.6639308687902039\n",
            "auc roc score corresponding to  90  is  0.6528985507246376\n",
            "auc roc score corresponding to  91  is  0.6705481929267095\n",
            "auc roc score corresponding to  92  is  0.6996899945749051\n",
            "auc roc score corresponding to  93  is  0.6310922524477511\n",
            "auc roc score corresponding to  94  is  0.6745136789893824\n",
            "auc roc score corresponding to  95  is  0.640091451600403\n",
            "auc roc score corresponding to  96  is  0.6615154098530057\n",
            "auc roc score corresponding to  97  is  0.6752886925521197\n",
            "auc roc score corresponding to  98  is  0.6511457283835801\n",
            "auc roc score corresponding to  99  is  0.6505618848329846\n",
            "max auc roc score corresponding to  92  is  0.6996899945749051\n"
          ],
          "name": "stdout"
        },
        {
          "output_type": "execute_result",
          "data": {
            "text/plain": [
              "92"
            ]
          },
          "metadata": {
            "tags": []
          },
          "execution_count": 38
        }
      ]
    },
    {
      "cell_type": "markdown",
      "metadata": {
        "id": "ipkjMnfKCEvY"
      },
      "source": [
        "Using DecisionTreeClassifier max auc roc score corresponding to  96  is  0.6862086336510889\n",
        "96"
      ]
    },
    {
      "cell_type": "code",
      "metadata": {
        "colab": {
          "base_uri": "https://localhost:8080/"
        },
        "id": "ly6xuLcZB-ks",
        "outputId": "a1a68fa9-50d9-494f-d109-479af112663e"
      },
      "source": [
        "print(\"Mean auc roc score for decision tree classifier: \",cross_val_score(dc,df_x,y,cv=5,scoring=\"roc_auc\").mean())\n",
        "print(\"standard deviation in auc roc score for decision tree classifier: \",cross_val_score(dc,df_x,y,cv=5,scoring=\"roc_auc\").std())\n",
        "print(cross_val_score(dc,df_x,y,cv=5,scoring=\"roc_auc\"))"
      ],
      "execution_count": 39,
      "outputs": [
        {
          "output_type": "stream",
          "text": [
            "Mean auc roc score for decision tree classifier:  0.6526288775332736\n",
            "standard deviation in auc roc score for decision tree classifier:  0.019099621610184296\n",
            "[0.67071095 0.65906637 0.64729133 0.62202795 0.66979515]\n"
          ],
          "name": "stdout"
        }
      ]
    },
    {
      "cell_type": "code",
      "metadata": {
        "colab": {
          "base_uri": "https://localhost:8080/"
        },
        "id": "RZIU-OGXCK0N",
        "outputId": "a622ddd9-b397-4cb7-a3a3-d7580db9daba"
      },
      "source": [
        "from sklearn.ensemble import RandomForestClassifier\n",
        "from sklearn.model_selection import GridSearchCV\n",
        "n_estimators=[10,100,500]\n",
        "criterion=['entropy','gini']\n",
        "min_samples_split=[2,5,8]\n",
        "min_samples_leaf=[1,2,4]\n",
        "parameters={'n_estimators':n_estimators,'min_samples_split':min_samples_split,'min_samples_leaf':min_samples_leaf,'criterion':criterion}\n",
        "rf_clf=RandomForestClassifier()\n",
        "clf = GridSearchCV(rf_clf, parameters, cv=3,scoring=\"roc_auc\")\n",
        "clf.fit(df_x,y)\n",
        "clf.best_params_"
      ],
      "execution_count": 40,
      "outputs": [
        {
          "output_type": "execute_result",
          "data": {
            "text/plain": [
              "{'criterion': 'entropy',\n",
              " 'min_samples_leaf': 4,\n",
              " 'min_samples_split': 8,\n",
              " 'n_estimators': 500}"
            ]
          },
          "metadata": {
            "tags": []
          },
          "execution_count": 40
        }
      ]
    },
    {
      "cell_type": "code",
      "metadata": {
        "id": "R6OZbn49CPXN",
        "colab": {
          "base_uri": "https://localhost:8080/"
        },
        "outputId": "61c93d07-300d-479b-b5a3-f03cb42d0151"
      },
      "source": [
        "rf_clf=RandomForestClassifier(n_estimators=500,criterion='entropy',min_samples_leaf=4,min_samples_split=2,)\n",
        "max_aucroc_score(rf_clf,df_x,y)"
      ],
      "execution_count": 41,
      "outputs": [
        {
          "output_type": "stream",
          "text": [
            "auc roc score corresponding to  42  is  0.7295293084295641\n",
            "auc roc score corresponding to  43  is  0.7476956263401278\n",
            "auc roc score corresponding to  44  is  0.7277545273708956\n",
            "auc roc score corresponding to  45  is  0.723440285204991\n",
            "auc roc score corresponding to  46  is  0.7263388359296288\n",
            "auc roc score corresponding to  47  is  0.7186429512516469\n",
            "auc roc score corresponding to  48  is  0.7262264589630318\n",
            "auc roc score corresponding to  49  is  0.7166770001808365\n",
            "auc roc score corresponding to  50  is  0.7157108166059571\n",
            "auc roc score corresponding to  51  is  0.7287878787878788\n",
            "auc roc score corresponding to  52  is  0.7368880622077554\n",
            "auc roc score corresponding to  53  is  0.7400113668655869\n",
            "auc roc score corresponding to  54  is  0.7313157146916738\n",
            "auc roc score corresponding to  55  is  0.7492120695445504\n",
            "auc roc score corresponding to  56  is  0.7111046526647549\n",
            "auc roc score corresponding to  57  is  0.7239569609134826\n",
            "auc roc score corresponding to  58  is  0.7304166989588984\n",
            "auc roc score corresponding to  59  is  0.719755095714175\n",
            "auc roc score corresponding to  60  is  0.7370340230954042\n",
            "auc roc score corresponding to  61  is  0.7505153840192202\n",
            "auc roc score corresponding to  62  is  0.7262264589630318\n",
            "auc roc score corresponding to  63  is  0.7134865276809012\n",
            "auc roc score corresponding to  64  is  0.7327314061329407\n",
            "auc roc score corresponding to  65  is  0.7332816657624842\n",
            "auc roc score corresponding to  66  is  0.7186429512516469\n",
            "auc roc score corresponding to  67  is  0.7371799839830531\n",
            "auc roc score corresponding to  68  is  0.7161603244723449\n",
            "auc roc score corresponding to  69  is  0.733394042729081\n",
            "auc roc score corresponding to  70  is  0.7267767185925754\n",
            "auc roc score corresponding to  71  is  0.7177671859257537\n",
            "auc roc score corresponding to  72  is  0.7399209486166008\n",
            "auc roc score corresponding to  73  is  0.7335064196956781\n",
            "auc roc score corresponding to  74  is  0.7188341212637887\n",
            "auc roc score corresponding to  75  is  0.7498863313441319\n",
            "auc roc score corresponding to  76  is  0.7135989046474979\n",
            "auc roc score corresponding to  77  is  0.7223953085845669\n",
            "auc roc score corresponding to  78  is  0.7486501847115657\n",
            "auc roc score corresponding to  79  is  0.7300124002170038\n",
            "auc roc score corresponding to  80  is  0.7325402361207989\n",
            "auc roc score corresponding to  81  is  0.7417861479242553\n",
            "auc roc score corresponding to  82  is  0.736180216487122\n",
            "auc roc score corresponding to  83  is  0.7202498127050556\n",
            "auc roc score corresponding to  84  is  0.7325402361207989\n",
            "auc roc score corresponding to  85  is  0.7167105841018885\n",
            "auc roc score corresponding to  86  is  0.732169521299956\n",
            "auc roc score corresponding to  87  is  0.74724611847374\n",
            "auc roc score corresponding to  88  is  0.7357307086207342\n",
            "auc roc score corresponding to  89  is  0.734618564158206\n",
            "auc roc score corresponding to  90  is  0.7395618589991991\n",
            "auc roc score corresponding to  91  is  0.7303495311167947\n",
            "auc roc score corresponding to  92  is  0.7320571443333592\n",
            "auc roc score corresponding to  93  is  0.7309449998708311\n",
            "auc roc score corresponding to  94  is  0.7453137513239816\n",
            "auc roc score corresponding to  95  is  0.7237774161047819\n",
            "auc roc score corresponding to  96  is  0.7270466816502622\n",
            "auc roc score corresponding to  97  is  0.7069479965899403\n",
            "auc roc score corresponding to  98  is  0.7266307577049265\n",
            "auc roc score corresponding to  99  is  0.7131610219845514\n",
            "max auc roc score corresponding to  61  is  0.7505153840192202\n"
          ],
          "name": "stdout"
        },
        {
          "output_type": "execute_result",
          "data": {
            "text/plain": [
              "61"
            ]
          },
          "metadata": {
            "tags": []
          },
          "execution_count": 41
        }
      ]
    },
    {
      "cell_type": "markdown",
      "metadata": {
        "id": "6-MsDKpnCkgB"
      },
      "source": [
        "Using RandomForestClassifier max auc roc score corresponding to  87  is  0.756346069389547687"
      ]
    },
    {
      "cell_type": "code",
      "metadata": {
        "colab": {
          "base_uri": "https://localhost:8080/"
        },
        "id": "kZCvIbjLArVK",
        "outputId": "e80b42a3-9fda-4285-d44c-1eff742e777c"
      },
      "source": [
        "from sklearn.model_selection import cross_val_score\n",
        "print(\"Mean roc auc score for RandomForest classifier: \",cross_val_score(rf_clf,x,y,cv=5,scoring=\"roc_auc\").mean())\n",
        "print(\"standard deviation in roc auc score for RandomForest classifier: \",cross_val_score(rf_clf,x,y,cv=5,scoring=\"roc_auc\").std())\n",
        "print(cross_val_score(rf_clf,x,y,cv=5,scoring=\"roc_auc\"))"
      ],
      "execution_count": 49,
      "outputs": [
        {
          "output_type": "stream",
          "text": [
            "Mean roc auc score for RandomForest classifier:  0.842037444766157\n",
            "standard deviation in roc auc score for RandomForest classifier:  0.012467270950241891\n",
            "[0.85507246 0.85493554 0.82572916 0.83376462 0.84265197]\n"
          ],
          "name": "stdout"
        }
      ]
    },
    {
      "cell_type": "code",
      "metadata": {
        "id": "pbgCGxw9ClRe",
        "colab": {
          "base_uri": "https://localhost:8080/"
        },
        "outputId": "f157ab9f-1971-4067-c6b9-eda02dc4a7bf"
      },
      "source": [
        "from sklearn.model_selection import GridSearchCV \n",
        "from sklearn.neighbors import KNeighborsClassifier \n",
        "import warnings \n",
        "warnings.filterwarnings(\"ignore\") \n",
        "leaf_size = list(range(1,10)) \n",
        "n_neighbors = list(range(1,30)) \n",
        "p=[1,2] \n",
        "parameters={\"n_neighbors\":n_neighbors,\"leaf_size\":leaf_size, \"p\":p} \n",
        "kc=KNeighborsClassifier() \n",
        "clf = GridSearchCV(kc, parameters, cv=3,scoring=\"roc_auc\") \n",
        "clf.fit(x,y) \n",
        "clf.best_params_"
      ],
      "execution_count": 42,
      "outputs": [
        {
          "output_type": "execute_result",
          "data": {
            "text/plain": [
              "{'leaf_size': 2, 'n_neighbors': 28, 'p': 1}"
            ]
          },
          "metadata": {
            "tags": []
          },
          "execution_count": 42
        }
      ]
    },
    {
      "cell_type": "code",
      "metadata": {
        "id": "Yn3sAmG_Cs8X",
        "colab": {
          "base_uri": "https://localhost:8080/"
        },
        "outputId": "63dfd970-cf83-48ef-9652-db2dd297dd5f"
      },
      "source": [
        "kc=KNeighborsClassifier(n_neighbors=28, leaf_size=1,p=1 )\n",
        "max_aucroc_score(kc,x,y)"
      ],
      "execution_count": 43,
      "outputs": [
        {
          "output_type": "stream",
          "text": [
            "auc roc score corresponding to  42  is  0.7449972874525305\n",
            "auc roc score corresponding to  43  is  0.7678033532253481\n",
            "auc roc score corresponding to  44  is  0.7586698183884883\n",
            "auc roc score corresponding to  45  is  0.7484125138856597\n",
            "auc roc score corresponding to  46  is  0.7387170942158154\n",
            "auc roc score corresponding to  47  is  0.7339985533080162\n",
            "auc roc score corresponding to  48  is  0.7353806608282313\n",
            "auc roc score corresponding to  49  is  0.7419527758402439\n",
            "auc roc score corresponding to  50  is  0.7291340515125682\n",
            "auc roc score corresponding to  51  is  0.7611188612467384\n",
            "auc roc score corresponding to  52  is  0.7625345526880053\n",
            "auc roc score corresponding to  53  is  0.7507272210597018\n",
            "auc roc score corresponding to  54  is  0.7400539926115373\n",
            "auc roc score corresponding to  55  is  0.765500271254747\n",
            "auc roc score corresponding to  56  is  0.7237864579296805\n",
            "auc roc score corresponding to  57  is  0.7394249399364489\n",
            "auc roc score corresponding to  58  is  0.7535805626598465\n",
            "auc roc score corresponding to  59  is  0.7336950063292774\n",
            "auc roc score corresponding to  60  is  0.75788317962231\n",
            "auc roc score corresponding to  61  is  0.7469632385233409\n",
            "auc roc score corresponding to  62  is  0.7541424474928311\n",
            "auc roc score corresponding to  63  is  0.7542884083804801\n",
            "auc roc score corresponding to  64  is  0.7617931230463199\n",
            "auc roc score corresponding to  65  is  0.75168177943114\n",
            "auc roc score corresponding to  66  is  0.7511198945981555\n",
            "auc roc score corresponding to  67  is  0.7235617039964866\n",
            "auc roc score corresponding to  68  is  0.7433232581570177\n",
            "auc roc score corresponding to  69  is  0.7464465628148492\n",
            "auc roc score corresponding to  70  is  0.7419863597612957\n",
            "auc roc score corresponding to  71  is  0.7596024180423158\n",
            "auc roc score corresponding to  72  is  0.7572541269472215\n",
            "auc roc score corresponding to  73  is  0.7552545919553593\n",
            "auc roc score corresponding to  74  is  0.7371218579658476\n",
            "auc roc score corresponding to  75  is  0.7562207755302385\n",
            "auc roc score corresponding to  76  is  0.7324485261825416\n",
            "auc roc score corresponding to  77  is  0.7534681856932497\n",
            "auc roc score corresponding to  78  is  0.7447725335193366\n",
            "auc roc score corresponding to  79  is  0.7686571598336305\n",
            "auc roc score corresponding to  80  is  0.7551757989098143\n",
            "auc roc score corresponding to  81  is  0.7546927071223747\n",
            "auc roc score corresponding to  82  is  0.7530974708724069\n",
            "auc roc score corresponding to  83  is  0.7483453460435556\n",
            "auc roc score corresponding to  84  is  0.7317070965408562\n",
            "auc roc score corresponding to  85  is  0.7309540416957296\n",
            "auc roc score corresponding to  86  is  0.7471879924565347\n",
            "auc roc score corresponding to  87  is  0.7602986385595081\n",
            "auc roc score corresponding to  88  is  0.7461882249606034\n",
            "auc roc score corresponding to  89  is  0.7507943889018058\n",
            "auc roc score corresponding to  90  is  0.7497494122813816\n",
            "auc roc score corresponding to  91  is  0.7354142447492831\n",
            "auc roc score corresponding to  92  is  0.7589281562427342\n",
            "auc roc score corresponding to  93  is  0.7445477795861428\n",
            "auc roc score corresponding to  94  is  0.74678369371464\n",
            "auc roc score corresponding to  95  is  0.7371218579658476\n",
            "auc roc score corresponding to  96  is  0.7475251233563255\n",
            "auc roc score corresponding to  97  is  0.7370430649203028\n",
            "auc roc score corresponding to  98  is  0.7330323697331371\n",
            "auc roc score corresponding to  99  is  0.7397736960396807\n",
            "max auc roc score corresponding to  79  is  0.7686571598336305\n"
          ],
          "name": "stdout"
        },
        {
          "output_type": "execute_result",
          "data": {
            "text/plain": [
              "79"
            ]
          },
          "metadata": {
            "tags": []
          },
          "execution_count": 43
        }
      ]
    },
    {
      "cell_type": "code",
      "metadata": {
        "colab": {
          "base_uri": "https://localhost:8080/"
        },
        "id": "Sv3xwCnsA8EC",
        "outputId": "bfd6d94c-7ca1-46fd-e216-1811c9fbeb34"
      },
      "source": [
        "from sklearn.model_selection import cross_val_score\n",
        "print(\"Mean roc auc score for KNeighbors classifier: \",cross_val_score(kc,x,y,cv=5,scoring=\"roc_auc\").mean())\n",
        "print(\"standard deviation in roc auc score for KNeighbors classifier: \",cross_val_score(kc,x,y,cv=5,scoring=\"roc_auc\").std())\n",
        "print(cross_val_score(kc,x,y,cv=5,scoring=\"roc_auc\"))"
      ],
      "execution_count": 50,
      "outputs": [
        {
          "output_type": "stream",
          "text": [
            "Mean roc auc score for KNeighbors classifier:  0.8295712539449548\n",
            "standard deviation in roc auc score for KNeighbors classifier:  0.012035979563568366\n",
            "[0.84854814 0.8389806  0.8180139  0.82066286 0.82165077]\n"
          ],
          "name": "stdout"
        }
      ]
    },
    {
      "cell_type": "markdown",
      "metadata": {
        "id": "Wd20cXVhCxXm"
      },
      "source": [
        "Using KNeighborsClassifier max auc roc score corresponding to random state 93 is 0.7589801016452752"
      ]
    },
    {
      "cell_type": "code",
      "metadata": {
        "id": "S_mjfadpC9-_",
        "colab": {
          "base_uri": "https://localhost:8080/"
        },
        "outputId": "07c0d07a-4612-42b9-8a03-c606623906f7"
      },
      "source": [
        "from sklearn.ensemble import GradientBoostingClassifier\n",
        "parameters={\"learning_rate\":[0.001,0.01,0.1,1],\"n_estimators\":[10,100,500,1000]}\n",
        "gb_clf=GradientBoostingClassifier()\n",
        "clf = GridSearchCV(gb_clf, parameters, cv=5,scoring=\"roc_auc\")\n",
        "clf.fit(df_x,y)\n",
        "clf.best_params_"
      ],
      "execution_count": 44,
      "outputs": [
        {
          "output_type": "execute_result",
          "data": {
            "text/plain": [
              "{'learning_rate': 0.01, 'n_estimators': 500}"
            ]
          },
          "metadata": {
            "tags": []
          },
          "execution_count": 44
        }
      ]
    },
    {
      "cell_type": "code",
      "metadata": {
        "id": "qTzH0YpcCps1",
        "colab": {
          "base_uri": "https://localhost:8080/"
        },
        "outputId": "45afc9be-d143-488a-f9e9-1ac693951d9c"
      },
      "source": [
        "gb_clf=GradientBoostingClassifier(learning_rate=0.01,n_estimators=500)\n",
        "max_aucroc_score(gb_clf,df_x,y)"
      ],
      "execution_count": 45,
      "outputs": [
        {
          "output_type": "stream",
          "text": [
            "auc roc score corresponding to  42  is  0.7484925986204759\n",
            "auc roc score corresponding to  43  is  0.7654343951019144\n",
            "auc roc score corresponding to  44  is  0.7653220181353173\n",
            "auc roc score corresponding to  45  is  0.7466390245162623\n",
            "auc roc score corresponding to  46  is  0.7522113720323439\n",
            "auc roc score corresponding to  47  is  0.7293600971350332\n",
            "auc roc score corresponding to  48  is  0.7462683096954197\n",
            "auc roc score corresponding to  49  is  0.74578521790798\n",
            "auc roc score corresponding to  50  is  0.7373143196672608\n",
            "auc roc score corresponding to  51  is  0.7436733059495209\n",
            "auc roc score corresponding to  52  is  0.7603451393732725\n",
            "auc roc score corresponding to  53  is  0.7413366400578676\n",
            "auc roc score corresponding to  54  is  0.7666589165310393\n",
            "auc roc score corresponding to  55  is  0.7689955824226924\n",
            "auc roc score corresponding to  56  is  0.7294388901805782\n",
            "auc roc score corresponding to  57  is  0.7336407553798858\n",
            "auc roc score corresponding to  58  is  0.7679170218812164\n",
            "auc roc score corresponding to  59  is  0.7468521532460152\n",
            "auc roc score corresponding to  60  is  0.7646141724146839\n",
            "auc roc score corresponding to  61  is  0.7613449068692036\n",
            "auc roc score corresponding to  62  is  0.7414038078999715\n",
            "auc roc score corresponding to  63  is  0.7447854504120489\n",
            "auc roc score corresponding to  64  is  0.7578625125939704\n",
            "auc roc score corresponding to  65  is  0.763131313131313\n",
            "auc roc score corresponding to  66  is  0.7368312278798212\n",
            "auc roc score corresponding to  67  is  0.7430326280709912\n",
            "auc roc score corresponding to  68  is  0.7311917125216357\n",
            "auc roc score corresponding to  69  is  0.7469425714950011\n",
            "auc roc score corresponding to  70  is  0.7475264150455967\n",
            "auc roc score corresponding to  71  is  0.7514027745485546\n",
            "auc roc score corresponding to  72  is  0.7605246841819732\n",
            "auc roc score corresponding to  73  is  0.7485713916660208\n",
            "auc roc score corresponding to  74  is  0.7395050246712651\n",
            "auc roc score corresponding to  75  is  0.77939884781317\n",
            "auc roc score corresponding to  76  is  0.7436280968250277\n",
            "auc roc score corresponding to  77  is  0.7485261825415279\n",
            "auc roc score corresponding to  78  is  0.7456276318168902\n",
            "auc roc score corresponding to  79  is  0.7600080084734815\n",
            "auc roc score corresponding to  80  is  0.748088299878581\n",
            "auc roc score corresponding to  81  is  0.7491216512955643\n",
            "auc roc score corresponding to  82  is  0.7484590146994239\n",
            "auc roc score corresponding to  83  is  0.7290010075176316\n",
            "auc roc score corresponding to  84  is  0.754480870081893\n",
            "auc roc score corresponding to  85  is  0.7353031594719575\n",
            "auc roc score corresponding to  86  is  0.7619403756232401\n",
            "auc roc score corresponding to  87  is  0.7634232349066108\n",
            "auc roc score corresponding to  88  is  0.7479759229119843\n",
            "auc roc score corresponding to  89  is  0.7490544834534604\n",
            "auc roc score corresponding to  90  is  0.7551770905990854\n",
            "auc roc score corresponding to  91  is  0.7386512180629827\n",
            "auc roc score corresponding to  92  is  0.7677710609935673\n",
            "auc roc score corresponding to  93  is  0.7716693792141364\n",
            "auc roc score corresponding to  94  is  0.7655803559895631\n",
            "auc roc score corresponding to  95  is  0.7451561652328916\n",
            "auc roc score corresponding to  96  is  0.7609070242062569\n",
            "auc roc score corresponding to  97  is  0.7523121237954997\n",
            "auc roc score corresponding to  98  is  0.7464142705830685\n",
            "auc roc score corresponding to  99  is  0.7367304761166654\n",
            "max auc roc score corresponding to  75  is  0.77939884781317\n"
          ],
          "name": "stdout"
        },
        {
          "output_type": "execute_result",
          "data": {
            "text/plain": [
              "75"
            ]
          },
          "metadata": {
            "tags": []
          },
          "execution_count": 45
        }
      ]
    },
    {
      "cell_type": "markdown",
      "metadata": {
        "id": "6O9cKZyoDaj3"
      },
      "source": [
        "Using GradientBoostingClassifier max auc roc score corresponding to random state 80 is 0.7239210957016109"
      ]
    },
    {
      "cell_type": "code",
      "metadata": {
        "id": "Pj89xza8Dk4H"
      },
      "source": [
        "#Lets choose svm as our final model and random state 82\n",
        "x_train, x_test, y_train, y_test = train_test_split(x, y,random_state = 70,test_size=0.20,stratify=y)\n",
        "x_train, y_train = SMOTE().fit_sample(x_train, y_train)\n",
        "lg=LogisticRegression()\n",
        "lg.fit(x_train,y_train)\n",
        "y_pred=lg.predict(x_test)"
      ],
      "execution_count": 51,
      "outputs": []
    },
    {
      "cell_type": "code",
      "metadata": {
        "id": "QQm-FrFLDnU0",
        "colab": {
          "base_uri": "https://localhost:8080/"
        },
        "outputId": "5cbae6ce-8dba-415c-a82d-3543c3da01e4"
      },
      "source": [
        "from sklearn.metrics import confusion_matrix\n",
        "from sklearn.metrics import classification_report\n",
        "from sklearn.metrics import f1_score\n",
        "from sklearn.metrics import roc_auc_score\n",
        "print(\"Confusion matrix \\n\",confusion_matrix(y_test,y_pred))\n",
        "print(\"f1 score is : \",f1_score(y_test,y_pred))\n",
        "print(\"classification report \\n\",classification_report(y_test,y_pred))\n",
        "print(\"AUC ROC Score: \",roc_auc_score(y_test,y_pred))"
      ],
      "execution_count": 52,
      "outputs": [
        {
          "output_type": "stream",
          "text": [
            "Confusion matrix \n",
            " [[774 261]\n",
            " [ 76 298]]\n",
            "f1 score is :  0.6387995712754555\n",
            "classification report \n",
            "               precision    recall  f1-score   support\n",
            "\n",
            "           0       0.91      0.75      0.82      1035\n",
            "           1       0.53      0.80      0.64       374\n",
            "\n",
            "    accuracy                           0.76      1409\n",
            "   macro avg       0.72      0.77      0.73      1409\n",
            "weighted avg       0.81      0.76      0.77      1409\n",
            "\n",
            "AUC ROC Score:  0.7723087654033945\n"
          ],
          "name": "stdout"
        }
      ]
    },
    {
      "cell_type": "code",
      "metadata": {
        "id": "BuiEvqF5Drzl",
        "colab": {
          "base_uri": "https://localhost:8080/",
          "height": 283
        },
        "outputId": "dc3966ab-f310-47d0-fb30-99e4ee156b61"
      },
      "source": [
        "from sklearn.metrics import roc_curve,precision_recall_curve\n",
        "fpr, tpr, thresholds = roc_curve(y_test,lg.predict_proba(x_test)[:,1],pos_label=1)\n",
        "precision, recall, thresholds = precision_recall_curve(y_test,lg.predict_proba(x_test)[:,1],pos_label=1)\n",
        "plt.plot(fpr, tpr, label='LogisticRegression')\n",
        "plt.plot([0,1], [0,1], label='No Discrimination', linestyle='-', dashes=(1, 1))\n",
        "plt.legend()"
      ],
      "execution_count": 56,
      "outputs": [
        {
          "output_type": "execute_result",
          "data": {
            "text/plain": [
              "<matplotlib.legend.Legend at 0x7ff5afaa5250>"
            ]
          },
          "metadata": {
            "tags": []
          },
          "execution_count": 56
        },
        {
          "output_type": "display_data",
          "data": {
            "image/png": "[encoded data removed]",
            "text/plain": [
              "<Figure size 432x288 with 1 Axes>"
            ]
          },
          "metadata": {
            "tags": [],
            "needs_background": "light"
          }
        }
      ]
    },
    {
      "cell_type": "code",
      "metadata": {
        "id": "cLQcCybhDvMR",
        "colab": {
          "base_uri": "https://localhost:8080/",
          "height": 313
        },
        "outputId": "ec954d16-8678-441a-e14e-33b6f50b296d"
      },
      "source": [
        "precision, recall, thresholds = precision_recall_curve(y_test,lg.predict_proba(x_test)[:,1],pos_label=1)\n",
        "plt.plot(precision,recall, label=LogisticRegression)\n",
        "plt.xlabel(\"Precision\")\n",
        "plt.ylabel(\"Recall\")\n",
        "plt.title(\"Precision Recall Curve\")\n",
        "plt.legend()"
      ],
      "execution_count": 58,
      "outputs": [
        {
          "output_type": "execute_result",
          "data": {
            "text/plain": [
              "<matplotlib.legend.Legend at 0x7ff5afa78d10>"
            ]
          },
          "metadata": {
            "tags": []
          },
          "execution_count": 58
        },
        {
          "output_type": "display_data",
          "data": {
            "image/png": "[encoded data removed]",
            "text/plain": [
              "<Figure size 432x288 with 1 Axes>"
            ]
          },
          "metadata": {
            "tags": [],
            "needs_background": "light"
          }
        }
      ]
    },
    {
      "cell_type": "code",
      "metadata": {
        "id": "6P0v2XHrIRSZ"
      },
      "source": [
        "#Lets save the model using joblib and pickle\n",
        "import joblib\n",
        "import pickle\n",
        "joblib.dump(lg, 'lg_Fraud.obj')\n",
        "pickle.dump(lg,open('lg_Fraud.pkl','wb'))"
      ],
      "execution_count": 59,
      "outputs": []
    },
    {
      "cell_type": "markdown",
      "metadata": {
        "id": "M8WBgaRlph4h"
      },
      "source": [
        "Dump the module using both pickle and joblib."
      ]
    },
    {
      "cell_type": "code",
      "metadata": {
        "id": "62XyIQYJpiog"
      },
      "source": [
        ""
      ],
      "execution_count": null,
      "outputs": []
    }
  ]
}