{
  "nbformat": 4,
  "nbformat_minor": 0,
  "metadata": {
    "colab": {
      "name": "mashrooms.ipynb",
      "provenance": [],
      "collapsed_sections": []
    },
    "kernelspec": {
      "name": "python3",
      "display_name": "Python 3"
    },
    "language_info": {
      "name": "python"
    },
    "accelerator": "GPU"
  },
  "cells": [
    {
      "cell_type": "code",
      "metadata": {
        "id": "dZxUvfYkPfE2"
      },
      "source": [
        "import pandas as pd\n",
        "import numpy as np\n",
        "import seaborn as sns"
      ],
      "execution_count": 1,
      "outputs": []
    },
    {
      "cell_type": "code",
      "metadata": {
        "id": "dINRUauvQMx8"
      },
      "source": [
        "df=pd.read_csv('https://raw.githubusercontent.com/dsrscientist/dataset1/master/mushrooms.csv')"
      ],
      "execution_count": 2,
      "outputs": []
    },
    {
      "cell_type": "code",
      "metadata": {
        "colab": {
          "base_uri": "https://localhost:8080/",
          "height": 266
        },
        "id": "oWp1awd4QX3q",
        "outputId": "05a696dc-42e7-4110-a8bf-75cef0a3c67c"
      },
      "source": [
        "df.head()"
      ],
      "execution_count": 3,
      "outputs": [
        {
          "output_type": "execute_result",
          "data": {
            "text/html": [
              "<div>\n",
              "<style scoped>\n",
              "    .dataframe tbody tr th:only-of-type {\n",
              "        vertical-align: middle;\n",
              "    }\n",
              "\n",
              "    .dataframe tbody tr th {\n",
              "        vertical-align: top;\n",
              "    }\n",
              "\n",
              "    .dataframe thead th {\n",
              "        text-align: right;\n",
              "    }\n",
              "</style>\n",
              "<table border=\"1\" class=\"dataframe\">\n",
              "  <thead>\n",
              "    <tr style=\"text-align: right;\">\n",
              "      <th></th>\n",
              "      <th>class</th>\n",
              "      <th>cap-shape</th>\n",
              "      <th>cap-surface</th>\n",
              "      <th>cap-color</th>\n",
              "      <th>bruises</th>\n",
              "      <th>odor</th>\n",
              "      <th>gill-attachment</th>\n",
              "      <th>gill-spacing</th>\n",
              "      <th>gill-size</th>\n",
              "      <th>gill-color</th>\n",
              "      <th>stalk-shape</th>\n",
              "      <th>stalk-root</th>\n",
              "      <th>stalk-surface-above-ring</th>\n",
              "      <th>stalk-surface-below-ring</th>\n",
              "      <th>stalk-color-above-ring</th>\n",
              "      <th>stalk-color-below-ring</th>\n",
              "      <th>veil-type</th>\n",
              "      <th>veil-color</th>\n",
              "      <th>ring-number</th>\n",
              "      <th>ring-type</th>\n",
              "      <th>spore-print-color</th>\n",
              "      <th>population</th>\n",
              "      <th>habitat</th>\n",
              "    </tr>\n",
              "  </thead>\n",
              "  <tbody>\n",
              "    <tr>\n",
              "      <th>0</th>\n",
              "      <td>p</td>\n",
              "      <td>x</td>\n",
              "      <td>s</td>\n",
              "      <td>n</td>\n",
              "      <td>t</td>\n",
              "      <td>p</td>\n",
              "      <td>f</td>\n",
              "      <td>c</td>\n",
              "      <td>n</td>\n",
              "      <td>k</td>\n",
              "      <td>e</td>\n",
              "      <td>e</td>\n",
              "      <td>s</td>\n",
              "      <td>s</td>\n",
              "      <td>w</td>\n",
              "      <td>w</td>\n",
              "      <td>p</td>\n",
              "      <td>w</td>\n",
              "      <td>o</td>\n",
              "      <td>p</td>\n",
              "      <td>k</td>\n",
              "      <td>s</td>\n",
              "      <td>u</td>\n",
              "    </tr>\n",
              "    <tr>\n",
              "      <th>1</th>\n",
              "      <td>e</td>\n",
              "      <td>x</td>\n",
              "      <td>s</td>\n",
              "      <td>y</td>\n",
              "      <td>t</td>\n",
              "      <td>a</td>\n",
              "      <td>f</td>\n",
              "      <td>c</td>\n",
              "      <td>b</td>\n",
              "      <td>k</td>\n",
              "      <td>e</td>\n",
              "      <td>c</td>\n",
              "      <td>s</td>\n",
              "      <td>s</td>\n",
              "      <td>w</td>\n",
              "      <td>w</td>\n",
              "      <td>p</td>\n",
              "      <td>w</td>\n",
              "      <td>o</td>\n",
              "      <td>p</td>\n",
              "      <td>n</td>\n",
              "      <td>n</td>\n",
              "      <td>g</td>\n",
              "    </tr>\n",
              "    <tr>\n",
              "      <th>2</th>\n",
              "      <td>e</td>\n",
              "      <td>b</td>\n",
              "      <td>s</td>\n",
              "      <td>w</td>\n",
              "      <td>t</td>\n",
              "      <td>l</td>\n",
              "      <td>f</td>\n",
              "      <td>c</td>\n",
              "      <td>b</td>\n",
              "      <td>n</td>\n",
              "      <td>e</td>\n",
              "      <td>c</td>\n",
              "      <td>s</td>\n",
              "      <td>s</td>\n",
              "      <td>w</td>\n",
              "      <td>w</td>\n",
              "      <td>p</td>\n",
              "      <td>w</td>\n",
              "      <td>o</td>\n",
              "      <td>p</td>\n",
              "      <td>n</td>\n",
              "      <td>n</td>\n",
              "      <td>m</td>\n",
              "    </tr>\n",
              "    <tr>\n",
              "      <th>3</th>\n",
              "      <td>p</td>\n",
              "      <td>x</td>\n",
              "      <td>y</td>\n",
              "      <td>w</td>\n",
              "      <td>t</td>\n",
              "      <td>p</td>\n",
              "      <td>f</td>\n",
              "      <td>c</td>\n",
              "      <td>n</td>\n",
              "      <td>n</td>\n",
              "      <td>e</td>\n",
              "      <td>e</td>\n",
              "      <td>s</td>\n",
              "      <td>s</td>\n",
              "      <td>w</td>\n",
              "      <td>w</td>\n",
              "      <td>p</td>\n",
              "      <td>w</td>\n",
              "      <td>o</td>\n",
              "      <td>p</td>\n",
              "      <td>k</td>\n",
              "      <td>s</td>\n",
              "      <td>u</td>\n",
              "    </tr>\n",
              "    <tr>\n",
              "      <th>4</th>\n",
              "      <td>e</td>\n",
              "      <td>x</td>\n",
              "      <td>s</td>\n",
              "      <td>g</td>\n",
              "      <td>f</td>\n",
              "      <td>n</td>\n",
              "      <td>f</td>\n",
              "      <td>w</td>\n",
              "      <td>b</td>\n",
              "      <td>k</td>\n",
              "      <td>t</td>\n",
              "      <td>e</td>\n",
              "      <td>s</td>\n",
              "      <td>s</td>\n",
              "      <td>w</td>\n",
              "      <td>w</td>\n",
              "      <td>p</td>\n",
              "      <td>w</td>\n",
              "      <td>o</td>\n",
              "      <td>e</td>\n",
              "      <td>n</td>\n",
              "      <td>a</td>\n",
              "      <td>g</td>\n",
              "    </tr>\n",
              "  </tbody>\n",
              "</table>\n",
              "</div>"
            ],
            "text/plain": [
              "  class cap-shape cap-surface  ... spore-print-color population habitat\n",
              "0     p         x           s  ...                 k          s       u\n",
              "1     e         x           s  ...                 n          n       g\n",
              "2     e         b           s  ...                 n          n       m\n",
              "3     p         x           y  ...                 k          s       u\n",
              "4     e         x           s  ...                 n          a       g\n",
              "\n",
              "[5 rows x 23 columns]"
            ]
          },
          "metadata": {
            "tags": []
          },
          "execution_count": 3
        }
      ]
    },
    {
      "cell_type": "code",
      "metadata": {
        "id": "DHJ0aiMxQaEC"
      },
      "source": [
        "from sklearn.preprocessing import LabelEncoder\n",
        "labelencoder=LabelEncoder()\n",
        "for column in df.columns:\n",
        "    df[column] = labelencoder.fit_transform(df[column])"
      ],
      "execution_count": 4,
      "outputs": []
    },
    {
      "cell_type": "code",
      "metadata": {
        "colab": {
          "base_uri": "https://localhost:8080/",
          "height": 206
        },
        "id": "scvvvIM5SxQ2",
        "outputId": "d79f62d6-feab-4dfa-b006-253d28810254"
      },
      "source": [
        "df.head(3)"
      ],
      "execution_count": 5,
      "outputs": [
        {
          "output_type": "execute_result",
          "data": {
            "text/html": [
              "<div>\n",
              "<style scoped>\n",
              "    .dataframe tbody tr th:only-of-type {\n",
              "        vertical-align: middle;\n",
              "    }\n",
              "\n",
              "    .dataframe tbody tr th {\n",
              "        vertical-align: top;\n",
              "    }\n",
              "\n",
              "    .dataframe thead th {\n",
              "        text-align: right;\n",
              "    }\n",
              "</style>\n",
              "<table border=\"1\" class=\"dataframe\">\n",
              "  <thead>\n",
              "    <tr style=\"text-align: right;\">\n",
              "      <th></th>\n",
              "      <th>class</th>\n",
              "      <th>cap-shape</th>\n",
              "      <th>cap-surface</th>\n",
              "      <th>cap-color</th>\n",
              "      <th>bruises</th>\n",
              "      <th>odor</th>\n",
              "      <th>gill-attachment</th>\n",
              "      <th>gill-spacing</th>\n",
              "      <th>gill-size</th>\n",
              "      <th>gill-color</th>\n",
              "      <th>stalk-shape</th>\n",
              "      <th>stalk-root</th>\n",
              "      <th>stalk-surface-above-ring</th>\n",
              "      <th>stalk-surface-below-ring</th>\n",
              "      <th>stalk-color-above-ring</th>\n",
              "      <th>stalk-color-below-ring</th>\n",
              "      <th>veil-type</th>\n",
              "      <th>veil-color</th>\n",
              "      <th>ring-number</th>\n",
              "      <th>ring-type</th>\n",
              "      <th>spore-print-color</th>\n",
              "      <th>population</th>\n",
              "      <th>habitat</th>\n",
              "    </tr>\n",
              "  </thead>\n",
              "  <tbody>\n",
              "    <tr>\n",
              "      <th>0</th>\n",
              "      <td>1</td>\n",
              "      <td>5</td>\n",
              "      <td>2</td>\n",
              "      <td>4</td>\n",
              "      <td>1</td>\n",
              "      <td>6</td>\n",
              "      <td>1</td>\n",
              "      <td>0</td>\n",
              "      <td>1</td>\n",
              "      <td>4</td>\n",
              "      <td>0</td>\n",
              "      <td>3</td>\n",
              "      <td>2</td>\n",
              "      <td>2</td>\n",
              "      <td>7</td>\n",
              "      <td>7</td>\n",
              "      <td>0</td>\n",
              "      <td>2</td>\n",
              "      <td>1</td>\n",
              "      <td>4</td>\n",
              "      <td>2</td>\n",
              "      <td>3</td>\n",
              "      <td>5</td>\n",
              "    </tr>\n",
              "    <tr>\n",
              "      <th>1</th>\n",
              "      <td>0</td>\n",
              "      <td>5</td>\n",
              "      <td>2</td>\n",
              "      <td>9</td>\n",
              "      <td>1</td>\n",
              "      <td>0</td>\n",
              "      <td>1</td>\n",
              "      <td>0</td>\n",
              "      <td>0</td>\n",
              "      <td>4</td>\n",
              "      <td>0</td>\n",
              "      <td>2</td>\n",
              "      <td>2</td>\n",
              "      <td>2</td>\n",
              "      <td>7</td>\n",
              "      <td>7</td>\n",
              "      <td>0</td>\n",
              "      <td>2</td>\n",
              "      <td>1</td>\n",
              "      <td>4</td>\n",
              "      <td>3</td>\n",
              "      <td>2</td>\n",
              "      <td>1</td>\n",
              "    </tr>\n",
              "    <tr>\n",
              "      <th>2</th>\n",
              "      <td>0</td>\n",
              "      <td>0</td>\n",
              "      <td>2</td>\n",
              "      <td>8</td>\n",
              "      <td>1</td>\n",
              "      <td>3</td>\n",
              "      <td>1</td>\n",
              "      <td>0</td>\n",
              "      <td>0</td>\n",
              "      <td>5</td>\n",
              "      <td>0</td>\n",
              "      <td>2</td>\n",
              "      <td>2</td>\n",
              "      <td>2</td>\n",
              "      <td>7</td>\n",
              "      <td>7</td>\n",
              "      <td>0</td>\n",
              "      <td>2</td>\n",
              "      <td>1</td>\n",
              "      <td>4</td>\n",
              "      <td>3</td>\n",
              "      <td>2</td>\n",
              "      <td>3</td>\n",
              "    </tr>\n",
              "  </tbody>\n",
              "</table>\n",
              "</div>"
            ],
            "text/plain": [
              "   class  cap-shape  cap-surface  ...  spore-print-color  population  habitat\n",
              "0      1          5            2  ...                  2           3        5\n",
              "1      0          5            2  ...                  3           2        1\n",
              "2      0          0            2  ...                  3           2        3\n",
              "\n",
              "[3 rows x 23 columns]"
            ]
          },
          "metadata": {
            "tags": []
          },
          "execution_count": 5
        }
      ]
    },
    {
      "cell_type": "code",
      "metadata": {
        "colab": {
          "base_uri": "https://localhost:8080/"
        },
        "id": "i1Q2QEwxeuRj",
        "outputId": "f00b1685-28f1-44fa-ca97-25103ca3c174"
      },
      "source": [
        "df.isnull().sum()"
      ],
      "execution_count": 6,
      "outputs": [
        {
          "output_type": "execute_result",
          "data": {
            "text/plain": [
              "class                       0\n",
              "cap-shape                   0\n",
              "cap-surface                 0\n",
              "cap-color                   0\n",
              "bruises                     0\n",
              "odor                        0\n",
              "gill-attachment             0\n",
              "gill-spacing                0\n",
              "gill-size                   0\n",
              "gill-color                  0\n",
              "stalk-shape                 0\n",
              "stalk-root                  0\n",
              "stalk-surface-above-ring    0\n",
              "stalk-surface-below-ring    0\n",
              "stalk-color-above-ring      0\n",
              "stalk-color-below-ring      0\n",
              "veil-type                   0\n",
              "veil-color                  0\n",
              "ring-number                 0\n",
              "ring-type                   0\n",
              "spore-print-color           0\n",
              "population                  0\n",
              "habitat                     0\n",
              "dtype: int64"
            ]
          },
          "metadata": {
            "tags": []
          },
          "execution_count": 6
        }
      ]
    },
    {
      "cell_type": "markdown",
      "metadata": {
        "id": "HDkcbyGge2uf"
      },
      "source": [
        "No any Null value is present."
      ]
    },
    {
      "cell_type": "code",
      "metadata": {
        "colab": {
          "base_uri": "https://localhost:8080/"
        },
        "id": "PMQgDTGde64R",
        "outputId": "9ded389f-3c17-4ddd-f981-1cb8ff3129fe"
      },
      "source": [
        "df.info()"
      ],
      "execution_count": 7,
      "outputs": [
        {
          "output_type": "stream",
          "text": [
            "<class 'pandas.core.frame.DataFrame'>\n",
            "RangeIndex: 8124 entries, 0 to 8123\n",
            "Data columns (total 23 columns):\n",
            " #   Column                    Non-Null Count  Dtype\n",
            "---  ------                    --------------  -----\n",
            " 0   class                     8124 non-null   int64\n",
            " 1   cap-shape                 8124 non-null   int64\n",
            " 2   cap-surface               8124 non-null   int64\n",
            " 3   cap-color                 8124 non-null   int64\n",
            " 4   bruises                   8124 non-null   int64\n",
            " 5   odor                      8124 non-null   int64\n",
            " 6   gill-attachment           8124 non-null   int64\n",
            " 7   gill-spacing              8124 non-null   int64\n",
            " 8   gill-size                 8124 non-null   int64\n",
            " 9   gill-color                8124 non-null   int64\n",
            " 10  stalk-shape               8124 non-null   int64\n",
            " 11  stalk-root                8124 non-null   int64\n",
            " 12  stalk-surface-above-ring  8124 non-null   int64\n",
            " 13  stalk-surface-below-ring  8124 non-null   int64\n",
            " 14  stalk-color-above-ring    8124 non-null   int64\n",
            " 15  stalk-color-below-ring    8124 non-null   int64\n",
            " 16  veil-type                 8124 non-null   int64\n",
            " 17  veil-color                8124 non-null   int64\n",
            " 18  ring-number               8124 non-null   int64\n",
            " 19  ring-type                 8124 non-null   int64\n",
            " 20  spore-print-color         8124 non-null   int64\n",
            " 21  population                8124 non-null   int64\n",
            " 22  habitat                   8124 non-null   int64\n",
            "dtypes: int64(23)\n",
            "memory usage: 1.4 MB\n"
          ],
          "name": "stdout"
        }
      ]
    },
    {
      "cell_type": "code",
      "metadata": {
        "colab": {
          "base_uri": "https://localhost:8080/",
          "height": 338
        },
        "id": "OJeRQwpCSzvy",
        "outputId": "733e82a0-1a94-4331-8a4e-b8981b628c81"
      },
      "source": [
        "df.describe()"
      ],
      "execution_count": 8,
      "outputs": [
        {
          "output_type": "execute_result",
          "data": {
            "text/html": [
              "<div>\n",
              "<style scoped>\n",
              "    .dataframe tbody tr th:only-of-type {\n",
              "        vertical-align: middle;\n",
              "    }\n",
              "\n",
              "    .dataframe tbody tr th {\n",
              "        vertical-align: top;\n",
              "    }\n",
              "\n",
              "    .dataframe thead th {\n",
              "        text-align: right;\n",
              "    }\n",
              "</style>\n",
              "<table border=\"1\" class=\"dataframe\">\n",
              "  <thead>\n",
              "    <tr style=\"text-align: right;\">\n",
              "      <th></th>\n",
              "      <th>class</th>\n",
              "      <th>cap-shape</th>\n",
              "      <th>cap-surface</th>\n",
              "      <th>cap-color</th>\n",
              "      <th>bruises</th>\n",
              "      <th>odor</th>\n",
              "      <th>gill-attachment</th>\n",
              "      <th>gill-spacing</th>\n",
              "      <th>gill-size</th>\n",
              "      <th>gill-color</th>\n",
              "      <th>stalk-shape</th>\n",
              "      <th>stalk-root</th>\n",
              "      <th>stalk-surface-above-ring</th>\n",
              "      <th>stalk-surface-below-ring</th>\n",
              "      <th>stalk-color-above-ring</th>\n",
              "      <th>stalk-color-below-ring</th>\n",
              "      <th>veil-type</th>\n",
              "      <th>veil-color</th>\n",
              "      <th>ring-number</th>\n",
              "      <th>ring-type</th>\n",
              "      <th>spore-print-color</th>\n",
              "      <th>population</th>\n",
              "      <th>habitat</th>\n",
              "    </tr>\n",
              "  </thead>\n",
              "  <tbody>\n",
              "    <tr>\n",
              "      <th>count</th>\n",
              "      <td>8124.000000</td>\n",
              "      <td>8124.000000</td>\n",
              "      <td>8124.000000</td>\n",
              "      <td>8124.000000</td>\n",
              "      <td>8124.000000</td>\n",
              "      <td>8124.000000</td>\n",
              "      <td>8124.000000</td>\n",
              "      <td>8124.000000</td>\n",
              "      <td>8124.000000</td>\n",
              "      <td>8124.000000</td>\n",
              "      <td>8124.000000</td>\n",
              "      <td>8124.000000</td>\n",
              "      <td>8124.000000</td>\n",
              "      <td>8124.000000</td>\n",
              "      <td>8124.000000</td>\n",
              "      <td>8124.000000</td>\n",
              "      <td>8124.0</td>\n",
              "      <td>8124.000000</td>\n",
              "      <td>8124.000000</td>\n",
              "      <td>8124.000000</td>\n",
              "      <td>8124.000000</td>\n",
              "      <td>8124.000000</td>\n",
              "      <td>8124.000000</td>\n",
              "    </tr>\n",
              "    <tr>\n",
              "      <th>mean</th>\n",
              "      <td>0.482029</td>\n",
              "      <td>3.348104</td>\n",
              "      <td>1.827671</td>\n",
              "      <td>4.504677</td>\n",
              "      <td>0.415559</td>\n",
              "      <td>4.144756</td>\n",
              "      <td>0.974151</td>\n",
              "      <td>0.161497</td>\n",
              "      <td>0.309207</td>\n",
              "      <td>4.810684</td>\n",
              "      <td>0.567208</td>\n",
              "      <td>1.109798</td>\n",
              "      <td>1.575086</td>\n",
              "      <td>1.603644</td>\n",
              "      <td>5.816347</td>\n",
              "      <td>5.794682</td>\n",
              "      <td>0.0</td>\n",
              "      <td>1.965534</td>\n",
              "      <td>1.069424</td>\n",
              "      <td>2.291974</td>\n",
              "      <td>3.596750</td>\n",
              "      <td>3.644018</td>\n",
              "      <td>1.508616</td>\n",
              "    </tr>\n",
              "    <tr>\n",
              "      <th>std</th>\n",
              "      <td>0.499708</td>\n",
              "      <td>1.604329</td>\n",
              "      <td>1.229873</td>\n",
              "      <td>2.545821</td>\n",
              "      <td>0.492848</td>\n",
              "      <td>2.103729</td>\n",
              "      <td>0.158695</td>\n",
              "      <td>0.368011</td>\n",
              "      <td>0.462195</td>\n",
              "      <td>3.540359</td>\n",
              "      <td>0.495493</td>\n",
              "      <td>1.061106</td>\n",
              "      <td>0.621459</td>\n",
              "      <td>0.675974</td>\n",
              "      <td>1.901747</td>\n",
              "      <td>1.907291</td>\n",
              "      <td>0.0</td>\n",
              "      <td>0.242669</td>\n",
              "      <td>0.271064</td>\n",
              "      <td>1.801672</td>\n",
              "      <td>2.382663</td>\n",
              "      <td>1.252082</td>\n",
              "      <td>1.719975</td>\n",
              "    </tr>\n",
              "    <tr>\n",
              "      <th>min</th>\n",
              "      <td>0.000000</td>\n",
              "      <td>0.000000</td>\n",
              "      <td>0.000000</td>\n",
              "      <td>0.000000</td>\n",
              "      <td>0.000000</td>\n",
              "      <td>0.000000</td>\n",
              "      <td>0.000000</td>\n",
              "      <td>0.000000</td>\n",
              "      <td>0.000000</td>\n",
              "      <td>0.000000</td>\n",
              "      <td>0.000000</td>\n",
              "      <td>0.000000</td>\n",
              "      <td>0.000000</td>\n",
              "      <td>0.000000</td>\n",
              "      <td>0.000000</td>\n",
              "      <td>0.000000</td>\n",
              "      <td>0.0</td>\n",
              "      <td>0.000000</td>\n",
              "      <td>0.000000</td>\n",
              "      <td>0.000000</td>\n",
              "      <td>0.000000</td>\n",
              "      <td>0.000000</td>\n",
              "      <td>0.000000</td>\n",
              "    </tr>\n",
              "    <tr>\n",
              "      <th>25%</th>\n",
              "      <td>0.000000</td>\n",
              "      <td>2.000000</td>\n",
              "      <td>0.000000</td>\n",
              "      <td>3.000000</td>\n",
              "      <td>0.000000</td>\n",
              "      <td>2.000000</td>\n",
              "      <td>1.000000</td>\n",
              "      <td>0.000000</td>\n",
              "      <td>0.000000</td>\n",
              "      <td>2.000000</td>\n",
              "      <td>0.000000</td>\n",
              "      <td>0.000000</td>\n",
              "      <td>1.000000</td>\n",
              "      <td>1.000000</td>\n",
              "      <td>6.000000</td>\n",
              "      <td>6.000000</td>\n",
              "      <td>0.0</td>\n",
              "      <td>2.000000</td>\n",
              "      <td>1.000000</td>\n",
              "      <td>0.000000</td>\n",
              "      <td>2.000000</td>\n",
              "      <td>3.000000</td>\n",
              "      <td>0.000000</td>\n",
              "    </tr>\n",
              "    <tr>\n",
              "      <th>50%</th>\n",
              "      <td>0.000000</td>\n",
              "      <td>3.000000</td>\n",
              "      <td>2.000000</td>\n",
              "      <td>4.000000</td>\n",
              "      <td>0.000000</td>\n",
              "      <td>5.000000</td>\n",
              "      <td>1.000000</td>\n",
              "      <td>0.000000</td>\n",
              "      <td>0.000000</td>\n",
              "      <td>5.000000</td>\n",
              "      <td>1.000000</td>\n",
              "      <td>1.000000</td>\n",
              "      <td>2.000000</td>\n",
              "      <td>2.000000</td>\n",
              "      <td>7.000000</td>\n",
              "      <td>7.000000</td>\n",
              "      <td>0.0</td>\n",
              "      <td>2.000000</td>\n",
              "      <td>1.000000</td>\n",
              "      <td>2.000000</td>\n",
              "      <td>3.000000</td>\n",
              "      <td>4.000000</td>\n",
              "      <td>1.000000</td>\n",
              "    </tr>\n",
              "    <tr>\n",
              "      <th>75%</th>\n",
              "      <td>1.000000</td>\n",
              "      <td>5.000000</td>\n",
              "      <td>3.000000</td>\n",
              "      <td>8.000000</td>\n",
              "      <td>1.000000</td>\n",
              "      <td>5.000000</td>\n",
              "      <td>1.000000</td>\n",
              "      <td>0.000000</td>\n",
              "      <td>1.000000</td>\n",
              "      <td>7.000000</td>\n",
              "      <td>1.000000</td>\n",
              "      <td>1.000000</td>\n",
              "      <td>2.000000</td>\n",
              "      <td>2.000000</td>\n",
              "      <td>7.000000</td>\n",
              "      <td>7.000000</td>\n",
              "      <td>0.0</td>\n",
              "      <td>2.000000</td>\n",
              "      <td>1.000000</td>\n",
              "      <td>4.000000</td>\n",
              "      <td>7.000000</td>\n",
              "      <td>4.000000</td>\n",
              "      <td>2.000000</td>\n",
              "    </tr>\n",
              "    <tr>\n",
              "      <th>max</th>\n",
              "      <td>1.000000</td>\n",
              "      <td>5.000000</td>\n",
              "      <td>3.000000</td>\n",
              "      <td>9.000000</td>\n",
              "      <td>1.000000</td>\n",
              "      <td>8.000000</td>\n",
              "      <td>1.000000</td>\n",
              "      <td>1.000000</td>\n",
              "      <td>1.000000</td>\n",
              "      <td>11.000000</td>\n",
              "      <td>1.000000</td>\n",
              "      <td>4.000000</td>\n",
              "      <td>3.000000</td>\n",
              "      <td>3.000000</td>\n",
              "      <td>8.000000</td>\n",
              "      <td>8.000000</td>\n",
              "      <td>0.0</td>\n",
              "      <td>3.000000</td>\n",
              "      <td>2.000000</td>\n",
              "      <td>4.000000</td>\n",
              "      <td>8.000000</td>\n",
              "      <td>5.000000</td>\n",
              "      <td>6.000000</td>\n",
              "    </tr>\n",
              "  </tbody>\n",
              "</table>\n",
              "</div>"
            ],
            "text/plain": [
              "             class    cap-shape  ...   population      habitat\n",
              "count  8124.000000  8124.000000  ...  8124.000000  8124.000000\n",
              "mean      0.482029     3.348104  ...     3.644018     1.508616\n",
              "std       0.499708     1.604329  ...     1.252082     1.719975\n",
              "min       0.000000     0.000000  ...     0.000000     0.000000\n",
              "25%       0.000000     2.000000  ...     3.000000     0.000000\n",
              "50%       0.000000     3.000000  ...     4.000000     1.000000\n",
              "75%       1.000000     5.000000  ...     4.000000     2.000000\n",
              "max       1.000000     5.000000  ...     5.000000     6.000000\n",
              "\n",
              "[8 rows x 23 columns]"
            ]
          },
          "metadata": {
            "tags": []
          },
          "execution_count": 8
        }
      ]
    },
    {
      "cell_type": "code",
      "metadata": {
        "id": "3CXZXVzDUA1D"
      },
      "source": [
        ""
      ],
      "execution_count": 8,
      "outputs": []
    },
    {
      "cell_type": "markdown",
      "metadata": {
        "id": "lD2EFCMsUQ1h"
      },
      "source": [
        "From the table above it can be seen that the column \"veil-type\" is 0 and not contributing to the data so I remove it."
      ]
    },
    {
      "cell_type": "code",
      "metadata": {
        "id": "IGkK9WnSTR-i"
      },
      "source": [
        "df=df.drop([\"veil-type\"],axis=1)"
      ],
      "execution_count": 9,
      "outputs": []
    },
    {
      "cell_type": "code",
      "metadata": {
        "id": "Q5DYwzQGTmY6"
      },
      "source": [
        ""
      ],
      "execution_count": 9,
      "outputs": []
    },
    {
      "cell_type": "code",
      "metadata": {
        "colab": {
          "base_uri": "https://localhost:8080/",
          "height": 350
        },
        "id": "gcTzLsQCVJJy",
        "outputId": "54d689d7-d9cc-4e05-8ee3-42843c9718b4"
      },
      "source": [
        "sns.countplot(df['class'])"
      ],
      "execution_count": 10,
      "outputs": [
        {
          "output_type": "stream",
          "text": [
            "/usr/local/lib/python3.7/dist-packages/seaborn/_decorators.py:43: FutureWarning: Pass the following variable as a keyword arg: x. From version 0.12, the only valid positional argument will be `data`, and passing other arguments without an explicit keyword will result in an error or misinterpretation.\n",
            "  FutureWarning\n"
          ],
          "name": "stderr"
        },
        {
          "output_type": "execute_result",
          "data": {
            "text/plain": [
              "<matplotlib.axes._subplots.AxesSubplot at 0x7ff9a2bc3c10>"
            ]
          },
          "metadata": {
            "tags": []
          },
          "execution_count": 10
        },
        {
          "output_type": "display_data",
          "data": {
            "image/png": "[encoded data removed]",
            "text/plain": [
              "<Figure size 432x288 with 1 Axes>"
            ]
          },
          "metadata": {
            "tags": [],
            "needs_background": "light"
          }
        }
      ]
    },
    {
      "cell_type": "code",
      "metadata": {
        "id": "4KeYXEhKVlej"
      },
      "source": [
        ""
      ],
      "execution_count": 10,
      "outputs": []
    },
    {
      "cell_type": "markdown",
      "metadata": {
        "id": "V3gaS29lVtGq"
      },
      "source": [
        "The dataset is balanced"
      ]
    },
    {
      "cell_type": "code",
      "metadata": {
        "colab": {
          "base_uri": "https://localhost:8080/",
          "height": 616
        },
        "id": "m4Wg0ja8Vw1K",
        "outputId": "5423b097-1ea6-4a24-e163-6d3bf884788f"
      },
      "source": [
        "import matplotlib.pyplot as plt\n",
        "plt.figure(figsize=(15,8))\n",
        "sns.heatmap(df.corr(),annot=True)"
      ],
      "execution_count": 11,
      "outputs": [
        {
          "output_type": "execute_result",
          "data": {
            "text/plain": [
              "<matplotlib.axes._subplots.AxesSubplot at 0x7ff9a2b6b310>"
            ]
          },
          "metadata": {
            "tags": []
          },
          "execution_count": 11
        },
        {
          "output_type": "display_data",
          "data": {
            "image/png": "[encoded data removed]",
            "text/plain": [
              "<Figure size 1080x576 with 2 Axes>"
            ]
          },
          "metadata": {
            "tags": [],
            "needs_background": "light"
          }
        }
      ]
    },
    {
      "cell_type": "code",
      "metadata": {
        "id": "dkgXcYXkV3z6"
      },
      "source": [
        ""
      ],
      "execution_count": 11,
      "outputs": []
    },
    {
      "cell_type": "markdown",
      "metadata": {
        "id": "Z46lxfBPWtM_"
      },
      "source": [
        "Usually the least correlating variable is the most important one for classification. In this case, \"gill-color\" has -0.53 so let's look at it closely:"
      ]
    },
    {
      "cell_type": "code",
      "metadata": {
        "colab": {
          "base_uri": "https://localhost:8080/",
          "height": 402
        },
        "id": "rOPtrZGaWuMh",
        "outputId": "681812a9-7ebd-4c13-9f63-573445e2057a"
      },
      "source": [
        "df[['class', 'gill-color']].groupby(['gill-color'], as_index=False).mean().sort_values(by='class', ascending=False)"
      ],
      "execution_count": 12,
      "outputs": [
        {
          "output_type": "execute_result",
          "data": {
            "text/html": [
              "<div>\n",
              "<style scoped>\n",
              "    .dataframe tbody tr th:only-of-type {\n",
              "        vertical-align: middle;\n",
              "    }\n",
              "\n",
              "    .dataframe tbody tr th {\n",
              "        vertical-align: top;\n",
              "    }\n",
              "\n",
              "    .dataframe thead th {\n",
              "        text-align: right;\n",
              "    }\n",
              "</style>\n",
              "<table border=\"1\" class=\"dataframe\">\n",
              "  <thead>\n",
              "    <tr style=\"text-align: right;\">\n",
              "      <th></th>\n",
              "      <th>gill-color</th>\n",
              "      <th>class</th>\n",
              "    </tr>\n",
              "  </thead>\n",
              "  <tbody>\n",
              "    <tr>\n",
              "      <th>0</th>\n",
              "      <td>0</td>\n",
              "      <td>1.000000</td>\n",
              "    </tr>\n",
              "    <tr>\n",
              "      <th>8</th>\n",
              "      <td>8</td>\n",
              "      <td>1.000000</td>\n",
              "    </tr>\n",
              "    <tr>\n",
              "      <th>3</th>\n",
              "      <td>3</td>\n",
              "      <td>0.721311</td>\n",
              "    </tr>\n",
              "    <tr>\n",
              "      <th>2</th>\n",
              "      <td>2</td>\n",
              "      <td>0.670213</td>\n",
              "    </tr>\n",
              "    <tr>\n",
              "      <th>7</th>\n",
              "      <td>7</td>\n",
              "      <td>0.428954</td>\n",
              "    </tr>\n",
              "    <tr>\n",
              "      <th>11</th>\n",
              "      <td>11</td>\n",
              "      <td>0.255814</td>\n",
              "    </tr>\n",
              "    <tr>\n",
              "      <th>10</th>\n",
              "      <td>10</td>\n",
              "      <td>0.204659</td>\n",
              "    </tr>\n",
              "    <tr>\n",
              "      <th>4</th>\n",
              "      <td>4</td>\n",
              "      <td>0.156863</td>\n",
              "    </tr>\n",
              "    <tr>\n",
              "      <th>5</th>\n",
              "      <td>5</td>\n",
              "      <td>0.106870</td>\n",
              "    </tr>\n",
              "    <tr>\n",
              "      <th>9</th>\n",
              "      <td>9</td>\n",
              "      <td>0.097561</td>\n",
              "    </tr>\n",
              "    <tr>\n",
              "      <th>1</th>\n",
              "      <td>1</td>\n",
              "      <td>0.000000</td>\n",
              "    </tr>\n",
              "    <tr>\n",
              "      <th>6</th>\n",
              "      <td>6</td>\n",
              "      <td>0.000000</td>\n",
              "    </tr>\n",
              "  </tbody>\n",
              "</table>\n",
              "</div>"
            ],
            "text/plain": [
              "    gill-color     class\n",
              "0            0  1.000000\n",
              "8            8  1.000000\n",
              "3            3  0.721311\n",
              "2            2  0.670213\n",
              "7            7  0.428954\n",
              "11          11  0.255814\n",
              "10          10  0.204659\n",
              "4            4  0.156863\n",
              "5            5  0.106870\n",
              "9            9  0.097561\n",
              "1            1  0.000000\n",
              "6            6  0.000000"
            ]
          },
          "metadata": {
            "tags": []
          },
          "execution_count": 12
        }
      ]
    },
    {
      "cell_type": "code",
      "metadata": {
        "id": "4A6SOq36W0bS"
      },
      "source": [
        ""
      ],
      "execution_count": 12,
      "outputs": []
    },
    {
      "cell_type": "markdown",
      "metadata": {
        "id": "Fj1cDk9bW5Ld"
      },
      "source": [
        "Lets look closely at the feature \"gill-color\" :"
      ]
    },
    {
      "cell_type": "code",
      "metadata": {
        "colab": {
          "base_uri": "https://localhost:8080/",
          "height": 324
        },
        "id": "9UyIZdE5W54M",
        "outputId": "e6630b2f-cc84-4062-f8a3-da33bca7dd34"
      },
      "source": [
        "new_var=df[['class', 'gill-color']]\n",
        "new_var=new_var[new_var['gill-color']<=3.5]\n",
        "sns.factorplot('class', col='gill-color', data=new_var, kind='count', size=2.5, aspect=.8, col_wrap=4);"
      ],
      "execution_count": 13,
      "outputs": [
        {
          "output_type": "stream",
          "text": [
            "/usr/local/lib/python3.7/dist-packages/seaborn/categorical.py:3714: UserWarning: The `factorplot` function has been renamed to `catplot`. The original name will be removed in a future release. Please update your code. Note that the default `kind` in `factorplot` (`'point'`) has changed `'strip'` in `catplot`.\n",
            "  warnings.warn(msg)\n",
            "/usr/local/lib/python3.7/dist-packages/seaborn/categorical.py:3720: UserWarning: The `size` parameter has been renamed to `height`; please update your code.\n",
            "  warnings.warn(msg, UserWarning)\n",
            "/usr/local/lib/python3.7/dist-packages/seaborn/_decorators.py:43: FutureWarning: Pass the following variable as a keyword arg: x. From version 0.12, the only valid positional argument will be `data`, and passing other arguments without an explicit keyword will result in an error or misinterpretation.\n",
            "  FutureWarning\n"
          ],
          "name": "stderr"
        },
        {
          "output_type": "display_data",
          "data": {
            "image/png": "[encoded data removed]",
            "text/plain": [
              "<Figure size 576x180 with 4 Axes>"
            ]
          },
          "metadata": {
            "tags": [],
            "needs_background": "light"
          }
        }
      ]
    },
    {
      "cell_type": "code",
      "metadata": {
        "colab": {
          "base_uri": "https://localhost:8080/",
          "height": 504
        },
        "id": "t42l_eGnXEJL",
        "outputId": "e3bf8d02-4e1a-4b9b-c9ee-3b0302b0cfde"
      },
      "source": [
        "new_var=df[['class', 'gill-color']]\n",
        "new_var=new_var[new_var['gill-color']>3.5]\n",
        "\n",
        "sns.factorplot('class', col='gill-color', data=new_var, kind='count', size=2.5, aspect=.8, col_wrap=4);"
      ],
      "execution_count": 14,
      "outputs": [
        {
          "output_type": "stream",
          "text": [
            "/usr/local/lib/python3.7/dist-packages/seaborn/categorical.py:3714: UserWarning: The `factorplot` function has been renamed to `catplot`. The original name will be removed in a future release. Please update your code. Note that the default `kind` in `factorplot` (`'point'`) has changed `'strip'` in `catplot`.\n",
            "  warnings.warn(msg)\n",
            "/usr/local/lib/python3.7/dist-packages/seaborn/categorical.py:3720: UserWarning: The `size` parameter has been renamed to `height`; please update your code.\n",
            "  warnings.warn(msg, UserWarning)\n",
            "/usr/local/lib/python3.7/dist-packages/seaborn/_decorators.py:43: FutureWarning: Pass the following variable as a keyword arg: x. From version 0.12, the only valid positional argument will be `data`, and passing other arguments without an explicit keyword will result in an error or misinterpretation.\n",
            "  FutureWarning\n"
          ],
          "name": "stderr"
        },
        {
          "output_type": "display_data",
          "data": {
            "image/png": "[encoded data removed]",
            "text/plain": [
              "<Figure size 576x360 with 8 Axes>"
            ]
          },
          "metadata": {
            "tags": [],
            "needs_background": "light"
          }
        }
      ]
    },
    {
      "cell_type": "code",
      "metadata": {
        "id": "zCwHA9YXXVsi"
      },
      "source": [
        "df_x=df.drop(['class'], axis=1)\n",
        "y=df['class']"
      ],
      "execution_count": 15,
      "outputs": []
    },
    {
      "cell_type": "code",
      "metadata": {
        "id": "mRCx4C23Ypdv"
      },
      "source": [
        "\n",
        "#Lets bring input dataset features to same scale\n",
        "from sklearn.preprocessing import StandardScaler\n",
        "sc=StandardScaler()\n",
        "sc.fit(df_x)\n",
        "x=sc.transform(df_x)\n",
        "x=pd.DataFrame(x,columns=df_x.columns)"
      ],
      "execution_count": 16,
      "outputs": []
    },
    {
      "cell_type": "code",
      "metadata": {
        "id": "EZD2mM3CXbR5"
      },
      "source": [
        "#We will use f1 score as the metrics as it is balanced dataset problem\n",
        "#Maximum f1 score in between random states 42 to 100\n",
        "from sklearn.metrics import f1_score\n",
        "from sklearn.model_selection import train_test_split\n",
        "def maxf1_score(clf,df_x,y):\n",
        "    maxf=0\n",
        "    rs=0\n",
        "    for r_state in range(42,100):\n",
        "        x_train,x_test,y_train,y_test=train_test_split(df_x, y,random_state = r_state,test_size=0.20,stratify=y)\n",
        "        clf.fit(x_train,y_train)\n",
        "        y_pred=clf.predict(x_test)\n",
        "        tmp=f1_score(y_test,y_pred)\n",
        "        print(\"random state :\",r_state,\" and f1 score: \",tmp)\n",
        "        if tmp>maxf:\n",
        "            maxf=tmp\n",
        "            rs=r_state\n",
        "    print(\"maximum f1_score is at random state :\",rs,\" and it is :\",maxf)"
      ],
      "execution_count": 17,
      "outputs": []
    },
    {
      "cell_type": "code",
      "metadata": {
        "colab": {
          "base_uri": "https://localhost:8080/"
        },
        "id": "XJ36SQYTZOUi",
        "outputId": "44890c69-de7c-4d00-eb84-723b405a7fed"
      },
      "source": [
        "#lets use logistic regression\n",
        "from sklearn.linear_model import LogisticRegression\n",
        "import warnings\n",
        "warnings.filterwarnings(\"ignore\")\n",
        "lg_clf=LogisticRegression()\n",
        "maxf1_score(lg_clf,x,y)"
      ],
      "execution_count": 18,
      "outputs": [
        {
          "output_type": "stream",
          "text": [
            "random state : 42  and f1 score:  0.9610223642172523\n",
            "random state : 43  and f1 score:  0.949238578680203\n",
            "random state : 44  and f1 score:  0.9543408360128617\n",
            "random state : 45  and f1 score:  0.9504823151125401\n",
            "random state : 46  and f1 score:  0.9534141671984684\n",
            "random state : 47  and f1 score:  0.9616858237547893\n",
            "random state : 48  and f1 score:  0.9601542416452441\n",
            "random state : 49  and f1 score:  0.9498714652956298\n",
            "random state : 50  and f1 score:  0.9598470363288718\n",
            "random state : 51  and f1 score:  0.9567979669631512\n",
            "random state : 52  and f1 score:  0.942912123155869\n",
            "random state : 53  and f1 score:  0.9509241555130656\n",
            "random state : 54  and f1 score:  0.9557975656630366\n",
            "random state : 55  and f1 score:  0.9573643410852712\n",
            "random state : 56  and f1 score:  0.9574062301335029\n",
            "random state : 57  and f1 score:  0.9497422680412372\n",
            "random state : 58  and f1 score:  0.9626769626769627\n",
            "random state : 59  and f1 score:  0.960559796437659\n",
            "random state : 60  and f1 score:  0.9495472186287193\n",
            "random state : 61  and f1 score:  0.9621552277100706\n",
            "random state : 62  and f1 score:  0.9585723390694709\n",
            "random state : 63  and f1 score:  0.9593810444874274\n",
            "random state : 64  and f1 score:  0.9464285714285715\n",
            "random state : 65  and f1 score:  0.9524421593830334\n",
            "random state : 66  and f1 score:  0.9541984732824428\n",
            "random state : 67  and f1 score:  0.9586250795671547\n",
            "random state : 68  and f1 score:  0.9590268886043535\n",
            "random state : 69  and f1 score:  0.9529942047649711\n",
            "random state : 70  and f1 score:  0.9531751122514432\n",
            "random state : 71  and f1 score:  0.9475032010243277\n",
            "random state : 72  and f1 score:  0.9561904761904763\n",
            "random state : 73  and f1 score:  0.9590268886043535\n",
            "random state : 74  and f1 score:  0.9543408360128617\n",
            "random state : 75  and f1 score:  0.9499358151476253\n",
            "random state : 76  and f1 score:  0.9509043927648578\n",
            "random state : 77  and f1 score:  0.9587301587301588\n",
            "random state : 78  and f1 score:  0.9506093649775497\n",
            "random state : 79  and f1 score:  0.9575142675967026\n",
            "random state : 80  and f1 score:  0.9550706033376124\n",
            "random state : 81  and f1 score:  0.9504563233376792\n",
            "random state : 82  and f1 score:  0.9542820347714103\n",
            "random state : 83  and f1 score:  0.9622520793346129\n",
            "random state : 84  and f1 score:  0.961220597584234\n",
            "random state : 85  and f1 score:  0.9575289575289575\n",
            "random state : 86  and f1 score:  0.958656330749354\n",
            "random state : 87  and f1 score:  0.9506093649775497\n",
            "random state : 88  and f1 score:  0.9506093649775497\n",
            "random state : 89  and f1 score:  0.9483204134366925\n",
            "random state : 90  and f1 score:  0.9534883720930232\n",
            "random state : 91  and f1 score:  0.9518377693282636\n",
            "random state : 92  and f1 score:  0.9522597071928708\n",
            "random state : 93  and f1 score:  0.9601542416452441\n",
            "random state : 94  and f1 score:  0.9501278772378517\n",
            "random state : 95  and f1 score:  0.9407979407979408\n",
            "random state : 96  and f1 score:  0.9561904761904763\n",
            "random state : 97  and f1 score:  0.9489144316730523\n",
            "random state : 98  and f1 score:  0.9444089456869009\n",
            "random state : 99  and f1 score:  0.9496494582536648\n",
            "maximum f1_score is at random state : 58  and it is : 0.9626769626769627\n"
          ],
          "name": "stdout"
        }
      ]
    },
    {
      "cell_type": "code",
      "metadata": {
        "colab": {
          "base_uri": "https://localhost:8080/"
        },
        "id": "cEUik46uZSoL",
        "outputId": "d73d4751-9257-48ce-f883-dd43278f1b55"
      },
      "source": [
        "\n",
        "#Lets use cross_val_score and evaluate the logistic regression model\n",
        "from sklearn.model_selection import cross_val_score\n",
        "print(\"Mean f1 score for logistic classifier: \",cross_val_score(lg_clf,x,y,cv=5,scoring=\"f1\").mean())\n",
        "print(\"standard deviation in f1 score for logistic classifier: \",cross_val_score(lg_clf,x,y,cv=5,scoring=\"f1\").std())\n",
        "print(cross_val_score(lg_clf,x,y,cv=5,scoring=\"f1\"))"
      ],
      "execution_count": 19,
      "outputs": [
        {
          "output_type": "stream",
          "text": [
            "Mean f1 score for logistic classifier:  0.8328605473002251\n",
            "standard deviation in f1 score for logistic classifier:  0.1472458918177036\n",
            "[0.6260745  0.98146965 0.85190616 0.99808551 0.70676692]\n"
          ],
          "name": "stdout"
        }
      ]
    },
    {
      "cell_type": "code",
      "metadata": {
        "colab": {
          "base_uri": "https://localhost:8080/"
        },
        "id": "1o_DvxGgZ01L",
        "outputId": "a2b4600a-86e8-4010-df99-361348671fcd"
      },
      "source": [
        "#Lets use KNN\n",
        "#For KNN we need to know the best value of k using grid search\n",
        "from sklearn.model_selection import GridSearchCV\n",
        "from sklearn.neighbors import KNeighborsClassifier\n",
        "import warnings\n",
        "warnings.filterwarnings(\"ignore\")\n",
        "kc=KNeighborsClassifier()\n",
        "neighbors={\"n_neighbors\":range(1,30)}\n",
        "clf = GridSearchCV(kc, neighbors, cv=5,scoring=\"f1\")\n",
        "clf.fit(x,y)\n",
        "clf.best_params_"
      ],
      "execution_count": 20,
      "outputs": [
        {
          "output_type": "execute_result",
          "data": {
            "text/plain": [
              "{'n_neighbors': 2}"
            ]
          },
          "metadata": {
            "tags": []
          },
          "execution_count": 20
        }
      ]
    },
    {
      "cell_type": "code",
      "metadata": {
        "colab": {
          "base_uri": "https://localhost:8080/"
        },
        "id": "ZoUJWQUjaCiC",
        "outputId": "73b7a9e7-f7c3-44fd-cab9-b903384d143b"
      },
      "source": [
        "kc=KNeighborsClassifier(n_neighbors=2)\n",
        "maxf1_score(kc,x,y)"
      ],
      "execution_count": 21,
      "outputs": [
        {
          "output_type": "stream",
          "text": [
            "random state : 42  and f1 score:  1.0\n",
            "random state : 43  and f1 score:  1.0\n",
            "random state : 44  and f1 score:  1.0\n",
            "random state : 45  and f1 score:  1.0\n",
            "random state : 46  and f1 score:  1.0\n",
            "random state : 47  and f1 score:  1.0\n",
            "random state : 48  and f1 score:  1.0\n",
            "random state : 49  and f1 score:  1.0\n",
            "random state : 50  and f1 score:  1.0\n",
            "random state : 51  and f1 score:  1.0\n",
            "random state : 52  and f1 score:  1.0\n",
            "random state : 53  and f1 score:  0.9987212276214833\n",
            "random state : 54  and f1 score:  1.0\n",
            "random state : 55  and f1 score:  1.0\n",
            "random state : 56  and f1 score:  1.0\n",
            "random state : 57  and f1 score:  1.0\n",
            "random state : 58  and f1 score:  1.0\n",
            "random state : 59  and f1 score:  1.0\n",
            "random state : 60  and f1 score:  1.0\n",
            "random state : 61  and f1 score:  1.0\n",
            "random state : 62  and f1 score:  1.0\n",
            "random state : 63  and f1 score:  1.0\n",
            "random state : 64  and f1 score:  1.0\n",
            "random state : 65  and f1 score:  1.0\n",
            "random state : 66  and f1 score:  1.0\n",
            "random state : 67  and f1 score:  1.0\n",
            "random state : 68  and f1 score:  1.0\n",
            "random state : 69  and f1 score:  1.0\n",
            "random state : 70  and f1 score:  1.0\n",
            "random state : 71  and f1 score:  1.0\n",
            "random state : 72  and f1 score:  1.0\n",
            "random state : 73  and f1 score:  1.0\n",
            "random state : 74  and f1 score:  1.0\n",
            "random state : 75  and f1 score:  1.0\n",
            "random state : 76  and f1 score:  0.9993610223642173\n",
            "random state : 77  and f1 score:  1.0\n",
            "random state : 78  and f1 score:  1.0\n",
            "random state : 79  and f1 score:  1.0\n",
            "random state : 80  and f1 score:  1.0\n",
            "random state : 81  and f1 score:  1.0\n",
            "random state : 82  and f1 score:  1.0\n",
            "random state : 83  and f1 score:  1.0\n",
            "random state : 84  and f1 score:  1.0\n",
            "random state : 85  and f1 score:  0.9987212276214833\n",
            "random state : 86  and f1 score:  1.0\n",
            "random state : 87  and f1 score:  1.0\n",
            "random state : 88  and f1 score:  1.0\n",
            "random state : 89  and f1 score:  1.0\n",
            "random state : 90  and f1 score:  1.0\n",
            "random state : 91  and f1 score:  1.0\n",
            "random state : 92  and f1 score:  1.0\n",
            "random state : 93  and f1 score:  1.0\n",
            "random state : 94  and f1 score:  1.0\n",
            "random state : 95  and f1 score:  1.0\n",
            "random state : 96  and f1 score:  1.0\n",
            "random state : 97  and f1 score:  1.0\n",
            "random state : 98  and f1 score:  1.0\n",
            "random state : 99  and f1 score:  1.0\n",
            "maximum f1_score is at random state : 42  and it is : 1.0\n"
          ],
          "name": "stdout"
        }
      ]
    },
    {
      "cell_type": "code",
      "metadata": {
        "colab": {
          "base_uri": "https://localhost:8080/"
        },
        "id": "ELlPEA1oaRxz",
        "outputId": "4ffd7383-96fa-47b5-b92c-6d3d799b855d"
      },
      "source": [
        "#Lets use cross_val_score and evaluate the knn model\n",
        "from sklearn.model_selection import cross_val_score\n",
        "print(\"Mean f1 score for knn classifier: \",cross_val_score(kc,x,y,cv=5,scoring=\"f1\").mean())\n",
        "print(\"standard deviation in f1 score for knn classifier: \",cross_val_score(kc,x,y,cv=5,scoring=\"f1\").std())\n",
        "print(cross_val_score(kc,x,y,cv=5,scoring=\"f1\"))"
      ],
      "execution_count": 22,
      "outputs": [
        {
          "output_type": "stream",
          "text": [
            "Mean f1 score for knn classifier:  0.909718652692284\n",
            "standard deviation in f1 score for knn classifier:  0.0921937110685453\n",
            "[0.80487805 1.         0.95040214 1.         0.79331307]\n"
          ],
          "name": "stdout"
        }
      ]
    },
    {
      "cell_type": "code",
      "metadata": {
        "colab": {
          "base_uri": "https://localhost:8080/"
        },
        "id": "VSHClUP-ae3i",
        "outputId": "10920d82-2b10-4cda-881d-9a6aa560eb2a"
      },
      "source": [
        "\n",
        "#lets use decision tree\n",
        "from sklearn.tree import DecisionTreeClassifier\n",
        "dc=DecisionTreeClassifier()\n",
        "maxf1_score(dc,x,y)"
      ],
      "execution_count": 23,
      "outputs": [
        {
          "output_type": "stream",
          "text": [
            "random state : 42  and f1 score:  1.0\n",
            "random state : 43  and f1 score:  1.0\n",
            "random state : 44  and f1 score:  1.0\n",
            "random state : 45  and f1 score:  1.0\n",
            "random state : 46  and f1 score:  1.0\n",
            "random state : 47  and f1 score:  1.0\n",
            "random state : 48  and f1 score:  1.0\n",
            "random state : 49  and f1 score:  1.0\n",
            "random state : 50  and f1 score:  1.0\n",
            "random state : 51  and f1 score:  1.0\n",
            "random state : 52  and f1 score:  1.0\n",
            "random state : 53  and f1 score:  1.0\n",
            "random state : 54  and f1 score:  1.0\n",
            "random state : 55  and f1 score:  1.0\n",
            "random state : 56  and f1 score:  1.0\n",
            "random state : 57  and f1 score:  1.0\n",
            "random state : 58  and f1 score:  1.0\n",
            "random state : 59  and f1 score:  1.0\n",
            "random state : 60  and f1 score:  1.0\n",
            "random state : 61  and f1 score:  1.0\n",
            "random state : 62  and f1 score:  1.0\n",
            "random state : 63  and f1 score:  1.0\n",
            "random state : 64  and f1 score:  1.0\n",
            "random state : 65  and f1 score:  1.0\n",
            "random state : 66  and f1 score:  1.0\n",
            "random state : 67  and f1 score:  1.0\n",
            "random state : 68  and f1 score:  1.0\n",
            "random state : 69  and f1 score:  1.0\n",
            "random state : 70  and f1 score:  1.0\n",
            "random state : 71  and f1 score:  1.0\n",
            "random state : 72  and f1 score:  1.0\n",
            "random state : 73  and f1 score:  1.0\n",
            "random state : 74  and f1 score:  1.0\n",
            "random state : 75  and f1 score:  1.0\n",
            "random state : 76  and f1 score:  1.0\n",
            "random state : 77  and f1 score:  1.0\n",
            "random state : 78  and f1 score:  1.0\n",
            "random state : 79  and f1 score:  1.0\n",
            "random state : 80  and f1 score:  1.0\n",
            "random state : 81  and f1 score:  1.0\n",
            "random state : 82  and f1 score:  1.0\n",
            "random state : 83  and f1 score:  1.0\n",
            "random state : 84  and f1 score:  1.0\n",
            "random state : 85  and f1 score:  1.0\n",
            "random state : 86  and f1 score:  1.0\n",
            "random state : 87  and f1 score:  1.0\n",
            "random state : 88  and f1 score:  1.0\n",
            "random state : 89  and f1 score:  1.0\n",
            "random state : 90  and f1 score:  1.0\n",
            "random state : 91  and f1 score:  1.0\n",
            "random state : 92  and f1 score:  1.0\n",
            "random state : 93  and f1 score:  1.0\n",
            "random state : 94  and f1 score:  1.0\n",
            "random state : 95  and f1 score:  1.0\n",
            "random state : 96  and f1 score:  1.0\n",
            "random state : 97  and f1 score:  1.0\n",
            "random state : 98  and f1 score:  1.0\n",
            "random state : 99  and f1 score:  1.0\n",
            "maximum f1_score is at random state : 42  and it is : 1.0\n"
          ],
          "name": "stdout"
        }
      ]
    },
    {
      "cell_type": "code",
      "metadata": {
        "colab": {
          "base_uri": "https://localhost:8080/"
        },
        "id": "oOXcFx2Cair7",
        "outputId": "7de8052d-06e6-4d3c-de68-e33b321681c2"
      },
      "source": [
        "#Lets use cross_val_score and evaluate the knn model\n",
        "from sklearn.model_selection import cross_val_score\n",
        "print(\"Mean f1 score for decision tree classifier: \",cross_val_score(dc,x,y,cv=5,scoring=\"f1\").mean())\n",
        "print(\"standard deviation in f1 score for decision tree classifier: \",cross_val_score(dc,x,y,cv=5,scoring=\"f1\").std())\n",
        "print(cross_val_score(dc,x,y,cv=5,scoring=\"f1\"))"
      ],
      "execution_count": 24,
      "outputs": [
        {
          "output_type": "stream",
          "text": [
            "Mean f1 score for decision tree classifier:  0.9264770017966028\n",
            "standard deviation in f1 score for decision tree classifier:  0.08702432256225057\n",
            "[0.86046512 1.         0.99743918 1.         0.95604396]\n"
          ],
          "name": "stdout"
        }
      ]
    },
    {
      "cell_type": "code",
      "metadata": {
        "colab": {
          "base_uri": "https://localhost:8080/"
        },
        "id": "zCaOXgrgasrT",
        "outputId": "0ca54483-e945-4c88-eafc-9908baeb404c"
      },
      "source": [
        "#lets use ensemble calssifier such as random forest\n",
        "from sklearn.ensemble import RandomForestClassifier\n",
        "from sklearn.model_selection import GridSearchCV\n",
        "parameters={\"n_estimators\":[10,100,500]}\n",
        "rf_clf=RandomForestClassifier()\n",
        "clf = GridSearchCV(rf_clf, parameters, cv=5,scoring=\"f1\")\n",
        "clf.fit(x,y)\n",
        "clf.best_params_"
      ],
      "execution_count": 25,
      "outputs": [
        {
          "output_type": "execute_result",
          "data": {
            "text/plain": [
              "{'n_estimators': 10}"
            ]
          },
          "metadata": {
            "tags": []
          },
          "execution_count": 25
        }
      ]
    },
    {
      "cell_type": "code",
      "metadata": {
        "colab": {
          "base_uri": "https://localhost:8080/"
        },
        "id": "7G5_ket8axHF",
        "outputId": "e1af08c3-685b-4d33-ab55-d3067ca1fd40"
      },
      "source": [
        "rf_clf=RandomForestClassifier(n_estimators=10)\n",
        "maxf1_score(rf_clf,x,y)"
      ],
      "execution_count": 26,
      "outputs": [
        {
          "output_type": "stream",
          "text": [
            "random state : 42  and f1 score:  1.0\n",
            "random state : 43  and f1 score:  1.0\n",
            "random state : 44  and f1 score:  1.0\n",
            "random state : 45  and f1 score:  1.0\n",
            "random state : 46  and f1 score:  1.0\n",
            "random state : 47  and f1 score:  1.0\n",
            "random state : 48  and f1 score:  1.0\n",
            "random state : 49  and f1 score:  1.0\n",
            "random state : 50  and f1 score:  1.0\n",
            "random state : 51  and f1 score:  1.0\n",
            "random state : 52  and f1 score:  1.0\n",
            "random state : 53  and f1 score:  1.0\n",
            "random state : 54  and f1 score:  1.0\n",
            "random state : 55  and f1 score:  1.0\n",
            "random state : 56  and f1 score:  1.0\n",
            "random state : 57  and f1 score:  1.0\n",
            "random state : 58  and f1 score:  1.0\n",
            "random state : 59  and f1 score:  1.0\n",
            "random state : 60  and f1 score:  1.0\n",
            "random state : 61  and f1 score:  1.0\n",
            "random state : 62  and f1 score:  1.0\n",
            "random state : 63  and f1 score:  1.0\n",
            "random state : 64  and f1 score:  1.0\n",
            "random state : 65  and f1 score:  1.0\n",
            "random state : 66  and f1 score:  1.0\n",
            "random state : 67  and f1 score:  1.0\n",
            "random state : 68  and f1 score:  1.0\n",
            "random state : 69  and f1 score:  1.0\n",
            "random state : 70  and f1 score:  1.0\n",
            "random state : 71  and f1 score:  1.0\n",
            "random state : 72  and f1 score:  1.0\n",
            "random state : 73  and f1 score:  1.0\n",
            "random state : 74  and f1 score:  1.0\n",
            "random state : 75  and f1 score:  1.0\n",
            "random state : 76  and f1 score:  1.0\n",
            "random state : 77  and f1 score:  1.0\n",
            "random state : 78  and f1 score:  1.0\n",
            "random state : 79  and f1 score:  1.0\n",
            "random state : 80  and f1 score:  1.0\n",
            "random state : 81  and f1 score:  1.0\n",
            "random state : 82  and f1 score:  1.0\n",
            "random state : 83  and f1 score:  1.0\n",
            "random state : 84  and f1 score:  1.0\n",
            "random state : 85  and f1 score:  1.0\n",
            "random state : 86  and f1 score:  1.0\n",
            "random state : 87  and f1 score:  1.0\n",
            "random state : 88  and f1 score:  1.0\n",
            "random state : 89  and f1 score:  1.0\n",
            "random state : 90  and f1 score:  1.0\n",
            "random state : 91  and f1 score:  1.0\n",
            "random state : 92  and f1 score:  1.0\n",
            "random state : 93  and f1 score:  1.0\n",
            "random state : 94  and f1 score:  1.0\n",
            "random state : 95  and f1 score:  1.0\n",
            "random state : 96  and f1 score:  1.0\n",
            "random state : 97  and f1 score:  1.0\n",
            "random state : 98  and f1 score:  1.0\n",
            "random state : 99  and f1 score:  1.0\n",
            "maximum f1_score is at random state : 42  and it is : 1.0\n"
          ],
          "name": "stdout"
        }
      ]
    },
    {
      "cell_type": "code",
      "metadata": {
        "id": "OFAojwlpa1mE",
        "colab": {
          "base_uri": "https://localhost:8080/"
        },
        "outputId": "0b65eb59-e1e6-45e0-a33c-ff9bc164ed78"
      },
      "source": [
        "#lets again use cross val score\n",
        "print(\"Mean f1 score for random forest classifier: \",cross_val_score(rf_clf,x,y,cv=5,scoring=\"f1\").mean())\n",
        "print(\"standard deviation in f1 score for random forest classifier: \",cross_val_score(rf_clf,x,y,cv=5,scoring=\"f1\").std())\n",
        "print(cross_val_score(rf_clf,x,y,cv=5,scoring=\"f1\"))"
      ],
      "execution_count": 27,
      "outputs": [
        {
          "output_type": "stream",
          "text": [
            "Mean f1 score for random forest classifier:  0.9282800277613106\n",
            "standard deviation in f1 score for random forest classifier:  0.12602344948468297\n",
            "[0.80487805 1.         0.99357326 1.         0.76840039]\n"
          ],
          "name": "stdout"
        }
      ]
    },
    {
      "cell_type": "code",
      "metadata": {
        "id": "4vVkeDh-a8-J",
        "colab": {
          "base_uri": "https://localhost:8080/"
        },
        "outputId": "d2ea5b81-878b-4efd-ef6c-a9373bc360f9"
      },
      "source": [
        "#Lets use SVM\n",
        "from sklearn.svm import SVC\n",
        "svc=SVC()\n",
        "parameters={\"kernel\":[\"linear\", \"poly\", \"rbf\"],\"C\":[0.001,0.01,0.1,1,10]}\n",
        "clf = GridSearchCV(svc, parameters, cv=5,scoring=\"f1\")\n",
        "clf.fit(x,y)\n",
        "clf.best_params_"
      ],
      "execution_count": 28,
      "outputs": [
        {
          "output_type": "execute_result",
          "data": {
            "text/plain": [
              "{'C': 10, 'kernel': 'poly'}"
            ]
          },
          "metadata": {
            "tags": []
          },
          "execution_count": 28
        }
      ]
    },
    {
      "cell_type": "code",
      "metadata": {
        "id": "xn7j-EBnbLRy",
        "colab": {
          "base_uri": "https://localhost:8080/"
        },
        "outputId": "d89104ff-c6c1-4570-f752-7f38454596d4"
      },
      "source": [
        "svc=SVC(kernel=\"poly\",C=10)\n",
        "maxf1_score(svc,x,y)"
      ],
      "execution_count": 29,
      "outputs": [
        {
          "output_type": "stream",
          "text": [
            "random state : 42  and f1 score:  1.0\n",
            "random state : 43  and f1 score:  1.0\n",
            "random state : 44  and f1 score:  1.0\n",
            "random state : 45  and f1 score:  1.0\n",
            "random state : 46  and f1 score:  1.0\n",
            "random state : 47  and f1 score:  1.0\n",
            "random state : 48  and f1 score:  1.0\n",
            "random state : 49  and f1 score:  1.0\n",
            "random state : 50  and f1 score:  1.0\n",
            "random state : 51  and f1 score:  1.0\n",
            "random state : 52  and f1 score:  1.0\n",
            "random state : 53  and f1 score:  1.0\n",
            "random state : 54  and f1 score:  1.0\n",
            "random state : 55  and f1 score:  1.0\n",
            "random state : 56  and f1 score:  1.0\n",
            "random state : 57  and f1 score:  1.0\n",
            "random state : 58  and f1 score:  1.0\n",
            "random state : 59  and f1 score:  1.0\n",
            "random state : 60  and f1 score:  1.0\n",
            "random state : 61  and f1 score:  1.0\n",
            "random state : 62  and f1 score:  1.0\n",
            "random state : 63  and f1 score:  1.0\n",
            "random state : 64  and f1 score:  1.0\n",
            "random state : 65  and f1 score:  1.0\n",
            "random state : 66  and f1 score:  1.0\n",
            "random state : 67  and f1 score:  1.0\n",
            "random state : 68  and f1 score:  1.0\n",
            "random state : 69  and f1 score:  1.0\n",
            "random state : 70  and f1 score:  1.0\n",
            "random state : 71  and f1 score:  1.0\n",
            "random state : 72  and f1 score:  1.0\n",
            "random state : 73  and f1 score:  1.0\n",
            "random state : 74  and f1 score:  1.0\n",
            "random state : 75  and f1 score:  1.0\n",
            "random state : 76  and f1 score:  1.0\n",
            "random state : 77  and f1 score:  1.0\n",
            "random state : 78  and f1 score:  1.0\n",
            "random state : 79  and f1 score:  1.0\n",
            "random state : 80  and f1 score:  1.0\n",
            "random state : 81  and f1 score:  1.0\n",
            "random state : 82  and f1 score:  1.0\n",
            "random state : 83  and f1 score:  1.0\n",
            "random state : 84  and f1 score:  1.0\n",
            "random state : 85  and f1 score:  1.0\n",
            "random state : 86  and f1 score:  1.0\n",
            "random state : 87  and f1 score:  1.0\n",
            "random state : 88  and f1 score:  1.0\n",
            "random state : 89  and f1 score:  1.0\n",
            "random state : 90  and f1 score:  1.0\n",
            "random state : 91  and f1 score:  1.0\n",
            "random state : 92  and f1 score:  1.0\n",
            "random state : 93  and f1 score:  1.0\n",
            "random state : 94  and f1 score:  1.0\n",
            "random state : 95  and f1 score:  1.0\n",
            "random state : 96  and f1 score:  1.0\n",
            "random state : 97  and f1 score:  1.0\n",
            "random state : 98  and f1 score:  1.0\n",
            "random state : 99  and f1 score:  1.0\n",
            "maximum f1_score is at random state : 42  and it is : 1.0\n"
          ],
          "name": "stdout"
        }
      ]
    },
    {
      "cell_type": "code",
      "metadata": {
        "id": "R3Ct4ON_bRjb",
        "colab": {
          "base_uri": "https://localhost:8080/"
        },
        "outputId": "962afadc-388a-42fe-f89a-1e03e77a2e16"
      },
      "source": [
        "#lets again use cross val score\n",
        "print(\"Mean f1 score for SVM classifier: \",cross_val_score(svc,x,y,cv=5,scoring=\"f1\").mean())\n",
        "print(\"standard deviation in f1 score for SVM classifier: \",cross_val_score(svc,x,y,cv=5,scoring=\"f1\").std())\n",
        "print(cross_val_score(svc,x,y,cv=5,scoring=\"f1\"))"
      ],
      "execution_count": 30,
      "outputs": [
        {
          "output_type": "stream",
          "text": [
            "Mean f1 score for SVM classifier:  0.9072966678159167\n",
            "standard deviation in f1 score for SVM classifier:  0.1126424560656545\n",
            "[0.80487805 1.         0.99292605 1.         0.73867925]\n"
          ],
          "name": "stdout"
        }
      ]
    },
    {
      "cell_type": "code",
      "metadata": {
        "id": "6w1xyekHbc9L"
      },
      "source": [
        "#comparitively SVM is performing better so lets use svm\n",
        "#random state 45\n",
        "svc=SVC(kernel=\"poly\",C=0.1)\n",
        "x_train,x_test,y_train,y_test=train_test_split(x, y,random_state = 45,test_size=0.20,stratify=y)\n",
        "svc.fit(x_train,y_train)\n",
        "y_pred=svc.predict(x_test)"
      ],
      "execution_count": 31,
      "outputs": []
    },
    {
      "cell_type": "code",
      "metadata": {
        "id": "o77KKy7RbiA7",
        "colab": {
          "base_uri": "https://localhost:8080/"
        },
        "outputId": "426351c9-3cc2-4e4a-a9a3-1f5c25987770"
      },
      "source": [
        "\n",
        "from sklearn.metrics import confusion_matrix\n",
        "from sklearn.metrics import classification_report\n",
        "from sklearn.metrics import f1_score\n",
        "from sklearn.metrics import roc_auc_score\n",
        "print(\"Confusion matrix \\n\",confusion_matrix(y_test,y_pred))\n",
        "print(\"f1 score is : \",f1_score(y_test,y_pred))\n",
        "print(\"classification report \\n\",classification_report(y_test,y_pred))\n",
        "print(\"AUC ROC Score: \",roc_auc_score(y_test,y_pred))"
      ],
      "execution_count": 32,
      "outputs": [
        {
          "output_type": "stream",
          "text": [
            "Confusion matrix \n",
            " [[842   0]\n",
            " [ 13 770]]\n",
            "f1 score is :  0.9916291049581455\n",
            "classification report \n",
            "               precision    recall  f1-score   support\n",
            "\n",
            "           0       0.98      1.00      0.99       842\n",
            "           1       1.00      0.98      0.99       783\n",
            "\n",
            "    accuracy                           0.99      1625\n",
            "   macro avg       0.99      0.99      0.99      1625\n",
            "weighted avg       0.99      0.99      0.99      1625\n",
            "\n",
            "AUC ROC Score:  0.9916985951468711\n"
          ],
          "name": "stdout"
        }
      ]
    },
    {
      "cell_type": "code",
      "metadata": {
        "id": "Re0EnnwMbmdi"
      },
      "source": [
        "import pickle\n",
        "import joblib"
      ],
      "execution_count": 33,
      "outputs": []
    },
    {
      "cell_type": "code",
      "metadata": {
        "id": "95xz6i1vdnWG"
      },
      "source": [
        "joblib.dump(svc, 'concrete.0bj')\n",
        "pickle.dump(svc,open('svc.pkl','wb'))"
      ],
      "execution_count": 34,
      "outputs": []
    },
    {
      "cell_type": "code",
      "metadata": {
        "id": "vYHupgpMd_Db"
      },
      "source": [
        ""
      ],
      "execution_count": 34,
      "outputs": []
    }
  ]
}