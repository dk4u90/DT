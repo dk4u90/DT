{
  "nbformat": 4,
  "nbformat_minor": 0,
  "metadata": {
    "colab": {
      "name": "HR Analytics.ipynb",
      "provenance": [],
      "collapsed_sections": []
    },
    "kernelspec": {
      "name": "python3",
      "display_name": "Python 3"
    },
    "language_info": {
      "name": "python"
    }
  },
  "cells": [
    {
      "cell_type": "markdown",
      "metadata": {
        "id": "AS1NN1x23R0H"
      },
      "source": [
        "### Problem Statement:\n",
        "Human resource analytics (HR analytics) is an area in the field of analytics that refers to applying analytic processes to the human resource department of an organization in the hope of improving employee performance and therefore getting a better return on investment. HR analytics does not just deal with gathering data on employee efficiency. Instead, it aims to provide insight into each process by gathering data and then using it to make relevant decisions about how to improve these processes.\n",
        "### Implimentations:\n",
        "The aim of these programs is to increase the effectiveness of their employees. But where HR Analytics fit in this? and is it just about improving the performance of employees?"
      ]
    },
    {
      "cell_type": "code",
      "metadata": {
        "id": "TXE9MBonzpri"
      },
      "source": [
        "import pandas as pd\n",
        "import numpy as np \n",
        "import seaborn as sns\n",
        "import matplotlib.pyplot as plt\n",
        "from sklearn.metrics import classification_report, roc_curve, precision_recall_curve,roc_auc_score, f1_score, confusion_matrix\n"
      ],
      "execution_count": 1,
      "outputs": []
    },
    {
      "cell_type": "markdown",
      "metadata": {
        "id": "wInrhwMI4WgL"
      },
      "source": [
        "Import Most basic Library"
      ]
    },
    {
      "cell_type": "code",
      "metadata": {
        "colab": {
          "base_uri": "https://localhost:8080/",
          "height": 309
        },
        "id": "UX5TXuvA2lT-",
        "outputId": "6ca32fe9-2eda-4a42-8bf9-653353c73d8b"
      },
      "source": [
        "df_hr=pd.read_csv('/content/drive/MyDrive/Colab Notebooks/WA_Fn-UseC_-HR-Employee-Attrition.csv')\n",
        "df_hr.head(5)"
      ],
      "execution_count": 2,
      "outputs": [
        {
          "output_type": "execute_result",
          "data": {
            "text/html": [
              "<div>\n",
              "<style scoped>\n",
              "    .dataframe tbody tr th:only-of-type {\n",
              "        vertical-align: middle;\n",
              "    }\n",
              "\n",
              "    .dataframe tbody tr th {\n",
              "        vertical-align: top;\n",
              "    }\n",
              "\n",
              "    .dataframe thead th {\n",
              "        text-align: right;\n",
              "    }\n",
              "</style>\n",
              "<table border=\"1\" class=\"dataframe\">\n",
              "  <thead>\n",
              "    <tr style=\"text-align: right;\">\n",
              "      <th></th>\n",
              "      <th>Age</th>\n",
              "      <th>Attrition</th>\n",
              "      <th>BusinessTravel</th>\n",
              "      <th>DailyRate</th>\n",
              "      <th>Department</th>\n",
              "      <th>DistanceFromHome</th>\n",
              "      <th>Education</th>\n",
              "      <th>EducationField</th>\n",
              "      <th>EmployeeCount</th>\n",
              "      <th>EmployeeNumber</th>\n",
              "      <th>EnvironmentSatisfaction</th>\n",
              "      <th>Gender</th>\n",
              "      <th>HourlyRate</th>\n",
              "      <th>JobInvolvement</th>\n",
              "      <th>JobLevel</th>\n",
              "      <th>JobRole</th>\n",
              "      <th>JobSatisfaction</th>\n",
              "      <th>MaritalStatus</th>\n",
              "      <th>MonthlyIncome</th>\n",
              "      <th>MonthlyRate</th>\n",
              "      <th>NumCompaniesWorked</th>\n",
              "      <th>Over18</th>\n",
              "      <th>OverTime</th>\n",
              "      <th>PercentSalaryHike</th>\n",
              "      <th>PerformanceRating</th>\n",
              "      <th>RelationshipSatisfaction</th>\n",
              "      <th>StandardHours</th>\n",
              "      <th>StockOptionLevel</th>\n",
              "      <th>TotalWorkingYears</th>\n",
              "      <th>TrainingTimesLastYear</th>\n",
              "      <th>WorkLifeBalance</th>\n",
              "      <th>YearsAtCompany</th>\n",
              "      <th>YearsInCurrentRole</th>\n",
              "      <th>YearsSinceLastPromotion</th>\n",
              "      <th>YearsWithCurrManager</th>\n",
              "    </tr>\n",
              "  </thead>\n",
              "  <tbody>\n",
              "    <tr>\n",
              "      <th>0</th>\n",
              "      <td>41</td>\n",
              "      <td>Yes</td>\n",
              "      <td>Travel_Rarely</td>\n",
              "      <td>1102</td>\n",
              "      <td>Sales</td>\n",
              "      <td>1</td>\n",
              "      <td>2</td>\n",
              "      <td>Life Sciences</td>\n",
              "      <td>1</td>\n",
              "      <td>1</td>\n",
              "      <td>2</td>\n",
              "      <td>Female</td>\n",
              "      <td>94</td>\n",
              "      <td>3</td>\n",
              "      <td>2</td>\n",
              "      <td>Sales Executive</td>\n",
              "      <td>4</td>\n",
              "      <td>Single</td>\n",
              "      <td>5993</td>\n",
              "      <td>19479</td>\n",
              "      <td>8</td>\n",
              "      <td>Y</td>\n",
              "      <td>Yes</td>\n",
              "      <td>11</td>\n",
              "      <td>3</td>\n",
              "      <td>1</td>\n",
              "      <td>80</td>\n",
              "      <td>0</td>\n",
              "      <td>8</td>\n",
              "      <td>0</td>\n",
              "      <td>1</td>\n",
              "      <td>6</td>\n",
              "      <td>4</td>\n",
              "      <td>0</td>\n",
              "      <td>5</td>\n",
              "    </tr>\n",
              "    <tr>\n",
              "      <th>1</th>\n",
              "      <td>49</td>\n",
              "      <td>No</td>\n",
              "      <td>Travel_Frequently</td>\n",
              "      <td>279</td>\n",
              "      <td>Research &amp; Development</td>\n",
              "      <td>8</td>\n",
              "      <td>1</td>\n",
              "      <td>Life Sciences</td>\n",
              "      <td>1</td>\n",
              "      <td>2</td>\n",
              "      <td>3</td>\n",
              "      <td>Male</td>\n",
              "      <td>61</td>\n",
              "      <td>2</td>\n",
              "      <td>2</td>\n",
              "      <td>Research Scientist</td>\n",
              "      <td>2</td>\n",
              "      <td>Married</td>\n",
              "      <td>5130</td>\n",
              "      <td>24907</td>\n",
              "      <td>1</td>\n",
              "      <td>Y</td>\n",
              "      <td>No</td>\n",
              "      <td>23</td>\n",
              "      <td>4</td>\n",
              "      <td>4</td>\n",
              "      <td>80</td>\n",
              "      <td>1</td>\n",
              "      <td>10</td>\n",
              "      <td>3</td>\n",
              "      <td>3</td>\n",
              "      <td>10</td>\n",
              "      <td>7</td>\n",
              "      <td>1</td>\n",
              "      <td>7</td>\n",
              "    </tr>\n",
              "    <tr>\n",
              "      <th>2</th>\n",
              "      <td>37</td>\n",
              "      <td>Yes</td>\n",
              "      <td>Travel_Rarely</td>\n",
              "      <td>1373</td>\n",
              "      <td>Research &amp; Development</td>\n",
              "      <td>2</td>\n",
              "      <td>2</td>\n",
              "      <td>Other</td>\n",
              "      <td>1</td>\n",
              "      <td>4</td>\n",
              "      <td>4</td>\n",
              "      <td>Male</td>\n",
              "      <td>92</td>\n",
              "      <td>2</td>\n",
              "      <td>1</td>\n",
              "      <td>Laboratory Technician</td>\n",
              "      <td>3</td>\n",
              "      <td>Single</td>\n",
              "      <td>2090</td>\n",
              "      <td>2396</td>\n",
              "      <td>6</td>\n",
              "      <td>Y</td>\n",
              "      <td>Yes</td>\n",
              "      <td>15</td>\n",
              "      <td>3</td>\n",
              "      <td>2</td>\n",
              "      <td>80</td>\n",
              "      <td>0</td>\n",
              "      <td>7</td>\n",
              "      <td>3</td>\n",
              "      <td>3</td>\n",
              "      <td>0</td>\n",
              "      <td>0</td>\n",
              "      <td>0</td>\n",
              "      <td>0</td>\n",
              "    </tr>\n",
              "    <tr>\n",
              "      <th>3</th>\n",
              "      <td>33</td>\n",
              "      <td>No</td>\n",
              "      <td>Travel_Frequently</td>\n",
              "      <td>1392</td>\n",
              "      <td>Research &amp; Development</td>\n",
              "      <td>3</td>\n",
              "      <td>4</td>\n",
              "      <td>Life Sciences</td>\n",
              "      <td>1</td>\n",
              "      <td>5</td>\n",
              "      <td>4</td>\n",
              "      <td>Female</td>\n",
              "      <td>56</td>\n",
              "      <td>3</td>\n",
              "      <td>1</td>\n",
              "      <td>Research Scientist</td>\n",
              "      <td>3</td>\n",
              "      <td>Married</td>\n",
              "      <td>2909</td>\n",
              "      <td>23159</td>\n",
              "      <td>1</td>\n",
              "      <td>Y</td>\n",
              "      <td>Yes</td>\n",
              "      <td>11</td>\n",
              "      <td>3</td>\n",
              "      <td>3</td>\n",
              "      <td>80</td>\n",
              "      <td>0</td>\n",
              "      <td>8</td>\n",
              "      <td>3</td>\n",
              "      <td>3</td>\n",
              "      <td>8</td>\n",
              "      <td>7</td>\n",
              "      <td>3</td>\n",
              "      <td>0</td>\n",
              "    </tr>\n",
              "    <tr>\n",
              "      <th>4</th>\n",
              "      <td>27</td>\n",
              "      <td>No</td>\n",
              "      <td>Travel_Rarely</td>\n",
              "      <td>591</td>\n",
              "      <td>Research &amp; Development</td>\n",
              "      <td>2</td>\n",
              "      <td>1</td>\n",
              "      <td>Medical</td>\n",
              "      <td>1</td>\n",
              "      <td>7</td>\n",
              "      <td>1</td>\n",
              "      <td>Male</td>\n",
              "      <td>40</td>\n",
              "      <td>3</td>\n",
              "      <td>1</td>\n",
              "      <td>Laboratory Technician</td>\n",
              "      <td>2</td>\n",
              "      <td>Married</td>\n",
              "      <td>3468</td>\n",
              "      <td>16632</td>\n",
              "      <td>9</td>\n",
              "      <td>Y</td>\n",
              "      <td>No</td>\n",
              "      <td>12</td>\n",
              "      <td>3</td>\n",
              "      <td>4</td>\n",
              "      <td>80</td>\n",
              "      <td>1</td>\n",
              "      <td>6</td>\n",
              "      <td>3</td>\n",
              "      <td>3</td>\n",
              "      <td>2</td>\n",
              "      <td>2</td>\n",
              "      <td>2</td>\n",
              "      <td>2</td>\n",
              "    </tr>\n",
              "  </tbody>\n",
              "</table>\n",
              "</div>"
            ],
            "text/plain": [
              "   Age Attrition  ... YearsSinceLastPromotion  YearsWithCurrManager\n",
              "0   41       Yes  ...                       0                     5\n",
              "1   49        No  ...                       1                     7\n",
              "2   37       Yes  ...                       0                     0\n",
              "3   33        No  ...                       3                     0\n",
              "4   27        No  ...                       2                     2\n",
              "\n",
              "[5 rows x 35 columns]"
            ]
          },
          "metadata": {
            "tags": []
          },
          "execution_count": 2
        }
      ]
    },
    {
      "cell_type": "markdown",
      "metadata": {
        "id": "t9TxGYT64jUL"
      },
      "source": [
        "Read Data set and displayed found there are 1470 Rows and 35 Columns."
      ]
    },
    {
      "cell_type": "code",
      "metadata": {
        "colab": {
          "base_uri": "https://localhost:8080/"
        },
        "id": "r1l5io8k2-Rj",
        "outputId": "82930729-53d2-4c84-c33a-722531d8ccd6"
      },
      "source": [
        "df_hr.isnull().sum()"
      ],
      "execution_count": 3,
      "outputs": [
        {
          "output_type": "execute_result",
          "data": {
            "text/plain": [
              "Age                         0\n",
              "Attrition                   0\n",
              "BusinessTravel              0\n",
              "DailyRate                   0\n",
              "Department                  0\n",
              "DistanceFromHome            0\n",
              "Education                   0\n",
              "EducationField              0\n",
              "EmployeeCount               0\n",
              "EmployeeNumber              0\n",
              "EnvironmentSatisfaction     0\n",
              "Gender                      0\n",
              "HourlyRate                  0\n",
              "JobInvolvement              0\n",
              "JobLevel                    0\n",
              "JobRole                     0\n",
              "JobSatisfaction             0\n",
              "MaritalStatus               0\n",
              "MonthlyIncome               0\n",
              "MonthlyRate                 0\n",
              "NumCompaniesWorked          0\n",
              "Over18                      0\n",
              "OverTime                    0\n",
              "PercentSalaryHike           0\n",
              "PerformanceRating           0\n",
              "RelationshipSatisfaction    0\n",
              "StandardHours               0\n",
              "StockOptionLevel            0\n",
              "TotalWorkingYears           0\n",
              "TrainingTimesLastYear       0\n",
              "WorkLifeBalance             0\n",
              "YearsAtCompany              0\n",
              "YearsInCurrentRole          0\n",
              "YearsSinceLastPromotion     0\n",
              "YearsWithCurrManager        0\n",
              "dtype: int64"
            ]
          },
          "metadata": {
            "tags": []
          },
          "execution_count": 3
        }
      ]
    },
    {
      "cell_type": "markdown",
      "metadata": {
        "id": "yduH29gs491c"
      },
      "source": [
        "Checked null values data set found no any null values are present."
      ]
    },
    {
      "cell_type": "code",
      "metadata": {
        "colab": {
          "base_uri": "https://localhost:8080/"
        },
        "id": "0wqYsSYO47Qw",
        "outputId": "5b8f0c2f-8c8f-4123-c454-d19ac8e515cc"
      },
      "source": [
        "df_hr.info()"
      ],
      "execution_count": 4,
      "outputs": [
        {
          "output_type": "stream",
          "text": [
            "<class 'pandas.core.frame.DataFrame'>\n",
            "RangeIndex: 1470 entries, 0 to 1469\n",
            "Data columns (total 35 columns):\n",
            " #   Column                    Non-Null Count  Dtype \n",
            "---  ------                    --------------  ----- \n",
            " 0   Age                       1470 non-null   int64 \n",
            " 1   Attrition                 1470 non-null   object\n",
            " 2   BusinessTravel            1470 non-null   object\n",
            " 3   DailyRate                 1470 non-null   int64 \n",
            " 4   Department                1470 non-null   object\n",
            " 5   DistanceFromHome          1470 non-null   int64 \n",
            " 6   Education                 1470 non-null   int64 \n",
            " 7   EducationField            1470 non-null   object\n",
            " 8   EmployeeCount             1470 non-null   int64 \n",
            " 9   EmployeeNumber            1470 non-null   int64 \n",
            " 10  EnvironmentSatisfaction   1470 non-null   int64 \n",
            " 11  Gender                    1470 non-null   object\n",
            " 12  HourlyRate                1470 non-null   int64 \n",
            " 13  JobInvolvement            1470 non-null   int64 \n",
            " 14  JobLevel                  1470 non-null   int64 \n",
            " 15  JobRole                   1470 non-null   object\n",
            " 16  JobSatisfaction           1470 non-null   int64 \n",
            " 17  MaritalStatus             1470 non-null   object\n",
            " 18  MonthlyIncome             1470 non-null   int64 \n",
            " 19  MonthlyRate               1470 non-null   int64 \n",
            " 20  NumCompaniesWorked        1470 non-null   int64 \n",
            " 21  Over18                    1470 non-null   object\n",
            " 22  OverTime                  1470 non-null   object\n",
            " 23  PercentSalaryHike         1470 non-null   int64 \n",
            " 24  PerformanceRating         1470 non-null   int64 \n",
            " 25  RelationshipSatisfaction  1470 non-null   int64 \n",
            " 26  StandardHours             1470 non-null   int64 \n",
            " 27  StockOptionLevel          1470 non-null   int64 \n",
            " 28  TotalWorkingYears         1470 non-null   int64 \n",
            " 29  TrainingTimesLastYear     1470 non-null   int64 \n",
            " 30  WorkLifeBalance           1470 non-null   int64 \n",
            " 31  YearsAtCompany            1470 non-null   int64 \n",
            " 32  YearsInCurrentRole        1470 non-null   int64 \n",
            " 33  YearsSinceLastPromotion   1470 non-null   int64 \n",
            " 34  YearsWithCurrManager      1470 non-null   int64 \n",
            "dtypes: int64(26), object(9)\n",
            "memory usage: 402.1+ KB\n"
          ],
          "name": "stdout"
        }
      ]
    },
    {
      "cell_type": "markdown",
      "metadata": {
        "id": "3qVNrXIg5wMW"
      },
      "source": [
        "Displayed more information about data set, there are 26 columns have dtype is int64 and 9 columns have object dtype."
      ]
    },
    {
      "cell_type": "code",
      "metadata": {
        "id": "B9XB7hcZ5OpV"
      },
      "source": [
        "df_hr.drop(columns=[\"EmployeeNumber\"],inplace=True)\n",
        "df_hr.drop(columns=[\"Over18\"],inplace=True)\n",
        "df_hr.drop(columns=[\"EmployeeCount\"],inplace=True)\n",
        "df_hr.drop(columns=[\"StandardHours\"],inplace=True)"
      ],
      "execution_count": 5,
      "outputs": []
    },
    {
      "cell_type": "markdown",
      "metadata": {
        "id": "ZX47LFEz6aon"
      },
      "source": [
        "There is  column employe number in the dataset that we can drop as it does not helps so droped it.\n",
        "\n",
        "Over18 columnn has only one value throughout the dataset so it will not help us in any way so droped it.\n",
        "\n",
        "Here we see that EmployeeCount is having same vaue in entire dataset it will not help us in any way so droped it.\n",
        "\n",
        "Here we see that StandardHours has same value throughout it will not help us in any way so droped it."
      ]
    },
    {
      "cell_type": "code",
      "metadata": {
        "colab": {
          "base_uri": "https://localhost:8080/",
          "height": 296
        },
        "id": "3eRox8aA5t0g",
        "outputId": "7c852f64-fd03-45d0-b340-caeec01f3c3b"
      },
      "source": [
        "sns.countplot(x='Attrition',data=df_hr)"
      ],
      "execution_count": 6,
      "outputs": [
        {
          "output_type": "execute_result",
          "data": {
            "text/plain": [
              "<matplotlib.axes._subplots.AxesSubplot at 0x7faae8940290>"
            ]
          },
          "metadata": {
            "tags": []
          },
          "execution_count": 6
        },
        {
          "output_type": "display_data",
          "data": {
            "image/png": "[encoded data removed]",
            "text/plain": [
              "<Figure size 432x288 with 1 Axes>"
            ]
          },
          "metadata": {
            "tags": [],
            "needs_background": "light"
          }
        }
      ]
    },
    {
      "cell_type": "markdown",
      "metadata": {
        "id": "neslAMfh7hcO"
      },
      "source": [
        "As per aboveb result this is higly imbalanced dataset"
      ]
    },
    {
      "cell_type": "code",
      "metadata": {
        "colab": {
          "base_uri": "https://localhost:8080/",
          "height": 296
        },
        "id": "1hMtMYQq7NwO",
        "outputId": "1a3a55f6-90c2-4c83-9340-ebe021604a3a"
      },
      "source": [
        "sns.barplot(x=\"Attrition\",y=\"Age\",data=df_hr)"
      ],
      "execution_count": 7,
      "outputs": [
        {
          "output_type": "execute_result",
          "data": {
            "text/plain": [
              "<matplotlib.axes._subplots.AxesSubplot at 0x7faae88dab50>"
            ]
          },
          "metadata": {
            "tags": []
          },
          "execution_count": 7
        },
        {
          "output_type": "display_data",
          "data": {
            "image/png": "[encoded data removed]",
            "text/plain": [
              "<Figure size 432x288 with 1 Axes>"
            ]
          },
          "metadata": {
            "tags": [],
            "needs_background": "light"
          }
        }
      ]
    },
    {
      "cell_type": "markdown",
      "metadata": {
        "id": "GEj158MI7_v5"
      },
      "source": [
        "As per aboveb result High avg age pepole are staying more."
      ]
    },
    {
      "cell_type": "code",
      "metadata": {
        "colab": {
          "base_uri": "https://localhost:8080/",
          "height": 297
        },
        "id": "8xZWG9MG7yGW",
        "outputId": "9570cdbf-b05e-4656-fd58-b3576228b04d"
      },
      "source": [
        "sns.countplot(x=\"BusinessTravel\",data=df_hr)"
      ],
      "execution_count": 8,
      "outputs": [
        {
          "output_type": "execute_result",
          "data": {
            "text/plain": [
              "<matplotlib.axes._subplots.AxesSubplot at 0x7faae8419790>"
            ]
          },
          "metadata": {
            "tags": []
          },
          "execution_count": 8
        },
        {
          "output_type": "display_data",
          "data": {
            "image/png": "[encoded data removed]",
            "text/plain": [
              "<Figure size 432x288 with 1 Axes>"
            ]
          },
          "metadata": {
            "tags": [],
            "needs_background": "light"
          }
        }
      ]
    },
    {
      "cell_type": "markdown",
      "metadata": {
        "id": "Q2ZB6xhQ8Z32"
      },
      "source": [
        "As chacked the count of employees based on buisness travel is most of the employee travel rarely."
      ]
    },
    {
      "cell_type": "code",
      "metadata": {
        "colab": {
          "base_uri": "https://localhost:8080/",
          "height": 297
        },
        "id": "CR2K38ad8T0b",
        "outputId": "b34179bb-7cc6-466b-eb66-8b7bc8e8705b"
      },
      "source": [
        "sns.countplot(x=\"BusinessTravel\",data=df_hr,hue=\"Attrition\")"
      ],
      "execution_count": 9,
      "outputs": [
        {
          "output_type": "execute_result",
          "data": {
            "text/plain": [
              "<matplotlib.axes._subplots.AxesSubplot at 0x7faae8383510>"
            ]
          },
          "metadata": {
            "tags": []
          },
          "execution_count": 9
        },
        {
          "output_type": "display_data",
          "data": {
            "image/png": "[encoded data removed]",
            "text/plain": [
              "<Figure size 432x288 with 1 Axes>"
            ]
          },
          "metadata": {
            "tags": [],
            "needs_background": "light"
          }
        }
      ]
    },
    {
      "cell_type": "markdown",
      "metadata": {
        "id": "hLaT-Ai48_mH"
      },
      "source": [
        "As checked count of each category of buisness travel where employee attrition is true? it can be concluded that proportion of attrition is higher where travel is frequent.\n"
      ]
    },
    {
      "cell_type": "code",
      "metadata": {
        "colab": {
          "base_uri": "https://localhost:8080/",
          "height": 296
        },
        "id": "bgQqdkDp8ogA",
        "outputId": "2f0c6c30-7da4-4d8c-aac0-a3c1db2036c1"
      },
      "source": [
        "sns.countplot(x=\"Department\",data=df_hr,hue=\"Attrition\")"
      ],
      "execution_count": 10,
      "outputs": [
        {
          "output_type": "execute_result",
          "data": {
            "text/plain": [
              "<matplotlib.axes._subplots.AxesSubplot at 0x7faae8301790>"
            ]
          },
          "metadata": {
            "tags": []
          },
          "execution_count": 10
        },
        {
          "output_type": "display_data",
          "data": {
            "image/png": "[encoded data removed]",
            "text/plain": [
              "<Figure size 432x288 with 1 Axes>"
            ]
          },
          "metadata": {
            "tags": [],
            "needs_background": "light"
          }
        }
      ]
    },
    {
      "cell_type": "markdown",
      "metadata": {
        "id": "WuvPUD0W9ZZ1"
      },
      "source": [
        "As checked in which department attrintion is high, Research and development depertment have more attrintion."
      ]
    },
    {
      "cell_type": "code",
      "metadata": {
        "colab": {
          "base_uri": "https://localhost:8080/",
          "height": 296
        },
        "id": "Uj6Sw2sx9RFZ",
        "outputId": "9f8ad73e-f213-4d9c-95bd-4ab9b2035a2d"
      },
      "source": [
        "sns.countplot(x=\"Attrition\",data=df_hr.loc[df_hr[\"DistanceFromHome\"]>15])"
      ],
      "execution_count": 11,
      "outputs": [
        {
          "output_type": "execute_result",
          "data": {
            "text/plain": [
              "<matplotlib.axes._subplots.AxesSubplot at 0x7faae8298490>"
            ]
          },
          "metadata": {
            "tags": []
          },
          "execution_count": 11
        },
        {
          "output_type": "display_data",
          "data": {
            "image/png": "[encoded data removed]",
            "text/plain": [
              "<Figure size 432x288 with 1 Axes>"
            ]
          },
          "metadata": {
            "tags": [],
            "needs_background": "light"
          }
        }
      ]
    },
    {
      "cell_type": "markdown",
      "metadata": {
        "id": "KnoD1iAe-Cbj"
      },
      "source": [
        "As checked when distance from home is above 15 kms attrintions is less."
      ]
    },
    {
      "cell_type": "code",
      "metadata": {
        "colab": {
          "base_uri": "https://localhost:8080/",
          "height": 296
        },
        "id": "A5JymSJa99Jh",
        "outputId": "d300d09f-d260-4f4a-8875-bbd19ccc55d1"
      },
      "source": [
        "plt.figure(figsize=(20,4))\n",
        "sns.countplot(x=\"JobRole\",data=df_hr,hue=\"Attrition\")"
      ],
      "execution_count": 12,
      "outputs": [
        {
          "output_type": "execute_result",
          "data": {
            "text/plain": [
              "<matplotlib.axes._subplots.AxesSubplot at 0x7faae8272710>"
            ]
          },
          "metadata": {
            "tags": []
          },
          "execution_count": 12
        },
        {
          "output_type": "display_data",
          "data": {
            "image/png": "[encoded data removed]",
            "text/plain": [
              "<Figure size 1440x288 with 1 Axes>"
            ]
          },
          "metadata": {
            "tags": [],
            "needs_background": "light"
          }
        }
      ]
    },
    {
      "cell_type": "markdown",
      "metadata": {
        "id": "U_6MCZ62-soz"
      },
      "source": [
        "we analysed the attrition ratio in each category and take corrective actions by understanding the reason behind the attrition"
      ]
    },
    {
      "cell_type": "code",
      "metadata": {
        "colab": {
          "base_uri": "https://localhost:8080/",
          "height": 296
        },
        "id": "wAiZUfFV-S_P",
        "outputId": "a8609d16-73fd-4d86-fcef-eb556b0c9e1f"
      },
      "source": [
        "sns.countplot(x=\"Gender\",data=df_hr,hue=\"Attrition\")"
      ],
      "execution_count": 13,
      "outputs": [
        {
          "output_type": "execute_result",
          "data": {
            "text/plain": [
              "<matplotlib.axes._subplots.AxesSubplot at 0x7faae76d8d50>"
            ]
          },
          "metadata": {
            "tags": []
          },
          "execution_count": 13
        },
        {
          "output_type": "display_data",
          "data": {
            "image/png": "[encoded data removed]",
            "text/plain": [
              "<Figure size 432x288 with 1 Axes>"
            ]
          },
          "metadata": {
            "tags": [],
            "needs_background": "light"
          }
        }
      ]
    },
    {
      "cell_type": "markdown",
      "metadata": {
        "id": "Pl6u7f3N-6zv"
      },
      "source": [
        "As checked the attrition ratio based on gender Male is high."
      ]
    },
    {
      "cell_type": "code",
      "metadata": {
        "colab": {
          "base_uri": "https://localhost:8080/",
          "height": 296
        },
        "id": "ccMfMqEr-3IQ",
        "outputId": "767ae94c-c22e-4d05-f2d6-421a45d6319e"
      },
      "source": [
        "sns.countplot(x=\"JobSatisfaction\",data=df_hr,hue=\"Attrition\")"
      ],
      "execution_count": 14,
      "outputs": [
        {
          "output_type": "execute_result",
          "data": {
            "text/plain": [
              "<matplotlib.axes._subplots.AxesSubplot at 0x7faae7658510>"
            ]
          },
          "metadata": {
            "tags": []
          },
          "execution_count": 14
        },
        {
          "output_type": "display_data",
          "data": {
            "image/png": "[encoded data removed]",
            "text/plain": [
              "<Figure size 432x288 with 1 Axes>"
            ]
          },
          "metadata": {
            "tags": [],
            "needs_background": "light"
          }
        }
      ]
    },
    {
      "cell_type": "markdown",
      "metadata": {
        "id": "7xkhzp84_LnN"
      },
      "source": [
        "As chacked the attrition ratio based on job satisfaction, job satisfaction increases proportion of aleavers decreases."
      ]
    },
    {
      "cell_type": "code",
      "metadata": {
        "colab": {
          "base_uri": "https://localhost:8080/",
          "height": 296
        },
        "id": "9JqgNHrD_IO0",
        "outputId": "f1f8ce4d-f048-427a-d401-51df6381e571"
      },
      "source": [
        "sns.countplot(x=\"MaritalStatus\",data=df_hr,hue=\"Attrition\")"
      ],
      "execution_count": 15,
      "outputs": [
        {
          "output_type": "execute_result",
          "data": {
            "text/plain": [
              "<matplotlib.axes._subplots.AxesSubplot at 0x7faae76eccd0>"
            ]
          },
          "metadata": {
            "tags": []
          },
          "execution_count": 15
        },
        {
          "output_type": "display_data",
          "data": {
            "image/png": "[encoded data removed]",
            "text/plain": [
              "<Figure size 432x288 with 1 Axes>"
            ]
          },
          "metadata": {
            "tags": [],
            "needs_background": "light"
          }
        }
      ]
    },
    {
      "cell_type": "markdown",
      "metadata": {
        "id": "YIZoukv2_i5d"
      },
      "source": [
        "As chacked the attrition ratio in MaritalStatus, in singles ratio is higher"
      ]
    },
    {
      "cell_type": "code",
      "metadata": {
        "colab": {
          "base_uri": "https://localhost:8080/",
          "height": 296
        },
        "id": "XiNyuYUG_eIf",
        "outputId": "23cf6b57-a378-426d-ea3e-54c07d43cdca"
      },
      "source": [
        "sns.countplot(x=\"OverTime\",data=df_hr,hue=\"Attrition\")"
      ],
      "execution_count": 16,
      "outputs": [
        {
          "output_type": "execute_result",
          "data": {
            "text/plain": [
              "<matplotlib.axes._subplots.AxesSubplot at 0x7faae756ca50>"
            ]
          },
          "metadata": {
            "tags": []
          },
          "execution_count": 16
        },
        {
          "output_type": "display_data",
          "data": {
            "image/png": "[encoded data removed]",
            "text/plain": [
              "<Figure size 432x288 with 1 Axes>"
            ]
          },
          "metadata": {
            "tags": [],
            "needs_background": "light"
          }
        }
      ]
    },
    {
      "cell_type": "markdown",
      "metadata": {
        "id": "XVtr6an8_t0J"
      },
      "source": [
        "As chacked the proportion of attrition based on overtime, overtime is there then attrition proportion is higher"
      ]
    },
    {
      "cell_type": "code",
      "metadata": {
        "colab": {
          "base_uri": "https://localhost:8080/",
          "height": 296
        },
        "id": "dFBAsrec_sf7",
        "outputId": "df28e104-de6b-42c5-bb89-0588945c61d8"
      },
      "source": [
        "sns.countplot(x=\"YearsWithCurrManager\",data=df_hr.loc[df_hr[\"Attrition\"]==\"Yes\"])"
      ],
      "execution_count": 17,
      "outputs": [
        {
          "output_type": "execute_result",
          "data": {
            "text/plain": [
              "<matplotlib.axes._subplots.AxesSubplot at 0x7faae75461d0>"
            ]
          },
          "metadata": {
            "tags": []
          },
          "execution_count": 17
        },
        {
          "output_type": "display_data",
          "data": {
            "image/png": "[encoded data removed]",
            "text/plain": [
              "<Figure size 432x288 with 1 Axes>"
            ]
          },
          "metadata": {
            "tags": [],
            "needs_background": "light"
          }
        }
      ]
    },
    {
      "cell_type": "markdown",
      "metadata": {
        "id": "pOW_DSLZALI3"
      },
      "source": [
        "we came to know that if years working wth current manager is 0 then attrition was very high Also after 2 years of working significant amut of people left\n",
        "so it can be new project they mved to they dint like job role or something else"
      ]
    },
    {
      "cell_type": "code",
      "metadata": {
        "colab": {
          "base_uri": "https://localhost:8080/",
          "height": 297
        },
        "id": "dsfnU4iiAE1F",
        "outputId": "8282d8bf-a3b7-4c0c-f735-95577d9da4de"
      },
      "source": [
        "sns.barplot(x=\"Attrition\",y=\"YearsAtCompany\",data=df_hr)"
      ],
      "execution_count": 18,
      "outputs": [
        {
          "output_type": "execute_result",
          "data": {
            "text/plain": [
              "<matplotlib.axes._subplots.AxesSubplot at 0x7faae7457610>"
            ]
          },
          "metadata": {
            "tags": []
          },
          "execution_count": 18
        },
        {
          "output_type": "display_data",
          "data": {
            "image/png": "[encoded data removed]",
            "text/plain": [
              "<Figure size 432x288 with 1 Axes>"
            ]
          },
          "metadata": {
            "tags": [],
            "needs_background": "light"
          }
        }
      ]
    },
    {
      "cell_type": "code",
      "metadata": {
        "id": "y58qOdFOAmzC"
      },
      "source": [
        ""
      ],
      "execution_count": 18,
      "outputs": []
    },
    {
      "cell_type": "markdown",
      "metadata": {
        "id": "YwY11Qt5Ao2T"
      },
      "source": [
        "Average working years of the employee who left and stayed, the average number of years employee is staying in the company before leaving."
      ]
    },
    {
      "cell_type": "code",
      "metadata": {
        "colab": {
          "base_uri": "https://localhost:8080/",
          "height": 296
        },
        "id": "3o4xH_q1A0V_",
        "outputId": "cb1f4b64-161e-43b2-f544-ccf656abf775"
      },
      "source": [
        "sns.countplot(x='YearsSinceLastPromotion' , data=df_hr[df_hr[\"Attrition\"]==\"Yes\"])"
      ],
      "execution_count": 19,
      "outputs": [
        {
          "output_type": "execute_result",
          "data": {
            "text/plain": [
              "<matplotlib.axes._subplots.AxesSubplot at 0x7faae73fe350>"
            ]
          },
          "metadata": {
            "tags": []
          },
          "execution_count": 19
        },
        {
          "output_type": "display_data",
          "data": {
            "image/png": "[encoded data removed]",
            "text/plain": [
              "<Figure size 432x288 with 1 Axes>"
            ]
          },
          "metadata": {
            "tags": [],
            "needs_background": "light"
          }
        }
      ]
    },
    {
      "cell_type": "markdown",
      "metadata": {
        "id": "EPCp_5-RBiT9"
      },
      "source": [
        "Check the time laped since  last promotion, majority almost half of people left not even single year passed since last promotion.\n",
        "\n",
        "we can conclude promotion is not the factr why people left the company"
      ]
    },
    {
      "cell_type": "code",
      "metadata": {
        "colab": {
          "base_uri": "https://localhost:8080/",
          "height": 296
        },
        "id": "ejGVMktEBdRS",
        "outputId": "cefddec7-0136-45a7-9ce4-d5a53f1adde2"
      },
      "source": [
        "sns.countplot(x=\"PerformanceRating\",data=df_hr.loc[df_hr[\"Attrition\"]==\"Yes\"])"
      ],
      "execution_count": 20,
      "outputs": [
        {
          "output_type": "execute_result",
          "data": {
            "text/plain": [
              "<matplotlib.axes._subplots.AxesSubplot at 0x7faae7317950>"
            ]
          },
          "metadata": {
            "tags": []
          },
          "execution_count": 20
        },
        {
          "output_type": "display_data",
          "data": {
            "image/png": "[encoded data removed]",
            "text/plain": [
              "<Figure size 432x288 with 1 Axes>"
            ]
          },
          "metadata": {
            "tags": [],
            "needs_background": "light"
          }
        }
      ]
    },
    {
      "cell_type": "markdown",
      "metadata": {
        "id": "MdA0S2xMB5bl"
      },
      "source": [
        "As checked how performnce rating is afecting attrition level, may be since they expect that their work deserves more rating and is undervalued.\n",
        "\n",
        "Almost all the people who left were who got rating 3"
      ]
    },
    {
      "cell_type": "code",
      "metadata": {
        "id": "CMcmLk-2Ekqa"
      },
      "source": [
        "#from dataprep.eda import create_report\n",
        "#create_report(df_hr)"
      ],
      "execution_count": 21,
      "outputs": []
    },
    {
      "cell_type": "code",
      "metadata": {
        "id": "W25Qac_LFCXQ"
      },
      "source": [
        "#from pandas_profiling import ProfileReport\n",
        "#profile = ProfileReport(df_hr)\n",
        "#profile.to_widgets()\n",
        "#profile.to_file(\"output1.html\")"
      ],
      "execution_count": 22,
      "outputs": []
    },
    {
      "cell_type": "code",
      "metadata": {
        "id": "shbRAcdZJOQa"
      },
      "source": [
        "#sns.pairplot(df_hr)"
      ],
      "execution_count": 23,
      "outputs": []
    },
    {
      "cell_type": "code",
      "metadata": {
        "colab": {
          "base_uri": "https://localhost:8080/",
          "height": 618
        },
        "id": "zeHopFqwJjfQ",
        "outputId": "f4ea718b-f3ec-4ff8-ce0a-1523ff8a131c"
      },
      "source": [
        "plt.figure(figsize=(18,8))\n",
        "sns.heatmap(df_hr.corr(),annot=True)"
      ],
      "execution_count": 24,
      "outputs": [
        {
          "output_type": "execute_result",
          "data": {
            "text/plain": [
              "<matplotlib.axes._subplots.AxesSubplot at 0x7faae7367450>"
            ]
          },
          "metadata": {
            "tags": []
          },
          "execution_count": 24
        },
        {
          "output_type": "display_data",
          "data": {
            "image/png": "[encoded data removed]",
            "text/plain": [
              "<Figure size 1296x576 with 2 Axes>"
            ]
          },
          "metadata": {
            "tags": [],
            "needs_background": "light"
          }
        }
      ]
    },
    {
      "cell_type": "markdown",
      "metadata": {
        "id": "zqZoggGQLsRf"
      },
      "source": [
        "Few features are strongly correlated."
      ]
    },
    {
      "cell_type": "code",
      "metadata": {
        "id": "eRKNeQ24SI1K"
      },
      "source": [
        "df_x=df_hr.drop(columns=[\"Attrition\"])\n",
        "y=df_hr[[\"Attrition\"]]"
      ],
      "execution_count": 25,
      "outputs": []
    },
    {
      "cell_type": "markdown",
      "metadata": {
        "id": "HORr8yHaSXjS"
      },
      "source": [
        "Seprate dependent and independent features."
      ]
    },
    {
      "cell_type": "code",
      "metadata": {
        "colab": {
          "base_uri": "https://localhost:8080/"
        },
        "id": "jAY73tiQS5GK",
        "outputId": "356e1eb3-f751-444c-bd04-2cbfc5c4a43b"
      },
      "source": [
        "print(df_x.skew())\n",
        "print(\"Total count of numeric features: \",len(df_x.skew()))\n",
        "print(\"count of features which are significantly skewed: \",len(df_x.skew().loc[abs(df_x.skew())>0.5]))"
      ],
      "execution_count": 26,
      "outputs": [
        {
          "output_type": "stream",
          "text": [
            "Age                         0.413286\n",
            "DailyRate                  -0.003519\n",
            "DistanceFromHome            0.958118\n",
            "Education                  -0.289681\n",
            "EnvironmentSatisfaction    -0.321654\n",
            "HourlyRate                 -0.032311\n",
            "JobInvolvement             -0.498419\n",
            "JobLevel                    1.025401\n",
            "JobSatisfaction            -0.329672\n",
            "MonthlyIncome               1.369817\n",
            "MonthlyRate                 0.018578\n",
            "NumCompaniesWorked          1.026471\n",
            "PercentSalaryHike           0.821128\n",
            "PerformanceRating           1.921883\n",
            "RelationshipSatisfaction   -0.302828\n",
            "StockOptionLevel            0.968980\n",
            "TotalWorkingYears           1.117172\n",
            "TrainingTimesLastYear       0.553124\n",
            "WorkLifeBalance            -0.552480\n",
            "YearsAtCompany              1.764529\n",
            "YearsInCurrentRole          0.917363\n",
            "YearsSinceLastPromotion     1.984290\n",
            "YearsWithCurrManager        0.833451\n",
            "dtype: float64\n",
            "Total count of numeric features:  23\n",
            "count of features which are significantly skewed:  14\n"
          ],
          "name": "stdout"
        }
      ]
    },
    {
      "cell_type": "markdown",
      "metadata": {
        "id": "WU_VjxzkTE6c"
      },
      "source": [
        "Total count of numeric features:  26\n",
        "count of features which are significantly skewed:  14"
      ]
    },
    {
      "cell_type": "code",
      "metadata": {
        "colab": {
          "base_uri": "https://localhost:8080/"
        },
        "id": "hHZsJhNOSe5X",
        "outputId": "3d393e91-ed43-4c95-bcaa-74a0325343ed"
      },
      "source": [
        "import numpy as np\n",
        "for index in df_x.skew().index:\n",
        "    if df_x.skew().loc[index]>0.5:\n",
        "        df_x[index]=np.log1p(df_x[index])\n",
        "    if df_x.skew().loc[index]<-0.5:\n",
        "        df_x[index]=np.square(df_x[index])\n",
        "print(df_x.skew())\n",
        "print(\"Total count of numeric features: \",len(df_x.skew()))\n",
        "print(\"count of features which are significantly skewed: \",len(df_x.skew().loc[abs(df_x.skew())>0.5]))"
      ],
      "execution_count": 27,
      "outputs": [
        {
          "output_type": "stream",
          "text": [
            "Age                         0.413286\n",
            "DailyRate                  -0.003519\n",
            "DistanceFromHome           -0.029121\n",
            "Education                  -0.289681\n",
            "EnvironmentSatisfaction    -0.321654\n",
            "HourlyRate                 -0.032311\n",
            "JobInvolvement             -0.498419\n",
            "JobLevel                    0.448133\n",
            "JobSatisfaction            -0.329672\n",
            "MonthlyIncome               0.286448\n",
            "MonthlyRate                 0.018578\n",
            "NumCompaniesWorked          0.092896\n",
            "PercentSalaryHike           0.513543\n",
            "PerformanceRating           1.921883\n",
            "RelationshipSatisfaction   -0.302828\n",
            "StockOptionLevel            0.271963\n",
            "TotalWorkingYears           0.322355\n",
            "TrainingTimesLastYear       0.492375\n",
            "WorkLifeBalance             0.301318\n",
            "YearsAtCompany             -0.207708\n",
            "YearsInCurrentRole         -0.383498\n",
            "YearsSinceLastPromotion     0.718805\n",
            "YearsWithCurrManager       -0.357686\n",
            "dtype: float64\n",
            "Total count of numeric features:  23\n",
            "count of features which are significantly skewed:  3\n"
          ],
          "name": "stdout"
        }
      ]
    },
    {
      "cell_type": "markdown",
      "metadata": {
        "id": "hiIuGSSsTNuJ"
      },
      "source": [
        "Total count of numeric features:  26\n",
        "count of features which are significantly skewed:  3"
      ]
    },
    {
      "cell_type": "code",
      "metadata": {
        "id": "nZFXIAszSpoJ"
      },
      "source": [
        ""
      ],
      "execution_count": 27,
      "outputs": []
    },
    {
      "cell_type": "code",
      "metadata": {
        "colab": {
          "base_uri": "https://localhost:8080/"
        },
        "id": "e0R4t69xN3Gv",
        "outputId": "08e87944-66ce-49eb-bdfe-cd807c66caf6"
      },
      "source": [
        "print(df_x.dtypes.loc[df_x.dtypes==\"object\"])"
      ],
      "execution_count": 28,
      "outputs": [
        {
          "output_type": "stream",
          "text": [
            "BusinessTravel    object\n",
            "Department        object\n",
            "EducationField    object\n",
            "Gender            object\n",
            "JobRole           object\n",
            "MaritalStatus     object\n",
            "OverTime          object\n",
            "dtype: object\n"
          ],
          "name": "stdout"
        }
      ]
    },
    {
      "cell_type": "markdown",
      "metadata": {
        "id": "YLu1eBE5OEv7"
      },
      "source": [
        "There are 8 number of columns of object datatype"
      ]
    },
    {
      "cell_type": "code",
      "metadata": {
        "colab": {
          "base_uri": "https://localhost:8080/",
          "height": 456
        },
        "id": "pTQ-E5igQO71",
        "outputId": "53243df6-c552-4bc3-d3e5-0b196ebe4415"
      },
      "source": [
        "df_x=pd.get_dummies(df_x,drop_first=True)\n",
        "df_x"
      ],
      "execution_count": 29,
      "outputs": [
        {
          "output_type": "execute_result",
          "data": {
            "text/html": [
              "<div>\n",
              "<style scoped>\n",
              "    .dataframe tbody tr th:only-of-type {\n",
              "        vertical-align: middle;\n",
              "    }\n",
              "\n",
              "    .dataframe tbody tr th {\n",
              "        vertical-align: top;\n",
              "    }\n",
              "\n",
              "    .dataframe thead th {\n",
              "        text-align: right;\n",
              "    }\n",
              "</style>\n",
              "<table border=\"1\" class=\"dataframe\">\n",
              "  <thead>\n",
              "    <tr style=\"text-align: right;\">\n",
              "      <th></th>\n",
              "      <th>Age</th>\n",
              "      <th>DailyRate</th>\n",
              "      <th>DistanceFromHome</th>\n",
              "      <th>Education</th>\n",
              "      <th>EnvironmentSatisfaction</th>\n",
              "      <th>HourlyRate</th>\n",
              "      <th>JobInvolvement</th>\n",
              "      <th>JobLevel</th>\n",
              "      <th>JobSatisfaction</th>\n",
              "      <th>MonthlyIncome</th>\n",
              "      <th>MonthlyRate</th>\n",
              "      <th>NumCompaniesWorked</th>\n",
              "      <th>PercentSalaryHike</th>\n",
              "      <th>PerformanceRating</th>\n",
              "      <th>RelationshipSatisfaction</th>\n",
              "      <th>StockOptionLevel</th>\n",
              "      <th>TotalWorkingYears</th>\n",
              "      <th>TrainingTimesLastYear</th>\n",
              "      <th>WorkLifeBalance</th>\n",
              "      <th>YearsAtCompany</th>\n",
              "      <th>YearsInCurrentRole</th>\n",
              "      <th>YearsSinceLastPromotion</th>\n",
              "      <th>YearsWithCurrManager</th>\n",
              "      <th>BusinessTravel_Travel_Frequently</th>\n",
              "      <th>BusinessTravel_Travel_Rarely</th>\n",
              "      <th>Department_Research &amp; Development</th>\n",
              "      <th>Department_Sales</th>\n",
              "      <th>EducationField_Life Sciences</th>\n",
              "      <th>EducationField_Marketing</th>\n",
              "      <th>EducationField_Medical</th>\n",
              "      <th>EducationField_Other</th>\n",
              "      <th>EducationField_Technical Degree</th>\n",
              "      <th>Gender_Male</th>\n",
              "      <th>JobRole_Human Resources</th>\n",
              "      <th>JobRole_Laboratory Technician</th>\n",
              "      <th>JobRole_Manager</th>\n",
              "      <th>JobRole_Manufacturing Director</th>\n",
              "      <th>JobRole_Research Director</th>\n",
              "      <th>JobRole_Research Scientist</th>\n",
              "      <th>JobRole_Sales Executive</th>\n",
              "      <th>JobRole_Sales Representative</th>\n",
              "      <th>MaritalStatus_Married</th>\n",
              "      <th>MaritalStatus_Single</th>\n",
              "      <th>OverTime_Yes</th>\n",
              "    </tr>\n",
              "  </thead>\n",
              "  <tbody>\n",
              "    <tr>\n",
              "      <th>0</th>\n",
              "      <td>41</td>\n",
              "      <td>1102</td>\n",
              "      <td>0.693147</td>\n",
              "      <td>2</td>\n",
              "      <td>2</td>\n",
              "      <td>94</td>\n",
              "      <td>3</td>\n",
              "      <td>1.098612</td>\n",
              "      <td>4</td>\n",
              "      <td>8.698514</td>\n",
              "      <td>19479</td>\n",
              "      <td>2.197225</td>\n",
              "      <td>2.484907</td>\n",
              "      <td>1.386294</td>\n",
              "      <td>1</td>\n",
              "      <td>0.000000</td>\n",
              "      <td>4.827796</td>\n",
              "      <td>0.000000</td>\n",
              "      <td>1</td>\n",
              "      <td>1.945910</td>\n",
              "      <td>1.609438</td>\n",
              "      <td>0.000000</td>\n",
              "      <td>1.791759</td>\n",
              "      <td>0</td>\n",
              "      <td>1</td>\n",
              "      <td>0</td>\n",
              "      <td>1</td>\n",
              "      <td>1</td>\n",
              "      <td>0</td>\n",
              "      <td>0</td>\n",
              "      <td>0</td>\n",
              "      <td>0</td>\n",
              "      <td>0</td>\n",
              "      <td>0</td>\n",
              "      <td>0</td>\n",
              "      <td>0</td>\n",
              "      <td>0</td>\n",
              "      <td>0</td>\n",
              "      <td>0</td>\n",
              "      <td>1</td>\n",
              "      <td>0</td>\n",
              "      <td>0</td>\n",
              "      <td>1</td>\n",
              "      <td>1</td>\n",
              "    </tr>\n",
              "    <tr>\n",
              "      <th>1</th>\n",
              "      <td>49</td>\n",
              "      <td>279</td>\n",
              "      <td>2.197225</td>\n",
              "      <td>1</td>\n",
              "      <td>3</td>\n",
              "      <td>61</td>\n",
              "      <td>2</td>\n",
              "      <td>1.098612</td>\n",
              "      <td>2</td>\n",
              "      <td>8.543056</td>\n",
              "      <td>24907</td>\n",
              "      <td>0.693147</td>\n",
              "      <td>3.178054</td>\n",
              "      <td>1.609438</td>\n",
              "      <td>4</td>\n",
              "      <td>0.693147</td>\n",
              "      <td>5.749902</td>\n",
              "      <td>1.921812</td>\n",
              "      <td>9</td>\n",
              "      <td>2.397895</td>\n",
              "      <td>2.079442</td>\n",
              "      <td>0.693147</td>\n",
              "      <td>2.079442</td>\n",
              "      <td>1</td>\n",
              "      <td>0</td>\n",
              "      <td>1</td>\n",
              "      <td>0</td>\n",
              "      <td>1</td>\n",
              "      <td>0</td>\n",
              "      <td>0</td>\n",
              "      <td>0</td>\n",
              "      <td>0</td>\n",
              "      <td>1</td>\n",
              "      <td>0</td>\n",
              "      <td>0</td>\n",
              "      <td>0</td>\n",
              "      <td>0</td>\n",
              "      <td>0</td>\n",
              "      <td>1</td>\n",
              "      <td>0</td>\n",
              "      <td>0</td>\n",
              "      <td>1</td>\n",
              "      <td>0</td>\n",
              "      <td>0</td>\n",
              "    </tr>\n",
              "    <tr>\n",
              "      <th>2</th>\n",
              "      <td>37</td>\n",
              "      <td>1373</td>\n",
              "      <td>1.098612</td>\n",
              "      <td>2</td>\n",
              "      <td>4</td>\n",
              "      <td>92</td>\n",
              "      <td>2</td>\n",
              "      <td>0.693147</td>\n",
              "      <td>3</td>\n",
              "      <td>7.645398</td>\n",
              "      <td>2396</td>\n",
              "      <td>1.945910</td>\n",
              "      <td>2.772589</td>\n",
              "      <td>1.386294</td>\n",
              "      <td>2</td>\n",
              "      <td>0.000000</td>\n",
              "      <td>4.324077</td>\n",
              "      <td>1.921812</td>\n",
              "      <td>9</td>\n",
              "      <td>0.000000</td>\n",
              "      <td>0.000000</td>\n",
              "      <td>0.000000</td>\n",
              "      <td>0.000000</td>\n",
              "      <td>0</td>\n",
              "      <td>1</td>\n",
              "      <td>1</td>\n",
              "      <td>0</td>\n",
              "      <td>0</td>\n",
              "      <td>0</td>\n",
              "      <td>0</td>\n",
              "      <td>1</td>\n",
              "      <td>0</td>\n",
              "      <td>1</td>\n",
              "      <td>0</td>\n",
              "      <td>1</td>\n",
              "      <td>0</td>\n",
              "      <td>0</td>\n",
              "      <td>0</td>\n",
              "      <td>0</td>\n",
              "      <td>0</td>\n",
              "      <td>0</td>\n",
              "      <td>0</td>\n",
              "      <td>1</td>\n",
              "      <td>1</td>\n",
              "    </tr>\n",
              "    <tr>\n",
              "      <th>3</th>\n",
              "      <td>33</td>\n",
              "      <td>1392</td>\n",
              "      <td>1.386294</td>\n",
              "      <td>4</td>\n",
              "      <td>4</td>\n",
              "      <td>56</td>\n",
              "      <td>3</td>\n",
              "      <td>0.693147</td>\n",
              "      <td>3</td>\n",
              "      <td>7.975908</td>\n",
              "      <td>23159</td>\n",
              "      <td>0.693147</td>\n",
              "      <td>2.484907</td>\n",
              "      <td>1.386294</td>\n",
              "      <td>3</td>\n",
              "      <td>0.000000</td>\n",
              "      <td>4.827796</td>\n",
              "      <td>1.921812</td>\n",
              "      <td>9</td>\n",
              "      <td>2.197225</td>\n",
              "      <td>2.079442</td>\n",
              "      <td>1.386294</td>\n",
              "      <td>0.000000</td>\n",
              "      <td>1</td>\n",
              "      <td>0</td>\n",
              "      <td>1</td>\n",
              "      <td>0</td>\n",
              "      <td>1</td>\n",
              "      <td>0</td>\n",
              "      <td>0</td>\n",
              "      <td>0</td>\n",
              "      <td>0</td>\n",
              "      <td>0</td>\n",
              "      <td>0</td>\n",
              "      <td>0</td>\n",
              "      <td>0</td>\n",
              "      <td>0</td>\n",
              "      <td>0</td>\n",
              "      <td>1</td>\n",
              "      <td>0</td>\n",
              "      <td>0</td>\n",
              "      <td>1</td>\n",
              "      <td>0</td>\n",
              "      <td>1</td>\n",
              "    </tr>\n",
              "    <tr>\n",
              "      <th>4</th>\n",
              "      <td>27</td>\n",
              "      <td>591</td>\n",
              "      <td>1.098612</td>\n",
              "      <td>1</td>\n",
              "      <td>1</td>\n",
              "      <td>40</td>\n",
              "      <td>3</td>\n",
              "      <td>0.693147</td>\n",
              "      <td>2</td>\n",
              "      <td>8.151622</td>\n",
              "      <td>16632</td>\n",
              "      <td>2.302585</td>\n",
              "      <td>2.564949</td>\n",
              "      <td>1.386294</td>\n",
              "      <td>4</td>\n",
              "      <td>0.693147</td>\n",
              "      <td>3.786566</td>\n",
              "      <td>1.921812</td>\n",
              "      <td>9</td>\n",
              "      <td>1.098612</td>\n",
              "      <td>1.098612</td>\n",
              "      <td>1.098612</td>\n",
              "      <td>1.098612</td>\n",
              "      <td>0</td>\n",
              "      <td>1</td>\n",
              "      <td>1</td>\n",
              "      <td>0</td>\n",
              "      <td>0</td>\n",
              "      <td>0</td>\n",
              "      <td>1</td>\n",
              "      <td>0</td>\n",
              "      <td>0</td>\n",
              "      <td>1</td>\n",
              "      <td>0</td>\n",
              "      <td>1</td>\n",
              "      <td>0</td>\n",
              "      <td>0</td>\n",
              "      <td>0</td>\n",
              "      <td>0</td>\n",
              "      <td>0</td>\n",
              "      <td>0</td>\n",
              "      <td>1</td>\n",
              "      <td>0</td>\n",
              "      <td>0</td>\n",
              "    </tr>\n",
              "    <tr>\n",
              "      <th>...</th>\n",
              "      <td>...</td>\n",
              "      <td>...</td>\n",
              "      <td>...</td>\n",
              "      <td>...</td>\n",
              "      <td>...</td>\n",
              "      <td>...</td>\n",
              "      <td>...</td>\n",
              "      <td>...</td>\n",
              "      <td>...</td>\n",
              "      <td>...</td>\n",
              "      <td>...</td>\n",
              "      <td>...</td>\n",
              "      <td>...</td>\n",
              "      <td>...</td>\n",
              "      <td>...</td>\n",
              "      <td>...</td>\n",
              "      <td>...</td>\n",
              "      <td>...</td>\n",
              "      <td>...</td>\n",
              "      <td>...</td>\n",
              "      <td>...</td>\n",
              "      <td>...</td>\n",
              "      <td>...</td>\n",
              "      <td>...</td>\n",
              "      <td>...</td>\n",
              "      <td>...</td>\n",
              "      <td>...</td>\n",
              "      <td>...</td>\n",
              "      <td>...</td>\n",
              "      <td>...</td>\n",
              "      <td>...</td>\n",
              "      <td>...</td>\n",
              "      <td>...</td>\n",
              "      <td>...</td>\n",
              "      <td>...</td>\n",
              "      <td>...</td>\n",
              "      <td>...</td>\n",
              "      <td>...</td>\n",
              "      <td>...</td>\n",
              "      <td>...</td>\n",
              "      <td>...</td>\n",
              "      <td>...</td>\n",
              "      <td>...</td>\n",
              "      <td>...</td>\n",
              "    </tr>\n",
              "    <tr>\n",
              "      <th>1465</th>\n",
              "      <td>36</td>\n",
              "      <td>884</td>\n",
              "      <td>3.178054</td>\n",
              "      <td>2</td>\n",
              "      <td>3</td>\n",
              "      <td>41</td>\n",
              "      <td>4</td>\n",
              "      <td>1.098612</td>\n",
              "      <td>4</td>\n",
              "      <td>7.852439</td>\n",
              "      <td>12290</td>\n",
              "      <td>1.609438</td>\n",
              "      <td>2.890372</td>\n",
              "      <td>1.386294</td>\n",
              "      <td>3</td>\n",
              "      <td>0.693147</td>\n",
              "      <td>8.354249</td>\n",
              "      <td>1.921812</td>\n",
              "      <td>9</td>\n",
              "      <td>1.791759</td>\n",
              "      <td>1.098612</td>\n",
              "      <td>0.000000</td>\n",
              "      <td>1.386294</td>\n",
              "      <td>1</td>\n",
              "      <td>0</td>\n",
              "      <td>1</td>\n",
              "      <td>0</td>\n",
              "      <td>0</td>\n",
              "      <td>0</td>\n",
              "      <td>1</td>\n",
              "      <td>0</td>\n",
              "      <td>0</td>\n",
              "      <td>1</td>\n",
              "      <td>0</td>\n",
              "      <td>1</td>\n",
              "      <td>0</td>\n",
              "      <td>0</td>\n",
              "      <td>0</td>\n",
              "      <td>0</td>\n",
              "      <td>0</td>\n",
              "      <td>0</td>\n",
              "      <td>1</td>\n",
              "      <td>0</td>\n",
              "      <td>0</td>\n",
              "    </tr>\n",
              "    <tr>\n",
              "      <th>1466</th>\n",
              "      <td>39</td>\n",
              "      <td>613</td>\n",
              "      <td>1.945910</td>\n",
              "      <td>1</td>\n",
              "      <td>4</td>\n",
              "      <td>42</td>\n",
              "      <td>2</td>\n",
              "      <td>1.386294</td>\n",
              "      <td>1</td>\n",
              "      <td>9.209540</td>\n",
              "      <td>21457</td>\n",
              "      <td>1.609438</td>\n",
              "      <td>2.772589</td>\n",
              "      <td>1.386294</td>\n",
              "      <td>1</td>\n",
              "      <td>0.693147</td>\n",
              "      <td>5.301898</td>\n",
              "      <td>3.210402</td>\n",
              "      <td>9</td>\n",
              "      <td>2.079442</td>\n",
              "      <td>2.079442</td>\n",
              "      <td>0.693147</td>\n",
              "      <td>2.079442</td>\n",
              "      <td>0</td>\n",
              "      <td>1</td>\n",
              "      <td>1</td>\n",
              "      <td>0</td>\n",
              "      <td>0</td>\n",
              "      <td>0</td>\n",
              "      <td>1</td>\n",
              "      <td>0</td>\n",
              "      <td>0</td>\n",
              "      <td>1</td>\n",
              "      <td>0</td>\n",
              "      <td>0</td>\n",
              "      <td>0</td>\n",
              "      <td>0</td>\n",
              "      <td>0</td>\n",
              "      <td>0</td>\n",
              "      <td>0</td>\n",
              "      <td>0</td>\n",
              "      <td>1</td>\n",
              "      <td>0</td>\n",
              "      <td>0</td>\n",
              "    </tr>\n",
              "    <tr>\n",
              "      <th>1467</th>\n",
              "      <td>27</td>\n",
              "      <td>155</td>\n",
              "      <td>1.609438</td>\n",
              "      <td>3</td>\n",
              "      <td>2</td>\n",
              "      <td>87</td>\n",
              "      <td>4</td>\n",
              "      <td>1.098612</td>\n",
              "      <td>2</td>\n",
              "      <td>8.723069</td>\n",
              "      <td>5174</td>\n",
              "      <td>0.693147</td>\n",
              "      <td>3.044522</td>\n",
              "      <td>1.609438</td>\n",
              "      <td>2</td>\n",
              "      <td>0.693147</td>\n",
              "      <td>3.786566</td>\n",
              "      <td>0.000000</td>\n",
              "      <td>9</td>\n",
              "      <td>1.945910</td>\n",
              "      <td>1.098612</td>\n",
              "      <td>0.000000</td>\n",
              "      <td>1.386294</td>\n",
              "      <td>0</td>\n",
              "      <td>1</td>\n",
              "      <td>1</td>\n",
              "      <td>0</td>\n",
              "      <td>1</td>\n",
              "      <td>0</td>\n",
              "      <td>0</td>\n",
              "      <td>0</td>\n",
              "      <td>0</td>\n",
              "      <td>1</td>\n",
              "      <td>0</td>\n",
              "      <td>0</td>\n",
              "      <td>0</td>\n",
              "      <td>1</td>\n",
              "      <td>0</td>\n",
              "      <td>0</td>\n",
              "      <td>0</td>\n",
              "      <td>0</td>\n",
              "      <td>1</td>\n",
              "      <td>0</td>\n",
              "      <td>1</td>\n",
              "    </tr>\n",
              "    <tr>\n",
              "      <th>1468</th>\n",
              "      <td>49</td>\n",
              "      <td>1023</td>\n",
              "      <td>1.098612</td>\n",
              "      <td>3</td>\n",
              "      <td>4</td>\n",
              "      <td>63</td>\n",
              "      <td>2</td>\n",
              "      <td>1.098612</td>\n",
              "      <td>2</td>\n",
              "      <td>8.592486</td>\n",
              "      <td>13243</td>\n",
              "      <td>1.098612</td>\n",
              "      <td>2.708050</td>\n",
              "      <td>1.386294</td>\n",
              "      <td>4</td>\n",
              "      <td>0.000000</td>\n",
              "      <td>8.354249</td>\n",
              "      <td>1.921812</td>\n",
              "      <td>4</td>\n",
              "      <td>2.302585</td>\n",
              "      <td>1.945910</td>\n",
              "      <td>0.000000</td>\n",
              "      <td>2.197225</td>\n",
              "      <td>1</td>\n",
              "      <td>0</td>\n",
              "      <td>0</td>\n",
              "      <td>1</td>\n",
              "      <td>0</td>\n",
              "      <td>0</td>\n",
              "      <td>1</td>\n",
              "      <td>0</td>\n",
              "      <td>0</td>\n",
              "      <td>1</td>\n",
              "      <td>0</td>\n",
              "      <td>0</td>\n",
              "      <td>0</td>\n",
              "      <td>0</td>\n",
              "      <td>0</td>\n",
              "      <td>0</td>\n",
              "      <td>1</td>\n",
              "      <td>0</td>\n",
              "      <td>1</td>\n",
              "      <td>0</td>\n",
              "      <td>0</td>\n",
              "    </tr>\n",
              "    <tr>\n",
              "      <th>1469</th>\n",
              "      <td>34</td>\n",
              "      <td>628</td>\n",
              "      <td>2.197225</td>\n",
              "      <td>3</td>\n",
              "      <td>2</td>\n",
              "      <td>82</td>\n",
              "      <td>4</td>\n",
              "      <td>1.098612</td>\n",
              "      <td>3</td>\n",
              "      <td>8.390496</td>\n",
              "      <td>10228</td>\n",
              "      <td>1.098612</td>\n",
              "      <td>2.564949</td>\n",
              "      <td>1.386294</td>\n",
              "      <td>1</td>\n",
              "      <td>0.000000</td>\n",
              "      <td>3.786566</td>\n",
              "      <td>1.921812</td>\n",
              "      <td>16</td>\n",
              "      <td>1.609438</td>\n",
              "      <td>1.386294</td>\n",
              "      <td>0.693147</td>\n",
              "      <td>1.098612</td>\n",
              "      <td>0</td>\n",
              "      <td>1</td>\n",
              "      <td>1</td>\n",
              "      <td>0</td>\n",
              "      <td>0</td>\n",
              "      <td>0</td>\n",
              "      <td>1</td>\n",
              "      <td>0</td>\n",
              "      <td>0</td>\n",
              "      <td>1</td>\n",
              "      <td>0</td>\n",
              "      <td>1</td>\n",
              "      <td>0</td>\n",
              "      <td>0</td>\n",
              "      <td>0</td>\n",
              "      <td>0</td>\n",
              "      <td>0</td>\n",
              "      <td>0</td>\n",
              "      <td>1</td>\n",
              "      <td>0</td>\n",
              "      <td>0</td>\n",
              "    </tr>\n",
              "  </tbody>\n",
              "</table>\n",
              "<p>1470 rows × 44 columns</p>\n",
              "</div>"
            ],
            "text/plain": [
              "      Age  DailyRate  ...  MaritalStatus_Single  OverTime_Yes\n",
              "0      41       1102  ...                     1             1\n",
              "1      49        279  ...                     0             0\n",
              "2      37       1373  ...                     1             1\n",
              "3      33       1392  ...                     0             1\n",
              "4      27        591  ...                     0             0\n",
              "...   ...        ...  ...                   ...           ...\n",
              "1465   36        884  ...                     0             0\n",
              "1466   39        613  ...                     0             0\n",
              "1467   27        155  ...                     0             1\n",
              "1468   49       1023  ...                     0             0\n",
              "1469   34        628  ...                     0             0\n",
              "\n",
              "[1470 rows x 44 columns]"
            ]
          },
          "metadata": {
            "tags": []
          },
          "execution_count": 29
        }
      ]
    },
    {
      "cell_type": "markdown",
      "metadata": {
        "id": "NaDbkGxiQvlK"
      },
      "source": [
        "Using one hot encoding convert above columns to 1 and 0."
      ]
    },
    {
      "cell_type": "code",
      "metadata": {
        "colab": {
          "base_uri": "https://localhost:8080/"
        },
        "id": "btemswoUL8Pm",
        "outputId": "546efbe4-217b-440b-ea47-0c68aacb1761"
      },
      "source": [
        "from scipy.stats import zscore\n",
        "z_score=abs(zscore(df_x))\n",
        "print(df_x.shape)\n",
        "df_x_final=df_x.loc[(z_score<3).all(axis=1)]\n",
        "print(df_x_final.shape)"
      ],
      "execution_count": 30,
      "outputs": [
        {
          "output_type": "stream",
          "text": [
            "(1470, 44)\n",
            "(856, 44)\n"
          ],
          "name": "stdout"
        }
      ]
    },
    {
      "cell_type": "markdown",
      "metadata": {
        "id": "yDU2rQAwRGuu"
      },
      "source": [
        "As per above more than 50% data will loss need to avoid."
      ]
    },
    {
      "cell_type": "code",
      "metadata": {
        "id": "fQirtpFNRcT9"
      },
      "source": [
        "from sklearn.preprocessing import StandardScaler\n",
        "sc=StandardScaler()\n",
        "sc.fit(df_x)\n",
        "x=sc.transform(df_x)\n",
        "x=pd.DataFrame(x,columns=df_x.columns)"
      ],
      "execution_count": 31,
      "outputs": []
    },
    {
      "cell_type": "markdown",
      "metadata": {
        "id": "rA8_MnPTUveQ"
      },
      "source": [
        "Converted features to common scale as we will use logistic regression also"
      ]
    },
    {
      "cell_type": "code",
      "metadata": {
        "colab": {
          "base_uri": "https://localhost:8080/"
        },
        "id": "NoPkIvtfUt4m",
        "outputId": "1b5ef034-4bf4-469d-d90c-4b8a3846c5c8"
      },
      "source": [
        "from sklearn.preprocessing import LabelEncoder\n",
        "le=LabelEncoder()\n",
        "le.fit(y)\n",
        "y=le.transform(y)\n",
        "y"
      ],
      "execution_count": 32,
      "outputs": [
        {
          "output_type": "stream",
          "text": [
            "/usr/local/lib/python3.7/dist-packages/sklearn/preprocessing/_label.py:235: DataConversionWarning: A column-vector y was passed when a 1d array was expected. Please change the shape of y to (n_samples, ), for example using ravel().\n",
            "  y = column_or_1d(y, warn=True)\n",
            "/usr/local/lib/python3.7/dist-packages/sklearn/preprocessing/_label.py:268: DataConversionWarning: A column-vector y was passed when a 1d array was expected. Please change the shape of y to (n_samples, ), for example using ravel().\n",
            "  y = column_or_1d(y, warn=True)\n"
          ],
          "name": "stderr"
        },
        {
          "output_type": "execute_result",
          "data": {
            "text/plain": [
              "array([1, 0, 1, ..., 0, 0, 0])"
            ]
          },
          "metadata": {
            "tags": []
          },
          "execution_count": 32
        }
      ]
    },
    {
      "cell_type": "markdown",
      "metadata": {
        "id": "s9ypUirqVEa1"
      },
      "source": [
        "Convert target class into integers using labelencoder "
      ]
    },
    {
      "cell_type": "code",
      "metadata": {
        "colab": {
          "base_uri": "https://localhost:8080/"
        },
        "id": "i5M7gxaXGAE5",
        "outputId": "3c07e413-609c-46a5-a16a-ebb964201c51"
      },
      "source": [
        "from sklearn.ensemble import ExtraTreesClassifier\n",
        "import matplotlib.pyplot as plt\n",
        "model = ExtraTreesClassifier()\n",
        "model.fit(x,y)"
      ],
      "execution_count": 33,
      "outputs": [
        {
          "output_type": "execute_result",
          "data": {
            "text/plain": [
              "ExtraTreesClassifier(bootstrap=False, ccp_alpha=0.0, class_weight=None,\n",
              "                     criterion='gini', max_depth=None, max_features='auto',\n",
              "                     max_leaf_nodes=None, max_samples=None,\n",
              "                     min_impurity_decrease=0.0, min_impurity_split=None,\n",
              "                     min_samples_leaf=1, min_samples_split=2,\n",
              "                     min_weight_fraction_leaf=0.0, n_estimators=100,\n",
              "                     n_jobs=None, oob_score=False, random_state=None, verbose=0,\n",
              "                     warm_start=False)"
            ]
          },
          "metadata": {
            "tags": []
          },
          "execution_count": 33
        }
      ]
    },
    {
      "cell_type": "code",
      "metadata": {
        "colab": {
          "base_uri": "https://localhost:8080/"
        },
        "id": "gRdApIMpGIGs",
        "outputId": "259ad9e6-f06c-43f6-a32f-86d2c0e6d1c8"
      },
      "source": [
        "print(model.feature_importances_)"
      ],
      "execution_count": 34,
      "outputs": [
        {
          "output_type": "stream",
          "text": [
            "[0.03734581 0.02764983 0.03255467 0.02671694 0.03260322 0.02976342\n",
            " 0.0300291  0.03017699 0.03262999 0.03723708 0.02699647 0.02858658\n",
            " 0.02695558 0.01156023 0.02991862 0.02767519 0.03671453 0.02525502\n",
            " 0.03061361 0.03363913 0.03048054 0.02724213 0.03385303 0.02030274\n",
            " 0.01470485 0.01012486 0.01072409 0.01537022 0.01022109 0.0159304\n",
            " 0.00624593 0.013034   0.02031969 0.00693228 0.01514045 0.00427079\n",
            " 0.00713454 0.00231031 0.0113923  0.00851626 0.01208045 0.01532402\n",
            " 0.02732913 0.0663939 ]\n"
          ],
          "name": "stdout"
        }
      ]
    },
    {
      "cell_type": "code",
      "metadata": {
        "colab": {
          "base_uri": "https://localhost:8080/",
          "height": 265
        },
        "id": "wkcuDvuTGKZ6",
        "outputId": "864262d8-1234-4f40-83e7-09155528e8b2"
      },
      "source": [
        "#plot graph of feature importances for better visualization\n",
        "feat_importances = pd.Series(model.feature_importances_, index=x.columns)\n",
        "feat_importances.nlargest(5).plot(kind='barh')\n",
        "plt.show()"
      ],
      "execution_count": 35,
      "outputs": [
        {
          "output_type": "display_data",
          "data": {
            "image/png": "[encoded data removed]",
            "text/plain": [
              "<Figure size 432x288 with 1 Axes>"
            ]
          },
          "metadata": {
            "tags": [],
            "needs_background": "light"
          }
        }
      ]
    },
    {
      "cell_type": "code",
      "metadata": {
        "colab": {
          "base_uri": "https://localhost:8080/"
        },
        "id": "94wMzYu9U8ql",
        "outputId": "3bcfd10f-3300-4ca7-b697-75924581ce0a"
      },
      "source": [
        "from imblearn.over_sampling import SMOTE\n",
        "from sklearn.metrics import roc_auc_score\n",
        "from sklearn.model_selection import train_test_split\n",
        "def max_aucroc_score(clf,df_x,y):\n",
        "    max_aucroc_score=0\n",
        "    for r_state in range(42,100):\n",
        "        x_train, x_test, y_train, y_test = train_test_split(df_x, y,random_state = r_state,test_size=0.20,stratify=y)\n",
        "        x_train, y_train = SMOTE().fit_sample(x_train, y_train)\n",
        "        clf.fit(x_train,y_train)\n",
        "        y_pred = clf.predict(x_test)\n",
        "        aucroc_scr=roc_auc_score(y_test,y_pred)\n",
        "        print(\"auc roc score corresponding to \",r_state,\" is \",aucroc_scr)\n",
        "        if aucroc_scr>max_aucroc_score:\n",
        "            max_aucroc_score=aucroc_scr\n",
        "            final_r_state=r_state\n",
        "    print(\"max auc roc score corresponding to \",final_r_state,\" is \",max_aucroc_score)\n",
        "    return final_r_state"
      ],
      "execution_count": 36,
      "outputs": [
        {
          "output_type": "stream",
          "text": [
            "/usr/local/lib/python3.7/dist-packages/sklearn/externals/six.py:31: FutureWarning: The module is deprecated in version 0.21 and will be removed in version 0.23 since we've dropped support for Python 2.7. Please rely on the official version of six (https://pypi.org/project/six/).\n",
            "  \"(https://pypi.org/project/six/).\", FutureWarning)\n",
            "/usr/local/lib/python3.7/dist-packages/sklearn/utils/deprecation.py:144: FutureWarning: The sklearn.neighbors.base module is  deprecated in version 0.22 and will be removed in version 0.24. The corresponding classes / functions should instead be imported from sklearn.neighbors. Anything that cannot be imported from sklearn.neighbors is now part of the private API.\n",
            "  warnings.warn(message, FutureWarning)\n"
          ],
          "name": "stderr"
        }
      ]
    },
    {
      "cell_type": "markdown",
      "metadata": {
        "id": "4xvnSD1WVebj"
      },
      "source": [
        "Data is imbalance so applied SMOTE and  we will focus on auc-roc score and build a functions for finding random state where auc roc is maximum."
      ]
    },
    {
      "cell_type": "code",
      "metadata": {
        "colab": {
          "base_uri": "https://localhost:8080/"
        },
        "id": "ITK2K6ISVcDA",
        "outputId": "18f75b4c-a1e5-4446-bd66-74e01afa96d1"
      },
      "source": [
        "from sklearn.linear_model import LogisticRegression\n",
        "import warnings\n",
        "warnings.filterwarnings(\"ignore\")\n",
        "lg_clf=LogisticRegression()\n",
        "max_aucroc_score(lg_clf,x,y)"
      ],
      "execution_count": 37,
      "outputs": [
        {
          "output_type": "stream",
          "text": [
            "auc roc score corresponding to  42  is  0.7093203548970627\n",
            "auc roc score corresponding to  43  is  0.7984753208717373\n",
            "auc roc score corresponding to  44  is  0.76806787837023\n",
            "auc roc score corresponding to  45  is  0.7285726591437677\n",
            "auc roc score corresponding to  46  is  0.7103540356619864\n",
            "auc roc score corresponding to  47  is  0.7270652080282539\n",
            "auc roc score corresponding to  48  is  0.748815574123525\n",
            "auc roc score corresponding to  49  is  0.7625118442587647\n",
            "auc roc score corresponding to  50  is  0.8172107847359807\n",
            "auc roc score corresponding to  51  is  0.8334481867516581\n",
            "auc roc score corresponding to  52  is  0.7473511930398828\n",
            "auc roc score corresponding to  53  is  0.814669652855543\n",
            "auc roc score corresponding to  54  is  0.726548367645792\n",
            "auc roc score corresponding to  55  is  0.741235248514084\n",
            "auc roc score corresponding to  56  is  0.761004393143251\n",
            "auc roc score corresponding to  57  is  0.7493324145059868\n",
            "auc roc score corresponding to  58  is  0.7042811611680593\n",
            "auc roc score corresponding to  59  is  0.8258247911103453\n",
            "auc roc score corresponding to  60  is  0.7660435868722542\n",
            "auc roc score corresponding to  61  is  0.7619950038763028\n",
            "auc roc score corresponding to  62  is  0.7270652080282539\n",
            "auc roc score corresponding to  63  is  0.7366698251356706\n",
            "auc roc score corresponding to  64  is  0.7245240761478163\n",
            "auc roc score corresponding to  65  is  0.7964510293737617\n",
            "auc roc score corresponding to  66  is  0.7898613144973727\n",
            "auc roc score corresponding to  67  is  0.779739857007494\n",
            "auc roc score corresponding to  68  is  0.774657593246619\n",
            "auc roc score corresponding to  69  is  0.726074597295202\n",
            "auc roc score corresponding to  70  is  0.8380136101300714\n",
            "auc roc score corresponding to  71  is  0.7518735463864243\n",
            "auc roc score corresponding to  72  is  0.7589801016452752\n",
            "auc roc score corresponding to  73  is  0.7022568696700835\n",
            "auc roc score corresponding to  74  is  0.7422258592471359\n",
            "auc roc score corresponding to  75  is  0.767077267637178\n",
            "auc roc score corresponding to  76  is  0.7574295804978896\n",
            "auc roc score corresponding to  77  is  0.746834352657421\n",
            "auc roc score corresponding to  78  is  0.773666982513567\n",
            "auc roc score corresponding to  79  is  0.7843052803859074\n",
            "auc roc score corresponding to  80  is  0.7549315186493238\n",
            "auc roc score corresponding to  81  is  0.7711258506331294\n",
            "auc roc score corresponding to  82  is  0.8258247911103453\n",
            "auc roc score corresponding to  83  is  0.7078559738134207\n",
            "auc roc score corresponding to  84  is  0.7594969420277371\n",
            "auc roc score corresponding to  85  is  0.7270652080282539\n",
            "auc roc score corresponding to  86  is  0.7508829356533724\n",
            "auc roc score corresponding to  87  is  0.7792230166250323\n",
            "auc roc score corresponding to  88  is  0.741235248514084\n",
            "auc roc score corresponding to  89  is  0.7903781548798345\n",
            "auc roc score corresponding to  90  is  0.7650529761392023\n",
            "auc roc score corresponding to  91  is  0.7209923335343269\n",
            "auc roc score corresponding to  92  is  0.7640623654061505\n",
            "auc roc score corresponding to  93  is  0.7564389697648376\n",
            "auc roc score corresponding to  94  is  0.7467912826255492\n",
            "auc roc score corresponding to  95  is  0.7569558101472995\n",
            "auc roc score corresponding to  96  is  0.7483418037729348\n",
            "auc roc score corresponding to  97  is  0.7437763803945215\n",
            "auc roc score corresponding to  98  is  0.7731501421311052\n",
            "auc roc score corresponding to  99  is  0.7179343612714273\n",
            "max auc roc score corresponding to  70  is  0.8380136101300714\n"
          ],
          "name": "stdout"
        },
        {
          "output_type": "execute_result",
          "data": {
            "text/plain": [
              "70"
            ]
          },
          "metadata": {
            "tags": []
          },
          "execution_count": 37
        }
      ]
    },
    {
      "cell_type": "markdown",
      "metadata": {
        "id": "0kgBFJchWQju"
      },
      "source": [
        "Using logistic regression find max auc roc score corresponding to  random state 70  is  0.8228098888793177."
      ]
    },
    {
      "cell_type": "code",
      "metadata": {
        "colab": {
          "base_uri": "https://localhost:8080/"
        },
        "id": "jcJYPCYBWLn8",
        "outputId": "92149974-5131-4e7b-9b06-5bc8f37178b9"
      },
      "source": [
        "from sklearn.model_selection import cross_val_score\n",
        "print(\"Mean roc auc score for logistic classifier: \",cross_val_score(lg_clf,x,y,cv=5,scoring=\"roc_auc\").mean())\n",
        "print(\"standard deviation in roc auc score for logistic classifier: \",cross_val_score(lg_clf,x,y,cv=5,scoring=\"roc_auc\").std())\n",
        "print(cross_val_score(lg_clf,x,y,cv=5,scoring=\"roc_auc\"))"
      ],
      "execution_count": 38,
      "outputs": [
        {
          "output_type": "stream",
          "text": [
            "Mean roc auc score for logistic classifier:  0.8425184815957902\n",
            "standard deviation in roc auc score for logistic classifier:  0.018609160244716556\n",
            "[0.84281843 0.84569783 0.83607546 0.81505728 0.87294341]\n"
          ],
          "name": "stdout"
        }
      ]
    },
    {
      "cell_type": "code",
      "metadata": {
        "colab": {
          "base_uri": "https://localhost:8080/"
        },
        "id": "TXwK33QmWlg2",
        "outputId": "ef3e4956-739f-4944-e594-b43845c12c72"
      },
      "source": [
        "from sklearn.tree import DecisionTreeClassifier\n",
        "dc=DecisionTreeClassifier()\n",
        "max_aucroc_score(dc,df_x,y)"
      ],
      "execution_count": 39,
      "outputs": [
        {
          "output_type": "stream",
          "text": [
            "auc roc score corresponding to  42  is  0.6282194848824189\n",
            "auc roc score corresponding to  43  is  0.6363597209061934\n",
            "auc roc score corresponding to  44  is  0.6591437677663882\n",
            "auc roc score corresponding to  45  is  0.619131708157464\n",
            "auc roc score corresponding to  46  is  0.6479886295115858\n",
            "auc roc score corresponding to  47  is  0.6312774571453184\n",
            "auc roc score corresponding to  48  is  0.6692652252562666\n",
            "auc roc score corresponding to  49  is  0.5193384443104488\n",
            "auc roc score corresponding to  50  is  0.6489792402446377\n",
            "auc roc score corresponding to  51  is  0.6246877422689292\n",
            "auc roc score corresponding to  52  is  0.598371952795245\n",
            "auc roc score corresponding to  53  is  0.6459643380136101\n",
            "auc roc score corresponding to  54  is  0.5988457231458351\n",
            "auc roc score corresponding to  55  is  0.6312774571453184\n",
            "auc roc score corresponding to  56  is  0.6226634507709535\n",
            "auc roc score corresponding to  57  is  0.619131708157464\n",
            "auc roc score corresponding to  58  is  0.6373503316392455\n",
            "auc roc score corresponding to  59  is  0.6206391592729779\n",
            "auc roc score corresponding to  60  is  0.6180980273925403\n",
            "auc roc score corresponding to  61  is  0.5699888017917133\n",
            "auc roc score corresponding to  62  is  0.5674476699112758\n",
            "auc roc score corresponding to  63  is  0.5760616762856404\n",
            "auc roc score corresponding to  64  is  0.6115083125161513\n",
            "auc roc score corresponding to  65  is  0.6236971315358774\n",
            "auc roc score corresponding to  66  is  0.5988457231458351\n",
            "auc roc score corresponding to  67  is  0.6019036954087346\n",
            "auc roc score corresponding to  68  is  0.632784908260832\n",
            "auc roc score corresponding to  69  is  0.6120251528986131\n",
            "auc roc score corresponding to  70  is  0.6277026444999569\n",
            "auc roc score corresponding to  71  is  0.6307606167628563\n",
            "auc roc score corresponding to  72  is  0.6226634507709535\n",
            "auc roc score corresponding to  73  is  0.6165905762770264\n",
            "auc roc score corresponding to  74  is  0.633301748643294\n",
            "auc roc score corresponding to  75  is  0.6019036954087346\n",
            "auc roc score corresponding to  76  is  0.5826513911620294\n",
            "auc roc score corresponding to  77  is  0.5897579464208803\n",
            "auc roc score corresponding to  78  is  0.6434232061331726\n",
            "auc roc score corresponding to  79  is  0.6677577741407529\n",
            "auc roc score corresponding to  80  is  0.6631923507623395\n",
            "auc roc score corresponding to  81  is  0.6211559996554398\n",
            "auc roc score corresponding to  82  is  0.6778792316306314\n",
            "auc roc score corresponding to  83  is  0.5988887931777069\n",
            "auc roc score corresponding to  84  is  0.5831682315444914\n",
            "auc roc score corresponding to  85  is  0.6074597295201999\n",
            "auc roc score corresponding to  86  is  0.6287363252648808\n",
            "auc roc score corresponding to  87  is  0.6317942975277802\n",
            "auc roc score corresponding to  88  is  0.6631923507623395\n",
            "auc roc score corresponding to  89  is  0.5725299336721509\n",
            "auc roc score corresponding to  90  is  0.6008700146438108\n",
            "auc roc score corresponding to  91  is  0.5705056421741752\n",
            "auc roc score corresponding to  92  is  0.6094840210181756\n",
            "auc roc score corresponding to  93  is  0.59328968903437\n",
            "auc roc score corresponding to  94  is  0.5547850805409595\n",
            "auc roc score corresponding to  95  is  0.5791196485485399\n",
            "auc roc score corresponding to  96  is  0.612541993281075\n",
            "auc roc score corresponding to  97  is  0.6074597295201999\n",
            "auc roc score corresponding to  98  is  0.66013437849944\n",
            "auc roc score corresponding to  99  is  0.6049616676716341\n",
            "max auc roc score corresponding to  82  is  0.6778792316306314\n"
          ],
          "name": "stdout"
        },
        {
          "output_type": "execute_result",
          "data": {
            "text/plain": [
              "82"
            ]
          },
          "metadata": {
            "tags": []
          },
          "execution_count": 39
        }
      ]
    },
    {
      "cell_type": "markdown",
      "metadata": {
        "id": "Jdq7vXJwW_8h"
      },
      "source": [
        "Using DecisionTreeClassifier max auc roc score corresponding to  random state 93  is  0.7290464294943578"
      ]
    },
    {
      "cell_type": "code",
      "metadata": {
        "colab": {
          "base_uri": "https://localhost:8080/"
        },
        "id": "rxndIM-kWuEC",
        "outputId": "1f928b80-761f-41cd-d243-9aab0e131560"
      },
      "source": [
        "print(\"Mean auc roc score for decision tree classifier: \",cross_val_score(dc,df_x,y,cv=5,scoring=\"roc_auc\").mean())\n",
        "print(\"standard deviation in auc roc score for decision tree classifier: \",cross_val_score(dc,df_x,y,cv=5,scoring=\"roc_auc\").std())\n",
        "print(cross_val_score(dc,df_x,y,cv=5,scoring=\"roc_auc\"))"
      ],
      "execution_count": 40,
      "outputs": [
        {
          "output_type": "stream",
          "text": [
            "Mean auc roc score for decision tree classifier:  0.629571446179618\n",
            "standard deviation in auc roc score for decision tree classifier:  0.023120703785435296\n",
            "[0.63058943 0.625      0.6859764  0.57709536 0.64139891]\n"
          ],
          "name": "stdout"
        }
      ]
    },
    {
      "cell_type": "code",
      "metadata": {
        "colab": {
          "base_uri": "https://localhost:8080/"
        },
        "id": "zPYQcNLHXIfZ",
        "outputId": "d968faa1-378d-4a99-fafc-98c6cf86baca"
      },
      "source": [
        "from sklearn.ensemble import RandomForestClassifier\n",
        "from sklearn.model_selection import GridSearchCV\n",
        "n_estimators=[10,100,500]\n",
        "criterion=['entropy','gini']\n",
        "min_samples_split=[2,5,8]\n",
        "min_samples_leaf=[1,2,4]\n",
        "parameters={'n_estimators':n_estimators,'min_samples_split':min_samples_split,'min_samples_leaf':min_samples_leaf,'criterion':criterion}\n",
        "rf_clf=RandomForestClassifier()\n",
        "clf = GridSearchCV(rf_clf, parameters, cv=3,scoring=\"roc_auc\")\n",
        "clf.fit(df_x,y)\n",
        "clf.best_params_"
      ],
      "execution_count": 41,
      "outputs": [
        {
          "output_type": "execute_result",
          "data": {
            "text/plain": [
              "{'criterion': 'entropy',\n",
              " 'min_samples_leaf': 2,\n",
              " 'min_samples_split': 2,\n",
              " 'n_estimators': 100}"
            ]
          },
          "metadata": {
            "tags": []
          },
          "execution_count": 41
        }
      ]
    },
    {
      "cell_type": "code",
      "metadata": {
        "colab": {
          "base_uri": "https://localhost:8080/"
        },
        "id": "oasDYpxIfoPe",
        "outputId": "2b4927d2-7b00-40b8-a83c-852e300c3e7e"
      },
      "source": [
        "rf_clf=RandomForestClassifier(n_estimators=500,criterion='entropy',min_samples_leaf=2,min_samples_split=2,)\n",
        "max_aucroc_score(rf_clf,df_x,y)"
      ],
      "execution_count": 42,
      "outputs": [
        {
          "output_type": "stream",
          "text": [
            "auc roc score corresponding to  42  is  0.5835989318632095\n",
            "auc roc score corresponding to  43  is  0.6894650702041518\n",
            "auc roc score corresponding to  44  is  0.6322249978464984\n",
            "auc roc score corresponding to  45  is  0.5729606339908692\n",
            "auc roc score corresponding to  46  is  0.6261521233525713\n",
            "auc roc score corresponding to  47  is  0.6600913084675684\n",
            "auc roc score corresponding to  48  is  0.6600913084675684\n",
            "auc roc score corresponding to  49  is  0.5876475148591609\n",
            "auc roc score corresponding to  50  is  0.6494530105952279\n",
            "auc roc score corresponding to  51  is  0.5962615212335258\n",
            "auc roc score corresponding to  52  is  0.6160306658626927\n",
            "auc roc score corresponding to  53  is  0.6170212765957447\n",
            "auc roc score corresponding to  54  is  0.6048755276078904\n",
            "auc roc score corresponding to  55  is  0.5749849254888448\n",
            "auc roc score corresponding to  56  is  0.5815746403652338\n",
            "auc roc score corresponding to  57  is  0.5582737531225773\n",
            "auc roc score corresponding to  58  is  0.6155138254802308\n",
            "auc roc score corresponding to  59  is  0.6089241106038419\n",
            "auc roc score corresponding to  60  is  0.6149969850977689\n",
            "auc roc score corresponding to  61  is  0.6089241106038419\n",
            "auc roc score corresponding to  62  is  0.6175381169782066\n",
            "auc roc score corresponding to  63  is  0.6302007063485227\n",
            "auc roc score corresponding to  64  is  0.6256352829701094\n",
            "auc roc score corresponding to  65  is  0.6261521233525713\n",
            "auc roc score corresponding to  66  is  0.6089241106038419\n",
            "auc roc score corresponding to  67  is  0.5618054957360668\n",
            "auc roc score corresponding to  68  is  0.6003101042294772\n",
            "auc roc score corresponding to  69  is  0.6094409509863037\n",
            "auc roc score corresponding to  70  is  0.6302007063485227\n",
            "auc roc score corresponding to  71  is  0.6129726935997932\n",
            "auc roc score corresponding to  72  is  0.6322249978464984\n",
            "auc roc score corresponding to  73  is  0.6003101042294772\n",
            "auc roc score corresponding to  74  is  0.6514773020932035\n",
            "auc roc score corresponding to  75  is  0.6302007063485227\n",
            "auc roc score corresponding to  76  is  0.6180549573606685\n",
            "auc roc score corresponding to  77  is  0.6215866999741579\n",
            "auc roc score corresponding to  78  is  0.5683952106124559\n",
            "auc roc score corresponding to  79  is  0.6129726935997932\n",
            "auc roc score corresponding to  80  is  0.6980790765785166\n",
            "auc roc score corresponding to  81  is  0.6641398914635197\n",
            "auc roc score corresponding to  82  is  0.6302007063485227\n",
            "auc roc score corresponding to  83  is  0.6003101042294772\n",
            "auc roc score corresponding to  84  is  0.6494530105952279\n",
            "auc roc score corresponding to  85  is  0.6089241106038419\n",
            "auc roc score corresponding to  86  is  0.6195624084761823\n",
            "auc roc score corresponding to  87  is  0.5962615212335258\n",
            "auc roc score corresponding to  88  is  0.6023343957274528\n",
            "auc roc score corresponding to  89  is  0.6109484021018176\n",
            "auc roc score corresponding to  90  is  0.6382978723404256\n",
            "auc roc score corresponding to  91  is  0.5922129382375743\n",
            "auc roc score corresponding to  92  is  0.6023343957274528\n",
            "auc roc score corresponding to  93  is  0.6428632957188388\n",
            "auc roc score corresponding to  94  is  0.6129726935997932\n",
            "auc roc score corresponding to  95  is  0.6155138254802308\n",
            "auc roc score corresponding to  96  is  0.6256352829701094\n",
            "auc roc score corresponding to  97  is  0.655525885089155\n",
            "auc roc score corresponding to  98  is  0.5876475148591609\n",
            "auc roc score corresponding to  99  is  0.6302007063485227\n",
            "max auc roc score corresponding to  80  is  0.6980790765785166\n"
          ],
          "name": "stdout"
        },
        {
          "output_type": "execute_result",
          "data": {
            "text/plain": [
              "80"
            ]
          },
          "metadata": {
            "tags": []
          },
          "execution_count": 42
        }
      ]
    },
    {
      "cell_type": "markdown",
      "metadata": {
        "id": "RLAJFGpaAMeH"
      },
      "source": [
        "Using RandomForestClassifier max auc roc score corresponding to random state 80 is 0.6940304935825653"
      ]
    },
    {
      "cell_type": "code",
      "metadata": {
        "colab": {
          "base_uri": "https://localhost:8080/"
        },
        "id": "ePuMGproZ7Vf",
        "outputId": "507b299b-4080-4b5b-e781-f6dc6e8d9f97"
      },
      "source": [
        "from sklearn.model_selection import GridSearchCV \n",
        "from sklearn.neighbors import KNeighborsClassifier \n",
        "import warnings \n",
        "warnings.filterwarnings(\"ignore\") \n",
        "leaf_size = list(range(1,10)) \n",
        "n_neighbors = list(range(1,30)) \n",
        "p=[1,2] \n",
        "parameters={\"n_neighbors\":n_neighbors,\"leaf_size\":leaf_size, \"p\":p} \n",
        "kc=KNeighborsClassifier() \n",
        "clf = GridSearchCV(kc, parameters, cv=3,scoring=\"roc_auc\") \n",
        "clf.fit(x,y) \n",
        "clf.best_params_"
      ],
      "execution_count": 43,
      "outputs": [
        {
          "output_type": "execute_result",
          "data": {
            "text/plain": [
              "{'leaf_size': 1, 'n_neighbors': 28, 'p': 1}"
            ]
          },
          "metadata": {
            "tags": []
          },
          "execution_count": 43
        }
      ]
    },
    {
      "cell_type": "code",
      "metadata": {
        "colab": {
          "base_uri": "https://localhost:8080/"
        },
        "id": "4WbaPGp2lbRP",
        "outputId": "6c1bb1fb-65f9-49bc-c8d1-cf3047c7948a"
      },
      "source": [
        "kc=KNeighborsClassifier(n_neighbors=28, leaf_size=1,p=1 )\n",
        "max_aucroc_score(kc,x,y)"
      ],
      "execution_count": 44,
      "outputs": [
        {
          "output_type": "stream",
          "text": [
            "auc roc score corresponding to  42  is  0.6019467654406064\n",
            "auc roc score corresponding to  43  is  0.7361960547850805\n",
            "auc roc score corresponding to  44  is  0.6885605995348436\n",
            "auc roc score corresponding to  45  is  0.6318373675596519\n",
            "auc roc score corresponding to  46  is  0.6997157377896459\n",
            "auc roc score corresponding to  47  is  0.705788612283573\n",
            "auc roc score corresponding to  48  is  0.7072960633990869\n",
            "auc roc score corresponding to  49  is  0.6708588164355243\n",
            "auc roc score corresponding to  50  is  0.6135756740459988\n",
            "auc roc score corresponding to  51  is  0.7235334654147644\n",
            "auc roc score corresponding to  52  is  0.7356792144026186\n",
            "auc roc score corresponding to  53  is  0.7219829442673787\n",
            "auc roc score corresponding to  54  is  0.6642260315272632\n",
            "auc roc score corresponding to  55  is  0.6191747781893359\n",
            "auc roc score corresponding to  56  is  0.6728831079334998\n",
            "auc roc score corresponding to  57  is  0.6536308036867947\n",
            "auc roc score corresponding to  58  is  0.6323542079421138\n",
            "auc roc score corresponding to  59  is  0.7290894995262297\n",
            "auc roc score corresponding to  60  is  0.7199586527694031\n",
            "auc roc score corresponding to  61  is  0.6865363080368679\n",
            "auc roc score corresponding to  62  is  0.6693513653200105\n",
            "auc roc score corresponding to  63  is  0.6642260315272632\n",
            "auc roc score corresponding to  64  is  0.6895942802997674\n",
            "auc roc score corresponding to  65  is  0.6419588250495305\n",
            "auc roc score corresponding to  66  is  0.7209923335343269\n",
            "auc roc score corresponding to  67  is  0.6830045654233785\n",
            "auc roc score corresponding to  68  is  0.652080282539409\n",
            "auc roc score corresponding to  69  is  0.6880868291842535\n",
            "auc roc score corresponding to  70  is  0.7088465845464726\n",
            "auc roc score corresponding to  71  is  0.6652597122921872\n",
            "auc roc score corresponding to  72  is  0.6470410888104058\n",
            "auc roc score corresponding to  73  is  0.678439142044965\n",
            "auc roc score corresponding to  74  is  0.6850288569213542\n",
            "auc roc score corresponding to  75  is  0.7012231889051598\n",
            "auc roc score corresponding to  76  is  0.6308036867947282\n",
            "auc roc score corresponding to  77  is  0.699198897407184\n",
            "auc roc score corresponding to  78  is  0.6997157377896459\n",
            "auc roc score corresponding to  79  is  0.7235334654147644\n",
            "auc roc score corresponding to  80  is  0.7488586441553967\n",
            "auc roc score corresponding to  81  is  0.706305452666035\n",
            "auc roc score corresponding to  82  is  0.7179343612714273\n",
            "auc roc score corresponding to  83  is  0.6703419760530622\n",
            "auc roc score corresponding to  84  is  0.6830045654233785\n",
            "auc roc score corresponding to  85  is  0.7371866655181325\n",
            "auc roc score corresponding to  86  is  0.6824877250409165\n",
            "auc roc score corresponding to  87  is  0.7351623740201568\n",
            "auc roc score corresponding to  88  is  0.7032474804031356\n",
            "auc roc score corresponding to  89  is  0.6911017314152813\n",
            "auc roc score corresponding to  90  is  0.7098371952795244\n",
            "auc roc score corresponding to  91  is  0.693126022913257\n",
            "auc roc score corresponding to  92  is  0.6662933930571109\n",
            "auc roc score corresponding to  93  is  0.7458006718924972\n",
            "auc roc score corresponding to  94  is  0.6571625463002843\n",
            "auc roc score corresponding to  95  is  0.7134120079248859\n",
            "auc roc score corresponding to  96  is  0.7270652080282539\n",
            "auc roc score corresponding to  97  is  0.678955982427427\n",
            "auc roc score corresponding to  98  is  0.6217159100697733\n",
            "auc roc score corresponding to  99  is  0.6698251356706004\n",
            "max auc roc score corresponding to  80  is  0.7488586441553967\n"
          ],
          "name": "stdout"
        },
        {
          "output_type": "execute_result",
          "data": {
            "text/plain": [
              "80"
            ]
          },
          "metadata": {
            "tags": []
          },
          "execution_count": 44
        }
      ]
    },
    {
      "cell_type": "markdown",
      "metadata": {
        "id": "oQxZIG_2An5h"
      },
      "source": [
        "Using KNeighborsClassifier max auc roc score corresponding to random state 93 is 0.7589801016452752"
      ]
    },
    {
      "cell_type": "code",
      "metadata": {
        "colab": {
          "base_uri": "https://localhost:8080/"
        },
        "id": "L-LTl2zBdbsw",
        "outputId": "1f367ec4-7fad-4b60-a2ed-c26384c1128e"
      },
      "source": [
        "from sklearn.svm import SVC\n",
        "svc=SVC()\n",
        "parameters={\"kernel\":[\"linear\", \"poly\", \"rbf\"],\"C\":[0.1,1,10,100], 'gamma': [0.0001, 0.001,0.01, 0.1,1,10 ]}\n",
        "clf = GridSearchCV(svc, parameters, cv=3,scoring=\"roc_auc\")\n",
        "clf.fit(x,y)\n",
        "clf.best_params_"
      ],
      "execution_count": 45,
      "outputs": [
        {
          "output_type": "execute_result",
          "data": {
            "text/plain": [
              "{'C': 1, 'gamma': 0.01, 'kernel': 'rbf'}"
            ]
          },
          "metadata": {
            "tags": []
          },
          "execution_count": 45
        }
      ]
    },
    {
      "cell_type": "code",
      "metadata": {
        "colab": {
          "base_uri": "https://localhost:8080/"
        },
        "id": "Cqn1Ws9nawTd",
        "outputId": "c2772ead-d183-4bfe-df9b-c00fa6faf050"
      },
      "source": [
        "svc=SVC(kernel=\"rbf\",C=1,gamma=0.01)\n",
        "max_aucroc_score(svc,x,y)"
      ],
      "execution_count": 46,
      "outputs": [
        {
          "output_type": "stream",
          "text": [
            "auc roc score corresponding to  42  is  0.6819278146265828\n",
            "auc roc score corresponding to  43  is  0.7690584891032819\n",
            "auc roc score corresponding to  44  is  0.707252993367215\n",
            "auc roc score corresponding to  45  is  0.6966146954948746\n",
            "auc roc score corresponding to  46  is  0.6652166422603153\n",
            "auc roc score corresponding to  47  is  0.7032044103712637\n",
            "auc roc score corresponding to  48  is  0.7386510466017745\n",
            "auc roc score corresponding to  49  is  0.7528641571194763\n",
            "auc roc score corresponding to  50  is  0.6955810147299509\n",
            "auc roc score corresponding to  51  is  0.7817210784735982\n",
            "auc roc score corresponding to  52  is  0.7569127401154276\n",
            "auc roc score corresponding to  53  is  0.7685416487208201\n",
            "auc roc score corresponding to  54  is  0.7118184167456284\n",
            "auc roc score corresponding to  55  is  0.7032044103712637\n",
            "auc roc score corresponding to  56  is  0.6631923507623395\n",
            "auc roc score corresponding to  57  is  0.700663278490826\n",
            "auc roc score corresponding to  58  is  0.6991558273753122\n",
            "auc roc score corresponding to  59  is  0.7731070720992334\n",
            "auc roc score corresponding to  60  is  0.6900249806184856\n",
            "auc roc score corresponding to  61  is  0.714833318976656\n",
            "auc roc score corresponding to  62  is  0.7047549315186494\n",
            "auc roc score corresponding to  63  is  0.7067361529847531\n",
            "auc roc score corresponding to  64  is  0.7401584977172884\n",
            "auc roc score corresponding to  65  is  0.7619519338444312\n",
            "auc roc score corresponding to  66  is  0.7644930657248686\n",
            "auc roc score corresponding to  67  is  0.679903523128607\n",
            "auc roc score corresponding to  68  is  0.755362218968042\n",
            "auc roc score corresponding to  69  is  0.7543716082349902\n",
            "auc roc score corresponding to  70  is  0.7609613231113791\n",
            "auc roc score corresponding to  71  is  0.741709018864674\n",
            "auc roc score corresponding to  72  is  0.7229735550004307\n",
            "auc roc score corresponding to  73  is  0.7097941252476527\n",
            "auc roc score corresponding to  74  is  0.6960978551124127\n",
            "auc roc score corresponding to  75  is  0.7113015763631665\n",
            "auc roc score corresponding to  76  is  0.6834352657420967\n",
            "auc roc score corresponding to  77  is  0.7705659402187958\n",
            "auc roc score corresponding to  78  is  0.7118184167456284\n",
            "auc roc score corresponding to  79  is  0.7508398656215005\n",
            "auc roc score corresponding to  80  is  0.7710827806012577\n",
            "auc roc score corresponding to  81  is  0.7330950124903093\n",
            "auc roc score corresponding to  82  is  0.789818244465501\n",
            "auc roc score corresponding to  83  is  0.7629856146093548\n",
            "auc roc score corresponding to  84  is  0.7594538719958653\n",
            "auc roc score corresponding to  85  is  0.707252993367215\n",
            "auc roc score corresponding to  86  is  0.741709018864674\n",
            "auc roc score corresponding to  87  is  0.7224567146179688\n",
            "auc roc score corresponding to  88  is  0.7244810061159446\n",
            "auc roc score corresponding to  89  is  0.7741407528641571\n",
            "auc roc score corresponding to  90  is  0.7325781721078474\n",
            "auc roc score corresponding to  91  is  0.6652166422603153\n",
            "auc roc score corresponding to  92  is  0.735119303988285\n",
            "auc roc score corresponding to  93  is  0.7928762167284005\n",
            "auc roc score corresponding to  94  is  0.7660005168403825\n",
            "auc roc score corresponding to  95  is  0.7184081316220174\n",
            "auc roc score corresponding to  96  is  0.7538547678525283\n",
            "auc roc score corresponding to  97  is  0.7462744422430873\n",
            "auc roc score corresponding to  98  is  0.6885175295029717\n",
            "auc roc score corresponding to  99  is  0.6692652252562666\n",
            "max auc roc score corresponding to  93  is  0.7928762167284005\n"
          ],
          "name": "stdout"
        },
        {
          "output_type": "execute_result",
          "data": {
            "text/plain": [
              "93"
            ]
          },
          "metadata": {
            "tags": []
          },
          "execution_count": 46
        }
      ]
    },
    {
      "cell_type": "markdown",
      "metadata": {
        "id": "v0DiIzrtA5gW"
      },
      "source": [
        "Using SVC max auc roc score corresponding to random state 82 is 0.0.8050219657162546"
      ]
    },
    {
      "cell_type": "code",
      "metadata": {
        "colab": {
          "base_uri": "https://localhost:8080/"
        },
        "id": "yHs_cLF4mHGu",
        "outputId": "1fec148c-d6c7-4212-d652-cb38e6a4a6d1"
      },
      "source": [
        "from sklearn.ensemble import GradientBoostingClassifier\n",
        "parameters={\"learning_rate\":[0.001,0.01,0.1,1],\"n_estimators\":[10,100,500,1000]}\n",
        "gb_clf=GradientBoostingClassifier()\n",
        "clf = GridSearchCV(gb_clf, parameters, cv=5,scoring=\"roc_auc\")\n",
        "clf.fit(df_x,y)\n",
        "clf.best_params_"
      ],
      "execution_count": 47,
      "outputs": [
        {
          "output_type": "execute_result",
          "data": {
            "text/plain": [
              "{'learning_rate': 0.01, 'n_estimators': 500}"
            ]
          },
          "metadata": {
            "tags": []
          },
          "execution_count": 47
        }
      ]
    },
    {
      "cell_type": "code",
      "metadata": {
        "colab": {
          "base_uri": "https://localhost:8080/"
        },
        "id": "seoTLyd-pCYs",
        "outputId": "23a2b1f7-ef3b-4983-eec9-79d3a6c8e699"
      },
      "source": [
        "gb_clf=GradientBoostingClassifier(learning_rate=0.01,n_estimators=500)\n",
        "max_aucroc_score(gb_clf,df_x,y)"
      ],
      "execution_count": 48,
      "outputs": [
        {
          "output_type": "stream",
          "text": [
            "auc roc score corresponding to  42  is  0.6286932552330088\n",
            "auc roc score corresponding to  43  is  0.6793436127142733\n",
            "auc roc score corresponding to  44  is  0.675295029718322\n",
            "auc roc score corresponding to  45  is  0.6666810233439573\n",
            "auc roc score corresponding to  46  is  0.6246446722370574\n",
            "auc roc score corresponding to  47  is  0.681367904212249\n",
            "auc roc score corresponding to  48  is  0.6833921957102247\n",
            "auc roc score corresponding to  49  is  0.6454044275992764\n",
            "auc roc score corresponding to  50  is  0.6474287190972521\n",
            "auc roc score corresponding to  51  is  0.6666810233439573\n",
            "auc roc score corresponding to  52  is  0.6671978637264191\n",
            "auc roc score corresponding to  53  is  0.6727538978378843\n",
            "auc roc score corresponding to  54  is  0.6241278318545955\n",
            "auc roc score corresponding to  55  is  0.6160306658626927\n",
            "auc roc score corresponding to  56  is  0.6094409509863037\n",
            "auc roc score corresponding to  57  is  0.641355844603325\n",
            "auc roc score corresponding to  58  is  0.6560427254716169\n",
            "auc roc score corresponding to  59  is  0.6707296063399087\n",
            "auc roc score corresponding to  60  is  0.628176414850547\n",
            "auc roc score corresponding to  61  is  0.6155138254802308\n",
            "auc roc score corresponding to  62  is  0.6352829701093978\n",
            "auc roc score corresponding to  63  is  0.6388147127228874\n",
            "auc roc score corresponding to  64  is  0.6428632957188388\n",
            "auc roc score corresponding to  65  is  0.6793436127142733\n",
            "auc roc score corresponding to  66  is  0.7006202084589542\n",
            "auc roc score corresponding to  67  is  0.6499698509776898\n",
            "auc roc score corresponding to  68  is  0.6307175467309846\n",
            "auc roc score corresponding to  69  is  0.6839090360926867\n",
            "auc roc score corresponding to  70  is  0.6474287190972521\n",
            "auc roc score corresponding to  71  is  0.655525885089155\n",
            "auc roc score corresponding to  72  is  0.6580670169695926\n",
            "auc roc score corresponding to  73  is  0.6388147127228874\n",
            "auc roc score corresponding to  74  is  0.6666810233439573\n",
            "auc roc score corresponding to  75  is  0.6793436127142733\n",
            "auc roc score corresponding to  76  is  0.6074166594883279\n",
            "auc roc score corresponding to  77  is  0.634766129726936\n",
            "auc roc score corresponding to  78  is  0.6261521233525713\n",
            "auc roc score corresponding to  79  is  0.6793436127142733\n",
            "auc roc score corresponding to  80  is  0.7132827978292704\n",
            "auc roc score corresponding to  81  is  0.7193556723231975\n",
            "auc roc score corresponding to  82  is  0.641355844603325\n",
            "auc roc score corresponding to  83  is  0.6879576190886381\n",
            "auc roc score corresponding to  84  is  0.66060814885003\n",
            "auc roc score corresponding to  85  is  0.6367904212249117\n",
            "auc roc score corresponding to  86  is  0.6474287190972521\n",
            "auc roc score corresponding to  87  is  0.6707296063399087\n",
            "auc roc score corresponding to  88  is  0.6580670169695926\n",
            "auc roc score corresponding to  89  is  0.6965716254630029\n",
            "auc roc score corresponding to  90  is  0.662115599965544\n",
            "auc roc score corresponding to  91  is  0.6226203807390818\n",
            "auc roc score corresponding to  92  is  0.6560427254716169\n",
            "auc roc score corresponding to  93  is  0.6600913084675684\n",
            "auc roc score corresponding to  94  is  0.6600913084675684\n",
            "auc roc score corresponding to  95  is  0.634766129726936\n",
            "auc roc score corresponding to  96  is  0.634766129726936\n",
            "auc roc score corresponding to  97  is  0.66060814885003\n",
            "auc roc score corresponding to  98  is  0.6580670169695926\n",
            "auc roc score corresponding to  99  is  0.6286932552330088\n",
            "max auc roc score corresponding to  81  is  0.7193556723231975\n"
          ],
          "name": "stdout"
        },
        {
          "output_type": "execute_result",
          "data": {
            "text/plain": [
              "81"
            ]
          },
          "metadata": {
            "tags": []
          },
          "execution_count": 48
        }
      ]
    },
    {
      "cell_type": "markdown",
      "metadata": {
        "id": "4tWAZbsMBHft"
      },
      "source": [
        "Using GradientBoostingClassifier max auc roc score corresponding to random state 80 is 0.7239210957016109"
      ]
    },
    {
      "cell_type": "markdown",
      "metadata": {
        "id": "zADRk8J3rNWC"
      },
      "source": [
        "Lets use ada boosting using svm as an estimator"
      ]
    },
    {
      "cell_type": "code",
      "metadata": {
        "colab": {
          "base_uri": "https://localhost:8080/"
        },
        "id": "7yFDzNeApMd3",
        "outputId": "9fffe35e-44f3-40dd-eaa9-e3687a17a366"
      },
      "source": [
        "from sklearn.ensemble import AdaBoostClassifier\n",
        "#parameters={\"base_estimator\":[dc,lg_clf,svc],\"learning_rate\":[0.001,0.01,0.1,1],\"n_estimators\":[10,100,500,1000]}\n",
        "ada_clf=AdaBoostClassifier(base_estimator=svc,algorithm='SAMME')\n",
        "max_aucroc_score(ada_clf,x,y)"
      ],
      "execution_count": 49,
      "outputs": [
        {
          "output_type": "stream",
          "text": [
            "auc roc score corresponding to  42  is  0.7088465845464726\n",
            "auc roc score corresponding to  43  is  0.7848221207683693\n",
            "auc roc score corresponding to  44  is  0.6693082952881385\n",
            "auc roc score corresponding to  45  is  0.6647859419415971\n",
            "auc roc score corresponding to  46  is  0.7073391334309589\n",
            "auc roc score corresponding to  47  is  0.7103971056938583\n",
            "auc roc score corresponding to  48  is  0.7331811525540529\n",
            "auc roc score corresponding to  49  is  0.7169437505383753\n",
            "auc roc score corresponding to  50  is  0.7250409165302782\n",
            "auc roc score corresponding to  51  is  0.8010595227840469\n",
            "auc roc score corresponding to  52  is  0.7493754845378585\n",
            "auc roc score corresponding to  53  is  0.6901111206822292\n",
            "auc roc score corresponding to  54  is  0.664312171591007\n",
            "auc roc score corresponding to  55  is  0.7098371952795244\n",
            "auc roc score corresponding to  56  is  0.7113877164269101\n",
            "auc roc score corresponding to  57  is  0.6951503144112328\n",
            "auc roc score corresponding to  58  is  0.6814971143078646\n",
            "auc roc score corresponding to  59  is  0.7215091739167887\n",
            "auc roc score corresponding to  60  is  0.6739167886984236\n",
            "auc roc score corresponding to  61  is  0.7762081143940046\n",
            "auc roc score corresponding to  62  is  0.6972176759410802\n",
            "auc roc score corresponding to  63  is  0.7093203548970627\n",
            "auc roc score corresponding to  64  is  0.7529072271513482\n",
            "auc roc score corresponding to  65  is  0.7417520888965458\n",
            "auc roc score corresponding to  66  is  0.7549315186493238\n",
            "auc roc score corresponding to  67  is  0.7083297441640107\n",
            "auc roc score corresponding to  68  is  0.7782324058919803\n",
            "auc roc score corresponding to  69  is  0.7164699801877854\n",
            "auc roc score corresponding to  70  is  0.6982082866741323\n",
            "auc roc score corresponding to  71  is  0.75342406753381\n",
            "auc roc score corresponding to  72  is  0.75342406753381\n",
            "auc roc score corresponding to  73  is  0.7240503057972263\n",
            "auc roc score corresponding to  74  is  0.6901111206822292\n",
            "auc roc score corresponding to  75  is  0.7220260142992505\n",
            "auc roc score corresponding to  76  is  0.6637953312085451\n",
            "auc roc score corresponding to  77  is  0.7412783185459557\n",
            "auc roc score corresponding to  78  is  0.7255577569127402\n",
            "auc roc score corresponding to  79  is  0.7564820397967095\n",
            "auc roc score corresponding to  80  is  0.7179774313032992\n",
            "auc roc score corresponding to  81  is  0.6810233439572746\n",
            "auc roc score corresponding to  82  is  0.7371866655181325\n",
            "auc roc score corresponding to  83  is  0.7301231802911534\n",
            "auc roc score corresponding to  84  is  0.7022999397019555\n",
            "auc roc score corresponding to  85  is  0.7433026100439313\n",
            "auc roc score corresponding to  86  is  0.7159531398053234\n",
            "auc roc score corresponding to  87  is  0.7417951589284175\n",
            "auc roc score corresponding to  88  is  0.7195279524506848\n",
            "auc roc score corresponding to  89  is  0.7782324058919803\n",
            "auc roc score corresponding to  90  is  0.7787492462744423\n",
            "auc roc score corresponding to  91  is  0.7747006632784909\n",
            "auc roc score corresponding to  92  is  0.7230596950641743\n",
            "auc roc score corresponding to  93  is  0.7767249547764665\n",
            "auc roc score corresponding to  94  is  0.7296063399086915\n",
            "auc roc score corresponding to  95  is  0.7306400206736152\n",
            "auc roc score corresponding to  96  is  0.6951933844431045\n",
            "auc roc score corresponding to  97  is  0.7594969420277371\n",
            "auc roc score corresponding to  98  is  0.6956671547936946\n",
            "auc roc score corresponding to  99  is  0.6627616504436215\n",
            "max auc roc score corresponding to  51  is  0.8010595227840469\n"
          ],
          "name": "stdout"
        },
        {
          "output_type": "execute_result",
          "data": {
            "text/plain": [
              "51"
            ]
          },
          "metadata": {
            "tags": []
          },
          "execution_count": 49
        }
      ]
    },
    {
      "cell_type": "markdown",
      "metadata": {
        "id": "QPwtPyDZBVEa"
      },
      "source": [
        "Using AdaBoostClassifier max auc roc score corresponding to random state 51 is 0.8152295632698768"
      ]
    },
    {
      "cell_type": "code",
      "metadata": {
        "id": "vOGopylApTaH"
      },
      "source": [
        "#Lets choose svm as our final model and random state 82\n",
        "x_train, x_test, y_train, y_test = train_test_split(x, y,random_state = 70,test_size=0.20,stratify=y)\n",
        "x_train, y_train = SMOTE().fit_sample(x_train, y_train)\n",
        "svc=SVC(kernel=\"linear\",C=0.1,probability=True)\n",
        "svc.fit(x_train,y_train)\n",
        "y_pred=svc.predict(x_test)"
      ],
      "execution_count": 50,
      "outputs": []
    },
    {
      "cell_type": "code",
      "metadata": {
        "colab": {
          "base_uri": "https://localhost:8080/"
        },
        "id": "n3840VxTpv-X",
        "outputId": "42c4fb8f-ccc8-496a-8217-cda4e26c8982"
      },
      "source": [
        "from sklearn.metrics import confusion_matrix\n",
        "from sklearn.metrics import classification_report\n",
        "from sklearn.metrics import f1_score\n",
        "from sklearn.metrics import roc_auc_score\n",
        "print(\"Confusion matrix \\n\",confusion_matrix(y_test,y_pred))\n",
        "print(\"f1 score is : \",f1_score(y_test,y_pred))\n",
        "print(\"classification report \\n\",classification_report(y_test,y_pred))\n",
        "print(\"AUC ROC Score: \",roc_auc_score(y_test,y_pred))"
      ],
      "execution_count": 51,
      "outputs": [
        {
          "output_type": "stream",
          "text": [
            "Confusion matrix \n",
            " [[192  55]\n",
            " [  5  42]]\n",
            "f1 score is :  0.5833333333333334\n",
            "classification report \n",
            "               precision    recall  f1-score   support\n",
            "\n",
            "           0       0.97      0.78      0.86       247\n",
            "           1       0.43      0.89      0.58        47\n",
            "\n",
            "    accuracy                           0.80       294\n",
            "   macro avg       0.70      0.84      0.72       294\n",
            "weighted avg       0.89      0.80      0.82       294\n",
            "\n",
            "AUC ROC Score:  0.8354724782496339\n"
          ],
          "name": "stdout"
        }
      ]
    },
    {
      "cell_type": "markdown",
      "metadata": {
        "id": "SMldqBJHB-0B"
      },
      "source": [
        "As per aboveb svc model giving 85% AUC ROC Score."
      ]
    },
    {
      "cell_type": "code",
      "metadata": {
        "colab": {
          "base_uri": "https://localhost:8080/",
          "height": 282
        },
        "id": "Rx1huO2Sq8JW",
        "outputId": "206f4caa-da82-4037-badb-c4fb14114b3c"
      },
      "source": [
        "fpr, tpr, thresholds = roc_curve(y_test,svc.predict_proba(x_test)[:,1],pos_label=1)\n",
        "precision, recall, thresholds = precision_recall_curve(y_test,svc.predict_proba(x_test)[:,1],pos_label=1)\n",
        "plt.plot(fpr, tpr, label='SVC')\n",
        "plt.plot([0,1], [0,1], label='No Discrimination', linestyle='-', dashes=(1, 1))\n",
        "plt.legend()"
      ],
      "execution_count": 52,
      "outputs": [
        {
          "output_type": "execute_result",
          "data": {
            "text/plain": [
              "<matplotlib.legend.Legend at 0x7faad94f16d0>"
            ]
          },
          "metadata": {
            "tags": []
          },
          "execution_count": 52
        },
        {
          "output_type": "display_data",
          "data": {
            "image/png": "[encoded data removed]",
            "text/plain": [
              "<Figure size 432x288 with 1 Axes>"
            ]
          },
          "metadata": {
            "tags": [],
            "needs_background": "light"
          }
        }
      ]
    },
    {
      "cell_type": "markdown",
      "metadata": {
        "id": "faoFL7r_CQYh"
      },
      "source": [
        "Ploted AUC RUC curve of svc model"
      ]
    },
    {
      "cell_type": "code",
      "metadata": {
        "colab": {
          "base_uri": "https://localhost:8080/",
          "height": 312
        },
        "id": "TUK8pETOuBu6",
        "outputId": "f3ae3c2e-a4fa-47d4-8911-c72f72b04c11"
      },
      "source": [
        "precision, recall, thresholds = precision_recall_curve(y_test,svc.predict_proba(x_test)[:,1],pos_label=1)\n",
        "plt.plot(precision,recall, label=SVC)\n",
        "plt.xlabel(\"Precision\")\n",
        "plt.ylabel(\"Recall\")\n",
        "plt.title(\"Precision Recall Curve\")\n",
        "plt.legend()"
      ],
      "execution_count": 53,
      "outputs": [
        {
          "output_type": "execute_result",
          "data": {
            "text/plain": [
              "<matplotlib.legend.Legend at 0x7faad95edb50>"
            ]
          },
          "metadata": {
            "tags": []
          },
          "execution_count": 53
        },
        {
          "output_type": "display_data",
          "data": {
            "image/png": "[encoded data removed]",
            "text/plain": [
              "<Figure size 432x288 with 1 Axes>"
            ]
          },
          "metadata": {
            "tags": [],
            "needs_background": "light"
          }
        }
      ]
    },
    {
      "cell_type": "markdown",
      "metadata": {
        "id": "kQBhO2wwCaxm"
      },
      "source": [
        "Ploted Precision Recall Curve curve of SVC model."
      ]
    },
    {
      "cell_type": "markdown",
      "metadata": {
        "id": "wOvDnEbBCrlD"
      },
      "source": [
        "### Create a Function to find ROC, AUC, Prescision and recall curve for overall Module."
      ]
    },
    {
      "cell_type": "code",
      "metadata": {
        "id": "P-sVyQ_QxOY5"
      },
      "source": [
        "roc_dict = {} #ROC dict for TPR and FPR values\n",
        "prc_dict = {} #precision recall curve\n",
        "\n",
        "def modify_roc_dict(clf, y_test, x_test, name ,dict_modify): #modifies a dictionary in place and adds keys for ROC metrics\n",
        "  fpr, tpr, thresholds = roc_curve(y_test,clf.predict_proba(x_test)[:,1],pos_label=1)\n",
        "  clf_roc_dict = {'fpr':fpr, 'tpr': tpr, 'thresholds': thresholds}\n",
        "  dict_modify[name] = clf_roc_dict\n",
        "    \n",
        "def modify_prc_dict(clf, y_test, x_test, name ,dict_modify): #modifies a dictionary in place and adds keys for precision recall metrics\n",
        "  precision, recall, thresholds = precision_recall_curve(y_test,clf.predict_proba(x_test)[:,1],pos_label=1)\n",
        "  clf_prc_dict = {'precision':precision, 'recall': recall, 'thresholds': thresholds}\n",
        "  dict_modify[name] = clf_prc_dict"
      ],
      "execution_count": 54,
      "outputs": []
    },
    {
      "cell_type": "code",
      "metadata": {
        "id": "fOCfoIdvyXNo"
      },
      "source": [
        "def fit_score_clf(clf, x_train, y_train, x_test, y_test, name='clf'): \n",
        "  clf.fit(x_train, y_train) #fit to train data\n",
        "  y_pred = clf.predict(x_test) #make predictions\n",
        "  clf_report = pd.DataFrame(classification_report(y_test, y_pred, output_dict=True)) #make dataframe from report\n",
        "  clf_report['clf'] = name #add clf name as column\n",
        "  return clf_report"
      ],
      "execution_count": 55,
      "outputs": []
    },
    {
      "cell_type": "code",
      "metadata": {
        "colab": {
          "base_uri": "https://localhost:8080/",
          "height": 173
        },
        "id": "aqjBAqYVzFQv",
        "outputId": "2b5ed35d-979d-441e-f08c-ac9576e655f2"
      },
      "source": [
        "lr_report = fit_score_clf(svc, x_train, y_train, x_test, y_test, name='SupportVector')\n",
        "lr_report.head()"
      ],
      "execution_count": 56,
      "outputs": [
        {
          "output_type": "execute_result",
          "data": {
            "text/html": [
              "<div>\n",
              "<style scoped>\n",
              "    .dataframe tbody tr th:only-of-type {\n",
              "        vertical-align: middle;\n",
              "    }\n",
              "\n",
              "    .dataframe tbody tr th {\n",
              "        vertical-align: top;\n",
              "    }\n",
              "\n",
              "    .dataframe thead th {\n",
              "        text-align: right;\n",
              "    }\n",
              "</style>\n",
              "<table border=\"1\" class=\"dataframe\">\n",
              "  <thead>\n",
              "    <tr style=\"text-align: right;\">\n",
              "      <th></th>\n",
              "      <th>0</th>\n",
              "      <th>1</th>\n",
              "      <th>accuracy</th>\n",
              "      <th>macro avg</th>\n",
              "      <th>weighted avg</th>\n",
              "      <th>clf</th>\n",
              "    </tr>\n",
              "  </thead>\n",
              "  <tbody>\n",
              "    <tr>\n",
              "      <th>precision</th>\n",
              "      <td>0.974619</td>\n",
              "      <td>0.432990</td>\n",
              "      <td>0.795918</td>\n",
              "      <td>0.703804</td>\n",
              "      <td>0.888032</td>\n",
              "      <td>SupportVector</td>\n",
              "    </tr>\n",
              "    <tr>\n",
              "      <th>recall</th>\n",
              "      <td>0.777328</td>\n",
              "      <td>0.893617</td>\n",
              "      <td>0.795918</td>\n",
              "      <td>0.835472</td>\n",
              "      <td>0.795918</td>\n",
              "      <td>SupportVector</td>\n",
              "    </tr>\n",
              "    <tr>\n",
              "      <th>f1-score</th>\n",
              "      <td>0.864865</td>\n",
              "      <td>0.583333</td>\n",
              "      <td>0.795918</td>\n",
              "      <td>0.724099</td>\n",
              "      <td>0.819858</td>\n",
              "      <td>SupportVector</td>\n",
              "    </tr>\n",
              "    <tr>\n",
              "      <th>support</th>\n",
              "      <td>247.000000</td>\n",
              "      <td>47.000000</td>\n",
              "      <td>0.795918</td>\n",
              "      <td>294.000000</td>\n",
              "      <td>294.000000</td>\n",
              "      <td>SupportVector</td>\n",
              "    </tr>\n",
              "  </tbody>\n",
              "</table>\n",
              "</div>"
            ],
            "text/plain": [
              "                    0          1  ...  weighted avg            clf\n",
              "precision    0.974619   0.432990  ...      0.888032  SupportVector\n",
              "recall       0.777328   0.893617  ...      0.795918  SupportVector\n",
              "f1-score     0.864865   0.583333  ...      0.819858  SupportVector\n",
              "support    247.000000  47.000000  ...    294.000000  SupportVector\n",
              "\n",
              "[4 rows x 6 columns]"
            ]
          },
          "metadata": {
            "tags": []
          },
          "execution_count": 56
        }
      ]
    },
    {
      "cell_type": "code",
      "metadata": {
        "colab": {
          "base_uri": "https://localhost:8080/",
          "height": 173
        },
        "id": "hRo7Pkurzz1I",
        "outputId": "8ac08b7b-7751-4ba6-c9e6-71b67c6435ee"
      },
      "source": [
        "lr_report = fit_score_clf(rf_clf, x_train, y_train, x_test, y_test, name='RandomForest')\n",
        "lr_report.head()"
      ],
      "execution_count": 57,
      "outputs": [
        {
          "output_type": "execute_result",
          "data": {
            "text/html": [
              "<div>\n",
              "<style scoped>\n",
              "    .dataframe tbody tr th:only-of-type {\n",
              "        vertical-align: middle;\n",
              "    }\n",
              "\n",
              "    .dataframe tbody tr th {\n",
              "        vertical-align: top;\n",
              "    }\n",
              "\n",
              "    .dataframe thead th {\n",
              "        text-align: right;\n",
              "    }\n",
              "</style>\n",
              "<table border=\"1\" class=\"dataframe\">\n",
              "  <thead>\n",
              "    <tr style=\"text-align: right;\">\n",
              "      <th></th>\n",
              "      <th>0</th>\n",
              "      <th>1</th>\n",
              "      <th>accuracy</th>\n",
              "      <th>macro avg</th>\n",
              "      <th>weighted avg</th>\n",
              "      <th>clf</th>\n",
              "    </tr>\n",
              "  </thead>\n",
              "  <tbody>\n",
              "    <tr>\n",
              "      <th>precision</th>\n",
              "      <td>0.886029</td>\n",
              "      <td>0.727273</td>\n",
              "      <td>0.87415</td>\n",
              "      <td>0.806651</td>\n",
              "      <td>0.860650</td>\n",
              "      <td>RandomForest</td>\n",
              "    </tr>\n",
              "    <tr>\n",
              "      <th>recall</th>\n",
              "      <td>0.975709</td>\n",
              "      <td>0.340426</td>\n",
              "      <td>0.87415</td>\n",
              "      <td>0.658067</td>\n",
              "      <td>0.874150</td>\n",
              "      <td>RandomForest</td>\n",
              "    </tr>\n",
              "    <tr>\n",
              "      <th>f1-score</th>\n",
              "      <td>0.928709</td>\n",
              "      <td>0.463768</td>\n",
              "      <td>0.87415</td>\n",
              "      <td>0.696239</td>\n",
              "      <td>0.854382</td>\n",
              "      <td>RandomForest</td>\n",
              "    </tr>\n",
              "    <tr>\n",
              "      <th>support</th>\n",
              "      <td>247.000000</td>\n",
              "      <td>47.000000</td>\n",
              "      <td>0.87415</td>\n",
              "      <td>294.000000</td>\n",
              "      <td>294.000000</td>\n",
              "      <td>RandomForest</td>\n",
              "    </tr>\n",
              "  </tbody>\n",
              "</table>\n",
              "</div>"
            ],
            "text/plain": [
              "                    0          1  ...  weighted avg           clf\n",
              "precision    0.886029   0.727273  ...      0.860650  RandomForest\n",
              "recall       0.975709   0.340426  ...      0.874150  RandomForest\n",
              "f1-score     0.928709   0.463768  ...      0.854382  RandomForest\n",
              "support    247.000000  47.000000  ...    294.000000  RandomForest\n",
              "\n",
              "[4 rows x 6 columns]"
            ]
          },
          "metadata": {
            "tags": []
          },
          "execution_count": 57
        }
      ]
    },
    {
      "cell_type": "code",
      "metadata": {
        "colab": {
          "base_uri": "https://localhost:8080/",
          "height": 173
        },
        "id": "2KxB1QF20Mua",
        "outputId": "535d1f7d-1c97-4dbd-8d3a-a1f1520769bb"
      },
      "source": [
        "lr_report = fit_score_clf(ada_clf, x_train, y_train, x_test, y_test, name='AdaBoost')\n",
        "lr_report.head()"
      ],
      "execution_count": 58,
      "outputs": [
        {
          "output_type": "execute_result",
          "data": {
            "text/html": [
              "<div>\n",
              "<style scoped>\n",
              "    .dataframe tbody tr th:only-of-type {\n",
              "        vertical-align: middle;\n",
              "    }\n",
              "\n",
              "    .dataframe tbody tr th {\n",
              "        vertical-align: top;\n",
              "    }\n",
              "\n",
              "    .dataframe thead th {\n",
              "        text-align: right;\n",
              "    }\n",
              "</style>\n",
              "<table border=\"1\" class=\"dataframe\">\n",
              "  <thead>\n",
              "    <tr style=\"text-align: right;\">\n",
              "      <th></th>\n",
              "      <th>0</th>\n",
              "      <th>1</th>\n",
              "      <th>accuracy</th>\n",
              "      <th>macro avg</th>\n",
              "      <th>weighted avg</th>\n",
              "      <th>clf</th>\n",
              "    </tr>\n",
              "  </thead>\n",
              "  <tbody>\n",
              "    <tr>\n",
              "      <th>precision</th>\n",
              "      <td>0.941489</td>\n",
              "      <td>0.339623</td>\n",
              "      <td>0.72449</td>\n",
              "      <td>0.640556</td>\n",
              "      <td>0.845273</td>\n",
              "      <td>AdaBoost</td>\n",
              "    </tr>\n",
              "    <tr>\n",
              "      <th>recall</th>\n",
              "      <td>0.716599</td>\n",
              "      <td>0.765957</td>\n",
              "      <td>0.72449</td>\n",
              "      <td>0.741278</td>\n",
              "      <td>0.724490</td>\n",
              "      <td>AdaBoost</td>\n",
              "    </tr>\n",
              "    <tr>\n",
              "      <th>f1-score</th>\n",
              "      <td>0.813793</td>\n",
              "      <td>0.470588</td>\n",
              "      <td>0.72449</td>\n",
              "      <td>0.642191</td>\n",
              "      <td>0.758927</td>\n",
              "      <td>AdaBoost</td>\n",
              "    </tr>\n",
              "    <tr>\n",
              "      <th>support</th>\n",
              "      <td>247.000000</td>\n",
              "      <td>47.000000</td>\n",
              "      <td>0.72449</td>\n",
              "      <td>294.000000</td>\n",
              "      <td>294.000000</td>\n",
              "      <td>AdaBoost</td>\n",
              "    </tr>\n",
              "  </tbody>\n",
              "</table>\n",
              "</div>"
            ],
            "text/plain": [
              "                    0          1  accuracy   macro avg  weighted avg       clf\n",
              "precision    0.941489   0.339623   0.72449    0.640556      0.845273  AdaBoost\n",
              "recall       0.716599   0.765957   0.72449    0.741278      0.724490  AdaBoost\n",
              "f1-score     0.813793   0.470588   0.72449    0.642191      0.758927  AdaBoost\n",
              "support    247.000000  47.000000   0.72449  294.000000    294.000000  AdaBoost"
            ]
          },
          "metadata": {
            "tags": []
          },
          "execution_count": 58
        }
      ]
    },
    {
      "cell_type": "code",
      "metadata": {
        "colab": {
          "base_uri": "https://localhost:8080/",
          "height": 173
        },
        "id": "_5grjLhR0p2d",
        "outputId": "f34dfe1d-4b7d-4e98-89e7-6845b7c040ce"
      },
      "source": [
        "lr_report = fit_score_clf(gb_clf, x_train, y_train, x_test, y_test, name='GradientBoosting')\n",
        "lr_report.head()\n"
      ],
      "execution_count": 59,
      "outputs": [
        {
          "output_type": "execute_result",
          "data": {
            "text/html": [
              "<div>\n",
              "<style scoped>\n",
              "    .dataframe tbody tr th:only-of-type {\n",
              "        vertical-align: middle;\n",
              "    }\n",
              "\n",
              "    .dataframe tbody tr th {\n",
              "        vertical-align: top;\n",
              "    }\n",
              "\n",
              "    .dataframe thead th {\n",
              "        text-align: right;\n",
              "    }\n",
              "</style>\n",
              "<table border=\"1\" class=\"dataframe\">\n",
              "  <thead>\n",
              "    <tr style=\"text-align: right;\">\n",
              "      <th></th>\n",
              "      <th>0</th>\n",
              "      <th>1</th>\n",
              "      <th>accuracy</th>\n",
              "      <th>macro avg</th>\n",
              "      <th>weighted avg</th>\n",
              "      <th>clf</th>\n",
              "    </tr>\n",
              "  </thead>\n",
              "  <tbody>\n",
              "    <tr>\n",
              "      <th>precision</th>\n",
              "      <td>0.887640</td>\n",
              "      <td>0.629630</td>\n",
              "      <td>0.863946</td>\n",
              "      <td>0.758635</td>\n",
              "      <td>0.846394</td>\n",
              "      <td>GradientBoosting</td>\n",
              "    </tr>\n",
              "    <tr>\n",
              "      <th>recall</th>\n",
              "      <td>0.959514</td>\n",
              "      <td>0.361702</td>\n",
              "      <td>0.863946</td>\n",
              "      <td>0.660608</td>\n",
              "      <td>0.863946</td>\n",
              "      <td>GradientBoosting</td>\n",
              "    </tr>\n",
              "    <tr>\n",
              "      <th>f1-score</th>\n",
              "      <td>0.922179</td>\n",
              "      <td>0.459459</td>\n",
              "      <td>0.863946</td>\n",
              "      <td>0.690819</td>\n",
              "      <td>0.848207</td>\n",
              "      <td>GradientBoosting</td>\n",
              "    </tr>\n",
              "    <tr>\n",
              "      <th>support</th>\n",
              "      <td>247.000000</td>\n",
              "      <td>47.000000</td>\n",
              "      <td>0.863946</td>\n",
              "      <td>294.000000</td>\n",
              "      <td>294.000000</td>\n",
              "      <td>GradientBoosting</td>\n",
              "    </tr>\n",
              "  </tbody>\n",
              "</table>\n",
              "</div>"
            ],
            "text/plain": [
              "                    0          1  ...  weighted avg               clf\n",
              "precision    0.887640   0.629630  ...      0.846394  GradientBoosting\n",
              "recall       0.959514   0.361702  ...      0.863946  GradientBoosting\n",
              "f1-score     0.922179   0.459459  ...      0.848207  GradientBoosting\n",
              "support    247.000000  47.000000  ...    294.000000  GradientBoosting\n",
              "\n",
              "[4 rows x 6 columns]"
            ]
          },
          "metadata": {
            "tags": []
          },
          "execution_count": 59
        }
      ]
    },
    {
      "cell_type": "code",
      "metadata": {
        "colab": {
          "base_uri": "https://localhost:8080/"
        },
        "id": "YrLw5gic1-1T",
        "outputId": "33d5184a-59dc-4cca-d8a1-07857fc2a6c1"
      },
      "source": [
        "#see keys we have\n",
        "roc_dict.keys()"
      ],
      "execution_count": 60,
      "outputs": [
        {
          "output_type": "execute_result",
          "data": {
            "text/plain": [
              "dict_keys([])"
            ]
          },
          "metadata": {
            "tags": []
          },
          "execution_count": 60
        }
      ]
    },
    {
      "cell_type": "code",
      "metadata": {
        "id": "wlzxx1d98Dw5"
      },
      "source": [
        "modify_roc_dict(clf=svc,y_test=y_test,x_test=x_test,name='SupportVector',dict_modify=roc_dict)\n",
        "modify_roc_dict(clf=rf_clf,y_test=y_test,x_test=x_test,name='RandomForest',dict_modify=roc_dict)\n",
        "modify_roc_dict(clf=ada_clf,y_test=y_test,x_test=x_test,name='AdaBoost',dict_modify=roc_dict)\n",
        "modify_roc_dict(clf=gb_clf,y_test=y_test,x_test=x_test,name='GradientBoosting',dict_modify=roc_dict)"
      ],
      "execution_count": 61,
      "outputs": []
    },
    {
      "cell_type": "code",
      "metadata": {
        "colab": {
          "base_uri": "https://localhost:8080/",
          "height": 295
        },
        "id": "270QMU661mS8",
        "outputId": "55d4b800-6d9d-4bd9-89e1-8bdc27418ad6"
      },
      "source": [
        "for key in roc_dict:\n",
        "    clf = roc_dict[key]\n",
        "    plt.plot(clf['fpr'], clf['tpr'], label=key)\n",
        "plt.xlabel(\"FPR\")\n",
        "plt.ylabel(\"TPR\")\n",
        "plt.title(\"ROC\")\n",
        "plt.plot([0,1], [0,1], label='No Discrimination', linestyle='-', dashes=(5, 5))\n",
        "plt.legend()\n",
        "plt.show()"
      ],
      "execution_count": 62,
      "outputs": [
        {
          "output_type": "display_data",
          "data": {
            "image/png": "[encoded data removed]",
            "text/plain": [
              "<Figure size 432x288 with 1 Axes>"
            ]
          },
          "metadata": {
            "tags": [],
            "needs_background": "light"
          }
        }
      ]
    },
    {
      "cell_type": "markdown",
      "metadata": {
        "id": "HDvibOBaD7Gn"
      },
      "source": [
        "As per Above curve also its cleared that SVC is giving bet curve."
      ]
    },
    {
      "cell_type": "code",
      "metadata": {
        "id": "Z5CHJIV580i3"
      },
      "source": [
        "modify_prc_dict(clf=svc,y_test=y_test,x_test=x_test,name='SupportVector',dict_modify=prc_dict)\n",
        "modify_prc_dict(clf=rf_clf,y_test=y_test,x_test=x_test,name='RandomForest',dict_modify=prc_dict)\n",
        "modify_prc_dict(clf=ada_clf,y_test=y_test,x_test=x_test,name='AdaBoost',dict_modify=prc_dict)\n",
        "modify_prc_dict(clf=gb_clf,y_test=y_test,x_test=x_test,name='GradientBoosting',dict_modify=prc_dict)"
      ],
      "execution_count": 63,
      "outputs": []
    },
    {
      "cell_type": "code",
      "metadata": {
        "colab": {
          "base_uri": "https://localhost:8080/"
        },
        "id": "uET1CBt--Eju",
        "outputId": "68d2b2b6-f2e0-4615-d2b1-8e0e8147b4ca"
      },
      "source": [
        "prc_dict.keys()"
      ],
      "execution_count": 64,
      "outputs": [
        {
          "output_type": "execute_result",
          "data": {
            "text/plain": [
              "dict_keys(['SupportVector', 'RandomForest', 'AdaBoost', 'GradientBoosting'])"
            ]
          },
          "metadata": {
            "tags": []
          },
          "execution_count": 64
        }
      ]
    },
    {
      "cell_type": "code",
      "metadata": {
        "colab": {
          "base_uri": "https://localhost:8080/",
          "height": 295
        },
        "id": "LIulJR4boXpe",
        "outputId": "f965bee8-362c-4b52-c6b9-0c822f7cf1df"
      },
      "source": [
        "for key in prc_dict:\n",
        "  clf = prc_dict[key]\n",
        "  plt.plot(clf['precision'], clf['recall'], label=key)\n",
        "plt.xlabel(\"Precision\")\n",
        "plt.ylabel(\"Recall\")\n",
        "plt.title(\"Precision Recall Curve\")\n",
        "plt.legend()\n",
        "plt.show()"
      ],
      "execution_count": 65,
      "outputs": [
        {
          "output_type": "display_data",
          "data": {
            "image/png": "[encoded data removed]",
            "text/plain": [
              "<Figure size 432x288 with 1 Axes>"
            ]
          },
          "metadata": {
            "tags": [],
            "needs_background": "light"
          }
        }
      ]
    },
    {
      "cell_type": "markdown",
      "metadata": {
        "id": "VMVpAIC3ER9Z"
      },
      "source": [
        "Aboveb curve also verified the SVC model is giving best output."
      ]
    },
    {
      "cell_type": "code",
      "metadata": {
        "id": "TKZ6K_D-9pG_"
      },
      "source": [
        ""
      ],
      "execution_count": 65,
      "outputs": []
    }
  ]
}