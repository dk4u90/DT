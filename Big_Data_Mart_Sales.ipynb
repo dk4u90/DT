{
  "nbformat": 4,
  "nbformat_minor": 0,
  "metadata": {
    "accelerator": "GPU",
    "colab": {
      "name": "Big Data Mart Sales.ipynb",
      "provenance": [],
      "collapsed_sections": []
    },
    "kernelspec": {
      "display_name": "Python 3",
      "name": "python3"
    },
    "language_info": {
      "name": "python"
    }
  },
  "cells": [
    {
      "cell_type": "markdown",
      "metadata": {
        "id": "kXuv3CYpZ1SN"
      },
      "source": [
        "## Problem statement:\n",
        "The data scientists at BigMart have collected 2013 sales data for 1559 products across 10 stores in different cities. Also, certain attributes of each product and store have been defined.\n",
        "\n",
        "Using this model, BigMart will try to understand the properties of products and stores which play a key role in increasing the sales of their products.\n",
        "\n",
        "## Predictions:\n",
        "The aim is to build a predictive model and find out the sales of each product at a particular store."
      ]
    },
    {
      "cell_type": "code",
      "metadata": {
        "id": "L6R9_dKdx9ML"
      },
      "source": [
        "import pandas as pd \n",
        "import numpy as np"
      ],
      "execution_count": 1,
      "outputs": []
    },
    {
      "cell_type": "code",
      "metadata": {
        "colab": {
          "base_uri": "https://localhost:8080/",
          "height": 609
        },
        "id": "IVZ-N6YXy1dO",
        "outputId": "0a0cb8cd-c77c-4b44-e137-88392e31e1aa"
      },
      "source": [
        "test=pd.read_csv(\"https://raw.githubusercontent.com/dsrscientist/bigdatamart_rep/master/bigdatamart_Test.csv\")\n",
        "train=pd.read_csv(\"https://raw.githubusercontent.com/dsrscientist/bigdatamart_rep/master/bigdatamart_Train.csv\")\n",
        "train[\"source\"]=\"train\"\n",
        "test[\"source\"]=\"test\"\n",
        "data=pd.concat([train,test],ignore_index=True)\n",
        "data"
      ],
      "execution_count": 2,
      "outputs": [
        {
          "output_type": "execute_result",
          "data": {
            "text/html": [
              "<div>\n",
              "<style scoped>\n",
              "    .dataframe tbody tr th:only-of-type {\n",
              "        vertical-align: middle;\n",
              "    }\n",
              "\n",
              "    .dataframe tbody tr th {\n",
              "        vertical-align: top;\n",
              "    }\n",
              "\n",
              "    .dataframe thead th {\n",
              "        text-align: right;\n",
              "    }\n",
              "</style>\n",
              "<table border=\"1\" class=\"dataframe\">\n",
              "  <thead>\n",
              "    <tr style=\"text-align: right;\">\n",
              "      <th></th>\n",
              "      <th>Item_Identifier</th>\n",
              "      <th>Item_Weight</th>\n",
              "      <th>Item_Fat_Content</th>\n",
              "      <th>Item_Visibility</th>\n",
              "      <th>Item_Type</th>\n",
              "      <th>Item_MRP</th>\n",
              "      <th>Outlet_Identifier</th>\n",
              "      <th>Outlet_Establishment_Year</th>\n",
              "      <th>Outlet_Size</th>\n",
              "      <th>Outlet_Location_Type</th>\n",
              "      <th>Outlet_Type</th>\n",
              "      <th>Item_Outlet_Sales</th>\n",
              "      <th>source</th>\n",
              "    </tr>\n",
              "  </thead>\n",
              "  <tbody>\n",
              "    <tr>\n",
              "      <th>0</th>\n",
              "      <td>FDA15</td>\n",
              "      <td>9.30</td>\n",
              "      <td>Low Fat</td>\n",
              "      <td>0.016047</td>\n",
              "      <td>Dairy</td>\n",
              "      <td>249.8092</td>\n",
              "      <td>OUT049</td>\n",
              "      <td>1999</td>\n",
              "      <td>Medium</td>\n",
              "      <td>Tier 1</td>\n",
              "      <td>Supermarket Type1</td>\n",
              "      <td>3735.1380</td>\n",
              "      <td>train</td>\n",
              "    </tr>\n",
              "    <tr>\n",
              "      <th>1</th>\n",
              "      <td>DRC01</td>\n",
              "      <td>5.92</td>\n",
              "      <td>Regular</td>\n",
              "      <td>0.019278</td>\n",
              "      <td>Soft Drinks</td>\n",
              "      <td>48.2692</td>\n",
              "      <td>OUT018</td>\n",
              "      <td>2009</td>\n",
              "      <td>Medium</td>\n",
              "      <td>Tier 3</td>\n",
              "      <td>Supermarket Type2</td>\n",
              "      <td>443.4228</td>\n",
              "      <td>train</td>\n",
              "    </tr>\n",
              "    <tr>\n",
              "      <th>2</th>\n",
              "      <td>FDN15</td>\n",
              "      <td>17.50</td>\n",
              "      <td>Low Fat</td>\n",
              "      <td>0.016760</td>\n",
              "      <td>Meat</td>\n",
              "      <td>141.6180</td>\n",
              "      <td>OUT049</td>\n",
              "      <td>1999</td>\n",
              "      <td>Medium</td>\n",
              "      <td>Tier 1</td>\n",
              "      <td>Supermarket Type1</td>\n",
              "      <td>2097.2700</td>\n",
              "      <td>train</td>\n",
              "    </tr>\n",
              "    <tr>\n",
              "      <th>3</th>\n",
              "      <td>FDX07</td>\n",
              "      <td>19.20</td>\n",
              "      <td>Regular</td>\n",
              "      <td>0.000000</td>\n",
              "      <td>Fruits and Vegetables</td>\n",
              "      <td>182.0950</td>\n",
              "      <td>OUT010</td>\n",
              "      <td>1998</td>\n",
              "      <td>NaN</td>\n",
              "      <td>Tier 3</td>\n",
              "      <td>Grocery Store</td>\n",
              "      <td>732.3800</td>\n",
              "      <td>train</td>\n",
              "    </tr>\n",
              "    <tr>\n",
              "      <th>4</th>\n",
              "      <td>NCD19</td>\n",
              "      <td>8.93</td>\n",
              "      <td>Low Fat</td>\n",
              "      <td>0.000000</td>\n",
              "      <td>Household</td>\n",
              "      <td>53.8614</td>\n",
              "      <td>OUT013</td>\n",
              "      <td>1987</td>\n",
              "      <td>High</td>\n",
              "      <td>Tier 3</td>\n",
              "      <td>Supermarket Type1</td>\n",
              "      <td>994.7052</td>\n",
              "      <td>train</td>\n",
              "    </tr>\n",
              "    <tr>\n",
              "      <th>...</th>\n",
              "      <td>...</td>\n",
              "      <td>...</td>\n",
              "      <td>...</td>\n",
              "      <td>...</td>\n",
              "      <td>...</td>\n",
              "      <td>...</td>\n",
              "      <td>...</td>\n",
              "      <td>...</td>\n",
              "      <td>...</td>\n",
              "      <td>...</td>\n",
              "      <td>...</td>\n",
              "      <td>...</td>\n",
              "      <td>...</td>\n",
              "    </tr>\n",
              "    <tr>\n",
              "      <th>14199</th>\n",
              "      <td>FDB58</td>\n",
              "      <td>10.50</td>\n",
              "      <td>Regular</td>\n",
              "      <td>0.013496</td>\n",
              "      <td>Snack Foods</td>\n",
              "      <td>141.3154</td>\n",
              "      <td>OUT046</td>\n",
              "      <td>1997</td>\n",
              "      <td>Small</td>\n",
              "      <td>Tier 1</td>\n",
              "      <td>Supermarket Type1</td>\n",
              "      <td>NaN</td>\n",
              "      <td>test</td>\n",
              "    </tr>\n",
              "    <tr>\n",
              "      <th>14200</th>\n",
              "      <td>FDD47</td>\n",
              "      <td>7.60</td>\n",
              "      <td>Regular</td>\n",
              "      <td>0.142991</td>\n",
              "      <td>Starchy Foods</td>\n",
              "      <td>169.1448</td>\n",
              "      <td>OUT018</td>\n",
              "      <td>2009</td>\n",
              "      <td>Medium</td>\n",
              "      <td>Tier 3</td>\n",
              "      <td>Supermarket Type2</td>\n",
              "      <td>NaN</td>\n",
              "      <td>test</td>\n",
              "    </tr>\n",
              "    <tr>\n",
              "      <th>14201</th>\n",
              "      <td>NCO17</td>\n",
              "      <td>10.00</td>\n",
              "      <td>Low Fat</td>\n",
              "      <td>0.073529</td>\n",
              "      <td>Health and Hygiene</td>\n",
              "      <td>118.7440</td>\n",
              "      <td>OUT045</td>\n",
              "      <td>2002</td>\n",
              "      <td>NaN</td>\n",
              "      <td>Tier 2</td>\n",
              "      <td>Supermarket Type1</td>\n",
              "      <td>NaN</td>\n",
              "      <td>test</td>\n",
              "    </tr>\n",
              "    <tr>\n",
              "      <th>14202</th>\n",
              "      <td>FDJ26</td>\n",
              "      <td>15.30</td>\n",
              "      <td>Regular</td>\n",
              "      <td>0.000000</td>\n",
              "      <td>Canned</td>\n",
              "      <td>214.6218</td>\n",
              "      <td>OUT017</td>\n",
              "      <td>2007</td>\n",
              "      <td>NaN</td>\n",
              "      <td>Tier 2</td>\n",
              "      <td>Supermarket Type1</td>\n",
              "      <td>NaN</td>\n",
              "      <td>test</td>\n",
              "    </tr>\n",
              "    <tr>\n",
              "      <th>14203</th>\n",
              "      <td>FDU37</td>\n",
              "      <td>9.50</td>\n",
              "      <td>Regular</td>\n",
              "      <td>0.104720</td>\n",
              "      <td>Canned</td>\n",
              "      <td>79.7960</td>\n",
              "      <td>OUT045</td>\n",
              "      <td>2002</td>\n",
              "      <td>NaN</td>\n",
              "      <td>Tier 2</td>\n",
              "      <td>Supermarket Type1</td>\n",
              "      <td>NaN</td>\n",
              "      <td>test</td>\n",
              "    </tr>\n",
              "  </tbody>\n",
              "</table>\n",
              "<p>14204 rows × 13 columns</p>\n",
              "</div>"
            ],
            "text/plain": [
              "      Item_Identifier  Item_Weight  ... Item_Outlet_Sales  source\n",
              "0               FDA15         9.30  ...         3735.1380   train\n",
              "1               DRC01         5.92  ...          443.4228   train\n",
              "2               FDN15        17.50  ...         2097.2700   train\n",
              "3               FDX07        19.20  ...          732.3800   train\n",
              "4               NCD19         8.93  ...          994.7052   train\n",
              "...               ...          ...  ...               ...     ...\n",
              "14199           FDB58        10.50  ...               NaN    test\n",
              "14200           FDD47         7.60  ...               NaN    test\n",
              "14201           NCO17        10.00  ...               NaN    test\n",
              "14202           FDJ26        15.30  ...               NaN    test\n",
              "14203           FDU37         9.50  ...               NaN    test\n",
              "\n",
              "[14204 rows x 13 columns]"
            ]
          },
          "metadata": {
            "tags": []
          },
          "execution_count": 2
        }
      ]
    },
    {
      "cell_type": "markdown",
      "metadata": {
        "id": "9CS-EgHrafzh"
      },
      "source": [
        "Read the dataset of train and test and combined together."
      ]
    },
    {
      "cell_type": "code",
      "metadata": {
        "colab": {
          "base_uri": "https://localhost:8080/"
        },
        "id": "2cU8dJKo0Iic",
        "outputId": "ede70f77-ca92-4235-e778-8cb47d1d3eaa"
      },
      "source": [
        "data.isnull().sum()"
      ],
      "execution_count": 3,
      "outputs": [
        {
          "output_type": "execute_result",
          "data": {
            "text/plain": [
              "Item_Identifier                 0\n",
              "Item_Weight                  2439\n",
              "Item_Fat_Content                0\n",
              "Item_Visibility                 0\n",
              "Item_Type                       0\n",
              "Item_MRP                        0\n",
              "Outlet_Identifier               0\n",
              "Outlet_Establishment_Year       0\n",
              "Outlet_Size                  4016\n",
              "Outlet_Location_Type            0\n",
              "Outlet_Type                     0\n",
              "Item_Outlet_Sales            5681\n",
              "source                          0\n",
              "dtype: int64"
            ]
          },
          "metadata": {
            "tags": []
          },
          "execution_count": 3
        }
      ]
    },
    {
      "cell_type": "markdown",
      "metadata": {
        "id": "6ky1v8_Ucqw-"
      },
      "source": [
        "Null value is present in columns Item_Weight, Outlet_Size and Item_Outlet_Sales."
      ]
    },
    {
      "cell_type": "code",
      "metadata": {
        "colab": {
          "base_uri": "https://localhost:8080/"
        },
        "id": "UCuO6puE0nbt",
        "outputId": "51165025-5187-40e5-b296-fccddb9c1d7d"
      },
      "source": [
        "data.info()"
      ],
      "execution_count": 4,
      "outputs": [
        {
          "output_type": "stream",
          "text": [
            "<class 'pandas.core.frame.DataFrame'>\n",
            "RangeIndex: 14204 entries, 0 to 14203\n",
            "Data columns (total 13 columns):\n",
            " #   Column                     Non-Null Count  Dtype  \n",
            "---  ------                     --------------  -----  \n",
            " 0   Item_Identifier            14204 non-null  object \n",
            " 1   Item_Weight                11765 non-null  float64\n",
            " 2   Item_Fat_Content           14204 non-null  object \n",
            " 3   Item_Visibility            14204 non-null  float64\n",
            " 4   Item_Type                  14204 non-null  object \n",
            " 5   Item_MRP                   14204 non-null  float64\n",
            " 6   Outlet_Identifier          14204 non-null  object \n",
            " 7   Outlet_Establishment_Year  14204 non-null  int64  \n",
            " 8   Outlet_Size                10188 non-null  object \n",
            " 9   Outlet_Location_Type       14204 non-null  object \n",
            " 10  Outlet_Type                14204 non-null  object \n",
            " 11  Item_Outlet_Sales          8523 non-null   float64\n",
            " 12  source                     14204 non-null  object \n",
            "dtypes: float64(4), int64(1), object(8)\n",
            "memory usage: 1.4+ MB\n"
          ],
          "name": "stdout"
        }
      ]
    },
    {
      "cell_type": "markdown",
      "metadata": {
        "id": "28Ey2PLBdD7T"
      },
      "source": [
        "Displayed more informations of dataset.There are three datatype (float64=4, int64=1, object=8) is present in dataset."
      ]
    },
    {
      "cell_type": "code",
      "metadata": {
        "colab": {
          "base_uri": "https://localhost:8080/",
          "height": 204
        },
        "id": "NDVaCCEQ0u2V",
        "outputId": "8fd52ee1-c875-4c48-cc71-80bedf266186"
      },
      "source": [
        "data.corr()"
      ],
      "execution_count": 5,
      "outputs": [
        {
          "output_type": "execute_result",
          "data": {
            "text/html": [
              "<div>\n",
              "<style scoped>\n",
              "    .dataframe tbody tr th:only-of-type {\n",
              "        vertical-align: middle;\n",
              "    }\n",
              "\n",
              "    .dataframe tbody tr th {\n",
              "        vertical-align: top;\n",
              "    }\n",
              "\n",
              "    .dataframe thead th {\n",
              "        text-align: right;\n",
              "    }\n",
              "</style>\n",
              "<table border=\"1\" class=\"dataframe\">\n",
              "  <thead>\n",
              "    <tr style=\"text-align: right;\">\n",
              "      <th></th>\n",
              "      <th>Item_Weight</th>\n",
              "      <th>Item_Visibility</th>\n",
              "      <th>Item_MRP</th>\n",
              "      <th>Outlet_Establishment_Year</th>\n",
              "      <th>Item_Outlet_Sales</th>\n",
              "    </tr>\n",
              "  </thead>\n",
              "  <tbody>\n",
              "    <tr>\n",
              "      <th>Item_Weight</th>\n",
              "      <td>1.000000</td>\n",
              "      <td>-0.015901</td>\n",
              "      <td>0.036236</td>\n",
              "      <td>0.000645</td>\n",
              "      <td>0.014123</td>\n",
              "    </tr>\n",
              "    <tr>\n",
              "      <th>Item_Visibility</th>\n",
              "      <td>-0.015901</td>\n",
              "      <td>1.000000</td>\n",
              "      <td>-0.006351</td>\n",
              "      <td>-0.083678</td>\n",
              "      <td>-0.128625</td>\n",
              "    </tr>\n",
              "    <tr>\n",
              "      <th>Item_MRP</th>\n",
              "      <td>0.036236</td>\n",
              "      <td>-0.006351</td>\n",
              "      <td>1.000000</td>\n",
              "      <td>0.000141</td>\n",
              "      <td>0.567574</td>\n",
              "    </tr>\n",
              "    <tr>\n",
              "      <th>Outlet_Establishment_Year</th>\n",
              "      <td>0.000645</td>\n",
              "      <td>-0.083678</td>\n",
              "      <td>0.000141</td>\n",
              "      <td>1.000000</td>\n",
              "      <td>-0.049135</td>\n",
              "    </tr>\n",
              "    <tr>\n",
              "      <th>Item_Outlet_Sales</th>\n",
              "      <td>0.014123</td>\n",
              "      <td>-0.128625</td>\n",
              "      <td>0.567574</td>\n",
              "      <td>-0.049135</td>\n",
              "      <td>1.000000</td>\n",
              "    </tr>\n",
              "  </tbody>\n",
              "</table>\n",
              "</div>"
            ],
            "text/plain": [
              "                           Item_Weight  ...  Item_Outlet_Sales\n",
              "Item_Weight                   1.000000  ...           0.014123\n",
              "Item_Visibility              -0.015901  ...          -0.128625\n",
              "Item_MRP                      0.036236  ...           0.567574\n",
              "Outlet_Establishment_Year     0.000645  ...          -0.049135\n",
              "Item_Outlet_Sales             0.014123  ...           1.000000\n",
              "\n",
              "[5 rows x 5 columns]"
            ]
          },
          "metadata": {
            "tags": []
          },
          "execution_count": 5
        }
      ]
    },
    {
      "cell_type": "markdown",
      "metadata": {
        "id": "NPsbSOAod2yd"
      },
      "source": [
        "All the variables have very less correlation between each other\n",
        "\n",
        "Only exception is Item_MRP and Item_Outlet_Sales which shows significant correlation of 0.56"
      ]
    },
    {
      "cell_type": "code",
      "metadata": {
        "colab": {
          "base_uri": "https://localhost:8080/"
        },
        "id": "4ZfS2bpf1HGL",
        "outputId": "7e477215-fb89-4643-ff5d-0d4147dbd4ec"
      },
      "source": [
        "for column in data.columns:\n",
        "  if data[column].dtype=='object':\n",
        "    print(\"column name is: {} and number of distict values: {}\".format(column,len(data[column].value_counts())))\n",
        "    print()"
      ],
      "execution_count": 6,
      "outputs": [
        {
          "output_type": "stream",
          "text": [
            "column name is: Item_Identifier and number of distict values: 1559\n",
            "\n",
            "column name is: Item_Fat_Content and number of distict values: 5\n",
            "\n",
            "column name is: Item_Type and number of distict values: 16\n",
            "\n",
            "column name is: Outlet_Identifier and number of distict values: 10\n",
            "\n",
            "column name is: Outlet_Size and number of distict values: 3\n",
            "\n",
            "column name is: Outlet_Location_Type and number of distict values: 3\n",
            "\n",
            "column name is: Outlet_Type and number of distict values: 4\n",
            "\n",
            "column name is: source and number of distict values: 2\n",
            "\n"
          ],
          "name": "stdout"
        }
      ]
    },
    {
      "cell_type": "markdown",
      "metadata": {
        "id": "XeySbdzBeC3M"
      },
      "source": [
        "Based on below output we see there are 1559 values in item_identifier,we can drop as it is not so important variable\n",
        "\n",
        "Also if we keep it will increase the columns by 1559 when we will use one hot encoding\n",
        "\n",
        "Similary outlet identifier also can be removed from the dataset"
      ]
    },
    {
      "cell_type": "code",
      "metadata": {
        "colab": {
          "base_uri": "https://localhost:8080/"
        },
        "id": "sC5JgVdV1tjC",
        "outputId": "217ec035-6651-44b3-8da1-8ad07835718b"
      },
      "source": [
        "for column in data.columns:\n",
        "    if data[column].dtype==\"object\":\n",
        "        print(data[column].value_counts())\n",
        "        print()"
      ],
      "execution_count": 7,
      "outputs": [
        {
          "output_type": "stream",
          "text": [
            "FDL12    10\n",
            "FDU26    10\n",
            "DRG48    10\n",
            "NCD43    10\n",
            "FDP09    10\n",
            "         ..\n",
            "FDM10     7\n",
            "FDM50     7\n",
            "DRN11     7\n",
            "FDM52     7\n",
            "FDL50     7\n",
            "Name: Item_Identifier, Length: 1559, dtype: int64\n",
            "\n",
            "Low Fat    8485\n",
            "Regular    4824\n",
            "LF          522\n",
            "reg         195\n",
            "low fat     178\n",
            "Name: Item_Fat_Content, dtype: int64\n",
            "\n",
            "Fruits and Vegetables    2013\n",
            "Snack Foods              1989\n",
            "Household                1548\n",
            "Frozen Foods             1426\n",
            "Dairy                    1136\n",
            "Baking Goods             1086\n",
            "Canned                   1084\n",
            "Health and Hygiene        858\n",
            "Meat                      736\n",
            "Soft Drinks               726\n",
            "Breads                    416\n",
            "Hard Drinks               362\n",
            "Others                    280\n",
            "Starchy Foods             269\n",
            "Breakfast                 186\n",
            "Seafood                    89\n",
            "Name: Item_Type, dtype: int64\n",
            "\n",
            "OUT027    1559\n",
            "OUT013    1553\n",
            "OUT035    1550\n",
            "OUT046    1550\n",
            "OUT049    1550\n",
            "OUT045    1548\n",
            "OUT018    1546\n",
            "OUT017    1543\n",
            "OUT010     925\n",
            "OUT019     880\n",
            "Name: Outlet_Identifier, dtype: int64\n",
            "\n",
            "Medium    4655\n",
            "Small     3980\n",
            "High      1553\n",
            "Name: Outlet_Size, dtype: int64\n",
            "\n",
            "Tier 3    5583\n",
            "Tier 2    4641\n",
            "Tier 1    3980\n",
            "Name: Outlet_Location_Type, dtype: int64\n",
            "\n",
            "Supermarket Type1    9294\n",
            "Grocery Store        1805\n",
            "Supermarket Type3    1559\n",
            "Supermarket Type2    1546\n",
            "Name: Outlet_Type, dtype: int64\n",
            "\n",
            "train    8523\n",
            "test     5681\n",
            "Name: source, dtype: int64\n",
            "\n"
          ],
          "name": "stdout"
        }
      ]
    },
    {
      "cell_type": "code",
      "metadata": {
        "id": "ZOyCpuGv2MuJ"
      },
      "source": [
        "data[\"Item_Fat_Content\"].replace(\"low fat\",\"Low Fat\",inplace=True)\n",
        "data[\"Item_Fat_Content\"].replace(\"LF\",\"Low Fat\",inplace=True)\n",
        "data[\"Item_Fat_Content\"].replace(\"reg\",\"Regular\",inplace=True)"
      ],
      "execution_count": 8,
      "outputs": []
    },
    {
      "cell_type": "markdown",
      "metadata": {
        "id": "wAMTb52_edDI"
      },
      "source": [
        "Replacing low fat and LF with Low Fat/replacing reg with Regular"
      ]
    },
    {
      "cell_type": "code",
      "metadata": {
        "colab": {
          "base_uri": "https://localhost:8080/"
        },
        "id": "u4zKvCja2qXq",
        "outputId": "0e1e2eeb-3682-4943-f654-9125d5db1283"
      },
      "source": [
        "data.isnull().sum()"
      ],
      "execution_count": 9,
      "outputs": [
        {
          "output_type": "execute_result",
          "data": {
            "text/plain": [
              "Item_Identifier                 0\n",
              "Item_Weight                  2439\n",
              "Item_Fat_Content                0\n",
              "Item_Visibility                 0\n",
              "Item_Type                       0\n",
              "Item_MRP                        0\n",
              "Outlet_Identifier               0\n",
              "Outlet_Establishment_Year       0\n",
              "Outlet_Size                  4016\n",
              "Outlet_Location_Type            0\n",
              "Outlet_Type                     0\n",
              "Item_Outlet_Sales            5681\n",
              "source                          0\n",
              "dtype: int64"
            ]
          },
          "metadata": {
            "tags": []
          },
          "execution_count": 9
        }
      ]
    },
    {
      "cell_type": "markdown",
      "metadata": {
        "id": "SeXbfaf1euN_"
      },
      "source": [
        "As per aboveb result null values are present in Item_Weight and Outlet_Size are numerical value which one can replace by mean and mode according to distrubutions of data."
      ]
    },
    {
      "cell_type": "code",
      "metadata": {
        "colab": {
          "base_uri": "https://localhost:8080/",
          "height": 297
        },
        "id": "IxwMGmRT1yfg",
        "outputId": "a61488db-669d-45f8-94fc-dc3bfa4bad5a"
      },
      "source": [
        "import seaborn as sns\n",
        "sns.histplot(data['Item_Weight'],kde=True)"
      ],
      "execution_count": 10,
      "outputs": [
        {
          "output_type": "execute_result",
          "data": {
            "text/plain": [
              "<matplotlib.axes._subplots.AxesSubplot at 0x7f672981a810>"
            ]
          },
          "metadata": {
            "tags": []
          },
          "execution_count": 10
        },
        {
          "output_type": "display_data",
          "data": {
            "image/png": "[encoded data removed]",
            "text/plain": [
              "<Figure size 432x288 with 1 Axes>"
            ]
          },
          "metadata": {
            "tags": [],
            "needs_background": "light"
          }
        }
      ]
    },
    {
      "cell_type": "markdown",
      "metadata": {
        "id": "mRWWlEjafezX"
      },
      "source": [
        "Item_weight is not normally distrubuted hence it will be replace by Median."
      ]
    },
    {
      "cell_type": "code",
      "metadata": {
        "colab": {
          "base_uri": "https://localhost:8080/",
          "height": 297
        },
        "id": "kvOyoW-S4d3_",
        "outputId": "397489cf-7880-4caa-cbd3-50e1b57a7b29"
      },
      "source": [
        "sns.histplot(data['Item_Outlet_Sales'],kde=True)"
      ],
      "execution_count": 11,
      "outputs": [
        {
          "output_type": "execute_result",
          "data": {
            "text/plain": [
              "<matplotlib.axes._subplots.AxesSubplot at 0x7f671dcb94d0>"
            ]
          },
          "metadata": {
            "tags": []
          },
          "execution_count": 11
        },
        {
          "output_type": "display_data",
          "data": {
            "image/png": "[encoded data removed]",
            "text/plain": [
              "<Figure size 432x288 with 1 Axes>"
            ]
          },
          "metadata": {
            "tags": [],
            "needs_background": "light"
          }
        }
      ]
    },
    {
      "cell_type": "markdown",
      "metadata": {
        "id": "kyRHIdRNfuRQ"
      },
      "source": [
        "Item_Outlet_Sales is not normally distrubuted hence it will be replace by Median."
      ]
    },
    {
      "cell_type": "code",
      "metadata": {
        "id": "XDvU-QTX5lF0"
      },
      "source": [
        "data['Outlet_Size']=data['Outlet_Size'].fillna(data['Outlet_Size'].mode()[0])\n",
        "data['Item_Weight']=data['Item_Weight'].fillna(data['Item_Weight'].median())\n",
        "data['Item_Outlet_Sales']=data['Item_Outlet_Sales'].fillna(data['Item_Outlet_Sales'].median())"
      ],
      "execution_count": 12,
      "outputs": []
    },
    {
      "cell_type": "markdown",
      "metadata": {
        "id": "cp1GTpcof1Jj"
      },
      "source": [
        "As aboveb fill Null value of numberical by median and categorical values by Mode."
      ]
    },
    {
      "cell_type": "code",
      "metadata": {
        "colab": {
          "base_uri": "https://localhost:8080/"
        },
        "id": "fUpH5TFs4nP5",
        "outputId": "4ad224f3-d694-4785-b85b-663c8254dc91"
      },
      "source": [
        "data.isnull().sum()"
      ],
      "execution_count": 13,
      "outputs": [
        {
          "output_type": "execute_result",
          "data": {
            "text/plain": [
              "Item_Identifier              0\n",
              "Item_Weight                  0\n",
              "Item_Fat_Content             0\n",
              "Item_Visibility              0\n",
              "Item_Type                    0\n",
              "Item_MRP                     0\n",
              "Outlet_Identifier            0\n",
              "Outlet_Establishment_Year    0\n",
              "Outlet_Size                  0\n",
              "Outlet_Location_Type         0\n",
              "Outlet_Type                  0\n",
              "Item_Outlet_Sales            0\n",
              "source                       0\n",
              "dtype: int64"
            ]
          },
          "metadata": {
            "tags": []
          },
          "execution_count": 13
        }
      ]
    },
    {
      "cell_type": "markdown",
      "metadata": {
        "id": "NQX7-fpvgHQr"
      },
      "source": [
        "Now there are no any Null vales are present in dataset."
      ]
    },
    {
      "cell_type": "code",
      "metadata": {
        "colab": {
          "base_uri": "https://localhost:8080/",
          "height": 456
        },
        "id": "sU9OhBpb7PJO",
        "outputId": "0f626a48-8926-4b65-8868-830214702097"
      },
      "source": [
        "df_bigmart=pd.get_dummies(data,columns=[\"Item_Fat_Content\",\"Item_Type\",\"Outlet_Location_Type\",\"Outlet_Size\",\"Outlet_Type\"])\n",
        "df_bigmart"
      ],
      "execution_count": 14,
      "outputs": [
        {
          "output_type": "execute_result",
          "data": {
            "text/html": [
              "<div>\n",
              "<style scoped>\n",
              "    .dataframe tbody tr th:only-of-type {\n",
              "        vertical-align: middle;\n",
              "    }\n",
              "\n",
              "    .dataframe tbody tr th {\n",
              "        vertical-align: top;\n",
              "    }\n",
              "\n",
              "    .dataframe thead th {\n",
              "        text-align: right;\n",
              "    }\n",
              "</style>\n",
              "<table border=\"1\" class=\"dataframe\">\n",
              "  <thead>\n",
              "    <tr style=\"text-align: right;\">\n",
              "      <th></th>\n",
              "      <th>Item_Identifier</th>\n",
              "      <th>Item_Weight</th>\n",
              "      <th>Item_Visibility</th>\n",
              "      <th>Item_MRP</th>\n",
              "      <th>Outlet_Identifier</th>\n",
              "      <th>Outlet_Establishment_Year</th>\n",
              "      <th>Item_Outlet_Sales</th>\n",
              "      <th>source</th>\n",
              "      <th>Item_Fat_Content_Low Fat</th>\n",
              "      <th>Item_Fat_Content_Regular</th>\n",
              "      <th>Item_Type_Baking Goods</th>\n",
              "      <th>Item_Type_Breads</th>\n",
              "      <th>Item_Type_Breakfast</th>\n",
              "      <th>Item_Type_Canned</th>\n",
              "      <th>Item_Type_Dairy</th>\n",
              "      <th>Item_Type_Frozen Foods</th>\n",
              "      <th>Item_Type_Fruits and Vegetables</th>\n",
              "      <th>Item_Type_Hard Drinks</th>\n",
              "      <th>Item_Type_Health and Hygiene</th>\n",
              "      <th>Item_Type_Household</th>\n",
              "      <th>Item_Type_Meat</th>\n",
              "      <th>Item_Type_Others</th>\n",
              "      <th>Item_Type_Seafood</th>\n",
              "      <th>Item_Type_Snack Foods</th>\n",
              "      <th>Item_Type_Soft Drinks</th>\n",
              "      <th>Item_Type_Starchy Foods</th>\n",
              "      <th>Outlet_Location_Type_Tier 1</th>\n",
              "      <th>Outlet_Location_Type_Tier 2</th>\n",
              "      <th>Outlet_Location_Type_Tier 3</th>\n",
              "      <th>Outlet_Size_High</th>\n",
              "      <th>Outlet_Size_Medium</th>\n",
              "      <th>Outlet_Size_Small</th>\n",
              "      <th>Outlet_Type_Grocery Store</th>\n",
              "      <th>Outlet_Type_Supermarket Type1</th>\n",
              "      <th>Outlet_Type_Supermarket Type2</th>\n",
              "      <th>Outlet_Type_Supermarket Type3</th>\n",
              "    </tr>\n",
              "  </thead>\n",
              "  <tbody>\n",
              "    <tr>\n",
              "      <th>0</th>\n",
              "      <td>FDA15</td>\n",
              "      <td>9.30</td>\n",
              "      <td>0.016047</td>\n",
              "      <td>249.8092</td>\n",
              "      <td>OUT049</td>\n",
              "      <td>1999</td>\n",
              "      <td>3735.1380</td>\n",
              "      <td>train</td>\n",
              "      <td>1</td>\n",
              "      <td>0</td>\n",
              "      <td>0</td>\n",
              "      <td>0</td>\n",
              "      <td>0</td>\n",
              "      <td>0</td>\n",
              "      <td>1</td>\n",
              "      <td>0</td>\n",
              "      <td>0</td>\n",
              "      <td>0</td>\n",
              "      <td>0</td>\n",
              "      <td>0</td>\n",
              "      <td>0</td>\n",
              "      <td>0</td>\n",
              "      <td>0</td>\n",
              "      <td>0</td>\n",
              "      <td>0</td>\n",
              "      <td>0</td>\n",
              "      <td>1</td>\n",
              "      <td>0</td>\n",
              "      <td>0</td>\n",
              "      <td>0</td>\n",
              "      <td>1</td>\n",
              "      <td>0</td>\n",
              "      <td>0</td>\n",
              "      <td>1</td>\n",
              "      <td>0</td>\n",
              "      <td>0</td>\n",
              "    </tr>\n",
              "    <tr>\n",
              "      <th>1</th>\n",
              "      <td>DRC01</td>\n",
              "      <td>5.92</td>\n",
              "      <td>0.019278</td>\n",
              "      <td>48.2692</td>\n",
              "      <td>OUT018</td>\n",
              "      <td>2009</td>\n",
              "      <td>443.4228</td>\n",
              "      <td>train</td>\n",
              "      <td>0</td>\n",
              "      <td>1</td>\n",
              "      <td>0</td>\n",
              "      <td>0</td>\n",
              "      <td>0</td>\n",
              "      <td>0</td>\n",
              "      <td>0</td>\n",
              "      <td>0</td>\n",
              "      <td>0</td>\n",
              "      <td>0</td>\n",
              "      <td>0</td>\n",
              "      <td>0</td>\n",
              "      <td>0</td>\n",
              "      <td>0</td>\n",
              "      <td>0</td>\n",
              "      <td>0</td>\n",
              "      <td>1</td>\n",
              "      <td>0</td>\n",
              "      <td>0</td>\n",
              "      <td>0</td>\n",
              "      <td>1</td>\n",
              "      <td>0</td>\n",
              "      <td>1</td>\n",
              "      <td>0</td>\n",
              "      <td>0</td>\n",
              "      <td>0</td>\n",
              "      <td>1</td>\n",
              "      <td>0</td>\n",
              "    </tr>\n",
              "    <tr>\n",
              "      <th>2</th>\n",
              "      <td>FDN15</td>\n",
              "      <td>17.50</td>\n",
              "      <td>0.016760</td>\n",
              "      <td>141.6180</td>\n",
              "      <td>OUT049</td>\n",
              "      <td>1999</td>\n",
              "      <td>2097.2700</td>\n",
              "      <td>train</td>\n",
              "      <td>1</td>\n",
              "      <td>0</td>\n",
              "      <td>0</td>\n",
              "      <td>0</td>\n",
              "      <td>0</td>\n",
              "      <td>0</td>\n",
              "      <td>0</td>\n",
              "      <td>0</td>\n",
              "      <td>0</td>\n",
              "      <td>0</td>\n",
              "      <td>0</td>\n",
              "      <td>0</td>\n",
              "      <td>1</td>\n",
              "      <td>0</td>\n",
              "      <td>0</td>\n",
              "      <td>0</td>\n",
              "      <td>0</td>\n",
              "      <td>0</td>\n",
              "      <td>1</td>\n",
              "      <td>0</td>\n",
              "      <td>0</td>\n",
              "      <td>0</td>\n",
              "      <td>1</td>\n",
              "      <td>0</td>\n",
              "      <td>0</td>\n",
              "      <td>1</td>\n",
              "      <td>0</td>\n",
              "      <td>0</td>\n",
              "    </tr>\n",
              "    <tr>\n",
              "      <th>3</th>\n",
              "      <td>FDX07</td>\n",
              "      <td>19.20</td>\n",
              "      <td>0.000000</td>\n",
              "      <td>182.0950</td>\n",
              "      <td>OUT010</td>\n",
              "      <td>1998</td>\n",
              "      <td>732.3800</td>\n",
              "      <td>train</td>\n",
              "      <td>0</td>\n",
              "      <td>1</td>\n",
              "      <td>0</td>\n",
              "      <td>0</td>\n",
              "      <td>0</td>\n",
              "      <td>0</td>\n",
              "      <td>0</td>\n",
              "      <td>0</td>\n",
              "      <td>1</td>\n",
              "      <td>0</td>\n",
              "      <td>0</td>\n",
              "      <td>0</td>\n",
              "      <td>0</td>\n",
              "      <td>0</td>\n",
              "      <td>0</td>\n",
              "      <td>0</td>\n",
              "      <td>0</td>\n",
              "      <td>0</td>\n",
              "      <td>0</td>\n",
              "      <td>0</td>\n",
              "      <td>1</td>\n",
              "      <td>0</td>\n",
              "      <td>1</td>\n",
              "      <td>0</td>\n",
              "      <td>1</td>\n",
              "      <td>0</td>\n",
              "      <td>0</td>\n",
              "      <td>0</td>\n",
              "    </tr>\n",
              "    <tr>\n",
              "      <th>4</th>\n",
              "      <td>NCD19</td>\n",
              "      <td>8.93</td>\n",
              "      <td>0.000000</td>\n",
              "      <td>53.8614</td>\n",
              "      <td>OUT013</td>\n",
              "      <td>1987</td>\n",
              "      <td>994.7052</td>\n",
              "      <td>train</td>\n",
              "      <td>1</td>\n",
              "      <td>0</td>\n",
              "      <td>0</td>\n",
              "      <td>0</td>\n",
              "      <td>0</td>\n",
              "      <td>0</td>\n",
              "      <td>0</td>\n",
              "      <td>0</td>\n",
              "      <td>0</td>\n",
              "      <td>0</td>\n",
              "      <td>0</td>\n",
              "      <td>1</td>\n",
              "      <td>0</td>\n",
              "      <td>0</td>\n",
              "      <td>0</td>\n",
              "      <td>0</td>\n",
              "      <td>0</td>\n",
              "      <td>0</td>\n",
              "      <td>0</td>\n",
              "      <td>0</td>\n",
              "      <td>1</td>\n",
              "      <td>1</td>\n",
              "      <td>0</td>\n",
              "      <td>0</td>\n",
              "      <td>0</td>\n",
              "      <td>1</td>\n",
              "      <td>0</td>\n",
              "      <td>0</td>\n",
              "    </tr>\n",
              "    <tr>\n",
              "      <th>...</th>\n",
              "      <td>...</td>\n",
              "      <td>...</td>\n",
              "      <td>...</td>\n",
              "      <td>...</td>\n",
              "      <td>...</td>\n",
              "      <td>...</td>\n",
              "      <td>...</td>\n",
              "      <td>...</td>\n",
              "      <td>...</td>\n",
              "      <td>...</td>\n",
              "      <td>...</td>\n",
              "      <td>...</td>\n",
              "      <td>...</td>\n",
              "      <td>...</td>\n",
              "      <td>...</td>\n",
              "      <td>...</td>\n",
              "      <td>...</td>\n",
              "      <td>...</td>\n",
              "      <td>...</td>\n",
              "      <td>...</td>\n",
              "      <td>...</td>\n",
              "      <td>...</td>\n",
              "      <td>...</td>\n",
              "      <td>...</td>\n",
              "      <td>...</td>\n",
              "      <td>...</td>\n",
              "      <td>...</td>\n",
              "      <td>...</td>\n",
              "      <td>...</td>\n",
              "      <td>...</td>\n",
              "      <td>...</td>\n",
              "      <td>...</td>\n",
              "      <td>...</td>\n",
              "      <td>...</td>\n",
              "      <td>...</td>\n",
              "      <td>...</td>\n",
              "    </tr>\n",
              "    <tr>\n",
              "      <th>14199</th>\n",
              "      <td>FDB58</td>\n",
              "      <td>10.50</td>\n",
              "      <td>0.013496</td>\n",
              "      <td>141.3154</td>\n",
              "      <td>OUT046</td>\n",
              "      <td>1997</td>\n",
              "      <td>1794.3310</td>\n",
              "      <td>test</td>\n",
              "      <td>0</td>\n",
              "      <td>1</td>\n",
              "      <td>0</td>\n",
              "      <td>0</td>\n",
              "      <td>0</td>\n",
              "      <td>0</td>\n",
              "      <td>0</td>\n",
              "      <td>0</td>\n",
              "      <td>0</td>\n",
              "      <td>0</td>\n",
              "      <td>0</td>\n",
              "      <td>0</td>\n",
              "      <td>0</td>\n",
              "      <td>0</td>\n",
              "      <td>0</td>\n",
              "      <td>1</td>\n",
              "      <td>0</td>\n",
              "      <td>0</td>\n",
              "      <td>1</td>\n",
              "      <td>0</td>\n",
              "      <td>0</td>\n",
              "      <td>0</td>\n",
              "      <td>0</td>\n",
              "      <td>1</td>\n",
              "      <td>0</td>\n",
              "      <td>1</td>\n",
              "      <td>0</td>\n",
              "      <td>0</td>\n",
              "    </tr>\n",
              "    <tr>\n",
              "      <th>14200</th>\n",
              "      <td>FDD47</td>\n",
              "      <td>7.60</td>\n",
              "      <td>0.142991</td>\n",
              "      <td>169.1448</td>\n",
              "      <td>OUT018</td>\n",
              "      <td>2009</td>\n",
              "      <td>1794.3310</td>\n",
              "      <td>test</td>\n",
              "      <td>0</td>\n",
              "      <td>1</td>\n",
              "      <td>0</td>\n",
              "      <td>0</td>\n",
              "      <td>0</td>\n",
              "      <td>0</td>\n",
              "      <td>0</td>\n",
              "      <td>0</td>\n",
              "      <td>0</td>\n",
              "      <td>0</td>\n",
              "      <td>0</td>\n",
              "      <td>0</td>\n",
              "      <td>0</td>\n",
              "      <td>0</td>\n",
              "      <td>0</td>\n",
              "      <td>0</td>\n",
              "      <td>0</td>\n",
              "      <td>1</td>\n",
              "      <td>0</td>\n",
              "      <td>0</td>\n",
              "      <td>1</td>\n",
              "      <td>0</td>\n",
              "      <td>1</td>\n",
              "      <td>0</td>\n",
              "      <td>0</td>\n",
              "      <td>0</td>\n",
              "      <td>1</td>\n",
              "      <td>0</td>\n",
              "    </tr>\n",
              "    <tr>\n",
              "      <th>14201</th>\n",
              "      <td>NCO17</td>\n",
              "      <td>10.00</td>\n",
              "      <td>0.073529</td>\n",
              "      <td>118.7440</td>\n",
              "      <td>OUT045</td>\n",
              "      <td>2002</td>\n",
              "      <td>1794.3310</td>\n",
              "      <td>test</td>\n",
              "      <td>1</td>\n",
              "      <td>0</td>\n",
              "      <td>0</td>\n",
              "      <td>0</td>\n",
              "      <td>0</td>\n",
              "      <td>0</td>\n",
              "      <td>0</td>\n",
              "      <td>0</td>\n",
              "      <td>0</td>\n",
              "      <td>0</td>\n",
              "      <td>1</td>\n",
              "      <td>0</td>\n",
              "      <td>0</td>\n",
              "      <td>0</td>\n",
              "      <td>0</td>\n",
              "      <td>0</td>\n",
              "      <td>0</td>\n",
              "      <td>0</td>\n",
              "      <td>0</td>\n",
              "      <td>1</td>\n",
              "      <td>0</td>\n",
              "      <td>0</td>\n",
              "      <td>1</td>\n",
              "      <td>0</td>\n",
              "      <td>0</td>\n",
              "      <td>1</td>\n",
              "      <td>0</td>\n",
              "      <td>0</td>\n",
              "    </tr>\n",
              "    <tr>\n",
              "      <th>14202</th>\n",
              "      <td>FDJ26</td>\n",
              "      <td>15.30</td>\n",
              "      <td>0.000000</td>\n",
              "      <td>214.6218</td>\n",
              "      <td>OUT017</td>\n",
              "      <td>2007</td>\n",
              "      <td>1794.3310</td>\n",
              "      <td>test</td>\n",
              "      <td>0</td>\n",
              "      <td>1</td>\n",
              "      <td>0</td>\n",
              "      <td>0</td>\n",
              "      <td>0</td>\n",
              "      <td>1</td>\n",
              "      <td>0</td>\n",
              "      <td>0</td>\n",
              "      <td>0</td>\n",
              "      <td>0</td>\n",
              "      <td>0</td>\n",
              "      <td>0</td>\n",
              "      <td>0</td>\n",
              "      <td>0</td>\n",
              "      <td>0</td>\n",
              "      <td>0</td>\n",
              "      <td>0</td>\n",
              "      <td>0</td>\n",
              "      <td>0</td>\n",
              "      <td>1</td>\n",
              "      <td>0</td>\n",
              "      <td>0</td>\n",
              "      <td>1</td>\n",
              "      <td>0</td>\n",
              "      <td>0</td>\n",
              "      <td>1</td>\n",
              "      <td>0</td>\n",
              "      <td>0</td>\n",
              "    </tr>\n",
              "    <tr>\n",
              "      <th>14203</th>\n",
              "      <td>FDU37</td>\n",
              "      <td>9.50</td>\n",
              "      <td>0.104720</td>\n",
              "      <td>79.7960</td>\n",
              "      <td>OUT045</td>\n",
              "      <td>2002</td>\n",
              "      <td>1794.3310</td>\n",
              "      <td>test</td>\n",
              "      <td>0</td>\n",
              "      <td>1</td>\n",
              "      <td>0</td>\n",
              "      <td>0</td>\n",
              "      <td>0</td>\n",
              "      <td>1</td>\n",
              "      <td>0</td>\n",
              "      <td>0</td>\n",
              "      <td>0</td>\n",
              "      <td>0</td>\n",
              "      <td>0</td>\n",
              "      <td>0</td>\n",
              "      <td>0</td>\n",
              "      <td>0</td>\n",
              "      <td>0</td>\n",
              "      <td>0</td>\n",
              "      <td>0</td>\n",
              "      <td>0</td>\n",
              "      <td>0</td>\n",
              "      <td>1</td>\n",
              "      <td>0</td>\n",
              "      <td>0</td>\n",
              "      <td>1</td>\n",
              "      <td>0</td>\n",
              "      <td>0</td>\n",
              "      <td>1</td>\n",
              "      <td>0</td>\n",
              "      <td>0</td>\n",
              "    </tr>\n",
              "  </tbody>\n",
              "</table>\n",
              "<p>14204 rows × 36 columns</p>\n",
              "</div>"
            ],
            "text/plain": [
              "      Item_Identifier  ...  Outlet_Type_Supermarket Type3\n",
              "0               FDA15  ...                              0\n",
              "1               DRC01  ...                              0\n",
              "2               FDN15  ...                              0\n",
              "3               FDX07  ...                              0\n",
              "4               NCD19  ...                              0\n",
              "...               ...  ...                            ...\n",
              "14199           FDB58  ...                              0\n",
              "14200           FDD47  ...                              0\n",
              "14201           NCO17  ...                              0\n",
              "14202           FDJ26  ...                              0\n",
              "14203           FDU37  ...                              0\n",
              "\n",
              "[14204 rows x 36 columns]"
            ]
          },
          "metadata": {
            "tags": []
          },
          "execution_count": 14
        }
      ]
    },
    {
      "cell_type": "markdown",
      "metadata": {
        "id": "tRXrV2fygliv"
      },
      "source": [
        "we have dataset which have non numeric columns and it needs to be converted to numeric\n",
        "These three categorical colums has been converted in to one hot encoding.This is done so that ML model is able to process it"
      ]
    },
    {
      "cell_type": "code",
      "metadata": {
        "id": "SNI8lXJs-JWP",
        "colab": {
          "base_uri": "https://localhost:8080/",
          "height": 419
        },
        "outputId": "19667440-4106-424b-e29a-74f746a824b3"
      },
      "source": [
        "df_item_outlet=df_bigmart[[\"Item_Identifier\",\"Outlet_Identifier\",\"source\"]]\n",
        "df_item_outlet"
      ],
      "execution_count": 15,
      "outputs": [
        {
          "output_type": "execute_result",
          "data": {
            "text/html": [
              "<div>\n",
              "<style scoped>\n",
              "    .dataframe tbody tr th:only-of-type {\n",
              "        vertical-align: middle;\n",
              "    }\n",
              "\n",
              "    .dataframe tbody tr th {\n",
              "        vertical-align: top;\n",
              "    }\n",
              "\n",
              "    .dataframe thead th {\n",
              "        text-align: right;\n",
              "    }\n",
              "</style>\n",
              "<table border=\"1\" class=\"dataframe\">\n",
              "  <thead>\n",
              "    <tr style=\"text-align: right;\">\n",
              "      <th></th>\n",
              "      <th>Item_Identifier</th>\n",
              "      <th>Outlet_Identifier</th>\n",
              "      <th>source</th>\n",
              "    </tr>\n",
              "  </thead>\n",
              "  <tbody>\n",
              "    <tr>\n",
              "      <th>0</th>\n",
              "      <td>FDA15</td>\n",
              "      <td>OUT049</td>\n",
              "      <td>train</td>\n",
              "    </tr>\n",
              "    <tr>\n",
              "      <th>1</th>\n",
              "      <td>DRC01</td>\n",
              "      <td>OUT018</td>\n",
              "      <td>train</td>\n",
              "    </tr>\n",
              "    <tr>\n",
              "      <th>2</th>\n",
              "      <td>FDN15</td>\n",
              "      <td>OUT049</td>\n",
              "      <td>train</td>\n",
              "    </tr>\n",
              "    <tr>\n",
              "      <th>3</th>\n",
              "      <td>FDX07</td>\n",
              "      <td>OUT010</td>\n",
              "      <td>train</td>\n",
              "    </tr>\n",
              "    <tr>\n",
              "      <th>4</th>\n",
              "      <td>NCD19</td>\n",
              "      <td>OUT013</td>\n",
              "      <td>train</td>\n",
              "    </tr>\n",
              "    <tr>\n",
              "      <th>...</th>\n",
              "      <td>...</td>\n",
              "      <td>...</td>\n",
              "      <td>...</td>\n",
              "    </tr>\n",
              "    <tr>\n",
              "      <th>14199</th>\n",
              "      <td>FDB58</td>\n",
              "      <td>OUT046</td>\n",
              "      <td>test</td>\n",
              "    </tr>\n",
              "    <tr>\n",
              "      <th>14200</th>\n",
              "      <td>FDD47</td>\n",
              "      <td>OUT018</td>\n",
              "      <td>test</td>\n",
              "    </tr>\n",
              "    <tr>\n",
              "      <th>14201</th>\n",
              "      <td>NCO17</td>\n",
              "      <td>OUT045</td>\n",
              "      <td>test</td>\n",
              "    </tr>\n",
              "    <tr>\n",
              "      <th>14202</th>\n",
              "      <td>FDJ26</td>\n",
              "      <td>OUT017</td>\n",
              "      <td>test</td>\n",
              "    </tr>\n",
              "    <tr>\n",
              "      <th>14203</th>\n",
              "      <td>FDU37</td>\n",
              "      <td>OUT045</td>\n",
              "      <td>test</td>\n",
              "    </tr>\n",
              "  </tbody>\n",
              "</table>\n",
              "<p>14204 rows × 3 columns</p>\n",
              "</div>"
            ],
            "text/plain": [
              "      Item_Identifier Outlet_Identifier source\n",
              "0               FDA15            OUT049  train\n",
              "1               DRC01            OUT018  train\n",
              "2               FDN15            OUT049  train\n",
              "3               FDX07            OUT010  train\n",
              "4               NCD19            OUT013  train\n",
              "...               ...               ...    ...\n",
              "14199           FDB58            OUT046   test\n",
              "14200           FDD47            OUT018   test\n",
              "14201           NCO17            OUT045   test\n",
              "14202           FDJ26            OUT017   test\n",
              "14203           FDU37            OUT045   test\n",
              "\n",
              "[14204 rows x 3 columns]"
            ]
          },
          "metadata": {
            "tags": []
          },
          "execution_count": 15
        }
      ]
    },
    {
      "cell_type": "markdown",
      "metadata": {
        "id": "_YnpQ91LhHPJ"
      },
      "source": [
        "store item identifier ,outlet identifier and source in variable df_item_outlet"
      ]
    },
    {
      "cell_type": "code",
      "metadata": {
        "id": "H-LJzyshh2K_"
      },
      "source": [
        "df_bigmart[\"Outlet_Establishment_Year\"]=2013-df_bigmart[\"Outlet_Establishment_Year\"]"
      ],
      "execution_count": 16,
      "outputs": []
    },
    {
      "cell_type": "markdown",
      "metadata": {
        "id": "1KEk3RKviSpd"
      },
      "source": [
        "we can covert outlet establishment year to howold is outlet"
      ]
    },
    {
      "cell_type": "code",
      "metadata": {
        "id": "Rv832pxy-8jg"
      },
      "source": [
        "df_bigmart[\"Outlet__Years_of_operation\"]=df_bigmart[\"Outlet_Establishment_Year\"]\n",
        "df_bigmart.drop(columns=[\"Outlet_Establishment_Year\"],inplace=True)"
      ],
      "execution_count": 17,
      "outputs": []
    },
    {
      "cell_type": "markdown",
      "metadata": {
        "id": "2Eu6nnaKiaA9"
      },
      "source": [
        "Made a column \"Outlet__Years_of_operation\" and drop \"Outlet_Establishment_Year\""
      ]
    },
    {
      "cell_type": "code",
      "metadata": {
        "colab": {
          "base_uri": "https://localhost:8080/"
        },
        "id": "Vc8tA8aQ_EJS",
        "outputId": "d2643442-f523-49da-b512-a792aede2009"
      },
      "source": [
        "cols_to_be_checked=[\"Item_MRP\",\"Item_Visibility\",\"Item_Weight\",\"Outlet__Years_of_operation\"]\n",
        "for col in df_bigmart.skew().index:\n",
        "    if col in cols_to_be_checked:\n",
        "        print(\"Skewness of column {} is: {}\".format(col,df_bigmart.skew().loc[col]))"
      ],
      "execution_count": 18,
      "outputs": [
        {
          "output_type": "stream",
          "text": [
            "Skewness of column Item_Weight is: 0.13471142395276792\n",
            "Skewness of column Item_Visibility is: 1.1951751774587889\n",
            "Skewness of column Item_MRP is: 0.13072836040225863\n",
            "Skewness of column Outlet__Years_of_operation is: 0.3964651900863859\n"
          ],
          "name": "stdout"
        }
      ]
    },
    {
      "cell_type": "markdown",
      "metadata": {
        "id": "1NL_o8Kxim8x"
      },
      "source": [
        "As per aboveb result found skewnes in data set"
      ]
    },
    {
      "cell_type": "code",
      "metadata": {
        "id": "Jl06zREx_KvP"
      },
      "source": [
        "import numpy as np\n",
        "df_bigmart.skew()\n",
        "for col in df_bigmart.skew().index:\n",
        "    if col in cols_to_be_checked:\n",
        "        if df_bigmart.skew().loc[col]>0.5:\n",
        "            df_bigmart[col]=np.sqrt(df_bigmart[col])\n",
        "        if df_bigmart.skew().loc[col]<-0.5:\n",
        "            df_bigmart[col]=np.cbrt(df_bigmart[col])"
      ],
      "execution_count": 19,
      "outputs": []
    },
    {
      "cell_type": "markdown",
      "metadata": {
        "id": "Rx1mQnqNi1FB"
      },
      "source": [
        "Removed skewness of data set"
      ]
    },
    {
      "cell_type": "code",
      "metadata": {
        "colab": {
          "base_uri": "https://localhost:8080/"
        },
        "id": "rHgAWW5i_eJe",
        "outputId": "f9c209b3-379f-4ea0-b2ac-58627393bfa7"
      },
      "source": [
        "for col in df_bigmart.skew().index:\n",
        "    if col in cols_to_be_checked:\n",
        "        print(\"Skewness of column {} is: {}\".format(col,df_bigmart.skew().loc[col]))"
      ],
      "execution_count": 20,
      "outputs": [
        {
          "output_type": "stream",
          "text": [
            "Skewness of column Item_Weight is: 0.13471142395276792\n",
            "Skewness of column Item_Visibility is: -0.0967582787285686\n",
            "Skewness of column Item_MRP is: 0.13072836040225863\n",
            "Skewness of column Outlet__Years_of_operation is: 0.3964651900863859\n"
          ],
          "name": "stdout"
        }
      ]
    },
    {
      "cell_type": "markdown",
      "metadata": {
        "id": "YMZSgSNNi8xp"
      },
      "source": [
        "Aboveb columns skewness has been also removed."
      ]
    },
    {
      "cell_type": "code",
      "metadata": {
        "id": "LIub_37M_icP"
      },
      "source": [
        "df_bigmart.drop(columns=[\"Item_Identifier\",\"Outlet_Identifier\"],inplace=True)"
      ],
      "execution_count": 21,
      "outputs": []
    },
    {
      "cell_type": "markdown",
      "metadata": {
        "id": "2SweOCe2jGyP"
      },
      "source": [
        "droped (\"Item_Identifier\",\"Outlet_Identifier\",\"source\") from dataset"
      ]
    },
    {
      "cell_type": "code",
      "metadata": {
        "colab": {
          "base_uri": "https://localhost:8080/"
        },
        "id": "cvSwXfIMAPuS",
        "outputId": "d7a8bf9a-1b49-412d-87f8-1c7160075cbd"
      },
      "source": [
        "df_train=df_bigmart.loc[df_bigmart[\"source\"]==\"train\"]\n",
        "df_test=df_bigmart.loc[df_bigmart[\"source\"]==\"test\"]\n",
        "df_test.reset_index(drop=True,inplace=True)\n",
        "print(df_train.columns)\n",
        "print(df_test.columns)"
      ],
      "execution_count": 22,
      "outputs": [
        {
          "output_type": "stream",
          "text": [
            "Index(['Item_Weight', 'Item_Visibility', 'Item_MRP', 'Item_Outlet_Sales',\n",
            "       'source', 'Item_Fat_Content_Low Fat', 'Item_Fat_Content_Regular',\n",
            "       'Item_Type_Baking Goods', 'Item_Type_Breads', 'Item_Type_Breakfast',\n",
            "       'Item_Type_Canned', 'Item_Type_Dairy', 'Item_Type_Frozen Foods',\n",
            "       'Item_Type_Fruits and Vegetables', 'Item_Type_Hard Drinks',\n",
            "       'Item_Type_Health and Hygiene', 'Item_Type_Household', 'Item_Type_Meat',\n",
            "       'Item_Type_Others', 'Item_Type_Seafood', 'Item_Type_Snack Foods',\n",
            "       'Item_Type_Soft Drinks', 'Item_Type_Starchy Foods',\n",
            "       'Outlet_Location_Type_Tier 1', 'Outlet_Location_Type_Tier 2',\n",
            "       'Outlet_Location_Type_Tier 3', 'Outlet_Size_High', 'Outlet_Size_Medium',\n",
            "       'Outlet_Size_Small', 'Outlet_Type_Grocery Store',\n",
            "       'Outlet_Type_Supermarket Type1', 'Outlet_Type_Supermarket Type2',\n",
            "       'Outlet_Type_Supermarket Type3', 'Outlet__Years_of_operation'],\n",
            "      dtype='object')\n",
            "Index(['Item_Weight', 'Item_Visibility', 'Item_MRP', 'Item_Outlet_Sales',\n",
            "       'source', 'Item_Fat_Content_Low Fat', 'Item_Fat_Content_Regular',\n",
            "       'Item_Type_Baking Goods', 'Item_Type_Breads', 'Item_Type_Breakfast',\n",
            "       'Item_Type_Canned', 'Item_Type_Dairy', 'Item_Type_Frozen Foods',\n",
            "       'Item_Type_Fruits and Vegetables', 'Item_Type_Hard Drinks',\n",
            "       'Item_Type_Health and Hygiene', 'Item_Type_Household', 'Item_Type_Meat',\n",
            "       'Item_Type_Others', 'Item_Type_Seafood', 'Item_Type_Snack Foods',\n",
            "       'Item_Type_Soft Drinks', 'Item_Type_Starchy Foods',\n",
            "       'Outlet_Location_Type_Tier 1', 'Outlet_Location_Type_Tier 2',\n",
            "       'Outlet_Location_Type_Tier 3', 'Outlet_Size_High', 'Outlet_Size_Medium',\n",
            "       'Outlet_Size_Small', 'Outlet_Type_Grocery Store',\n",
            "       'Outlet_Type_Supermarket Type1', 'Outlet_Type_Supermarket Type2',\n",
            "       'Outlet_Type_Supermarket Type3', 'Outlet__Years_of_operation'],\n",
            "      dtype='object')\n"
          ],
          "name": "stdout"
        }
      ]
    },
    {
      "cell_type": "markdown",
      "metadata": {
        "id": "QjPKuQw7jlRZ"
      },
      "source": [
        "Seprated the train and test"
      ]
    },
    {
      "cell_type": "code",
      "metadata": {
        "colab": {
          "base_uri": "https://localhost:8080/"
        },
        "id": "GDm_Qt54AcGH",
        "outputId": "fee37860-9df8-4327-bfbd-1378472e6ca3"
      },
      "source": [
        "df_test.drop(columns=[\"Item_Outlet_Sales\"],inplace=True)"
      ],
      "execution_count": 23,
      "outputs": [
        {
          "output_type": "stream",
          "text": [
            "/usr/local/lib/python3.7/dist-packages/pandas/core/frame.py:4174: SettingWithCopyWarning: \n",
            "A value is trying to be set on a copy of a slice from a DataFrame\n",
            "\n",
            "See the caveats in the documentation: https://pandas.pydata.org/pandas-docs/stable/user_guide/indexing.html#returning-a-view-versus-a-copy\n",
            "  errors=errors,\n"
          ],
          "name": "stderr"
        }
      ]
    },
    {
      "cell_type": "markdown",
      "metadata": {
        "id": "V9acK5R_kEKn"
      },
      "source": [
        "\n",
        "Droped the Item_Outlet_Sales from test dataset as that is the o/p variable that needs to be predicted"
      ]
    },
    {
      "cell_type": "code",
      "metadata": {
        "colab": {
          "base_uri": "https://localhost:8080/"
        },
        "id": "O-zxclpLAsaq",
        "outputId": "f7837e30-8c1e-47e9-d66e-201a75708105"
      },
      "source": [
        "df_train.drop(columns=[\"source\"],inplace=True)\n",
        "df_test.drop(columns=[\"source\"],inplace=True)"
      ],
      "execution_count": 24,
      "outputs": [
        {
          "output_type": "stream",
          "text": [
            "/usr/local/lib/python3.7/dist-packages/pandas/core/frame.py:4174: SettingWithCopyWarning: \n",
            "A value is trying to be set on a copy of a slice from a DataFrame\n",
            "\n",
            "See the caveats in the documentation: https://pandas.pydata.org/pandas-docs/stable/user_guide/indexing.html#returning-a-view-versus-a-copy\n",
            "  errors=errors,\n"
          ],
          "name": "stderr"
        }
      ]
    },
    {
      "cell_type": "markdown",
      "metadata": {
        "id": "9xtBuuvEkWlB"
      },
      "source": [
        "Droped source column from df_train and df_test"
      ]
    },
    {
      "cell_type": "code",
      "metadata": {
        "id": "XcRo-HWrAxp9"
      },
      "source": [
        "df_x=df_train.drop(columns=[\"Item_Outlet_Sales\"])\n",
        "y=df_train[[\"Item_Outlet_Sales\"]]"
      ],
      "execution_count": 25,
      "outputs": []
    },
    {
      "cell_type": "markdown",
      "metadata": {
        "id": "-D-sLZSPkeZA"
      },
      "source": [
        "seprated input and output from df_train"
      ]
    },
    {
      "cell_type": "code",
      "metadata": {
        "id": "-lNDXdLxA198"
      },
      "source": [
        "from sklearn.preprocessing import StandardScaler\n",
        "sc = StandardScaler()\n",
        "x = sc.fit_transform(df_x)\n",
        "x=pd.DataFrame(x,columns=df_x.columns)"
      ],
      "execution_count": 26,
      "outputs": []
    },
    {
      "cell_type": "markdown",
      "metadata": {
        "id": "e7rUzXvwkrWX"
      },
      "source": [
        "Made every column to common scale"
      ]
    },
    {
      "cell_type": "markdown",
      "metadata": {
        "id": "frAeWVQKlHbr"
      },
      "source": [
        "### function of  random stat which gives maximum r2_score"
      ]
    },
    {
      "cell_type": "code",
      "metadata": {
        "id": "ZZC-95nxA7ci"
      },
      "source": [
        "from sklearn.metrics import mean_absolute_error\n",
        "from sklearn.metrics import mean_squared_error\n",
        "from sklearn.metrics import r2_score\n",
        "from sklearn.model_selection import train_test_split\n",
        "def maxr2_score(regr,df_x,y):\n",
        "    max_r_score=0\n",
        "    for r_state in range(42,90):\n",
        "        x_train, x_test, y_train, y_test = train_test_split(df_x, y,random_state = r_state,test_size=0.20)\n",
        "        regr.fit(x_train,y_train)\n",
        "        y_pred = regr.predict(x_test)\n",
        "        r2_scr=r2_score(y_test,y_pred)\n",
        "        print(\"r2 score corresponding to \",r_state,\" is \",r2_scr)\n",
        "        if r2_scr>max_r_score:\n",
        "            max_r_score=r2_scr\n",
        "            final_r_state=r_state\n",
        "    print(\"max r2 score corresponding to \",final_r_state,\" is \",max_r_score)\n",
        "    return final_r_state"
      ],
      "execution_count": 27,
      "outputs": []
    },
    {
      "cell_type": "markdown",
      "metadata": {
        "id": "HVogzJfdlTGE"
      },
      "source": [
        "### Function which evaluates the model using cross_val_score"
      ]
    },
    {
      "cell_type": "code",
      "metadata": {
        "id": "MjX6jhxWBCN_"
      },
      "source": [
        "from sklearn.model_selection import cross_val_score\n",
        "def model_evaluation(model,x,y):\n",
        "    c_scores=cross_val_score(model,x,y,cv=5,scoring=\"r2\")\n",
        "    print(\"Mean r2 score for regressor: \",c_scores.mean())\n",
        "    print(\"standard deviation in r2 score for regressor: \",c_scores.std())\n",
        "    print(c_scores)"
      ],
      "execution_count": 28,
      "outputs": []
    },
    {
      "cell_type": "markdown",
      "metadata": {
        "id": "dngjDNTOlcJu"
      },
      "source": [
        "### Lets use pca to reduce the dimensionality"
      ]
    },
    {
      "cell_type": "code",
      "metadata": {
        "colab": {
          "base_uri": "https://localhost:8080/"
        },
        "id": "XDgI7hRSBOmg",
        "outputId": "7984b2ee-5fa6-49a5-eb1c-5dd239c46030"
      },
      "source": [
        "from sklearn.decomposition import PCA\n",
        "pca = PCA(n_components=23)\n",
        "x_pca=pca.fit_transform(x)\n",
        "print(\"vraiance :{}\".format(np.sum(pca.explained_variance_ratio_)))"
      ],
      "execution_count": 29,
      "outputs": [
        {
          "output_type": "stream",
          "text": [
            "vraiance :0.9480292259026457\n"
          ],
          "name": "stdout"
        }
      ]
    },
    {
      "cell_type": "markdown",
      "metadata": {
        "id": "p1RgHO6pljry"
      },
      "source": [
        "### Lets use decision tree"
      ]
    },
    {
      "cell_type": "code",
      "metadata": {
        "colab": {
          "base_uri": "https://localhost:8080/"
        },
        "id": "-oXXS5v_BUYX",
        "outputId": "ac45196c-9ba6-488e-9968-8cc506372347"
      },
      "source": [
        "from sklearn.tree import DecisionTreeRegressor\n",
        "import numpy as np\n",
        "dtr=DecisionTreeRegressor()\n",
        "r_state=maxr2_score(dtr,x_pca,y)"
      ],
      "execution_count": 30,
      "outputs": [
        {
          "output_type": "stream",
          "text": [
            "r2 score corresponding to  42  is  0.16326960861683026\n",
            "r2 score corresponding to  43  is  0.16693781950727926\n",
            "r2 score corresponding to  44  is  0.07169257436762877\n",
            "r2 score corresponding to  45  is  0.11816677296883371\n",
            "r2 score corresponding to  46  is  0.051337471256287515\n",
            "r2 score corresponding to  47  is  0.12515240985416187\n",
            "r2 score corresponding to  48  is  0.19265065733641507\n",
            "r2 score corresponding to  49  is  0.13277228093289284\n",
            "r2 score corresponding to  50  is  0.1179057425110952\n",
            "r2 score corresponding to  51  is  0.13442711940060992\n",
            "r2 score corresponding to  52  is  0.09654467787820742\n",
            "r2 score corresponding to  53  is  0.05456636172392104\n",
            "r2 score corresponding to  54  is  0.17941737551235537\n",
            "r2 score corresponding to  55  is  0.16525108197311278\n",
            "r2 score corresponding to  56  is  0.11634066837086199\n",
            "r2 score corresponding to  57  is  0.1598937616686369\n",
            "r2 score corresponding to  58  is  0.10630862066496605\n",
            "r2 score corresponding to  59  is  0.08163862595761473\n",
            "r2 score corresponding to  60  is  0.19575588285053547\n",
            "r2 score corresponding to  61  is  0.07393667800425274\n",
            "r2 score corresponding to  62  is  0.14324451851598852\n",
            "r2 score corresponding to  63  is  0.13310075605136484\n",
            "r2 score corresponding to  64  is  0.21547446038189655\n",
            "r2 score corresponding to  65  is  0.1881908698457213\n",
            "r2 score corresponding to  66  is  0.13336535497013735\n",
            "r2 score corresponding to  67  is  0.19201121098457563\n",
            "r2 score corresponding to  68  is  0.07901637290620078\n",
            "r2 score corresponding to  69  is  0.07996220612091465\n",
            "r2 score corresponding to  70  is  0.15769907074552403\n",
            "r2 score corresponding to  71  is  0.16321496056176243\n",
            "r2 score corresponding to  72  is  0.15018752388443812\n",
            "r2 score corresponding to  73  is  0.12955289282367788\n",
            "r2 score corresponding to  74  is  -0.006356102891461379\n",
            "r2 score corresponding to  75  is  0.162161244007209\n",
            "r2 score corresponding to  76  is  0.19791011577022743\n",
            "r2 score corresponding to  77  is  0.1338998951082454\n",
            "r2 score corresponding to  78  is  0.08697885375651082\n",
            "r2 score corresponding to  79  is  0.214750869533041\n",
            "r2 score corresponding to  80  is  0.1822746571683873\n",
            "r2 score corresponding to  81  is  0.1604045183877031\n",
            "r2 score corresponding to  82  is  0.1918489612232953\n",
            "r2 score corresponding to  83  is  0.13466392837890362\n",
            "r2 score corresponding to  84  is  0.18895116866635253\n",
            "r2 score corresponding to  85  is  0.13541498070196534\n",
            "r2 score corresponding to  86  is  0.10126457377384712\n",
            "r2 score corresponding to  87  is  0.1397922392268336\n",
            "r2 score corresponding to  88  is  0.0694987979088506\n",
            "r2 score corresponding to  89  is  0.0838765773707314\n",
            "max r2 score corresponding to  64  is  0.21547446038189655\n"
          ],
          "name": "stdout"
        }
      ]
    },
    {
      "cell_type": "markdown",
      "metadata": {
        "id": "wGcnm99JlpmJ"
      },
      "source": [
        "### lets use random forest regressor"
      ]
    },
    {
      "cell_type": "code",
      "metadata": {
        "colab": {
          "base_uri": "https://localhost:8080/"
        },
        "id": "oR96oAeiBahS",
        "outputId": "8a4d7037-6c76-4f10-d971-6d48f3438ff5"
      },
      "source": [
        "from sklearn.ensemble import RandomForestRegressor\n",
        "from sklearn.model_selection import GridSearchCV\n",
        "import warnings\n",
        "warnings.filterwarnings(\"ignore\")\n",
        "rfr=RandomForestRegressor()\n",
        "parameters = {\"n_estimators\":[10,100,500]}\n",
        "clf = GridSearchCV(rfr, parameters, cv=5,scoring=\"r2\")\n",
        "clf.fit(x_pca,y)\n",
        "clf.best_params_"
      ],
      "execution_count": 31,
      "outputs": [
        {
          "output_type": "execute_result",
          "data": {
            "text/plain": [
              "{'n_estimators': 500}"
            ]
          },
          "metadata": {
            "tags": []
          },
          "execution_count": 31
        }
      ]
    },
    {
      "cell_type": "code",
      "metadata": {
        "id": "ZcPui4a-Bj_Y",
        "colab": {
          "base_uri": "https://localhost:8080/"
        },
        "outputId": "6a9bb2d5-d96a-494e-dbcb-a2fb194b1cb6"
      },
      "source": [
        "rfr=RandomForestRegressor(n_estimators=500)\n",
        "r_state=maxr2_score(rfr,x_pca,y)"
      ],
      "execution_count": 32,
      "outputs": [
        {
          "output_type": "stream",
          "text": [
            "r2 score corresponding to  42  is  0.5493418501793685\n",
            "r2 score corresponding to  43  is  0.5782361348865779\n",
            "r2 score corresponding to  44  is  0.5531668829958245\n",
            "r2 score corresponding to  45  is  0.5362890000962469\n",
            "r2 score corresponding to  46  is  0.5011659756804686\n",
            "r2 score corresponding to  47  is  0.5452199293215931\n",
            "r2 score corresponding to  48  is  0.5557479231220936\n",
            "r2 score corresponding to  49  is  0.5531064664898592\n",
            "r2 score corresponding to  50  is  0.5392148255701468\n",
            "r2 score corresponding to  51  is  0.525511158520426\n",
            "r2 score corresponding to  52  is  0.5242047733169495\n",
            "r2 score corresponding to  53  is  0.5241746490074691\n",
            "r2 score corresponding to  54  is  0.5642548378524173\n",
            "r2 score corresponding to  55  is  0.5606708850438221\n",
            "r2 score corresponding to  56  is  0.5355775940072669\n",
            "r2 score corresponding to  57  is  0.5472962363153626\n",
            "r2 score corresponding to  58  is  0.5416449676806874\n",
            "r2 score corresponding to  59  is  0.5409454578174431\n",
            "r2 score corresponding to  60  is  0.5759518784451041\n",
            "r2 score corresponding to  61  is  0.5419185658676695\n",
            "r2 score corresponding to  62  is  0.5573332608508236\n",
            "r2 score corresponding to  63  is  0.542466443166367\n",
            "r2 score corresponding to  64  is  0.5381521773611839\n",
            "r2 score corresponding to  65  is  0.5601348910296367\n",
            "r2 score corresponding to  66  is  0.5465172984720992\n",
            "r2 score corresponding to  67  is  0.5672714681517932\n",
            "r2 score corresponding to  68  is  0.5257418869684919\n",
            "r2 score corresponding to  69  is  0.5578530236656496\n",
            "r2 score corresponding to  70  is  0.5495060223978097\n",
            "r2 score corresponding to  71  is  0.551224480376165\n",
            "r2 score corresponding to  72  is  0.5803028710147646\n",
            "r2 score corresponding to  73  is  0.5275425848218891\n",
            "r2 score corresponding to  74  is  0.5178642991772469\n",
            "r2 score corresponding to  75  is  0.5732902869022481\n",
            "r2 score corresponding to  76  is  0.5761842223473819\n",
            "r2 score corresponding to  77  is  0.5489206000625452\n",
            "r2 score corresponding to  78  is  0.52346600600706\n",
            "r2 score corresponding to  79  is  0.5517299637856525\n",
            "r2 score corresponding to  80  is  0.5460849563410888\n",
            "r2 score corresponding to  81  is  0.5420691265465678\n",
            "r2 score corresponding to  82  is  0.5617287386408167\n",
            "r2 score corresponding to  83  is  0.5241935025922643\n",
            "r2 score corresponding to  84  is  0.573710534742258\n",
            "r2 score corresponding to  85  is  0.5470128452007961\n",
            "r2 score corresponding to  86  is  0.5375769434252362\n",
            "r2 score corresponding to  87  is  0.5244187025555095\n",
            "r2 score corresponding to  88  is  0.5399979421724572\n",
            "r2 score corresponding to  89  is  0.5603515649318654\n",
            "max r2 score corresponding to  72  is  0.5803028710147646\n"
          ],
          "name": "stdout"
        }
      ]
    },
    {
      "cell_type": "markdown",
      "metadata": {
        "id": "ipiiYzaBlxcM"
      },
      "source": [
        ""
      ]
    },
    {
      "cell_type": "markdown",
      "metadata": {
        "id": "_oU9OBprlxgA"
      },
      "source": [
        "### lets check KNN "
      ]
    },
    {
      "cell_type": "code",
      "metadata": {
        "colab": {
          "base_uri": "https://localhost:8080/"
        },
        "id": "SOwPfjAiDyMf",
        "outputId": "76d39b46-73b7-4504-fb39-987a15350d97"
      },
      "source": [
        "from sklearn.neighbors import KNeighborsRegressor\n",
        "knr=KNeighborsRegressor()\n",
        "parameters = {\"n_neighbors\":range(2,30)}\n",
        "clf = GridSearchCV(knr, parameters, cv=5,scoring=\"r2\")\n",
        "clf.fit(x_pca, y)\n",
        "clf.best_params_"
      ],
      "execution_count": 33,
      "outputs": [
        {
          "output_type": "execute_result",
          "data": {
            "text/plain": [
              "{'n_neighbors': 8}"
            ]
          },
          "metadata": {
            "tags": []
          },
          "execution_count": 33
        }
      ]
    },
    {
      "cell_type": "code",
      "metadata": {
        "colab": {
          "base_uri": "https://localhost:8080/"
        },
        "id": "CToDdJC-MOh5",
        "outputId": "c95380b4-2193-4d39-9b7c-1ddee0596a9f"
      },
      "source": [
        "knr=KNeighborsRegressor(n_neighbors=8)\n",
        "r_state=maxr2_score(knr,x_pca,y)"
      ],
      "execution_count": 34,
      "outputs": [
        {
          "output_type": "stream",
          "text": [
            "r2 score corresponding to  42  is  0.5024503497893338\n",
            "r2 score corresponding to  43  is  0.5000794185225176\n",
            "r2 score corresponding to  44  is  0.49877293838417036\n",
            "r2 score corresponding to  45  is  0.483163329716524\n",
            "r2 score corresponding to  46  is  0.4528665820231246\n",
            "r2 score corresponding to  47  is  0.46163872649734694\n",
            "r2 score corresponding to  48  is  0.4942474356641995\n",
            "r2 score corresponding to  49  is  0.5118540089429913\n",
            "r2 score corresponding to  50  is  0.48684002342009514\n",
            "r2 score corresponding to  51  is  0.48189287390752356\n",
            "r2 score corresponding to  52  is  0.4932885082478994\n",
            "r2 score corresponding to  53  is  0.4610777468483389\n",
            "r2 score corresponding to  54  is  0.5023740540230146\n",
            "r2 score corresponding to  55  is  0.5019781659399363\n",
            "r2 score corresponding to  56  is  0.48234027774768196\n",
            "r2 score corresponding to  57  is  0.46217565955746365\n",
            "r2 score corresponding to  58  is  0.48488933906153286\n",
            "r2 score corresponding to  59  is  0.4914636335431105\n",
            "r2 score corresponding to  60  is  0.5063070775361773\n",
            "r2 score corresponding to  61  is  0.49134241455495997\n",
            "r2 score corresponding to  62  is  0.5013647239131673\n",
            "r2 score corresponding to  63  is  0.49932310515890566\n",
            "r2 score corresponding to  64  is  0.47887817615684614\n",
            "r2 score corresponding to  65  is  0.49295905851765764\n",
            "r2 score corresponding to  66  is  0.45991947524500176\n",
            "r2 score corresponding to  67  is  0.5190485170078344\n",
            "r2 score corresponding to  68  is  0.4731281636462602\n",
            "r2 score corresponding to  69  is  0.482238718421213\n",
            "r2 score corresponding to  70  is  0.5047816914544846\n",
            "r2 score corresponding to  71  is  0.497200833306634\n",
            "r2 score corresponding to  72  is  0.5027867784847229\n",
            "r2 score corresponding to  73  is  0.4427093637741024\n",
            "r2 score corresponding to  74  is  0.47512074030621454\n",
            "r2 score corresponding to  75  is  0.49496418468802017\n",
            "r2 score corresponding to  76  is  0.5010557645656677\n",
            "r2 score corresponding to  77  is  0.4771780820792527\n",
            "r2 score corresponding to  78  is  0.44504975555451054\n",
            "r2 score corresponding to  79  is  0.49925878325214357\n",
            "r2 score corresponding to  80  is  0.48019993727106736\n",
            "r2 score corresponding to  81  is  0.4769234879678693\n",
            "r2 score corresponding to  82  is  0.49604421337611726\n",
            "r2 score corresponding to  83  is  0.498895421374948\n",
            "r2 score corresponding to  84  is  0.5099415569708126\n",
            "r2 score corresponding to  85  is  0.5176176578142413\n",
            "r2 score corresponding to  86  is  0.47376169613496344\n",
            "r2 score corresponding to  87  is  0.4628558304056589\n",
            "r2 score corresponding to  88  is  0.5040502407889971\n",
            "r2 score corresponding to  89  is  0.49301887107046394\n",
            "max r2 score corresponding to  67  is  0.5190485170078344\n"
          ],
          "name": "stdout"
        }
      ]
    },
    {
      "cell_type": "markdown",
      "metadata": {
        "id": "Wgjsiogfl4b6"
      },
      "source": [
        "### Lets use SVM regressor"
      ]
    },
    {
      "cell_type": "code",
      "metadata": {
        "colab": {
          "base_uri": "https://localhost:8080/"
        },
        "id": "q7izwmsMMbRB",
        "outputId": "08d3af51-bea9-4c95-e61f-eb62d2b12ff2"
      },
      "source": [
        "from sklearn.svm import SVR\n",
        "import warnings\n",
        "warnings.filterwarnings(\"ignore\")\n",
        "svr=SVR()\n",
        "parameters={\"kernel\":[\"linear\", \"poly\", \"rbf\"],\"C\":[0.001,0.01,0.1,1,10]}\n",
        "clf = GridSearchCV(svr, parameters, cv=5,scoring=\"r2\")\n",
        "clf.fit(x_pca,y)\n",
        "clf.best_params_"
      ],
      "execution_count": 35,
      "outputs": [
        {
          "output_type": "execute_result",
          "data": {
            "text/plain": [
              "{'C': 10, 'kernel': 'linear'}"
            ]
          },
          "metadata": {
            "tags": []
          },
          "execution_count": 35
        }
      ]
    },
    {
      "cell_type": "code",
      "metadata": {
        "colab": {
          "base_uri": "https://localhost:8080/"
        },
        "id": "AkDTeKYsMgJd",
        "outputId": "22675a12-ab7d-4bf3-fcf9-ecac6f3eccc6"
      },
      "source": [
        "svr=SVR(kernel=\"linear\",C=10)\n",
        "r_state=maxr2_score(svr,x_pca,y)"
      ],
      "execution_count": 36,
      "outputs": [
        {
          "output_type": "stream",
          "text": [
            "r2 score corresponding to  42  is  0.4924008957922199\n",
            "r2 score corresponding to  43  is  0.48627350046814743\n",
            "r2 score corresponding to  44  is  0.49880016238204283\n",
            "r2 score corresponding to  45  is  0.4908755723351079\n",
            "r2 score corresponding to  46  is  0.47832681548093336\n",
            "r2 score corresponding to  47  is  0.48185299218623356\n",
            "r2 score corresponding to  48  is  0.48174439053978246\n",
            "r2 score corresponding to  49  is  0.4815905524451658\n",
            "r2 score corresponding to  50  is  0.4811980821090379\n",
            "r2 score corresponding to  51  is  0.4790552186787512\n",
            "r2 score corresponding to  52  is  0.49650121217904364\n",
            "r2 score corresponding to  53  is  0.47758238590439606\n",
            "r2 score corresponding to  54  is  0.49023748409038537\n",
            "r2 score corresponding to  55  is  0.47638658500787545\n",
            "r2 score corresponding to  56  is  0.45551400477408\n",
            "r2 score corresponding to  57  is  0.4667324025857478\n",
            "r2 score corresponding to  58  is  0.49294009332908895\n",
            "r2 score corresponding to  59  is  0.4738113903340192\n",
            "r2 score corresponding to  60  is  0.498596580993687\n",
            "r2 score corresponding to  61  is  0.48331285915172406\n",
            "r2 score corresponding to  62  is  0.5050686678477249\n",
            "r2 score corresponding to  63  is  0.4957376771674251\n",
            "r2 score corresponding to  64  is  0.464786198816715\n",
            "r2 score corresponding to  65  is  0.4890602237464359\n",
            "r2 score corresponding to  66  is  0.47993400331308944\n",
            "r2 score corresponding to  67  is  0.4888720955320288\n",
            "r2 score corresponding to  68  is  0.49102795394988785\n",
            "r2 score corresponding to  69  is  0.49320451664456955\n",
            "r2 score corresponding to  70  is  0.4857046735727304\n",
            "r2 score corresponding to  71  is  0.4818642018065922\n",
            "r2 score corresponding to  72  is  0.4962769969595291\n",
            "r2 score corresponding to  73  is  0.4802474161964775\n",
            "r2 score corresponding to  74  is  0.47563308209437294\n",
            "r2 score corresponding to  75  is  0.48417135837086855\n",
            "r2 score corresponding to  76  is  0.514183325931777\n",
            "r2 score corresponding to  77  is  0.4842945952042894\n",
            "r2 score corresponding to  78  is  0.47602249793614926\n",
            "r2 score corresponding to  79  is  0.5041910368735264\n",
            "r2 score corresponding to  80  is  0.5077460883868689\n",
            "r2 score corresponding to  81  is  0.49186382301264997\n",
            "r2 score corresponding to  82  is  0.4785056130870944\n",
            "r2 score corresponding to  83  is  0.4670462787156938\n",
            "r2 score corresponding to  84  is  0.48503427007846756\n",
            "r2 score corresponding to  85  is  0.4775503063390225\n",
            "r2 score corresponding to  86  is  0.48420187642480883\n",
            "r2 score corresponding to  87  is  0.4821763839974219\n",
            "r2 score corresponding to  88  is  0.49887677949587494\n",
            "r2 score corresponding to  89  is  0.5019492807054433\n",
            "max r2 score corresponding to  76  is  0.514183325931777\n"
          ],
          "name": "stdout"
        }
      ]
    },
    {
      "cell_type": "markdown",
      "metadata": {
        "id": "ZgDewfy8l-yh"
      },
      "source": [
        "### Now lets do cross_validation of various models"
      ]
    },
    {
      "cell_type": "code",
      "metadata": {
        "colab": {
          "base_uri": "https://localhost:8080/"
        },
        "id": "Xm4_Euf5VbsJ",
        "outputId": "9c1e9159-9518-4779-a5b3-710d80078e12"
      },
      "source": [
        "print(\"DECISION TREE REGRESSOR\\n\\n\")\n",
        "model_evaluation(dtr,x_pca,y)"
      ],
      "execution_count": 37,
      "outputs": [
        {
          "output_type": "stream",
          "text": [
            "DECISION TREE REGRESSOR\n",
            "\n",
            "\n",
            "Mean r2 score for regressor:  0.12616363516247037\n",
            "standard deviation in r2 score for regressor:  0.02877761688659727\n",
            "[0.13865584 0.0850466  0.09935918 0.15831727 0.14943928]\n"
          ],
          "name": "stdout"
        }
      ]
    },
    {
      "cell_type": "code",
      "metadata": {
        "colab": {
          "base_uri": "https://localhost:8080/"
        },
        "id": "jngjEHAZW1rn",
        "outputId": "dfade838-ea4b-4582-d874-a54984b72fc6"
      },
      "source": [
        "print(\"RANDOM FOREST REGRESSOR\\n\\n\")\n",
        "model_evaluation(rfr,x_pca,y)"
      ],
      "execution_count": 38,
      "outputs": [
        {
          "output_type": "stream",
          "text": [
            "RANDOM FOREST REGRESSOR\n",
            "\n",
            "\n",
            "Mean r2 score for regressor:  0.541817934878112\n",
            "standard deviation in r2 score for regressor:  0.016297979471873114\n",
            "[0.55397138 0.52383684 0.52052012 0.55116152 0.55959981]\n"
          ],
          "name": "stdout"
        }
      ]
    },
    {
      "cell_type": "code",
      "metadata": {
        "colab": {
          "base_uri": "https://localhost:8080/"
        },
        "id": "hqfE4SUaW5Qw",
        "outputId": "e5f5111e-c468-4ed4-c7ba-7eb39c0fbba2"
      },
      "source": [
        "print(\"SVM REGRESSOR\\n\\n\")\n",
        "model_evaluation(svr,x_pca,y)"
      ],
      "execution_count": 39,
      "outputs": [
        {
          "output_type": "stream",
          "text": [
            "SVM REGRESSOR\n",
            "\n",
            "\n",
            "Mean r2 score for regressor:  0.4851613210158575\n",
            "standard deviation in r2 score for regressor:  0.004671737280230764\n",
            "[0.49091579 0.48710041 0.48558217 0.4766796  0.48552864]\n"
          ],
          "name": "stdout"
        }
      ]
    },
    {
      "cell_type": "markdown",
      "metadata": {
        "id": "_3NFMeJemGsT"
      },
      "source": [
        "### Based on above r2 scores arandom forest and SVM are performing better than other two\n",
        "### lets make model using SVM"
      ]
    },
    {
      "cell_type": "code",
      "metadata": {
        "id": "iMuljhf0XDW8"
      },
      "source": [
        "x_train, x_test, y_train, y_test = train_test_split(x_pca, y,random_state = 76,test_size=0.20)\n",
        "svr.fit(x_train,y_train)\n",
        "y_pred = svr.predict(x_test)"
      ],
      "execution_count": 40,
      "outputs": []
    },
    {
      "cell_type": "markdown",
      "metadata": {
        "id": "Q1c-vbQlmOXG"
      },
      "source": [
        "### Lets find the rmse and r2_score using sklearn.metrics for SVM model"
      ]
    },
    {
      "cell_type": "code",
      "metadata": {
        "colab": {
          "base_uri": "https://localhost:8080/"
        },
        "id": "uMOr05iRXGSL",
        "outputId": "c01aef55-c62f-4ed5-a6be-99b9a02648a8"
      },
      "source": [
        "import numpy as np\n",
        "from sklearn.metrics import r2_score\n",
        "from sklearn.metrics import mean_squared_error\n",
        "print(\"RMSE is: \",np.sqrt(mean_squared_error(y_test,y_pred)))\n",
        "print(\"r2_score is: \",r2_score(y_test,y_pred))"
      ],
      "execution_count": 41,
      "outputs": [
        {
          "output_type": "stream",
          "text": [
            "RMSE is:  1178.6312209671353\n",
            "r2_score is:  0.514183325931777\n"
          ],
          "name": "stdout"
        }
      ]
    },
    {
      "cell_type": "code",
      "metadata": {
        "id": "qJj8zPE9XZ3w"
      },
      "source": [
        "import pickle\n",
        "import joblib\n",
        "joblib.dump(svr,'big_mart_svr.obj')\n",
        "pickle.dump(svr,open('big_mart_svr.pkl','wb'))"
      ],
      "execution_count": 42,
      "outputs": []
    },
    {
      "cell_type": "markdown",
      "metadata": {
        "id": "rdlKBJ4SnsDN"
      },
      "source": [
        "Save model with both library."
      ]
    },
    {
      "cell_type": "code",
      "metadata": {
        "id": "esdC7eNMnNdY"
      },
      "source": [
        ""
      ],
      "execution_count": 42,
      "outputs": []
    }
  ]
}