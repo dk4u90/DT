{
  "nbformat": 4,
  "nbformat_minor": 0,
  "metadata": {
    "colab": {
      "name": "Wine_DT.ipynb",
      "provenance": [],
      "collapsed_sections": []
    },
    "kernelspec": {
      "name": "python3",
      "display_name": "Python 3"
    },
    "language_info": {
      "name": "python"
    }
  },
  "cells": [
    {
      "cell_type": "code",
      "metadata": {
        "id": "eXTkDSrKPGHr"
      },
      "source": [
        "import pandas as pd\n",
        "import numpy as np\n",
        "import seaborn as sns"
      ],
      "execution_count": 1,
      "outputs": []
    },
    {
      "cell_type": "markdown",
      "metadata": {
        "id": "hIvK7gGQPrZq"
      },
      "source": [
        "Import basic Library."
      ]
    },
    {
      "cell_type": "code",
      "metadata": {
        "id": "eBawg6SiPSR7"
      },
      "source": [
        "df=pd.read_csv('https://raw.githubusercontent.com/dsrscientist/DSData/master/winequality-red.csv')"
      ],
      "execution_count": 2,
      "outputs": []
    },
    {
      "cell_type": "markdown",
      "metadata": {
        "id": "EZ41JmUOPkQl"
      },
      "source": [
        "Read Dataset from gethub."
      ]
    },
    {
      "cell_type": "code",
      "metadata": {
        "colab": {
          "base_uri": "https://localhost:8080/",
          "height": 195
        },
        "id": "h1pOJrcpPcB5",
        "outputId": "ced6979f-f6db-41a9-8195-7dc57d624673"
      },
      "source": [
        "df.head()"
      ],
      "execution_count": 6,
      "outputs": [
        {
          "output_type": "execute_result",
          "data": {
            "text/html": [
              "<div>\n",
              "<style scoped>\n",
              "    .dataframe tbody tr th:only-of-type {\n",
              "        vertical-align: middle;\n",
              "    }\n",
              "\n",
              "    .dataframe tbody tr th {\n",
              "        vertical-align: top;\n",
              "    }\n",
              "\n",
              "    .dataframe thead th {\n",
              "        text-align: right;\n",
              "    }\n",
              "</style>\n",
              "<table border=\"1\" class=\"dataframe\">\n",
              "  <thead>\n",
              "    <tr style=\"text-align: right;\">\n",
              "      <th></th>\n",
              "      <th>fixed acidity</th>\n",
              "      <th>volatile acidity</th>\n",
              "      <th>citric acid</th>\n",
              "      <th>residual sugar</th>\n",
              "      <th>chlorides</th>\n",
              "      <th>free sulfur dioxide</th>\n",
              "      <th>total sulfur dioxide</th>\n",
              "      <th>density</th>\n",
              "      <th>pH</th>\n",
              "      <th>sulphates</th>\n",
              "      <th>alcohol</th>\n",
              "      <th>quality</th>\n",
              "    </tr>\n",
              "  </thead>\n",
              "  <tbody>\n",
              "    <tr>\n",
              "      <th>0</th>\n",
              "      <td>7.4</td>\n",
              "      <td>0.70</td>\n",
              "      <td>0.00</td>\n",
              "      <td>1.9</td>\n",
              "      <td>0.076</td>\n",
              "      <td>11.0</td>\n",
              "      <td>34.0</td>\n",
              "      <td>0.9978</td>\n",
              "      <td>3.51</td>\n",
              "      <td>0.56</td>\n",
              "      <td>9.4</td>\n",
              "      <td>5</td>\n",
              "    </tr>\n",
              "    <tr>\n",
              "      <th>1</th>\n",
              "      <td>7.8</td>\n",
              "      <td>0.88</td>\n",
              "      <td>0.00</td>\n",
              "      <td>2.6</td>\n",
              "      <td>0.098</td>\n",
              "      <td>25.0</td>\n",
              "      <td>67.0</td>\n",
              "      <td>0.9968</td>\n",
              "      <td>3.20</td>\n",
              "      <td>0.68</td>\n",
              "      <td>9.8</td>\n",
              "      <td>5</td>\n",
              "    </tr>\n",
              "    <tr>\n",
              "      <th>2</th>\n",
              "      <td>7.8</td>\n",
              "      <td>0.76</td>\n",
              "      <td>0.04</td>\n",
              "      <td>2.3</td>\n",
              "      <td>0.092</td>\n",
              "      <td>15.0</td>\n",
              "      <td>54.0</td>\n",
              "      <td>0.9970</td>\n",
              "      <td>3.26</td>\n",
              "      <td>0.65</td>\n",
              "      <td>9.8</td>\n",
              "      <td>5</td>\n",
              "    </tr>\n",
              "    <tr>\n",
              "      <th>3</th>\n",
              "      <td>11.2</td>\n",
              "      <td>0.28</td>\n",
              "      <td>0.56</td>\n",
              "      <td>1.9</td>\n",
              "      <td>0.075</td>\n",
              "      <td>17.0</td>\n",
              "      <td>60.0</td>\n",
              "      <td>0.9980</td>\n",
              "      <td>3.16</td>\n",
              "      <td>0.58</td>\n",
              "      <td>9.8</td>\n",
              "      <td>6</td>\n",
              "    </tr>\n",
              "    <tr>\n",
              "      <th>4</th>\n",
              "      <td>7.4</td>\n",
              "      <td>0.70</td>\n",
              "      <td>0.00</td>\n",
              "      <td>1.9</td>\n",
              "      <td>0.076</td>\n",
              "      <td>11.0</td>\n",
              "      <td>34.0</td>\n",
              "      <td>0.9978</td>\n",
              "      <td>3.51</td>\n",
              "      <td>0.56</td>\n",
              "      <td>9.4</td>\n",
              "      <td>5</td>\n",
              "    </tr>\n",
              "  </tbody>\n",
              "</table>\n",
              "</div>"
            ],
            "text/plain": [
              "   fixed acidity  volatile acidity  citric acid  ...  sulphates  alcohol  quality\n",
              "0            7.4              0.70         0.00  ...       0.56      9.4        5\n",
              "1            7.8              0.88         0.00  ...       0.68      9.8        5\n",
              "2            7.8              0.76         0.04  ...       0.65      9.8        5\n",
              "3           11.2              0.28         0.56  ...       0.58      9.8        6\n",
              "4            7.4              0.70         0.00  ...       0.56      9.4        5\n",
              "\n",
              "[5 rows x 12 columns]"
            ]
          },
          "metadata": {
            "tags": []
          },
          "execution_count": 6
        }
      ]
    },
    {
      "cell_type": "markdown",
      "metadata": {
        "id": "cniDpJx-PeC-"
      },
      "source": [
        "Top 5 row has been displayed"
      ]
    },
    {
      "cell_type": "code",
      "metadata": {
        "colab": {
          "base_uri": "https://localhost:8080/"
        },
        "id": "iZG6TkyKQRkZ",
        "outputId": "56f04f44-a023-48ee-a282-7033952b1c66"
      },
      "source": [
        "df.shape"
      ],
      "execution_count": 8,
      "outputs": [
        {
          "output_type": "execute_result",
          "data": {
            "text/plain": [
              "(1599, 12)"
            ]
          },
          "metadata": {
            "tags": []
          },
          "execution_count": 8
        }
      ]
    },
    {
      "cell_type": "markdown",
      "metadata": {
        "id": "TK03VqLRQY5T"
      },
      "source": [
        "There are total 1559 Raw and 12 columns are present in dataset"
      ]
    },
    {
      "cell_type": "code",
      "metadata": {
        "colab": {
          "base_uri": "https://localhost:8080/"
        },
        "id": "59PdluGNQUyx",
        "outputId": "68baad30-5424-47b3-883e-531c0067a241"
      },
      "source": [
        "df.isnull().sum()"
      ],
      "execution_count": 9,
      "outputs": [
        {
          "output_type": "execute_result",
          "data": {
            "text/plain": [
              "fixed acidity           0\n",
              "volatile acidity        0\n",
              "citric acid             0\n",
              "residual sugar          0\n",
              "chlorides               0\n",
              "free sulfur dioxide     0\n",
              "total sulfur dioxide    0\n",
              "density                 0\n",
              "pH                      0\n",
              "sulphates               0\n",
              "alcohol                 0\n",
              "quality                 0\n",
              "dtype: int64"
            ]
          },
          "metadata": {
            "tags": []
          },
          "execution_count": 9
        }
      ]
    },
    {
      "cell_type": "markdown",
      "metadata": {
        "id": "ShBDbCQVQqkI"
      },
      "source": [
        "No any Null value is present in dataset."
      ]
    },
    {
      "cell_type": "code",
      "metadata": {
        "colab": {
          "base_uri": "https://localhost:8080/"
        },
        "id": "UVvCEiGSQntJ",
        "outputId": "8a6c9d55-ed3e-4342-a796-938a9a0dd011"
      },
      "source": [
        "df.info()"
      ],
      "execution_count": 10,
      "outputs": [
        {
          "output_type": "stream",
          "text": [
            "<class 'pandas.core.frame.DataFrame'>\n",
            "RangeIndex: 1599 entries, 0 to 1598\n",
            "Data columns (total 12 columns):\n",
            " #   Column                Non-Null Count  Dtype  \n",
            "---  ------                --------------  -----  \n",
            " 0   fixed acidity         1599 non-null   float64\n",
            " 1   volatile acidity      1599 non-null   float64\n",
            " 2   citric acid           1599 non-null   float64\n",
            " 3   residual sugar        1599 non-null   float64\n",
            " 4   chlorides             1599 non-null   float64\n",
            " 5   free sulfur dioxide   1599 non-null   float64\n",
            " 6   total sulfur dioxide  1599 non-null   float64\n",
            " 7   density               1599 non-null   float64\n",
            " 8   pH                    1599 non-null   float64\n",
            " 9   sulphates             1599 non-null   float64\n",
            " 10  alcohol               1599 non-null   float64\n",
            " 11  quality               1599 non-null   int64  \n",
            "dtypes: float64(11), int64(1)\n",
            "memory usage: 150.0 KB\n"
          ],
          "name": "stdout"
        }
      ]
    },
    {
      "cell_type": "markdown",
      "metadata": {
        "id": "y9uVYf-9Q6gi"
      },
      "source": [
        "Complete informations of data has been displayed. There are 11 Colums Dtype is float64 and 1 colimns Dtype is Int64 and Null counts is also zero."
      ]
    },
    {
      "cell_type": "code",
      "metadata": {
        "colab": {
          "base_uri": "https://localhost:8080/",
          "height": 436
        },
        "id": "q2i6a8D8Q3DA",
        "outputId": "67737ab9-5bce-414c-d0ae-e41708ec4382"
      },
      "source": [
        "df.corr()"
      ],
      "execution_count": 11,
      "outputs": [
        {
          "output_type": "execute_result",
          "data": {
            "text/html": [
              "<div>\n",
              "<style scoped>\n",
              "    .dataframe tbody tr th:only-of-type {\n",
              "        vertical-align: middle;\n",
              "    }\n",
              "\n",
              "    .dataframe tbody tr th {\n",
              "        vertical-align: top;\n",
              "    }\n",
              "\n",
              "    .dataframe thead th {\n",
              "        text-align: right;\n",
              "    }\n",
              "</style>\n",
              "<table border=\"1\" class=\"dataframe\">\n",
              "  <thead>\n",
              "    <tr style=\"text-align: right;\">\n",
              "      <th></th>\n",
              "      <th>fixed acidity</th>\n",
              "      <th>volatile acidity</th>\n",
              "      <th>citric acid</th>\n",
              "      <th>residual sugar</th>\n",
              "      <th>chlorides</th>\n",
              "      <th>free sulfur dioxide</th>\n",
              "      <th>total sulfur dioxide</th>\n",
              "      <th>density</th>\n",
              "      <th>pH</th>\n",
              "      <th>sulphates</th>\n",
              "      <th>alcohol</th>\n",
              "      <th>quality</th>\n",
              "    </tr>\n",
              "  </thead>\n",
              "  <tbody>\n",
              "    <tr>\n",
              "      <th>fixed acidity</th>\n",
              "      <td>1.000000</td>\n",
              "      <td>-0.256131</td>\n",
              "      <td>0.671703</td>\n",
              "      <td>0.114777</td>\n",
              "      <td>0.093705</td>\n",
              "      <td>-0.153794</td>\n",
              "      <td>-0.113181</td>\n",
              "      <td>0.668047</td>\n",
              "      <td>-0.682978</td>\n",
              "      <td>0.183006</td>\n",
              "      <td>-0.061668</td>\n",
              "      <td>0.124052</td>\n",
              "    </tr>\n",
              "    <tr>\n",
              "      <th>volatile acidity</th>\n",
              "      <td>-0.256131</td>\n",
              "      <td>1.000000</td>\n",
              "      <td>-0.552496</td>\n",
              "      <td>0.001918</td>\n",
              "      <td>0.061298</td>\n",
              "      <td>-0.010504</td>\n",
              "      <td>0.076470</td>\n",
              "      <td>0.022026</td>\n",
              "      <td>0.234937</td>\n",
              "      <td>-0.260987</td>\n",
              "      <td>-0.202288</td>\n",
              "      <td>-0.390558</td>\n",
              "    </tr>\n",
              "    <tr>\n",
              "      <th>citric acid</th>\n",
              "      <td>0.671703</td>\n",
              "      <td>-0.552496</td>\n",
              "      <td>1.000000</td>\n",
              "      <td>0.143577</td>\n",
              "      <td>0.203823</td>\n",
              "      <td>-0.060978</td>\n",
              "      <td>0.035533</td>\n",
              "      <td>0.364947</td>\n",
              "      <td>-0.541904</td>\n",
              "      <td>0.312770</td>\n",
              "      <td>0.109903</td>\n",
              "      <td>0.226373</td>\n",
              "    </tr>\n",
              "    <tr>\n",
              "      <th>residual sugar</th>\n",
              "      <td>0.114777</td>\n",
              "      <td>0.001918</td>\n",
              "      <td>0.143577</td>\n",
              "      <td>1.000000</td>\n",
              "      <td>0.055610</td>\n",
              "      <td>0.187049</td>\n",
              "      <td>0.203028</td>\n",
              "      <td>0.355283</td>\n",
              "      <td>-0.085652</td>\n",
              "      <td>0.005527</td>\n",
              "      <td>0.042075</td>\n",
              "      <td>0.013732</td>\n",
              "    </tr>\n",
              "    <tr>\n",
              "      <th>chlorides</th>\n",
              "      <td>0.093705</td>\n",
              "      <td>0.061298</td>\n",
              "      <td>0.203823</td>\n",
              "      <td>0.055610</td>\n",
              "      <td>1.000000</td>\n",
              "      <td>0.005562</td>\n",
              "      <td>0.047400</td>\n",
              "      <td>0.200632</td>\n",
              "      <td>-0.265026</td>\n",
              "      <td>0.371260</td>\n",
              "      <td>-0.221141</td>\n",
              "      <td>-0.128907</td>\n",
              "    </tr>\n",
              "    <tr>\n",
              "      <th>free sulfur dioxide</th>\n",
              "      <td>-0.153794</td>\n",
              "      <td>-0.010504</td>\n",
              "      <td>-0.060978</td>\n",
              "      <td>0.187049</td>\n",
              "      <td>0.005562</td>\n",
              "      <td>1.000000</td>\n",
              "      <td>0.667666</td>\n",
              "      <td>-0.021946</td>\n",
              "      <td>0.070377</td>\n",
              "      <td>0.051658</td>\n",
              "      <td>-0.069408</td>\n",
              "      <td>-0.050656</td>\n",
              "    </tr>\n",
              "    <tr>\n",
              "      <th>total sulfur dioxide</th>\n",
              "      <td>-0.113181</td>\n",
              "      <td>0.076470</td>\n",
              "      <td>0.035533</td>\n",
              "      <td>0.203028</td>\n",
              "      <td>0.047400</td>\n",
              "      <td>0.667666</td>\n",
              "      <td>1.000000</td>\n",
              "      <td>0.071269</td>\n",
              "      <td>-0.066495</td>\n",
              "      <td>0.042947</td>\n",
              "      <td>-0.205654</td>\n",
              "      <td>-0.185100</td>\n",
              "    </tr>\n",
              "    <tr>\n",
              "      <th>density</th>\n",
              "      <td>0.668047</td>\n",
              "      <td>0.022026</td>\n",
              "      <td>0.364947</td>\n",
              "      <td>0.355283</td>\n",
              "      <td>0.200632</td>\n",
              "      <td>-0.021946</td>\n",
              "      <td>0.071269</td>\n",
              "      <td>1.000000</td>\n",
              "      <td>-0.341699</td>\n",
              "      <td>0.148506</td>\n",
              "      <td>-0.496180</td>\n",
              "      <td>-0.174919</td>\n",
              "    </tr>\n",
              "    <tr>\n",
              "      <th>pH</th>\n",
              "      <td>-0.682978</td>\n",
              "      <td>0.234937</td>\n",
              "      <td>-0.541904</td>\n",
              "      <td>-0.085652</td>\n",
              "      <td>-0.265026</td>\n",
              "      <td>0.070377</td>\n",
              "      <td>-0.066495</td>\n",
              "      <td>-0.341699</td>\n",
              "      <td>1.000000</td>\n",
              "      <td>-0.196648</td>\n",
              "      <td>0.205633</td>\n",
              "      <td>-0.057731</td>\n",
              "    </tr>\n",
              "    <tr>\n",
              "      <th>sulphates</th>\n",
              "      <td>0.183006</td>\n",
              "      <td>-0.260987</td>\n",
              "      <td>0.312770</td>\n",
              "      <td>0.005527</td>\n",
              "      <td>0.371260</td>\n",
              "      <td>0.051658</td>\n",
              "      <td>0.042947</td>\n",
              "      <td>0.148506</td>\n",
              "      <td>-0.196648</td>\n",
              "      <td>1.000000</td>\n",
              "      <td>0.093595</td>\n",
              "      <td>0.251397</td>\n",
              "    </tr>\n",
              "    <tr>\n",
              "      <th>alcohol</th>\n",
              "      <td>-0.061668</td>\n",
              "      <td>-0.202288</td>\n",
              "      <td>0.109903</td>\n",
              "      <td>0.042075</td>\n",
              "      <td>-0.221141</td>\n",
              "      <td>-0.069408</td>\n",
              "      <td>-0.205654</td>\n",
              "      <td>-0.496180</td>\n",
              "      <td>0.205633</td>\n",
              "      <td>0.093595</td>\n",
              "      <td>1.000000</td>\n",
              "      <td>0.476166</td>\n",
              "    </tr>\n",
              "    <tr>\n",
              "      <th>quality</th>\n",
              "      <td>0.124052</td>\n",
              "      <td>-0.390558</td>\n",
              "      <td>0.226373</td>\n",
              "      <td>0.013732</td>\n",
              "      <td>-0.128907</td>\n",
              "      <td>-0.050656</td>\n",
              "      <td>-0.185100</td>\n",
              "      <td>-0.174919</td>\n",
              "      <td>-0.057731</td>\n",
              "      <td>0.251397</td>\n",
              "      <td>0.476166</td>\n",
              "      <td>1.000000</td>\n",
              "    </tr>\n",
              "  </tbody>\n",
              "</table>\n",
              "</div>"
            ],
            "text/plain": [
              "                      fixed acidity  volatile acidity  ...   alcohol   quality\n",
              "fixed acidity              1.000000         -0.256131  ... -0.061668  0.124052\n",
              "volatile acidity          -0.256131          1.000000  ... -0.202288 -0.390558\n",
              "citric acid                0.671703         -0.552496  ...  0.109903  0.226373\n",
              "residual sugar             0.114777          0.001918  ...  0.042075  0.013732\n",
              "chlorides                  0.093705          0.061298  ... -0.221141 -0.128907\n",
              "free sulfur dioxide       -0.153794         -0.010504  ... -0.069408 -0.050656\n",
              "total sulfur dioxide      -0.113181          0.076470  ... -0.205654 -0.185100\n",
              "density                    0.668047          0.022026  ... -0.496180 -0.174919\n",
              "pH                        -0.682978          0.234937  ...  0.205633 -0.057731\n",
              "sulphates                  0.183006         -0.260987  ...  0.093595  0.251397\n",
              "alcohol                   -0.061668         -0.202288  ...  1.000000  0.476166\n",
              "quality                    0.124052         -0.390558  ...  0.476166  1.000000\n",
              "\n",
              "[12 rows x 12 columns]"
            ]
          },
          "metadata": {
            "tags": []
          },
          "execution_count": 11
        }
      ]
    },
    {
      "cell_type": "markdown",
      "metadata": {
        "id": "KAXJhsJeRgt6"
      },
      "source": [
        "According to correlations results found some raws are positive and some are negative correlated."
      ]
    },
    {
      "cell_type": "code",
      "metadata": {
        "colab": {
          "base_uri": "https://localhost:8080/",
          "height": 301
        },
        "id": "sOK6TnvzRZ4A",
        "outputId": "151eae49-bb3d-4392-a8f2-a2fc1ce268ee"
      },
      "source": [
        "df.describe()"
      ],
      "execution_count": 12,
      "outputs": [
        {
          "output_type": "execute_result",
          "data": {
            "text/html": [
              "<div>\n",
              "<style scoped>\n",
              "    .dataframe tbody tr th:only-of-type {\n",
              "        vertical-align: middle;\n",
              "    }\n",
              "\n",
              "    .dataframe tbody tr th {\n",
              "        vertical-align: top;\n",
              "    }\n",
              "\n",
              "    .dataframe thead th {\n",
              "        text-align: right;\n",
              "    }\n",
              "</style>\n",
              "<table border=\"1\" class=\"dataframe\">\n",
              "  <thead>\n",
              "    <tr style=\"text-align: right;\">\n",
              "      <th></th>\n",
              "      <th>fixed acidity</th>\n",
              "      <th>volatile acidity</th>\n",
              "      <th>citric acid</th>\n",
              "      <th>residual sugar</th>\n",
              "      <th>chlorides</th>\n",
              "      <th>free sulfur dioxide</th>\n",
              "      <th>total sulfur dioxide</th>\n",
              "      <th>density</th>\n",
              "      <th>pH</th>\n",
              "      <th>sulphates</th>\n",
              "      <th>alcohol</th>\n",
              "      <th>quality</th>\n",
              "    </tr>\n",
              "  </thead>\n",
              "  <tbody>\n",
              "    <tr>\n",
              "      <th>count</th>\n",
              "      <td>1599.000000</td>\n",
              "      <td>1599.000000</td>\n",
              "      <td>1599.000000</td>\n",
              "      <td>1599.000000</td>\n",
              "      <td>1599.000000</td>\n",
              "      <td>1599.000000</td>\n",
              "      <td>1599.000000</td>\n",
              "      <td>1599.000000</td>\n",
              "      <td>1599.000000</td>\n",
              "      <td>1599.000000</td>\n",
              "      <td>1599.000000</td>\n",
              "      <td>1599.000000</td>\n",
              "    </tr>\n",
              "    <tr>\n",
              "      <th>mean</th>\n",
              "      <td>8.319637</td>\n",
              "      <td>0.527821</td>\n",
              "      <td>0.270976</td>\n",
              "      <td>2.538806</td>\n",
              "      <td>0.087467</td>\n",
              "      <td>15.874922</td>\n",
              "      <td>46.467792</td>\n",
              "      <td>0.996747</td>\n",
              "      <td>3.311113</td>\n",
              "      <td>0.658149</td>\n",
              "      <td>10.422983</td>\n",
              "      <td>5.636023</td>\n",
              "    </tr>\n",
              "    <tr>\n",
              "      <th>std</th>\n",
              "      <td>1.741096</td>\n",
              "      <td>0.179060</td>\n",
              "      <td>0.194801</td>\n",
              "      <td>1.409928</td>\n",
              "      <td>0.047065</td>\n",
              "      <td>10.460157</td>\n",
              "      <td>32.895324</td>\n",
              "      <td>0.001887</td>\n",
              "      <td>0.154386</td>\n",
              "      <td>0.169507</td>\n",
              "      <td>1.065668</td>\n",
              "      <td>0.807569</td>\n",
              "    </tr>\n",
              "    <tr>\n",
              "      <th>min</th>\n",
              "      <td>4.600000</td>\n",
              "      <td>0.120000</td>\n",
              "      <td>0.000000</td>\n",
              "      <td>0.900000</td>\n",
              "      <td>0.012000</td>\n",
              "      <td>1.000000</td>\n",
              "      <td>6.000000</td>\n",
              "      <td>0.990070</td>\n",
              "      <td>2.740000</td>\n",
              "      <td>0.330000</td>\n",
              "      <td>8.400000</td>\n",
              "      <td>3.000000</td>\n",
              "    </tr>\n",
              "    <tr>\n",
              "      <th>25%</th>\n",
              "      <td>7.100000</td>\n",
              "      <td>0.390000</td>\n",
              "      <td>0.090000</td>\n",
              "      <td>1.900000</td>\n",
              "      <td>0.070000</td>\n",
              "      <td>7.000000</td>\n",
              "      <td>22.000000</td>\n",
              "      <td>0.995600</td>\n",
              "      <td>3.210000</td>\n",
              "      <td>0.550000</td>\n",
              "      <td>9.500000</td>\n",
              "      <td>5.000000</td>\n",
              "    </tr>\n",
              "    <tr>\n",
              "      <th>50%</th>\n",
              "      <td>7.900000</td>\n",
              "      <td>0.520000</td>\n",
              "      <td>0.260000</td>\n",
              "      <td>2.200000</td>\n",
              "      <td>0.079000</td>\n",
              "      <td>14.000000</td>\n",
              "      <td>38.000000</td>\n",
              "      <td>0.996750</td>\n",
              "      <td>3.310000</td>\n",
              "      <td>0.620000</td>\n",
              "      <td>10.200000</td>\n",
              "      <td>6.000000</td>\n",
              "    </tr>\n",
              "    <tr>\n",
              "      <th>75%</th>\n",
              "      <td>9.200000</td>\n",
              "      <td>0.640000</td>\n",
              "      <td>0.420000</td>\n",
              "      <td>2.600000</td>\n",
              "      <td>0.090000</td>\n",
              "      <td>21.000000</td>\n",
              "      <td>62.000000</td>\n",
              "      <td>0.997835</td>\n",
              "      <td>3.400000</td>\n",
              "      <td>0.730000</td>\n",
              "      <td>11.100000</td>\n",
              "      <td>6.000000</td>\n",
              "    </tr>\n",
              "    <tr>\n",
              "      <th>max</th>\n",
              "      <td>15.900000</td>\n",
              "      <td>1.580000</td>\n",
              "      <td>1.000000</td>\n",
              "      <td>15.500000</td>\n",
              "      <td>0.611000</td>\n",
              "      <td>72.000000</td>\n",
              "      <td>289.000000</td>\n",
              "      <td>1.003690</td>\n",
              "      <td>4.010000</td>\n",
              "      <td>2.000000</td>\n",
              "      <td>14.900000</td>\n",
              "      <td>8.000000</td>\n",
              "    </tr>\n",
              "  </tbody>\n",
              "</table>\n",
              "</div>"
            ],
            "text/plain": [
              "       fixed acidity  volatile acidity  ...      alcohol      quality\n",
              "count    1599.000000       1599.000000  ...  1599.000000  1599.000000\n",
              "mean        8.319637          0.527821  ...    10.422983     5.636023\n",
              "std         1.741096          0.179060  ...     1.065668     0.807569\n",
              "min         4.600000          0.120000  ...     8.400000     3.000000\n",
              "25%         7.100000          0.390000  ...     9.500000     5.000000\n",
              "50%         7.900000          0.520000  ...    10.200000     6.000000\n",
              "75%         9.200000          0.640000  ...    11.100000     6.000000\n",
              "max        15.900000          1.580000  ...    14.900000     8.000000\n",
              "\n",
              "[8 rows x 12 columns]"
            ]
          },
          "metadata": {
            "tags": []
          },
          "execution_count": 12
        }
      ]
    },
    {
      "cell_type": "markdown",
      "metadata": {
        "id": "hFkZtrMSSKZ1"
      },
      "source": [
        "From correlation matrix total sulfur dioxide seems to have some outliers as there is significant difference between mean and median"
      ]
    },
    {
      "cell_type": "markdown",
      "metadata": {
        "id": "_stt7FM9SfYN"
      },
      "source": [
        "## Lets do some graphical EDA"
      ]
    },
    {
      "cell_type": "code",
      "metadata": {
        "colab": {
          "base_uri": "https://localhost:8080/",
          "height": 296
        },
        "id": "RNwyC1OUSIXh",
        "outputId": "e4e6ce1c-c5f3-4674-e260-ed6de3ce4548"
      },
      "source": [
        "import matplotlib.pyplot as plt\n",
        "sns.barplot(x=\"quality\",y=\"alcohol\",data=df)"
      ],
      "execution_count": 13,
      "outputs": [
        {
          "output_type": "execute_result",
          "data": {
            "text/plain": [
              "<matplotlib.axes._subplots.AxesSubplot at 0x7f41cec5a390>"
            ]
          },
          "metadata": {
            "tags": []
          },
          "execution_count": 13
        },
        {
          "output_type": "display_data",
          "data": {
            "image/png": "[encoded data removed]",
            "text/plain": [
              "<Figure size 432x288 with 1 Axes>"
            ]
          },
          "metadata": {
            "tags": [],
            "needs_background": "light"
          }
        }
      ]
    },
    {
      "cell_type": "markdown",
      "metadata": {
        "id": "Dt0UNveYSdCs"
      },
      "source": [
        "from below barplot it can be seen there is increasing trend in average alcohol content from 5 to 8"
      ]
    },
    {
      "cell_type": "code",
      "metadata": {
        "colab": {
          "base_uri": "https://localhost:8080/",
          "height": 296
        },
        "id": "ZYAbX6kwS-dp",
        "outputId": "48bc9687-cf73-42e0-8c13-f5364ba729ab"
      },
      "source": [
        "sns.countplot(x=\"quality\",data=df)"
      ],
      "execution_count": 14,
      "outputs": [
        {
          "output_type": "execute_result",
          "data": {
            "text/plain": [
              "<matplotlib.axes._subplots.AxesSubplot at 0x7f41ce5f5b90>"
            ]
          },
          "metadata": {
            "tags": []
          },
          "execution_count": 14
        },
        {
          "output_type": "display_data",
          "data": {
            "image/png": "[encoded data removed]",
            "text/plain": [
              "<Figure size 432x288 with 1 Axes>"
            ]
          },
          "metadata": {
            "tags": [],
            "needs_background": "light"
          }
        }
      ]
    },
    {
      "cell_type": "markdown",
      "metadata": {
        "id": "ty8UUYBZTRGO"
      },
      "source": [
        "Here we can see that most of the wines of quality 5 and 6 in the datset. Other 3 and 8 are very very less so barplot may not give clear picture about average alcohol content as instances are very less"
      ]
    },
    {
      "cell_type": "code",
      "metadata": {
        "colab": {
          "base_uri": "https://localhost:8080/",
          "height": 296
        },
        "id": "Tp6oPbQnTE8I",
        "outputId": "037af908-1d6c-4ed6-c44d-31bbb64e41e2"
      },
      "source": [
        "sns.barplot(x=\"quality\",y=\"pH\",data=df)"
      ],
      "execution_count": 16,
      "outputs": [
        {
          "output_type": "execute_result",
          "data": {
            "text/plain": [
              "<matplotlib.axes._subplots.AxesSubplot at 0x7f41ce5dbad0>"
            ]
          },
          "metadata": {
            "tags": []
          },
          "execution_count": 16
        },
        {
          "output_type": "display_data",
          "data": {
            "image/png": "[encoded data removed]",
            "text/plain": [
              "<Figure size 432x288 with 1 Axes>"
            ]
          },
          "metadata": {
            "tags": [],
            "needs_background": "light"
          }
        }
      ]
    },
    {
      "cell_type": "markdown",
      "metadata": {
        "id": "z2E1IkteTl5y"
      },
      "source": [
        "Keeping in mind the above points checked average ph content in each type of wines. It is alomost same in each type of wine and hardly shows any variance"
      ]
    },
    {
      "cell_type": "code",
      "metadata": {
        "colab": {
          "base_uri": "https://localhost:8080/",
          "height": 298
        },
        "id": "FXYRhzrHTbL4",
        "outputId": "755100f0-3588-48ec-e28a-065dab88e668"
      },
      "source": [
        "sns.boxplot(x=\"quality\",y=\"total sulfur dioxide\",data=df)"
      ],
      "execution_count": 17,
      "outputs": [
        {
          "output_type": "execute_result",
          "data": {
            "text/plain": [
              "<matplotlib.axes._subplots.AxesSubplot at 0x7f41ce51b990>"
            ]
          },
          "metadata": {
            "tags": []
          },
          "execution_count": 17
        },
        {
          "output_type": "display_data",
          "data": {
            "image/png": "[encoded data removed]",
            "text/plain": [
              "<Figure size 432x288 with 1 Axes>"
            ]
          },
          "metadata": {
            "tags": [],
            "needs_background": "light"
          }
        }
      ]
    },
    {
      "cell_type": "markdown",
      "metadata": {
        "id": "MSa8458hUC8U"
      },
      "source": [
        "From correlation matrix above total sulfur dioxide seem to have outliers same verify this using boxplot.we see presence of outliers graphically here as we could see in correlation matrix."
      ]
    },
    {
      "cell_type": "code",
      "metadata": {
        "colab": {
          "base_uri": "https://localhost:8080/",
          "height": 296
        },
        "id": "BSdikJ1wT6AA",
        "outputId": "32aea00d-1d66-4bde-d628-309b55399c6b"
      },
      "source": [
        "sns.barplot(x=\"quality\",y=\"residual sugar\",data=df)"
      ],
      "execution_count": 18,
      "outputs": [
        {
          "output_type": "execute_result",
          "data": {
            "text/plain": [
              "<matplotlib.axes._subplots.AxesSubplot at 0x7f41ce41a210>"
            ]
          },
          "metadata": {
            "tags": []
          },
          "execution_count": 18
        },
        {
          "output_type": "display_data",
          "data": {
            "image/png": "[encoded data removed]",
            "text/plain": [
              "<Figure size 432x288 with 1 Axes>"
            ]
          },
          "metadata": {
            "tags": [],
            "needs_background": "light"
          }
        }
      ]
    },
    {
      "cell_type": "markdown",
      "metadata": {
        "id": "xLhi4uk5USPG"
      },
      "source": [
        "### Lets remove the outliers if present using z scores"
      ]
    },
    {
      "cell_type": "code",
      "metadata": {
        "colab": {
          "base_uri": "https://localhost:8080/"
        },
        "id": "bdz3U4N9UQ7v",
        "outputId": "a5c67c5d-150b-4cfe-d5e8-76358f6a4a85"
      },
      "source": [
        "from scipy.stats import zscore\n",
        "z_scr=zscore(df)\n",
        "print(df.shape)\n",
        "df_new=df.loc[(abs(z_scr)<3).all(axis=1)]\n",
        "print(df_new.shape)"
      ],
      "execution_count": 21,
      "outputs": [
        {
          "output_type": "stream",
          "text": [
            "(1599, 12)\n",
            "(1451, 12)\n"
          ],
          "name": "stdout"
        }
      ]
    },
    {
      "cell_type": "markdown",
      "metadata": {
        "id": "pMTu9dFEU5A-"
      },
      "source": [
        "Using zscore there are 148 row has been removed means 9% data has been removed."
      ]
    },
    {
      "cell_type": "code",
      "metadata": {
        "colab": {
          "base_uri": "https://localhost:8080/",
          "height": 296
        },
        "id": "Z9m1XI9qUmFB",
        "outputId": "03195ece-ea6b-437f-fc9c-d851076acddd"
      },
      "source": [
        "sns.countplot(x=\"quality\",data=df_new)"
      ],
      "execution_count": 22,
      "outputs": [
        {
          "output_type": "execute_result",
          "data": {
            "text/plain": [
              "<matplotlib.axes._subplots.AxesSubplot at 0x7f41ce387a10>"
            ]
          },
          "metadata": {
            "tags": []
          },
          "execution_count": 22
        },
        {
          "output_type": "display_data",
          "data": {
            "image/png": "[encoded data removed]",
            "text/plain": [
              "<Figure size 432x288 with 1 Axes>"
            ]
          },
          "metadata": {
            "tags": [],
            "needs_background": "light"
          }
        }
      ]
    },
    {
      "cell_type": "markdown",
      "metadata": {
        "id": "Ryx255g_Vnno"
      },
      "source": [
        "Again chcek presence of each type of quality in the df_new since outliers have been removed. we see we have removed one type of quality from the dataset"
      ]
    },
    {
      "cell_type": "code",
      "metadata": {
        "colab": {
          "base_uri": "https://localhost:8080/"
        },
        "id": "1O59zaMXVmCX",
        "outputId": "d4e62ef2-b256-4fe6-a032-39e4d6397c9c"
      },
      "source": [
        "bins = (2, 6.5, 8)\n",
        "classs = ['bad', 'good']\n",
        "df_new['quality'] = pd.cut(df_new['quality'], bins = bins, labels = classs)"
      ],
      "execution_count": 23,
      "outputs": [
        {
          "output_type": "stream",
          "text": [
            "/usr/local/lib/python3.7/dist-packages/ipykernel_launcher.py:3: SettingWithCopyWarning: \n",
            "A value is trying to be set on a copy of a slice from a DataFrame.\n",
            "Try using .loc[row_indexer,col_indexer] = value instead\n",
            "\n",
            "See the caveats in the documentation: https://pandas.pydata.org/pandas-docs/stable/user_guide/indexing.html#returning-a-view-versus-a-copy\n",
            "  This is separate from the ipykernel package so we can avoid doing imports until\n"
          ],
          "name": "stderr"
        }
      ]
    },
    {
      "cell_type": "markdown",
      "metadata": {
        "id": "nuXqmsHPWL3A"
      },
      "source": [
        "converted target variable into binary classification problem with variable Bad and Good."
      ]
    },
    {
      "cell_type": "code",
      "metadata": {
        "colab": {
          "base_uri": "https://localhost:8080/",
          "height": 402
        },
        "id": "AkfXyYTMWJxV",
        "outputId": "568717c6-0b85-4871-9e66-ed7770397cf6"
      },
      "source": [
        "df_new"
      ],
      "execution_count": 24,
      "outputs": [
        {
          "output_type": "execute_result",
          "data": {
            "text/html": [
              "<div>\n",
              "<style scoped>\n",
              "    .dataframe tbody tr th:only-of-type {\n",
              "        vertical-align: middle;\n",
              "    }\n",
              "\n",
              "    .dataframe tbody tr th {\n",
              "        vertical-align: top;\n",
              "    }\n",
              "\n",
              "    .dataframe thead th {\n",
              "        text-align: right;\n",
              "    }\n",
              "</style>\n",
              "<table border=\"1\" class=\"dataframe\">\n",
              "  <thead>\n",
              "    <tr style=\"text-align: right;\">\n",
              "      <th></th>\n",
              "      <th>fixed acidity</th>\n",
              "      <th>volatile acidity</th>\n",
              "      <th>citric acid</th>\n",
              "      <th>residual sugar</th>\n",
              "      <th>chlorides</th>\n",
              "      <th>free sulfur dioxide</th>\n",
              "      <th>total sulfur dioxide</th>\n",
              "      <th>density</th>\n",
              "      <th>pH</th>\n",
              "      <th>sulphates</th>\n",
              "      <th>alcohol</th>\n",
              "      <th>quality</th>\n",
              "    </tr>\n",
              "  </thead>\n",
              "  <tbody>\n",
              "    <tr>\n",
              "      <th>0</th>\n",
              "      <td>7.4</td>\n",
              "      <td>0.700</td>\n",
              "      <td>0.00</td>\n",
              "      <td>1.9</td>\n",
              "      <td>0.076</td>\n",
              "      <td>11.0</td>\n",
              "      <td>34.0</td>\n",
              "      <td>0.99780</td>\n",
              "      <td>3.51</td>\n",
              "      <td>0.56</td>\n",
              "      <td>9.4</td>\n",
              "      <td>bad</td>\n",
              "    </tr>\n",
              "    <tr>\n",
              "      <th>1</th>\n",
              "      <td>7.8</td>\n",
              "      <td>0.880</td>\n",
              "      <td>0.00</td>\n",
              "      <td>2.6</td>\n",
              "      <td>0.098</td>\n",
              "      <td>25.0</td>\n",
              "      <td>67.0</td>\n",
              "      <td>0.99680</td>\n",
              "      <td>3.20</td>\n",
              "      <td>0.68</td>\n",
              "      <td>9.8</td>\n",
              "      <td>bad</td>\n",
              "    </tr>\n",
              "    <tr>\n",
              "      <th>2</th>\n",
              "      <td>7.8</td>\n",
              "      <td>0.760</td>\n",
              "      <td>0.04</td>\n",
              "      <td>2.3</td>\n",
              "      <td>0.092</td>\n",
              "      <td>15.0</td>\n",
              "      <td>54.0</td>\n",
              "      <td>0.99700</td>\n",
              "      <td>3.26</td>\n",
              "      <td>0.65</td>\n",
              "      <td>9.8</td>\n",
              "      <td>bad</td>\n",
              "    </tr>\n",
              "    <tr>\n",
              "      <th>3</th>\n",
              "      <td>11.2</td>\n",
              "      <td>0.280</td>\n",
              "      <td>0.56</td>\n",
              "      <td>1.9</td>\n",
              "      <td>0.075</td>\n",
              "      <td>17.0</td>\n",
              "      <td>60.0</td>\n",
              "      <td>0.99800</td>\n",
              "      <td>3.16</td>\n",
              "      <td>0.58</td>\n",
              "      <td>9.8</td>\n",
              "      <td>bad</td>\n",
              "    </tr>\n",
              "    <tr>\n",
              "      <th>4</th>\n",
              "      <td>7.4</td>\n",
              "      <td>0.700</td>\n",
              "      <td>0.00</td>\n",
              "      <td>1.9</td>\n",
              "      <td>0.076</td>\n",
              "      <td>11.0</td>\n",
              "      <td>34.0</td>\n",
              "      <td>0.99780</td>\n",
              "      <td>3.51</td>\n",
              "      <td>0.56</td>\n",
              "      <td>9.4</td>\n",
              "      <td>bad</td>\n",
              "    </tr>\n",
              "    <tr>\n",
              "      <th>...</th>\n",
              "      <td>...</td>\n",
              "      <td>...</td>\n",
              "      <td>...</td>\n",
              "      <td>...</td>\n",
              "      <td>...</td>\n",
              "      <td>...</td>\n",
              "      <td>...</td>\n",
              "      <td>...</td>\n",
              "      <td>...</td>\n",
              "      <td>...</td>\n",
              "      <td>...</td>\n",
              "      <td>...</td>\n",
              "    </tr>\n",
              "    <tr>\n",
              "      <th>1594</th>\n",
              "      <td>6.2</td>\n",
              "      <td>0.600</td>\n",
              "      <td>0.08</td>\n",
              "      <td>2.0</td>\n",
              "      <td>0.090</td>\n",
              "      <td>32.0</td>\n",
              "      <td>44.0</td>\n",
              "      <td>0.99490</td>\n",
              "      <td>3.45</td>\n",
              "      <td>0.58</td>\n",
              "      <td>10.5</td>\n",
              "      <td>bad</td>\n",
              "    </tr>\n",
              "    <tr>\n",
              "      <th>1595</th>\n",
              "      <td>5.9</td>\n",
              "      <td>0.550</td>\n",
              "      <td>0.10</td>\n",
              "      <td>2.2</td>\n",
              "      <td>0.062</td>\n",
              "      <td>39.0</td>\n",
              "      <td>51.0</td>\n",
              "      <td>0.99512</td>\n",
              "      <td>3.52</td>\n",
              "      <td>0.76</td>\n",
              "      <td>11.2</td>\n",
              "      <td>bad</td>\n",
              "    </tr>\n",
              "    <tr>\n",
              "      <th>1596</th>\n",
              "      <td>6.3</td>\n",
              "      <td>0.510</td>\n",
              "      <td>0.13</td>\n",
              "      <td>2.3</td>\n",
              "      <td>0.076</td>\n",
              "      <td>29.0</td>\n",
              "      <td>40.0</td>\n",
              "      <td>0.99574</td>\n",
              "      <td>3.42</td>\n",
              "      <td>0.75</td>\n",
              "      <td>11.0</td>\n",
              "      <td>bad</td>\n",
              "    </tr>\n",
              "    <tr>\n",
              "      <th>1597</th>\n",
              "      <td>5.9</td>\n",
              "      <td>0.645</td>\n",
              "      <td>0.12</td>\n",
              "      <td>2.0</td>\n",
              "      <td>0.075</td>\n",
              "      <td>32.0</td>\n",
              "      <td>44.0</td>\n",
              "      <td>0.99547</td>\n",
              "      <td>3.57</td>\n",
              "      <td>0.71</td>\n",
              "      <td>10.2</td>\n",
              "      <td>bad</td>\n",
              "    </tr>\n",
              "    <tr>\n",
              "      <th>1598</th>\n",
              "      <td>6.0</td>\n",
              "      <td>0.310</td>\n",
              "      <td>0.47</td>\n",
              "      <td>3.6</td>\n",
              "      <td>0.067</td>\n",
              "      <td>18.0</td>\n",
              "      <td>42.0</td>\n",
              "      <td>0.99549</td>\n",
              "      <td>3.39</td>\n",
              "      <td>0.66</td>\n",
              "      <td>11.0</td>\n",
              "      <td>bad</td>\n",
              "    </tr>\n",
              "  </tbody>\n",
              "</table>\n",
              "<p>1451 rows × 12 columns</p>\n",
              "</div>"
            ],
            "text/plain": [
              "      fixed acidity  volatile acidity  citric acid  ...  sulphates  alcohol  quality\n",
              "0               7.4             0.700         0.00  ...       0.56      9.4      bad\n",
              "1               7.8             0.880         0.00  ...       0.68      9.8      bad\n",
              "2               7.8             0.760         0.04  ...       0.65      9.8      bad\n",
              "3              11.2             0.280         0.56  ...       0.58      9.8      bad\n",
              "4               7.4             0.700         0.00  ...       0.56      9.4      bad\n",
              "...             ...               ...          ...  ...        ...      ...      ...\n",
              "1594            6.2             0.600         0.08  ...       0.58     10.5      bad\n",
              "1595            5.9             0.550         0.10  ...       0.76     11.2      bad\n",
              "1596            6.3             0.510         0.13  ...       0.75     11.0      bad\n",
              "1597            5.9             0.645         0.12  ...       0.71     10.2      bad\n",
              "1598            6.0             0.310         0.47  ...       0.66     11.0      bad\n",
              "\n",
              "[1451 rows x 12 columns]"
            ]
          },
          "metadata": {
            "tags": []
          },
          "execution_count": 24
        }
      ]
    },
    {
      "cell_type": "markdown",
      "metadata": {
        "id": "DxDJakHLWdKb"
      },
      "source": [
        "Dependent variable has been converted in binary form."
      ]
    },
    {
      "cell_type": "code",
      "metadata": {
        "colab": {
          "base_uri": "https://localhost:8080/",
          "height": 296
        },
        "id": "omXe6GPcWaV4",
        "outputId": "fb81c23e-0f33-4a35-9a5a-4e86865e77e1"
      },
      "source": [
        "sns.countplot(x=\"quality\",data=df_new)"
      ],
      "execution_count": 25,
      "outputs": [
        {
          "output_type": "execute_result",
          "data": {
            "text/plain": [
              "<matplotlib.axes._subplots.AxesSubplot at 0x7f41ce2f5b50>"
            ]
          },
          "metadata": {
            "tags": []
          },
          "execution_count": 25
        },
        {
          "output_type": "display_data",
          "data": {
            "image/png": "[encoded data removed]",
            "text/plain": [
              "<Figure size 432x288 with 1 Axes>"
            ]
          },
          "metadata": {
            "tags": [],
            "needs_background": "light"
          }
        }
      ]
    },
    {
      "cell_type": "markdown",
      "metadata": {
        "id": "Hhlz-fI9WyC1"
      },
      "source": [
        "This the case of highly imbalance data"
      ]
    },
    {
      "cell_type": "code",
      "metadata": {
        "colab": {
          "base_uri": "https://localhost:8080/"
        },
        "id": "Qkw5OATTWwZ-",
        "outputId": "550e207b-2d2e-4a4b-f929-b2cb6a627ab1"
      },
      "source": [
        "df_x=df_new.drop(columns=[\"quality\"])\n",
        "y=df_new[[\"quality\"]]\n",
        "print(df_x.shape)\n",
        "print(y.shape)"
      ],
      "execution_count": 28,
      "outputs": [
        {
          "output_type": "stream",
          "text": [
            "(1451, 11)\n",
            "(1451, 1)\n"
          ],
          "name": "stdout"
        }
      ]
    },
    {
      "cell_type": "markdown",
      "metadata": {
        "id": "yT_ssBPaXJnw"
      },
      "source": [
        "Devide Dataset into dependent and independent variables."
      ]
    },
    {
      "cell_type": "code",
      "metadata": {
        "colab": {
          "base_uri": "https://localhost:8080/"
        },
        "id": "o95k98eWW67e",
        "outputId": "78cd688b-458e-45ed-f098-c8c8b354cf28"
      },
      "source": [
        "df_x.skew()"
      ],
      "execution_count": 29,
      "outputs": [
        {
          "output_type": "execute_result",
          "data": {
            "text/plain": [
              "fixed acidity           0.823934\n",
              "volatile acidity        0.380659\n",
              "citric acid             0.291297\n",
              "residual sugar          2.456107\n",
              "chlorides               2.275162\n",
              "free sulfur dioxide     0.869250\n",
              "total sulfur dioxide    1.183161\n",
              "density                 0.055738\n",
              "pH                      0.114705\n",
              "sulphates               0.891492\n",
              "alcohol                 0.758958\n",
              "dtype: float64"
            ]
          },
          "metadata": {
            "tags": []
          },
          "execution_count": 29
        }
      ]
    },
    {
      "cell_type": "markdown",
      "metadata": {
        "id": "Q3Vxz65AXpVB"
      },
      "source": [
        "Number of features having skewness more than 0.50"
      ]
    },
    {
      "cell_type": "code",
      "metadata": {
        "colab": {
          "base_uri": "https://localhost:8080/"
        },
        "id": "tcA-v2zuXiAi",
        "outputId": "5af7e51b-6bfb-4d18-c6eb-6e1342c59a91"
      },
      "source": [
        "len(df_x.skew().loc[df_x.skew()>0.50])"
      ],
      "execution_count": 31,
      "outputs": [
        {
          "output_type": "execute_result",
          "data": {
            "text/plain": [
              "7"
            ]
          },
          "metadata": {
            "tags": []
          },
          "execution_count": 31
        }
      ]
    },
    {
      "cell_type": "markdown",
      "metadata": {
        "id": "XHj1FVotYANJ"
      },
      "source": [
        "there are 7 columns  having skewness more than 0.50."
      ]
    },
    {
      "cell_type": "code",
      "metadata": {
        "colab": {
          "base_uri": "https://localhost:8080/"
        },
        "id": "QZ2H9vLVXzI6",
        "outputId": "1ddf45e2-28a1-4569-91fc-ca4e98f1c86c"
      },
      "source": [
        "import numpy as np\n",
        "for index in df_x.skew().index:\n",
        "    if df_x.skew().loc[index] >0.55:\n",
        "        df_x[index]=np.cbrt(df_x[index])\n",
        "len(df_x.skew().loc[df_x.skew()>0.50])"
      ],
      "execution_count": 34,
      "outputs": [
        {
          "output_type": "execute_result",
          "data": {
            "text/plain": [
              "5"
            ]
          },
          "metadata": {
            "tags": []
          },
          "execution_count": 34
        }
      ]
    },
    {
      "cell_type": "markdown",
      "metadata": {
        "id": "NCniqtFdYnlO"
      },
      "source": [
        "There are 5 columns having skewness more than 0.50."
      ]
    },
    {
      "cell_type": "code",
      "metadata": {
        "id": "xlfQTIBFX-Ai"
      },
      "source": [
        "from sklearn.preprocessing import StandardScaler\n",
        "sc=StandardScaler()\n",
        "sc.fit(df_x)\n",
        "x=sc.transform(df_x)\n",
        "x=pd.DataFrame(x,columns=df_x.columns)"
      ],
      "execution_count": 35,
      "outputs": []
    },
    {
      "cell_type": "markdown",
      "metadata": {
        "id": "dR12sPa7ZDNb"
      },
      "source": [
        "Using StandardScalar scalled data in same range."
      ]
    },
    {
      "cell_type": "code",
      "metadata": {
        "colab": {
          "base_uri": "https://localhost:8080/"
        },
        "id": "Cw8v0rmDY6KH",
        "outputId": "edc167d7-a9c9-486f-fb81-84612d410bf2"
      },
      "source": [
        "from sklearn.preprocessing import LabelEncoder\n",
        "le=LabelEncoder()\n",
        "le.fit(y)\n",
        "y=le.transform(y)\n",
        "y"
      ],
      "execution_count": 36,
      "outputs": [
        {
          "output_type": "stream",
          "text": [
            "/usr/local/lib/python3.7/dist-packages/sklearn/preprocessing/_label.py:235: DataConversionWarning: A column-vector y was passed when a 1d array was expected. Please change the shape of y to (n_samples, ), for example using ravel().\n",
            "  y = column_or_1d(y, warn=True)\n",
            "/usr/local/lib/python3.7/dist-packages/sklearn/preprocessing/_label.py:268: DataConversionWarning: A column-vector y was passed when a 1d array was expected. Please change the shape of y to (n_samples, ), for example using ravel().\n",
            "  y = column_or_1d(y, warn=True)\n"
          ],
          "name": "stderr"
        },
        {
          "output_type": "execute_result",
          "data": {
            "text/plain": [
              "array([0, 0, 0, ..., 0, 0, 0])"
            ]
          },
          "metadata": {
            "tags": []
          },
          "execution_count": 36
        }
      ]
    },
    {
      "cell_type": "markdown",
      "metadata": {
        "id": "i4qUuhPfZoRl"
      },
      "source": [
        "Converted the target variable into integers"
      ]
    },
    {
      "cell_type": "code",
      "metadata": {
        "id": "U3hwhRSeZgO-"
      },
      "source": [
        "from sklearn.metrics import roc_auc_score\n",
        "from sklearn.model_selection import train_test_split\n",
        "def max_aucroc_score(clf,df_x,y):\n",
        "    max_aucroc_score=0\n",
        "    for r_state in range(42,100):\n",
        "        x_train, x_test, y_train, y_test = train_test_split(df_x, y,random_state = r_state,test_size=0.20,stratify=y)\n",
        "        clf.fit(x_train,y_train)\n",
        "        y_pred = clf.predict(x_test)\n",
        "        aucroc_scr=roc_auc_score(y_test,y_pred)\n",
        "        print(\"auc roc score corresponding to \",r_state,\" is \",aucroc_scr)\n",
        "        if aucroc_scr>max_aucroc_score:\n",
        "            max_aucroc_score=aucroc_scr\n",
        "            final_r_state=r_state\n",
        "    print(\"max auc roc score corresponding to \",final_r_state,\" is \",max_aucroc_score)\n",
        "    return final_r_state"
      ],
      "execution_count": 37,
      "outputs": []
    },
    {
      "cell_type": "markdown",
      "metadata": {
        "id": "erYwmTOTZ9OY"
      },
      "source": [
        "It is imbalanced dataset so we will focus on auc-roc score"
      ]
    },
    {
      "cell_type": "code",
      "metadata": {
        "colab": {
          "base_uri": "https://localhost:8080/"
        },
        "id": "SyDdC_CWZ4oV",
        "outputId": "f9a74edf-0272-484e-8be7-7e4b0ca22d0d"
      },
      "source": [
        "\n",
        "from sklearn.tree import DecisionTreeClassifier\n",
        "dc=DecisionTreeClassifier()\n",
        "max_aucroc_score(dc,df_x,y)"
      ],
      "execution_count": 38,
      "outputs": [
        {
          "output_type": "stream",
          "text": [
            "auc roc score corresponding to  42  is  0.7746513944223108\n",
            "auc roc score corresponding to  43  is  0.7306274900398406\n",
            "auc roc score corresponding to  44  is  0.7521912350597609\n",
            "auc roc score corresponding to  45  is  0.6550796812749005\n",
            "auc roc score corresponding to  46  is  0.7311752988047808\n",
            "auc roc score corresponding to  47  is  0.7601593625498008\n",
            "auc roc score corresponding to  48  is  0.7351593625498007\n",
            "auc roc score corresponding to  49  is  0.7451195219123506\n",
            "auc roc score corresponding to  50  is  0.6826195219123506\n",
            "auc roc score corresponding to  51  is  0.7581673306772908\n",
            "auc roc score corresponding to  52  is  0.6726593625498007\n",
            "auc roc score corresponding to  53  is  0.8070717131474103\n",
            "auc roc score corresponding to  54  is  0.6846115537848606\n",
            "auc roc score corresponding to  55  is  0.7596115537848606\n",
            "auc roc score corresponding to  56  is  0.8181274900398408\n",
            "auc roc score corresponding to  57  is  0.7706673306772909\n",
            "auc roc score corresponding to  58  is  0.7536354581673307\n",
            "auc roc score corresponding to  59  is  0.6996513944223107\n",
            "auc roc score corresponding to  60  is  0.7760956175298805\n",
            "auc roc score corresponding to  61  is  0.7530876494023905\n",
            "auc roc score corresponding to  62  is  0.7021912350597609\n",
            "auc roc score corresponding to  63  is  0.8246513944223108\n",
            "auc roc score corresponding to  64  is  0.6891434262948206\n",
            "auc roc score corresponding to  65  is  0.7036354581673308\n",
            "auc roc score corresponding to  66  is  0.7146912350597608\n",
            "auc roc score corresponding to  67  is  0.8056274900398407\n",
            "auc roc score corresponding to  68  is  0.8326195219123507\n",
            "auc roc score corresponding to  69  is  0.8126992031872511\n",
            "auc roc score corresponding to  70  is  0.766683266932271\n",
            "auc roc score corresponding to  71  is  0.7601593625498008\n",
            "auc roc score corresponding to  72  is  0.7331673306772909\n",
            "auc roc score corresponding to  73  is  0.7681274900398407\n",
            "auc roc score corresponding to  74  is  0.8121513944223108\n",
            "auc roc score corresponding to  75  is  0.7760956175298805\n",
            "auc roc score corresponding to  76  is  0.7206673306772907\n",
            "auc roc score corresponding to  77  is  0.7311752988047808\n",
            "auc roc score corresponding to  78  is  0.7001992031872509\n",
            "auc roc score corresponding to  79  is  0.7291832669322709\n",
            "auc roc score corresponding to  80  is  0.7166832669322708\n",
            "auc roc score corresponding to  81  is  0.7621513944223107\n",
            "auc roc score corresponding to  82  is  0.7311752988047808\n",
            "auc roc score corresponding to  83  is  0.7371513944223108\n",
            "auc roc score corresponding to  84  is  0.7721115537848606\n",
            "auc roc score corresponding to  85  is  0.7357071713147411\n",
            "auc roc score corresponding to  86  is  0.7641434262948208\n",
            "auc roc score corresponding to  87  is  0.7326195219123507\n",
            "auc roc score corresponding to  88  is  0.7371513944223108\n",
            "auc roc score corresponding to  89  is  0.7931274900398406\n",
            "auc roc score corresponding to  90  is  0.7431274900398407\n",
            "auc roc score corresponding to  91  is  0.6851593625498007\n",
            "auc roc score corresponding to  92  is  0.8107071713147411\n",
            "auc roc score corresponding to  93  is  0.6951195219123506\n",
            "auc roc score corresponding to  94  is  0.7721115537848606\n",
            "auc roc score corresponding to  95  is  0.7507470119521913\n",
            "auc roc score corresponding to  96  is  0.8056274900398407\n",
            "auc roc score corresponding to  97  is  0.7201195219123506\n",
            "auc roc score corresponding to  98  is  0.7510956175298805\n",
            "auc roc score corresponding to  99  is  0.7496513944223107\n",
            "max auc roc score corresponding to  68  is  0.8326195219123507\n"
          ],
          "name": "stdout"
        },
        {
          "output_type": "execute_result",
          "data": {
            "text/plain": [
              "68"
            ]
          },
          "metadata": {
            "tags": []
          },
          "execution_count": 38
        }
      ]
    },
    {
      "cell_type": "markdown",
      "metadata": {
        "id": "1PkeOLgoaLqc"
      },
      "source": [
        "max auc roc score corresponding to  68  is  0.8326195219123507"
      ]
    },
    {
      "cell_type": "code",
      "metadata": {
        "colab": {
          "base_uri": "https://localhost:8080/"
        },
        "id": "ryz0P6XRaCvl",
        "outputId": "687f4382-662e-4322-d90f-e5ccb84278fe"
      },
      "source": [
        "from sklearn.model_selection import cross_val_score\n",
        "print(\"Mean roc auc score for decision tree classifier: \",cross_val_score(dc,df_x,y,cv=5,scoring=\"roc_auc\").mean())\n",
        "print(\"standard deviation in roc auc score for decision tree classifier: \",cross_val_score(dc,df_x,y,cv=5,scoring=\"roc_auc\").std())\n",
        "print(cross_val_score(dc,df_x,y,cv=5,scoring=\"roc_auc\"))"
      ],
      "execution_count": 39,
      "outputs": [
        {
          "output_type": "stream",
          "text": [
            "Mean roc auc score for decision tree classifier:  0.6539731707317074\n",
            "standard deviation in roc auc score for decision tree classifier:  0.05719786461779163\n",
            "[0.56117073 0.6745     0.7165     0.7375     0.584     ]\n"
          ],
          "name": "stdout"
        }
      ]
    },
    {
      "cell_type": "code",
      "metadata": {
        "colab": {
          "base_uri": "https://localhost:8080/"
        },
        "id": "cPxu6iFRaXMt",
        "outputId": "63183493-c6b4-4715-836d-fcb2c08add1a"
      },
      "source": [
        "from sklearn.model_selection import GridSearchCV\n",
        "from sklearn.neighbors import KNeighborsClassifier\n",
        "import warnings\n",
        "warnings.filterwarnings(\"ignore\")\n",
        "kc=KNeighborsClassifier()\n",
        "neighbors={\"n_neighbors\":range(1,30)}\n",
        "clf = GridSearchCV(kc, neighbors, cv=5,scoring=\"roc_auc\")\n",
        "clf.fit(x,y)\n",
        "clf.best_params_"
      ],
      "execution_count": 40,
      "outputs": [
        {
          "output_type": "execute_result",
          "data": {
            "text/plain": [
              "{'n_neighbors': 29}"
            ]
          },
          "metadata": {
            "tags": []
          },
          "execution_count": 40
        }
      ]
    },
    {
      "cell_type": "markdown",
      "metadata": {
        "id": "7qQAuH2Nap1t"
      },
      "source": [
        "KNN model is giving best accuracy on n_neighbors': 29."
      ]
    },
    {
      "cell_type": "code",
      "metadata": {
        "colab": {
          "base_uri": "https://localhost:8080/"
        },
        "id": "w8CEEfBxalZ9",
        "outputId": "cf10b7d3-efed-4c2e-8906-5d63d9a65ecb"
      },
      "source": [
        "kc=KNeighborsClassifier(n_neighbors=29)\n",
        "max_aucroc_score(kc,x,y)"
      ],
      "execution_count": 41,
      "outputs": [
        {
          "output_type": "stream",
          "text": [
            "auc roc score corresponding to  42  is  0.6255478087649402\n",
            "auc roc score corresponding to  43  is  0.6175796812749004\n",
            "auc roc score corresponding to  44  is  0.6300796812749004\n",
            "auc roc score corresponding to  45  is  0.6295318725099601\n",
            "auc roc score corresponding to  46  is  0.6150398406374502\n",
            "auc roc score corresponding to  47  is  0.6505478087649402\n",
            "auc roc score corresponding to  48  is  0.5900398406374502\n",
            "auc roc score corresponding to  49  is  0.6880478087649402\n",
            "auc roc score corresponding to  50  is  0.6155876494023904\n",
            "auc roc score corresponding to  51  is  0.5300796812749005\n",
            "auc roc score corresponding to  52  is  0.6610557768924303\n",
            "auc roc score corresponding to  53  is  0.6065239043824702\n",
            "auc roc score corresponding to  54  is  0.5780876494023904\n",
            "auc roc score corresponding to  55  is  0.6090637450199203\n",
            "auc roc score corresponding to  56  is  0.6010956175298805\n",
            "auc roc score corresponding to  57  is  0.6400398406374502\n",
            "auc roc score corresponding to  58  is  0.6360557768924303\n",
            "auc roc score corresponding to  59  is  0.5800796812749004\n",
            "auc roc score corresponding to  60  is  0.6295318725099601\n",
            "auc roc score corresponding to  61  is  0.5755478087649403\n",
            "auc roc score corresponding to  62  is  0.5860557768924303\n",
            "auc roc score corresponding to  63  is  0.5860557768924303\n",
            "auc roc score corresponding to  64  is  0.6465637450199203\n",
            "auc roc score corresponding to  65  is  0.6420318725099602\n",
            "auc roc score corresponding to  66  is  0.6260956175298805\n",
            "auc roc score corresponding to  67  is  0.5925796812749005\n",
            "auc roc score corresponding to  68  is  0.6400398406374502\n",
            "auc roc score corresponding to  69  is  0.6255478087649402\n",
            "auc roc score corresponding to  70  is  0.6110557768924303\n",
            "auc roc score corresponding to  71  is  0.6070717131474104\n",
            "auc roc score corresponding to  72  is  0.6255478087649402\n",
            "auc roc score corresponding to  73  is  0.6380478087649403\n",
            "auc roc score corresponding to  74  is  0.6505478087649402\n",
            "auc roc score corresponding to  75  is  0.6485557768924303\n",
            "auc roc score corresponding to  76  is  0.6380478087649403\n",
            "auc roc score corresponding to  77  is  0.6050796812749004\n",
            "auc roc score corresponding to  78  is  0.6505478087649402\n",
            "auc roc score corresponding to  79  is  0.6840637450199203\n",
            "auc roc score corresponding to  80  is  0.5976593625498007\n",
            "auc roc score corresponding to  81  is  0.6715637450199203\n",
            "auc roc score corresponding to  82  is  0.5840637450199203\n",
            "auc roc score corresponding to  83  is  0.6525398406374503\n",
            "auc roc score corresponding to  84  is  0.6795318725099602\n",
            "auc roc score corresponding to  85  is  0.6030876494023905\n",
            "auc roc score corresponding to  86  is  0.6320717131474104\n",
            "auc roc score corresponding to  87  is  0.5965637450199204\n",
            "auc roc score corresponding to  88  is  0.5965637450199204\n",
            "auc roc score corresponding to  89  is  0.6780876494023904\n",
            "auc roc score corresponding to  90  is  0.6445717131474104\n",
            "auc roc score corresponding to  91  is  0.6295318725099601\n",
            "auc roc score corresponding to  92  is  0.6425796812749004\n",
            "auc roc score corresponding to  93  is  0.5505478087649402\n",
            "auc roc score corresponding to  94  is  0.5840637450199203\n",
            "auc roc score corresponding to  95  is  0.6420318725099602\n",
            "auc roc score corresponding to  96  is  0.5985557768924303\n",
            "auc roc score corresponding to  97  is  0.6190239043824701\n",
            "auc roc score corresponding to  98  is  0.5920318725099601\n",
            "auc roc score corresponding to  99  is  0.6590637450199204\n",
            "max auc roc score corresponding to  49  is  0.6880478087649402\n"
          ],
          "name": "stdout"
        },
        {
          "output_type": "execute_result",
          "data": {
            "text/plain": [
              "49"
            ]
          },
          "metadata": {
            "tags": []
          },
          "execution_count": 41
        }
      ]
    },
    {
      "cell_type": "markdown",
      "metadata": {
        "id": "cE3RLRm9a8PU"
      },
      "source": [
        "max auc roc score corresponding to  81  is  0.6795318725099602"
      ]
    },
    {
      "cell_type": "code",
      "metadata": {
        "colab": {
          "base_uri": "https://localhost:8080/"
        },
        "id": "IetcQlkva0oV",
        "outputId": "faf869c9-36bd-4324-fe25-a7b1e86760e6"
      },
      "source": [
        "from sklearn.model_selection import cross_val_score\n",
        "print(\"Mean roc auc score for  KNN classifier: \",cross_val_score(kc,x,y,cv=5,scoring=\"roc_auc\").mean())\n",
        "print(\"standard deviation in roc auc score for KNN classifier: \",cross_val_score(kc,x,y,cv=5,scoring=\"roc_auc\").std())\n",
        "print(cross_val_score(kc,x,y,cv=5,scoring=\"roc_auc\"))"
      ],
      "execution_count": 42,
      "outputs": [
        {
          "output_type": "stream",
          "text": [
            "Mean roc auc score for  KNN classifier:  0.837628780487805\n",
            "standard deviation in roc auc score for KNN classifier:  0.02201528340743805\n",
            "[0.8482439 0.8482    0.86725   0.81615   0.8083   ]\n"
          ],
          "name": "stdout"
        }
      ]
    },
    {
      "cell_type": "code",
      "metadata": {
        "colab": {
          "base_uri": "https://localhost:8080/"
        },
        "id": "R-JwAw9UbB58",
        "outputId": "54bc3ca2-cb3d-4896-8511-b3ca8b14f6fa"
      },
      "source": [
        "from sklearn.ensemble import RandomForestClassifier\n",
        "from sklearn.model_selection import GridSearchCV\n",
        "parameters={\"n_estimators\":[10,100,500]}\n",
        "rf_clf=RandomForestClassifier()\n",
        "clf = GridSearchCV(rf_clf, parameters, cv=5,scoring=\"roc_auc\")\n",
        "clf.fit(df_x,y)\n",
        "clf.best_params_"
      ],
      "execution_count": 43,
      "outputs": [
        {
          "output_type": "execute_result",
          "data": {
            "text/plain": [
              "{'n_estimators': 500}"
            ]
          },
          "metadata": {
            "tags": []
          },
          "execution_count": 43
        }
      ]
    },
    {
      "cell_type": "markdown",
      "metadata": {
        "id": "qKjG_5FMbMG4"
      },
      "source": [
        "RandomForestClassifier giving best performance at n_estimators: 500"
      ]
    },
    {
      "cell_type": "code",
      "metadata": {
        "colab": {
          "base_uri": "https://localhost:8080/"
        },
        "id": "829rIfL3bGzM",
        "outputId": "c57ec771-820a-445a-dfe5-a8cb819c0745"
      },
      "source": [
        "rf_clf=RandomForestClassifier(n_estimators=500)\n",
        "max_aucroc_score(rf_clf,df_x,y)"
      ],
      "execution_count": 44,
      "outputs": [
        {
          "output_type": "stream",
          "text": [
            "auc roc score corresponding to  42  is  0.7755478087649402\n",
            "auc roc score corresponding to  43  is  0.7525398406374503\n",
            "auc roc score corresponding to  44  is  0.7380478087649402\n",
            "auc roc score corresponding to  45  is  0.7065239043824701\n",
            "auc roc score corresponding to  46  is  0.7695717131474104\n",
            "auc roc score corresponding to  47  is  0.7445717131474103\n",
            "auc roc score corresponding to  48  is  0.7255478087649403\n",
            "auc roc score corresponding to  49  is  0.7815239043824701\n",
            "auc roc score corresponding to  50  is  0.6485557768924303\n",
            "auc roc score corresponding to  51  is  0.7670318725099602\n",
            "auc roc score corresponding to  52  is  0.7300796812749004\n",
            "auc roc score corresponding to  53  is  0.7210159362549801\n",
            "auc roc score corresponding to  54  is  0.6920318725099601\n",
            "auc roc score corresponding to  55  is  0.7550796812749004\n",
            "auc roc score corresponding to  56  is  0.8170318725099601\n",
            "auc roc score corresponding to  57  is  0.7985557768924303\n",
            "auc roc score corresponding to  58  is  0.7255478087649403\n",
            "auc roc score corresponding to  59  is  0.6900398406374502\n",
            "auc roc score corresponding to  60  is  0.7315239043824702\n",
            "auc roc score corresponding to  61  is  0.7235557768924303\n",
            "auc roc score corresponding to  62  is  0.7235557768924303\n",
            "auc roc score corresponding to  63  is  0.7775398406374503\n",
            "auc roc score corresponding to  64  is  0.7255478087649403\n",
            "auc roc score corresponding to  65  is  0.7360557768924303\n",
            "auc roc score corresponding to  66  is  0.7400398406374502\n",
            "auc roc score corresponding to  67  is  0.7925796812749004\n",
            "auc roc score corresponding to  68  is  0.8170318725099601\n",
            "auc roc score corresponding to  69  is  0.7860557768924303\n",
            "auc roc score corresponding to  70  is  0.7695717131474104\n",
            "auc roc score corresponding to  71  is  0.7840637450199204\n",
            "auc roc score corresponding to  72  is  0.7545318725099601\n",
            "auc roc score corresponding to  73  is  0.8025398406374503\n",
            "auc roc score corresponding to  74  is  0.7235557768924303\n",
            "auc roc score corresponding to  75  is  0.7715637450199203\n",
            "auc roc score corresponding to  76  is  0.7235557768924303\n",
            "auc roc score corresponding to  77  is  0.7530876494023905\n",
            "auc roc score corresponding to  78  is  0.7135956175298805\n",
            "auc roc score corresponding to  79  is  0.7570717131474105\n",
            "auc roc score corresponding to  80  is  0.7010956175298805\n",
            "auc roc score corresponding to  81  is  0.7565239043824701\n",
            "auc roc score corresponding to  82  is  0.7255478087649403\n",
            "auc roc score corresponding to  83  is  0.7670318725099602\n",
            "auc roc score corresponding to  84  is  0.7690239043824701\n",
            "auc roc score corresponding to  85  is  0.7505478087649402\n",
            "auc roc score corresponding to  86  is  0.7985557768924303\n",
            "auc roc score corresponding to  87  is  0.7275398406374503\n",
            "auc roc score corresponding to  88  is  0.7610557768924303\n",
            "auc roc score corresponding to  89  is  0.8195717131474104\n",
            "auc roc score corresponding to  90  is  0.7175796812749005\n",
            "auc roc score corresponding to  91  is  0.7690239043824701\n",
            "auc roc score corresponding to  92  is  0.8425796812749005\n",
            "auc roc score corresponding to  93  is  0.7110557768924303\n",
            "auc roc score corresponding to  94  is  0.8340637450199203\n",
            "auc roc score corresponding to  95  is  0.7965637450199203\n",
            "auc roc score corresponding to  96  is  0.7795318725099601\n",
            "auc roc score corresponding to  97  is  0.7335159362549801\n",
            "auc roc score corresponding to  98  is  0.6940239043824701\n",
            "auc roc score corresponding to  99  is  0.7235557768924303\n",
            "max auc roc score corresponding to  92  is  0.8425796812749005\n"
          ],
          "name": "stdout"
        },
        {
          "output_type": "execute_result",
          "data": {
            "text/plain": [
              "92"
            ]
          },
          "metadata": {
            "tags": []
          },
          "execution_count": 44
        }
      ]
    },
    {
      "cell_type": "markdown",
      "metadata": {
        "id": "YUZNLZxWbpaY"
      },
      "source": [
        "max auc roc score corresponding to  92  is  0.8530876494023905"
      ]
    },
    {
      "cell_type": "code",
      "metadata": {
        "colab": {
          "base_uri": "https://localhost:8080/"
        },
        "id": "BEMdVBtFbc4p",
        "outputId": "159ea35e-365c-41fa-b94c-e2847e8a28e1"
      },
      "source": [
        "print(\"Mean roc auc score for random forest classifier: \",cross_val_score(rf_clf,df_x,y,cv=5,scoring=\"roc_auc\").mean())\n",
        "print(\"standard deviation in roc auc score for random forest classifier: \",cross_val_score(rf_clf,df_x,y,cv=5,scoring=\"roc_auc\").std())\n",
        "print(cross_val_score(rf_clf,df_x,y,cv=5,scoring=\"roc_auc\"))"
      ],
      "execution_count": 45,
      "outputs": [
        {
          "output_type": "stream",
          "text": [
            "Mean roc auc score for random forest classifier:  0.8614134146341463\n",
            "standard deviation in roc auc score for random forest classifier:  0.017163378840724195\n",
            "[0.89380488 0.87795    0.8852     0.8478     0.8428    ]\n"
          ],
          "name": "stdout"
        }
      ]
    },
    {
      "cell_type": "code",
      "metadata": {
        "colab": {
          "base_uri": "https://localhost:8080/"
        },
        "id": "cC4yFzDwb2p1",
        "outputId": "bfc6e8b7-8ef8-4fc4-8c1f-4ad223466352"
      },
      "source": [
        "from sklearn.ensemble import GradientBoostingClassifier\n",
        "parameters={\"learning_rate\":[0.001,0.01,0.1,1],\"n_estimators\":[10,100,500,1000]}\n",
        "gb_clf=GradientBoostingClassifier()\n",
        "clf = GridSearchCV(gb_clf, parameters, cv=5,scoring=\"roc_auc\")\n",
        "clf.fit(df_x,y)\n",
        "clf.best_params_"
      ],
      "execution_count": 46,
      "outputs": [
        {
          "output_type": "execute_result",
          "data": {
            "text/plain": [
              "{'learning_rate': 0.1, 'n_estimators': 100}"
            ]
          },
          "metadata": {
            "tags": []
          },
          "execution_count": 46
        }
      ]
    },
    {
      "cell_type": "markdown",
      "metadata": {
        "id": "rfdGKJXWcT5i"
      },
      "source": [
        "GradientBoostingClassifier giving best performance learning_rate: 0.1 and n_estimators: 100"
      ]
    },
    {
      "cell_type": "code",
      "metadata": {
        "colab": {
          "base_uri": "https://localhost:8080/"
        },
        "id": "DcO0R2XSb851",
        "outputId": "d9c9147b-47e6-45a5-eb54-d3a9788e5335"
      },
      "source": [
        "gb_clf=GradientBoostingClassifier(learning_rate=0.1,n_estimators=100)\n",
        "max_aucroc_score(gb_clf,df_x,y)"
      ],
      "execution_count": 47,
      "outputs": [
        {
          "output_type": "stream",
          "text": [
            "auc roc score corresponding to  42  is  0.7675796812749004\n",
            "auc roc score corresponding to  43  is  0.7650398406374502\n",
            "auc roc score corresponding to  44  is  0.7116035856573706\n",
            "auc roc score corresponding to  45  is  0.6670318725099602\n",
            "auc roc score corresponding to  46  is  0.7715637450199203\n",
            "auc roc score corresponding to  47  is  0.7635956175298805\n",
            "auc roc score corresponding to  48  is  0.7005478087649403\n",
            "auc roc score corresponding to  49  is  0.7900398406374503\n",
            "auc roc score corresponding to  50  is  0.6280876494023905\n",
            "auc roc score corresponding to  51  is  0.7195717131474104\n",
            "auc roc score corresponding to  52  is  0.7260956175298805\n",
            "auc roc score corresponding to  53  is  0.7045318725099602\n",
            "auc roc score corresponding to  54  is  0.6630478087649403\n",
            "auc roc score corresponding to  55  is  0.7741035856573706\n",
            "auc roc score corresponding to  56  is  0.8070717131474103\n",
            "auc roc score corresponding to  57  is  0.7695717131474104\n",
            "auc roc score corresponding to  58  is  0.7340637450199203\n",
            "auc roc score corresponding to  59  is  0.6965637450199204\n",
            "auc roc score corresponding to  60  is  0.7525398406374503\n",
            "auc roc score corresponding to  61  is  0.6715637450199203\n",
            "auc roc score corresponding to  62  is  0.6840637450199203\n",
            "auc roc score corresponding to  63  is  0.7050796812749004\n",
            "auc roc score corresponding to  64  is  0.7255478087649403\n",
            "auc roc score corresponding to  65  is  0.7175796812749005\n",
            "auc roc score corresponding to  66  is  0.7275398406374503\n",
            "auc roc score corresponding to  67  is  0.7175796812749005\n",
            "auc roc score corresponding to  68  is  0.8090637450199203\n",
            "auc roc score corresponding to  69  is  0.7425796812749004\n",
            "auc roc score corresponding to  70  is  0.7715637450199203\n",
            "auc roc score corresponding to  71  is  0.7260956175298805\n",
            "auc roc score corresponding to  72  is  0.7340637450199203\n",
            "auc roc score corresponding to  73  is  0.8005478087649402\n",
            "auc roc score corresponding to  74  is  0.7505478087649402\n",
            "auc roc score corresponding to  75  is  0.7795318725099601\n",
            "auc roc score corresponding to  76  is  0.7320717131474104\n",
            "auc roc score corresponding to  77  is  0.7491035856573706\n",
            "auc roc score corresponding to  78  is  0.7155876494023905\n",
            "auc roc score corresponding to  79  is  0.7326195219123507\n",
            "auc roc score corresponding to  80  is  0.6721115537848605\n",
            "auc roc score corresponding to  81  is  0.7590637450199204\n",
            "auc roc score corresponding to  82  is  0.6971115537848606\n",
            "auc roc score corresponding to  83  is  0.7425796812749004\n",
            "auc roc score corresponding to  84  is  0.7110557768924303\n",
            "auc roc score corresponding to  85  is  0.7610557768924303\n",
            "auc roc score corresponding to  86  is  0.7510956175298805\n",
            "auc roc score corresponding to  87  is  0.6650398406374503\n",
            "auc roc score corresponding to  88  is  0.7340637450199203\n",
            "auc roc score corresponding to  89  is  0.7991035856573706\n",
            "auc roc score corresponding to  90  is  0.7030876494023904\n",
            "auc roc score corresponding to  91  is  0.7235557768924303\n",
            "auc roc score corresponding to  92  is  0.7925796812749004\n",
            "auc roc score corresponding to  93  is  0.6860557768924302\n",
            "auc roc score corresponding to  94  is  0.7510956175298805\n",
            "auc roc score corresponding to  95  is  0.7550796812749004\n",
            "auc roc score corresponding to  96  is  0.7275398406374503\n",
            "auc roc score corresponding to  97  is  0.7545318725099601\n",
            "auc roc score corresponding to  98  is  0.6445717131474104\n",
            "auc roc score corresponding to  99  is  0.7175796812749005\n",
            "max auc roc score corresponding to  68  is  0.8090637450199203\n"
          ],
          "name": "stdout"
        },
        {
          "output_type": "execute_result",
          "data": {
            "text/plain": [
              "68"
            ]
          },
          "metadata": {
            "tags": []
          },
          "execution_count": 47
        }
      ]
    },
    {
      "cell_type": "markdown",
      "metadata": {
        "id": "CwjZELQacr6g"
      },
      "source": [
        "max auc roc score corresponding to  68  is  0.8090637450199203"
      ]
    },
    {
      "cell_type": "code",
      "metadata": {
        "colab": {
          "base_uri": "https://localhost:8080/"
        },
        "id": "QhsD_-GlcmEV",
        "outputId": "f393b52e-d2c3-4364-e856-8dc4ecfb6883"
      },
      "source": [
        "print(\"Mean roc auc score for gradient boosting classifier: \",cross_val_score(gb_clf,df_x,y,cv=5,scoring=\"roc_auc\").mean())\n",
        "print(\"standard deviation in roc auc score for gradient boosting classifier: \",cross_val_score(gb_clf,df_x,y,cv=5,scoring=\"roc_auc\").std())\n",
        "print(cross_val_score(gb_clf,df_x,y,cv=5,scoring=\"roc_auc\"))"
      ],
      "execution_count": 48,
      "outputs": [
        {
          "output_type": "stream",
          "text": [
            "Mean roc auc score for gradient boosting classifier:  0.8747058536585367\n",
            "standard deviation in roc auc score for gradient boosting classifier:  0.037559510012585146\n",
            "[0.92273171 0.8732     0.9093     0.8323     0.8324    ]\n"
          ],
          "name": "stdout"
        }
      ]
    },
    {
      "cell_type": "code",
      "metadata": {
        "colab": {
          "base_uri": "https://localhost:8080/"
        },
        "id": "lnZiqgf6cv15",
        "outputId": "5dcb8979-6bec-4542-8687-0e3b0457ee85"
      },
      "source": [
        "from sklearn.svm import SVC\n",
        "svc=SVC()\n",
        "parameters={\"kernel\":[\"linear\", \"poly\", \"rbf\"],\"C\":[0.001,0.01,0.1,1,10]}\n",
        "clf = GridSearchCV(svc, parameters, cv=5,scoring=\"roc_auc\")\n",
        "clf.fit(x,y)\n",
        "clf.best_params_"
      ],
      "execution_count": 49,
      "outputs": [
        {
          "output_type": "execute_result",
          "data": {
            "text/plain": [
              "{'C': 0.001, 'kernel': 'linear'}"
            ]
          },
          "metadata": {
            "tags": []
          },
          "execution_count": 49
        }
      ]
    },
    {
      "cell_type": "markdown",
      "metadata": {
        "id": "BSOUjg9nc7My"
      },
      "source": [
        "SVC giving best performance at C: 0.001 and kernel: linear"
      ]
    },
    {
      "cell_type": "code",
      "metadata": {
        "colab": {
          "base_uri": "https://localhost:8080/"
        },
        "id": "OasmJb0lc1zs",
        "outputId": "a95d591b-9c04-4b53-cb37-06f00fe7013b"
      },
      "source": [
        "svc=SVC(kernel=\"linear\",C=0.1)\n",
        "max_aucroc_score(svc,x,y)"
      ],
      "execution_count": 50,
      "outputs": [
        {
          "output_type": "stream",
          "text": [
            "auc roc score corresponding to  42  is  0.6045318725099602\n",
            "auc roc score corresponding to  43  is  0.525\n",
            "auc roc score corresponding to  44  is  0.6420318725099602\n",
            "auc roc score corresponding to  45  is  0.5815239043824701\n",
            "auc roc score corresponding to  46  is  0.5\n",
            "auc roc score corresponding to  47  is  0.6195717131474103\n",
            "auc roc score corresponding to  48  is  0.5650398406374502\n",
            "auc roc score corresponding to  49  is  0.5\n",
            "auc roc score corresponding to  50  is  0.5940239043824701\n",
            "auc roc score corresponding to  51  is  0.5650398406374502\n",
            "auc roc score corresponding to  52  is  0.6110557768924303\n",
            "auc roc score corresponding to  53  is  0.5\n",
            "auc roc score corresponding to  54  is  0.5545318725099602\n",
            "auc roc score corresponding to  55  is  0.5965637450199204\n",
            "auc roc score corresponding to  56  is  0.6380478087649403\n",
            "auc roc score corresponding to  57  is  0.5\n",
            "auc roc score corresponding to  58  is  0.5650398406374502\n",
            "auc roc score corresponding to  59  is  0.6045318725099602\n",
            "auc roc score corresponding to  60  is  0.5\n",
            "auc roc score corresponding to  61  is  0.5795318725099602\n",
            "auc roc score corresponding to  62  is  0.5815239043824701\n",
            "auc roc score corresponding to  63  is  0.5565239043824701\n",
            "auc roc score corresponding to  64  is  0.6525398406374503\n",
            "auc roc score corresponding to  65  is  0.5\n",
            "auc roc score corresponding to  66  is  0.6235557768924302\n",
            "auc roc score corresponding to  67  is  0.6130478087649402\n",
            "auc roc score corresponding to  68  is  0.5\n",
            "auc roc score corresponding to  69  is  0.5375\n",
            "auc roc score corresponding to  70  is  0.6275398406374503\n",
            "auc roc score corresponding to  71  is  0.6190239043824701\n",
            "auc roc score corresponding to  72  is  0.5\n",
            "auc roc score corresponding to  73  is  0.5\n",
            "auc roc score corresponding to  74  is  0.51050796812749\n",
            "auc roc score corresponding to  75  is  0.5\n",
            "auc roc score corresponding to  76  is  0.525\n",
            "auc roc score corresponding to  77  is  0.5945717131474104\n",
            "auc roc score corresponding to  78  is  0.6235557768924302\n",
            "auc roc score corresponding to  79  is  0.5\n",
            "auc roc score corresponding to  80  is  0.5991035856573705\n",
            "auc roc score corresponding to  81  is  0.5605079681274902\n",
            "auc roc score corresponding to  82  is  0.5880478087649402\n",
            "auc roc score corresponding to  83  is  0.5815239043824701\n",
            "auc roc score corresponding to  84  is  0.5\n",
            "auc roc score corresponding to  85  is  0.5375\n",
            "auc roc score corresponding to  86  is  0.5\n",
            "auc roc score corresponding to  87  is  0.5940239043824701\n",
            "auc roc score corresponding to  88  is  0.5795318725099602\n",
            "auc roc score corresponding to  89  is  0.5585159362549801\n",
            "auc roc score corresponding to  90  is  0.5650398406374502\n",
            "auc roc score corresponding to  91  is  0.6065239043824702\n",
            "auc roc score corresponding to  92  is  0.57101593625498\n",
            "auc roc score corresponding to  93  is  0.5610557768924302\n",
            "auc roc score corresponding to  94  is  0.5125\n",
            "auc roc score corresponding to  95  is  0.5\n",
            "auc roc score corresponding to  96  is  0.5\n",
            "auc roc score corresponding to  97  is  0.57101593625498\n",
            "auc roc score corresponding to  98  is  0.5815239043824701\n",
            "auc roc score corresponding to  99  is  0.6315239043824701\n",
            "max auc roc score corresponding to  64  is  0.6525398406374503\n"
          ],
          "name": "stdout"
        },
        {
          "output_type": "execute_result",
          "data": {
            "text/plain": [
              "64"
            ]
          },
          "metadata": {
            "tags": []
          },
          "execution_count": 50
        }
      ]
    },
    {
      "cell_type": "markdown",
      "metadata": {
        "id": "rBh9IprNdS_o"
      },
      "source": [
        "max auc roc score corresponding to  56  is  0.6505478087649402"
      ]
    },
    {
      "cell_type": "code",
      "metadata": {
        "colab": {
          "base_uri": "https://localhost:8080/"
        },
        "id": "6X0LnOf6dLgW",
        "outputId": "ecf1d161-6858-4b2d-f176-31e2b3601f43"
      },
      "source": [
        "print(\"Mean roc auc score for SVM classifier: \",cross_val_score(svc,x,y,cv=5,scoring=\"roc_auc\").mean())\n",
        "print(\"standard deviation in roc auc score for SVM classifier: \",cross_val_score(svc,x,y,cv=5,scoring=\"roc_auc\").std())\n",
        "print(cross_val_score(svc,x,y,cv=5,scoring=\"roc_auc\"))"
      ],
      "execution_count": 51,
      "outputs": [
        {
          "output_type": "stream",
          "text": [
            "Mean roc auc score for SVM classifier:  0.8846282926829268\n",
            "standard deviation in roc auc score for SVM classifier:  0.01944014157208362\n",
            "[0.90234146 0.8749     0.9113     0.8581     0.8765    ]\n"
          ],
          "name": "stdout"
        }
      ]
    },
    {
      "cell_type": "markdown",
      "metadata": {
        "id": "HrX2IKKEdcI7"
      },
      "source": [
        "Based on above scores we can choose random forest as there we are achieving highest auc_roc score with random state 92"
      ]
    },
    {
      "cell_type": "code",
      "metadata": {
        "id": "BEcfd6P8dWk8"
      },
      "source": [
        "x_train, x_test, y_train, y_test = train_test_split(df_x, y,random_state = 92,test_size=0.20,stratify=y)\n",
        "rf_clf=RandomForestClassifier(n_estimators=500)\n",
        "rf_clf.fit(x_train,y_train)\n",
        "y_pred=rf_clf.predict(x_test)"
      ],
      "execution_count": 52,
      "outputs": []
    },
    {
      "cell_type": "code",
      "metadata": {
        "colab": {
          "base_uri": "https://localhost:8080/"
        },
        "id": "au1Iw6ZWdf8n",
        "outputId": "4843f823-a84b-4b4d-9ad4-8d47570f6e46"
      },
      "source": [
        "from sklearn.metrics import confusion_matrix\n",
        "from sklearn.metrics import classification_report\n",
        "from sklearn.metrics import f1_score\n",
        "print(\"Confusion matrix \\n\",confusion_matrix(y_test,y_pred))\n",
        "print(\"f1 score is : \",f1_score(y_test,y_pred))\n",
        "print(\"classification report \\n\",classification_report(y_test,y_pred))\n",
        "print(\"AUC ROC Score: \",roc_auc_score(y_test,y_pred))"
      ],
      "execution_count": 53,
      "outputs": [
        {
          "output_type": "stream",
          "text": [
            "Confusion matrix \n",
            " [[240  11]\n",
            " [ 11  29]]\n",
            "f1 score is :  0.7250000000000001\n",
            "classification report \n",
            "               precision    recall  f1-score   support\n",
            "\n",
            "           0       0.96      0.96      0.96       251\n",
            "           1       0.72      0.72      0.73        40\n",
            "\n",
            "    accuracy                           0.92       291\n",
            "   macro avg       0.84      0.84      0.84       291\n",
            "weighted avg       0.92      0.92      0.92       291\n",
            "\n",
            "AUC ROC Score:  0.8405876494023905\n"
          ],
          "name": "stdout"
        }
      ]
    },
    {
      "cell_type": "code",
      "metadata": {
        "colab": {
          "base_uri": "https://localhost:8080/"
        },
        "id": "cK20WvCUdj6l",
        "outputId": "147cb6bb-b4d4-472b-bb73-ebf16ffea5e4"
      },
      "source": [
        "import pickle\n",
        "import joblib\n",
        "pickle.dump(rf_clf,open('wine_datset_random_forest.pkl','wb'))\n",
        "joblib.dump(rf_clf,'wine_datset_random_forest.obj')"
      ],
      "execution_count": 54,
      "outputs": [
        {
          "output_type": "execute_result",
          "data": {
            "text/plain": [
              "['wine_datset_random_forest.obj']"
            ]
          },
          "metadata": {
            "tags": []
          },
          "execution_count": 54
        }
      ]
    },
    {
      "cell_type": "code",
      "metadata": {
        "id": "EVf3EXaleV_U"
      },
      "source": [
        ""
      ],
      "execution_count": null,
      "outputs": []
    }
  ]
}